{
  "nbformat": 4,
  "nbformat_minor": 0,
  "metadata": {
    "colab": {
      "provenance": [],
      "gpuType": "T4",
      "include_colab_link": true
    },
    "kernelspec": {
      "name": "python3",
      "display_name": "Python 3"
    },
    "language_info": {
      "name": "python"
    },
    "accelerator": "GPU",
    "widgets": {
      "application/vnd.jupyter.widget-state+json": {
        "d29d06b6e36b46c382c2564b07c8ef3c": {
          "model_module": "@jupyter-widgets/controls",
          "model_name": "HBoxModel",
          "model_module_version": "1.5.0",
          "state": {
            "_dom_classes": [],
            "_model_module": "@jupyter-widgets/controls",
            "_model_module_version": "1.5.0",
            "_model_name": "HBoxModel",
            "_view_count": null,
            "_view_module": "@jupyter-widgets/controls",
            "_view_module_version": "1.5.0",
            "_view_name": "HBoxView",
            "box_style": "",
            "children": [
              "IPY_MODEL_0c8c630ad9294ff5907ce1393489ef54",
              "IPY_MODEL_8ede4f10f5a6445d894ab33434d31f15",
              "IPY_MODEL_967f4ed183954c1ab6115ed70cc90a16"
            ],
            "layout": "IPY_MODEL_acbaaf1f9d654c37873ca3cbf60697c7"
          }
        },
        "0c8c630ad9294ff5907ce1393489ef54": {
          "model_module": "@jupyter-widgets/controls",
          "model_name": "HTMLModel",
          "model_module_version": "1.5.0",
          "state": {
            "_dom_classes": [],
            "_model_module": "@jupyter-widgets/controls",
            "_model_module_version": "1.5.0",
            "_model_name": "HTMLModel",
            "_view_count": null,
            "_view_module": "@jupyter-widgets/controls",
            "_view_module_version": "1.5.0",
            "_view_name": "HTMLView",
            "description": "",
            "description_tooltip": null,
            "layout": "IPY_MODEL_472f637d7fbe4c5198abed6921d5a744",
            "placeholder": "​",
            "style": "IPY_MODEL_27f37cd0564544d5aedee44be6892b3d",
            "value": "Downloading data: 100%"
          }
        },
        "8ede4f10f5a6445d894ab33434d31f15": {
          "model_module": "@jupyter-widgets/controls",
          "model_name": "FloatProgressModel",
          "model_module_version": "1.5.0",
          "state": {
            "_dom_classes": [],
            "_model_module": "@jupyter-widgets/controls",
            "_model_module_version": "1.5.0",
            "_model_name": "FloatProgressModel",
            "_view_count": null,
            "_view_module": "@jupyter-widgets/controls",
            "_view_module_version": "1.5.0",
            "_view_name": "ProgressView",
            "bar_style": "success",
            "description": "",
            "description_tooltip": null,
            "layout": "IPY_MODEL_2924f6c4799443b8a9c69fb4e4beed2b",
            "max": 74629385,
            "min": 0,
            "orientation": "horizontal",
            "style": "IPY_MODEL_062a22a2a2ab41af888571aaeb8110fd",
            "value": 74629385
          }
        },
        "967f4ed183954c1ab6115ed70cc90a16": {
          "model_module": "@jupyter-widgets/controls",
          "model_name": "HTMLModel",
          "model_module_version": "1.5.0",
          "state": {
            "_dom_classes": [],
            "_model_module": "@jupyter-widgets/controls",
            "_model_module_version": "1.5.0",
            "_model_name": "HTMLModel",
            "_view_count": null,
            "_view_module": "@jupyter-widgets/controls",
            "_view_module_version": "1.5.0",
            "_view_name": "HTMLView",
            "description": "",
            "description_tooltip": null,
            "layout": "IPY_MODEL_361cce2280254c979172ff7d1bf92332",
            "placeholder": "​",
            "style": "IPY_MODEL_053f8afc93894a5193a548ea301adff0",
            "value": " 74.6M/74.6M [00:09&lt;00:00, 8.31MB/s]"
          }
        },
        "acbaaf1f9d654c37873ca3cbf60697c7": {
          "model_module": "@jupyter-widgets/base",
          "model_name": "LayoutModel",
          "model_module_version": "1.2.0",
          "state": {
            "_model_module": "@jupyter-widgets/base",
            "_model_module_version": "1.2.0",
            "_model_name": "LayoutModel",
            "_view_count": null,
            "_view_module": "@jupyter-widgets/base",
            "_view_module_version": "1.2.0",
            "_view_name": "LayoutView",
            "align_content": null,
            "align_items": null,
            "align_self": null,
            "border": null,
            "bottom": null,
            "display": null,
            "flex": null,
            "flex_flow": null,
            "grid_area": null,
            "grid_auto_columns": null,
            "grid_auto_flow": null,
            "grid_auto_rows": null,
            "grid_column": null,
            "grid_gap": null,
            "grid_row": null,
            "grid_template_areas": null,
            "grid_template_columns": null,
            "grid_template_rows": null,
            "height": null,
            "justify_content": null,
            "justify_items": null,
            "left": null,
            "margin": null,
            "max_height": null,
            "max_width": null,
            "min_height": null,
            "min_width": null,
            "object_fit": null,
            "object_position": null,
            "order": null,
            "overflow": null,
            "overflow_x": null,
            "overflow_y": null,
            "padding": null,
            "right": null,
            "top": null,
            "visibility": null,
            "width": null
          }
        },
        "472f637d7fbe4c5198abed6921d5a744": {
          "model_module": "@jupyter-widgets/base",
          "model_name": "LayoutModel",
          "model_module_version": "1.2.0",
          "state": {
            "_model_module": "@jupyter-widgets/base",
            "_model_module_version": "1.2.0",
            "_model_name": "LayoutModel",
            "_view_count": null,
            "_view_module": "@jupyter-widgets/base",
            "_view_module_version": "1.2.0",
            "_view_name": "LayoutView",
            "align_content": null,
            "align_items": null,
            "align_self": null,
            "border": null,
            "bottom": null,
            "display": null,
            "flex": null,
            "flex_flow": null,
            "grid_area": null,
            "grid_auto_columns": null,
            "grid_auto_flow": null,
            "grid_auto_rows": null,
            "grid_column": null,
            "grid_gap": null,
            "grid_row": null,
            "grid_template_areas": null,
            "grid_template_columns": null,
            "grid_template_rows": null,
            "height": null,
            "justify_content": null,
            "justify_items": null,
            "left": null,
            "margin": null,
            "max_height": null,
            "max_width": null,
            "min_height": null,
            "min_width": null,
            "object_fit": null,
            "object_position": null,
            "order": null,
            "overflow": null,
            "overflow_x": null,
            "overflow_y": null,
            "padding": null,
            "right": null,
            "top": null,
            "visibility": null,
            "width": null
          }
        },
        "27f37cd0564544d5aedee44be6892b3d": {
          "model_module": "@jupyter-widgets/controls",
          "model_name": "DescriptionStyleModel",
          "model_module_version": "1.5.0",
          "state": {
            "_model_module": "@jupyter-widgets/controls",
            "_model_module_version": "1.5.0",
            "_model_name": "DescriptionStyleModel",
            "_view_count": null,
            "_view_module": "@jupyter-widgets/base",
            "_view_module_version": "1.2.0",
            "_view_name": "StyleView",
            "description_width": ""
          }
        },
        "2924f6c4799443b8a9c69fb4e4beed2b": {
          "model_module": "@jupyter-widgets/base",
          "model_name": "LayoutModel",
          "model_module_version": "1.2.0",
          "state": {
            "_model_module": "@jupyter-widgets/base",
            "_model_module_version": "1.2.0",
            "_model_name": "LayoutModel",
            "_view_count": null,
            "_view_module": "@jupyter-widgets/base",
            "_view_module_version": "1.2.0",
            "_view_name": "LayoutView",
            "align_content": null,
            "align_items": null,
            "align_self": null,
            "border": null,
            "bottom": null,
            "display": null,
            "flex": null,
            "flex_flow": null,
            "grid_area": null,
            "grid_auto_columns": null,
            "grid_auto_flow": null,
            "grid_auto_rows": null,
            "grid_column": null,
            "grid_gap": null,
            "grid_row": null,
            "grid_template_areas": null,
            "grid_template_columns": null,
            "grid_template_rows": null,
            "height": null,
            "justify_content": null,
            "justify_items": null,
            "left": null,
            "margin": null,
            "max_height": null,
            "max_width": null,
            "min_height": null,
            "min_width": null,
            "object_fit": null,
            "object_position": null,
            "order": null,
            "overflow": null,
            "overflow_x": null,
            "overflow_y": null,
            "padding": null,
            "right": null,
            "top": null,
            "visibility": null,
            "width": null
          }
        },
        "062a22a2a2ab41af888571aaeb8110fd": {
          "model_module": "@jupyter-widgets/controls",
          "model_name": "ProgressStyleModel",
          "model_module_version": "1.5.0",
          "state": {
            "_model_module": "@jupyter-widgets/controls",
            "_model_module_version": "1.5.0",
            "_model_name": "ProgressStyleModel",
            "_view_count": null,
            "_view_module": "@jupyter-widgets/base",
            "_view_module_version": "1.2.0",
            "_view_name": "StyleView",
            "bar_color": null,
            "description_width": ""
          }
        },
        "361cce2280254c979172ff7d1bf92332": {
          "model_module": "@jupyter-widgets/base",
          "model_name": "LayoutModel",
          "model_module_version": "1.2.0",
          "state": {
            "_model_module": "@jupyter-widgets/base",
            "_model_module_version": "1.2.0",
            "_model_name": "LayoutModel",
            "_view_count": null,
            "_view_module": "@jupyter-widgets/base",
            "_view_module_version": "1.2.0",
            "_view_name": "LayoutView",
            "align_content": null,
            "align_items": null,
            "align_self": null,
            "border": null,
            "bottom": null,
            "display": null,
            "flex": null,
            "flex_flow": null,
            "grid_area": null,
            "grid_auto_columns": null,
            "grid_auto_flow": null,
            "grid_auto_rows": null,
            "grid_column": null,
            "grid_gap": null,
            "grid_row": null,
            "grid_template_areas": null,
            "grid_template_columns": null,
            "grid_template_rows": null,
            "height": null,
            "justify_content": null,
            "justify_items": null,
            "left": null,
            "margin": null,
            "max_height": null,
            "max_width": null,
            "min_height": null,
            "min_width": null,
            "object_fit": null,
            "object_position": null,
            "order": null,
            "overflow": null,
            "overflow_x": null,
            "overflow_y": null,
            "padding": null,
            "right": null,
            "top": null,
            "visibility": null,
            "width": null
          }
        },
        "053f8afc93894a5193a548ea301adff0": {
          "model_module": "@jupyter-widgets/controls",
          "model_name": "DescriptionStyleModel",
          "model_module_version": "1.5.0",
          "state": {
            "_model_module": "@jupyter-widgets/controls",
            "_model_module_version": "1.5.0",
            "_model_name": "DescriptionStyleModel",
            "_view_count": null,
            "_view_module": "@jupyter-widgets/base",
            "_view_module_version": "1.2.0",
            "_view_name": "StyleView",
            "description_width": ""
          }
        },
        "512598ba13cc4e67b7bb31dcfcb0425f": {
          "model_module": "@jupyter-widgets/controls",
          "model_name": "HBoxModel",
          "model_module_version": "1.5.0",
          "state": {
            "_dom_classes": [],
            "_model_module": "@jupyter-widgets/controls",
            "_model_module_version": "1.5.0",
            "_model_name": "HBoxModel",
            "_view_count": null,
            "_view_module": "@jupyter-widgets/controls",
            "_view_module_version": "1.5.0",
            "_view_name": "HBoxView",
            "box_style": "",
            "children": [
              "IPY_MODEL_c884042fe76146189471c4153d51cc55",
              "IPY_MODEL_1f2ec2cee4b548e485064c0318a604dd",
              "IPY_MODEL_7af4f3df22da4011bac5a1946b00b86c"
            ],
            "layout": "IPY_MODEL_9f8a812cad1b490791622f1ee0c9c817"
          }
        },
        "c884042fe76146189471c4153d51cc55": {
          "model_module": "@jupyter-widgets/controls",
          "model_name": "HTMLModel",
          "model_module_version": "1.5.0",
          "state": {
            "_dom_classes": [],
            "_model_module": "@jupyter-widgets/controls",
            "_model_module_version": "1.5.0",
            "_model_name": "HTMLModel",
            "_view_count": null,
            "_view_module": "@jupyter-widgets/controls",
            "_view_module_version": "1.5.0",
            "_view_name": "HTMLView",
            "description": "",
            "description_tooltip": null,
            "layout": "IPY_MODEL_c996a4c27d82429192fbb78ad3bdd224",
            "placeholder": "​",
            "style": "IPY_MODEL_e6c0444c8f574e788136c14b07b23cd7",
            "value": "Downloading data: 100%"
          }
        },
        "1f2ec2cee4b548e485064c0318a604dd": {
          "model_module": "@jupyter-widgets/controls",
          "model_name": "FloatProgressModel",
          "model_module_version": "1.5.0",
          "state": {
            "_dom_classes": [],
            "_model_module": "@jupyter-widgets/controls",
            "_model_module_version": "1.5.0",
            "_model_name": "FloatProgressModel",
            "_view_count": null,
            "_view_module": "@jupyter-widgets/controls",
            "_view_module_version": "1.5.0",
            "_view_name": "ProgressView",
            "bar_style": "success",
            "description": "",
            "description_tooltip": null,
            "layout": "IPY_MODEL_69cb16cc3d824517aaa9345d09664074",
            "max": 480487,
            "min": 0,
            "orientation": "horizontal",
            "style": "IPY_MODEL_caf52f4d45be42bbacd09cd64f9ffeeb",
            "value": 480487
          }
        },
        "7af4f3df22da4011bac5a1946b00b86c": {
          "model_module": "@jupyter-widgets/controls",
          "model_name": "HTMLModel",
          "model_module_version": "1.5.0",
          "state": {
            "_dom_classes": [],
            "_model_module": "@jupyter-widgets/controls",
            "_model_module_version": "1.5.0",
            "_model_name": "HTMLModel",
            "_view_count": null,
            "_view_module": "@jupyter-widgets/controls",
            "_view_module_version": "1.5.0",
            "_view_name": "HTMLView",
            "description": "",
            "description_tooltip": null,
            "layout": "IPY_MODEL_5a0bb9a8984e48c6a5da5f3c96108781",
            "placeholder": "​",
            "style": "IPY_MODEL_99a9cb9964e54f51a995a0f412396374",
            "value": " 480k/480k [00:00&lt;00:00, 1.51MB/s]"
          }
        },
        "9f8a812cad1b490791622f1ee0c9c817": {
          "model_module": "@jupyter-widgets/base",
          "model_name": "LayoutModel",
          "model_module_version": "1.2.0",
          "state": {
            "_model_module": "@jupyter-widgets/base",
            "_model_module_version": "1.2.0",
            "_model_name": "LayoutModel",
            "_view_count": null,
            "_view_module": "@jupyter-widgets/base",
            "_view_module_version": "1.2.0",
            "_view_name": "LayoutView",
            "align_content": null,
            "align_items": null,
            "align_self": null,
            "border": null,
            "bottom": null,
            "display": null,
            "flex": null,
            "flex_flow": null,
            "grid_area": null,
            "grid_auto_columns": null,
            "grid_auto_flow": null,
            "grid_auto_rows": null,
            "grid_column": null,
            "grid_gap": null,
            "grid_row": null,
            "grid_template_areas": null,
            "grid_template_columns": null,
            "grid_template_rows": null,
            "height": null,
            "justify_content": null,
            "justify_items": null,
            "left": null,
            "margin": null,
            "max_height": null,
            "max_width": null,
            "min_height": null,
            "min_width": null,
            "object_fit": null,
            "object_position": null,
            "order": null,
            "overflow": null,
            "overflow_x": null,
            "overflow_y": null,
            "padding": null,
            "right": null,
            "top": null,
            "visibility": null,
            "width": null
          }
        },
        "c996a4c27d82429192fbb78ad3bdd224": {
          "model_module": "@jupyter-widgets/base",
          "model_name": "LayoutModel",
          "model_module_version": "1.2.0",
          "state": {
            "_model_module": "@jupyter-widgets/base",
            "_model_module_version": "1.2.0",
            "_model_name": "LayoutModel",
            "_view_count": null,
            "_view_module": "@jupyter-widgets/base",
            "_view_module_version": "1.2.0",
            "_view_name": "LayoutView",
            "align_content": null,
            "align_items": null,
            "align_self": null,
            "border": null,
            "bottom": null,
            "display": null,
            "flex": null,
            "flex_flow": null,
            "grid_area": null,
            "grid_auto_columns": null,
            "grid_auto_flow": null,
            "grid_auto_rows": null,
            "grid_column": null,
            "grid_gap": null,
            "grid_row": null,
            "grid_template_areas": null,
            "grid_template_columns": null,
            "grid_template_rows": null,
            "height": null,
            "justify_content": null,
            "justify_items": null,
            "left": null,
            "margin": null,
            "max_height": null,
            "max_width": null,
            "min_height": null,
            "min_width": null,
            "object_fit": null,
            "object_position": null,
            "order": null,
            "overflow": null,
            "overflow_x": null,
            "overflow_y": null,
            "padding": null,
            "right": null,
            "top": null,
            "visibility": null,
            "width": null
          }
        },
        "e6c0444c8f574e788136c14b07b23cd7": {
          "model_module": "@jupyter-widgets/controls",
          "model_name": "DescriptionStyleModel",
          "model_module_version": "1.5.0",
          "state": {
            "_model_module": "@jupyter-widgets/controls",
            "_model_module_version": "1.5.0",
            "_model_name": "DescriptionStyleModel",
            "_view_count": null,
            "_view_module": "@jupyter-widgets/base",
            "_view_module_version": "1.2.0",
            "_view_name": "StyleView",
            "description_width": ""
          }
        },
        "69cb16cc3d824517aaa9345d09664074": {
          "model_module": "@jupyter-widgets/base",
          "model_name": "LayoutModel",
          "model_module_version": "1.2.0",
          "state": {
            "_model_module": "@jupyter-widgets/base",
            "_model_module_version": "1.2.0",
            "_model_name": "LayoutModel",
            "_view_count": null,
            "_view_module": "@jupyter-widgets/base",
            "_view_module_version": "1.2.0",
            "_view_name": "LayoutView",
            "align_content": null,
            "align_items": null,
            "align_self": null,
            "border": null,
            "bottom": null,
            "display": null,
            "flex": null,
            "flex_flow": null,
            "grid_area": null,
            "grid_auto_columns": null,
            "grid_auto_flow": null,
            "grid_auto_rows": null,
            "grid_column": null,
            "grid_gap": null,
            "grid_row": null,
            "grid_template_areas": null,
            "grid_template_columns": null,
            "grid_template_rows": null,
            "height": null,
            "justify_content": null,
            "justify_items": null,
            "left": null,
            "margin": null,
            "max_height": null,
            "max_width": null,
            "min_height": null,
            "min_width": null,
            "object_fit": null,
            "object_position": null,
            "order": null,
            "overflow": null,
            "overflow_x": null,
            "overflow_y": null,
            "padding": null,
            "right": null,
            "top": null,
            "visibility": null,
            "width": null
          }
        },
        "caf52f4d45be42bbacd09cd64f9ffeeb": {
          "model_module": "@jupyter-widgets/controls",
          "model_name": "ProgressStyleModel",
          "model_module_version": "1.5.0",
          "state": {
            "_model_module": "@jupyter-widgets/controls",
            "_model_module_version": "1.5.0",
            "_model_name": "ProgressStyleModel",
            "_view_count": null,
            "_view_module": "@jupyter-widgets/base",
            "_view_module_version": "1.2.0",
            "_view_name": "StyleView",
            "bar_color": null,
            "description_width": ""
          }
        },
        "5a0bb9a8984e48c6a5da5f3c96108781": {
          "model_module": "@jupyter-widgets/base",
          "model_name": "LayoutModel",
          "model_module_version": "1.2.0",
          "state": {
            "_model_module": "@jupyter-widgets/base",
            "_model_module_version": "1.2.0",
            "_model_name": "LayoutModel",
            "_view_count": null,
            "_view_module": "@jupyter-widgets/base",
            "_view_module_version": "1.2.0",
            "_view_name": "LayoutView",
            "align_content": null,
            "align_items": null,
            "align_self": null,
            "border": null,
            "bottom": null,
            "display": null,
            "flex": null,
            "flex_flow": null,
            "grid_area": null,
            "grid_auto_columns": null,
            "grid_auto_flow": null,
            "grid_auto_rows": null,
            "grid_column": null,
            "grid_gap": null,
            "grid_row": null,
            "grid_template_areas": null,
            "grid_template_columns": null,
            "grid_template_rows": null,
            "height": null,
            "justify_content": null,
            "justify_items": null,
            "left": null,
            "margin": null,
            "max_height": null,
            "max_width": null,
            "min_height": null,
            "min_width": null,
            "object_fit": null,
            "object_position": null,
            "order": null,
            "overflow": null,
            "overflow_x": null,
            "overflow_y": null,
            "padding": null,
            "right": null,
            "top": null,
            "visibility": null,
            "width": null
          }
        },
        "99a9cb9964e54f51a995a0f412396374": {
          "model_module": "@jupyter-widgets/controls",
          "model_name": "DescriptionStyleModel",
          "model_module_version": "1.5.0",
          "state": {
            "_model_module": "@jupyter-widgets/controls",
            "_model_module_version": "1.5.0",
            "_model_name": "DescriptionStyleModel",
            "_view_count": null,
            "_view_module": "@jupyter-widgets/base",
            "_view_module_version": "1.2.0",
            "_view_name": "StyleView",
            "description_width": ""
          }
        },
        "7f7fb5f84d8c44caa089001fb0e58f4b": {
          "model_module": "@jupyter-widgets/controls",
          "model_name": "HBoxModel",
          "model_module_version": "1.5.0",
          "state": {
            "_dom_classes": [],
            "_model_module": "@jupyter-widgets/controls",
            "_model_module_version": "1.5.0",
            "_model_name": "HBoxModel",
            "_view_count": null,
            "_view_module": "@jupyter-widgets/controls",
            "_view_module_version": "1.5.0",
            "_view_name": "HBoxView",
            "box_style": "",
            "children": [
              "IPY_MODEL_2afe7c6fdf5b45dda69f32e7651fb715",
              "IPY_MODEL_3e2386b5de2349568f0375fe4e963a55",
              "IPY_MODEL_0be4a5643bfa4c6f87a66268499961e6"
            ],
            "layout": "IPY_MODEL_23fc2e92116349c5a8581039ad1b66e0"
          }
        },
        "2afe7c6fdf5b45dda69f32e7651fb715": {
          "model_module": "@jupyter-widgets/controls",
          "model_name": "HTMLModel",
          "model_module_version": "1.5.0",
          "state": {
            "_dom_classes": [],
            "_model_module": "@jupyter-widgets/controls",
            "_model_module_version": "1.5.0",
            "_model_name": "HTMLModel",
            "_view_count": null,
            "_view_module": "@jupyter-widgets/controls",
            "_view_module_version": "1.5.0",
            "_view_name": "HTMLView",
            "description": "",
            "description_tooltip": null,
            "layout": "IPY_MODEL_5c615af81cbe41cd9e3b9369161aea11",
            "placeholder": "​",
            "style": "IPY_MODEL_3f503b7a4f1a4062bafa57b09c80bcbe",
            "value": "Downloading data: 100%"
          }
        },
        "3e2386b5de2349568f0375fe4e963a55": {
          "model_module": "@jupyter-widgets/controls",
          "model_name": "FloatProgressModel",
          "model_module_version": "1.5.0",
          "state": {
            "_dom_classes": [],
            "_model_module": "@jupyter-widgets/controls",
            "_model_module_version": "1.5.0",
            "_model_name": "FloatProgressModel",
            "_view_count": null,
            "_view_module": "@jupyter-widgets/controls",
            "_view_module_version": "1.5.0",
            "_view_name": "ProgressView",
            "bar_style": "success",
            "description": "",
            "description_tooltip": null,
            "layout": "IPY_MODEL_2e9ed28c9a9544f38671f81738961625",
            "max": 242201,
            "min": 0,
            "orientation": "horizontal",
            "style": "IPY_MODEL_09dd94d494274e37bc7637f25b694f6a",
            "value": 242201
          }
        },
        "0be4a5643bfa4c6f87a66268499961e6": {
          "model_module": "@jupyter-widgets/controls",
          "model_name": "HTMLModel",
          "model_module_version": "1.5.0",
          "state": {
            "_dom_classes": [],
            "_model_module": "@jupyter-widgets/controls",
            "_model_module_version": "1.5.0",
            "_model_name": "HTMLModel",
            "_view_count": null,
            "_view_module": "@jupyter-widgets/controls",
            "_view_module_version": "1.5.0",
            "_view_name": "HTMLView",
            "description": "",
            "description_tooltip": null,
            "layout": "IPY_MODEL_ea6d093b8eb3474e96eb8d3308d0140b",
            "placeholder": "​",
            "style": "IPY_MODEL_15a42aa74d31479887797f475b2652b9",
            "value": " 242k/242k [00:00&lt;00:00, 890kB/s]"
          }
        },
        "23fc2e92116349c5a8581039ad1b66e0": {
          "model_module": "@jupyter-widgets/base",
          "model_name": "LayoutModel",
          "model_module_version": "1.2.0",
          "state": {
            "_model_module": "@jupyter-widgets/base",
            "_model_module_version": "1.2.0",
            "_model_name": "LayoutModel",
            "_view_count": null,
            "_view_module": "@jupyter-widgets/base",
            "_view_module_version": "1.2.0",
            "_view_name": "LayoutView",
            "align_content": null,
            "align_items": null,
            "align_self": null,
            "border": null,
            "bottom": null,
            "display": null,
            "flex": null,
            "flex_flow": null,
            "grid_area": null,
            "grid_auto_columns": null,
            "grid_auto_flow": null,
            "grid_auto_rows": null,
            "grid_column": null,
            "grid_gap": null,
            "grid_row": null,
            "grid_template_areas": null,
            "grid_template_columns": null,
            "grid_template_rows": null,
            "height": null,
            "justify_content": null,
            "justify_items": null,
            "left": null,
            "margin": null,
            "max_height": null,
            "max_width": null,
            "min_height": null,
            "min_width": null,
            "object_fit": null,
            "object_position": null,
            "order": null,
            "overflow": null,
            "overflow_x": null,
            "overflow_y": null,
            "padding": null,
            "right": null,
            "top": null,
            "visibility": null,
            "width": null
          }
        },
        "5c615af81cbe41cd9e3b9369161aea11": {
          "model_module": "@jupyter-widgets/base",
          "model_name": "LayoutModel",
          "model_module_version": "1.2.0",
          "state": {
            "_model_module": "@jupyter-widgets/base",
            "_model_module_version": "1.2.0",
            "_model_name": "LayoutModel",
            "_view_count": null,
            "_view_module": "@jupyter-widgets/base",
            "_view_module_version": "1.2.0",
            "_view_name": "LayoutView",
            "align_content": null,
            "align_items": null,
            "align_self": null,
            "border": null,
            "bottom": null,
            "display": null,
            "flex": null,
            "flex_flow": null,
            "grid_area": null,
            "grid_auto_columns": null,
            "grid_auto_flow": null,
            "grid_auto_rows": null,
            "grid_column": null,
            "grid_gap": null,
            "grid_row": null,
            "grid_template_areas": null,
            "grid_template_columns": null,
            "grid_template_rows": null,
            "height": null,
            "justify_content": null,
            "justify_items": null,
            "left": null,
            "margin": null,
            "max_height": null,
            "max_width": null,
            "min_height": null,
            "min_width": null,
            "object_fit": null,
            "object_position": null,
            "order": null,
            "overflow": null,
            "overflow_x": null,
            "overflow_y": null,
            "padding": null,
            "right": null,
            "top": null,
            "visibility": null,
            "width": null
          }
        },
        "3f503b7a4f1a4062bafa57b09c80bcbe": {
          "model_module": "@jupyter-widgets/controls",
          "model_name": "DescriptionStyleModel",
          "model_module_version": "1.5.0",
          "state": {
            "_model_module": "@jupyter-widgets/controls",
            "_model_module_version": "1.5.0",
            "_model_name": "DescriptionStyleModel",
            "_view_count": null,
            "_view_module": "@jupyter-widgets/base",
            "_view_module_version": "1.2.0",
            "_view_name": "StyleView",
            "description_width": ""
          }
        },
        "2e9ed28c9a9544f38671f81738961625": {
          "model_module": "@jupyter-widgets/base",
          "model_name": "LayoutModel",
          "model_module_version": "1.2.0",
          "state": {
            "_model_module": "@jupyter-widgets/base",
            "_model_module_version": "1.2.0",
            "_model_name": "LayoutModel",
            "_view_count": null,
            "_view_module": "@jupyter-widgets/base",
            "_view_module_version": "1.2.0",
            "_view_name": "LayoutView",
            "align_content": null,
            "align_items": null,
            "align_self": null,
            "border": null,
            "bottom": null,
            "display": null,
            "flex": null,
            "flex_flow": null,
            "grid_area": null,
            "grid_auto_columns": null,
            "grid_auto_flow": null,
            "grid_auto_rows": null,
            "grid_column": null,
            "grid_gap": null,
            "grid_row": null,
            "grid_template_areas": null,
            "grid_template_columns": null,
            "grid_template_rows": null,
            "height": null,
            "justify_content": null,
            "justify_items": null,
            "left": null,
            "margin": null,
            "max_height": null,
            "max_width": null,
            "min_height": null,
            "min_width": null,
            "object_fit": null,
            "object_position": null,
            "order": null,
            "overflow": null,
            "overflow_x": null,
            "overflow_y": null,
            "padding": null,
            "right": null,
            "top": null,
            "visibility": null,
            "width": null
          }
        },
        "09dd94d494274e37bc7637f25b694f6a": {
          "model_module": "@jupyter-widgets/controls",
          "model_name": "ProgressStyleModel",
          "model_module_version": "1.5.0",
          "state": {
            "_model_module": "@jupyter-widgets/controls",
            "_model_module_version": "1.5.0",
            "_model_name": "ProgressStyleModel",
            "_view_count": null,
            "_view_module": "@jupyter-widgets/base",
            "_view_module_version": "1.2.0",
            "_view_name": "StyleView",
            "bar_color": null,
            "description_width": ""
          }
        },
        "ea6d093b8eb3474e96eb8d3308d0140b": {
          "model_module": "@jupyter-widgets/base",
          "model_name": "LayoutModel",
          "model_module_version": "1.2.0",
          "state": {
            "_model_module": "@jupyter-widgets/base",
            "_model_module_version": "1.2.0",
            "_model_name": "LayoutModel",
            "_view_count": null,
            "_view_module": "@jupyter-widgets/base",
            "_view_module_version": "1.2.0",
            "_view_name": "LayoutView",
            "align_content": null,
            "align_items": null,
            "align_self": null,
            "border": null,
            "bottom": null,
            "display": null,
            "flex": null,
            "flex_flow": null,
            "grid_area": null,
            "grid_auto_columns": null,
            "grid_auto_flow": null,
            "grid_auto_rows": null,
            "grid_column": null,
            "grid_gap": null,
            "grid_row": null,
            "grid_template_areas": null,
            "grid_template_columns": null,
            "grid_template_rows": null,
            "height": null,
            "justify_content": null,
            "justify_items": null,
            "left": null,
            "margin": null,
            "max_height": null,
            "max_width": null,
            "min_height": null,
            "min_width": null,
            "object_fit": null,
            "object_position": null,
            "order": null,
            "overflow": null,
            "overflow_x": null,
            "overflow_y": null,
            "padding": null,
            "right": null,
            "top": null,
            "visibility": null,
            "width": null
          }
        },
        "15a42aa74d31479887797f475b2652b9": {
          "model_module": "@jupyter-widgets/controls",
          "model_name": "DescriptionStyleModel",
          "model_module_version": "1.5.0",
          "state": {
            "_model_module": "@jupyter-widgets/controls",
            "_model_module_version": "1.5.0",
            "_model_name": "DescriptionStyleModel",
            "_view_count": null,
            "_view_module": "@jupyter-widgets/base",
            "_view_module_version": "1.2.0",
            "_view_name": "StyleView",
            "description_width": ""
          }
        },
        "a0223860d8a5489c9cd89dcfdbde5995": {
          "model_module": "@jupyter-widgets/controls",
          "model_name": "HBoxModel",
          "model_module_version": "1.5.0",
          "state": {
            "_dom_classes": [],
            "_model_module": "@jupyter-widgets/controls",
            "_model_module_version": "1.5.0",
            "_model_name": "HBoxModel",
            "_view_count": null,
            "_view_module": "@jupyter-widgets/controls",
            "_view_module_version": "1.5.0",
            "_view_name": "HBoxView",
            "box_style": "",
            "children": [
              "IPY_MODEL_bf174fd9402d4610b819493146e08be9",
              "IPY_MODEL_61c7fdf901694bc7a5d37fc7852a32d3",
              "IPY_MODEL_7e4b2f64d8ca4732b71c3cbe22c37858"
            ],
            "layout": "IPY_MODEL_cfae9e3b964c4ed8b32e4db059315f0d"
          }
        },
        "bf174fd9402d4610b819493146e08be9": {
          "model_module": "@jupyter-widgets/controls",
          "model_name": "HTMLModel",
          "model_module_version": "1.5.0",
          "state": {
            "_dom_classes": [],
            "_model_module": "@jupyter-widgets/controls",
            "_model_module_version": "1.5.0",
            "_model_name": "HTMLModel",
            "_view_count": null,
            "_view_module": "@jupyter-widgets/controls",
            "_view_module_version": "1.5.0",
            "_view_name": "HTMLView",
            "description": "",
            "description_tooltip": null,
            "layout": "IPY_MODEL_e6a8f9e1dbf84a559f13a3c404c4bb23",
            "placeholder": "​",
            "style": "IPY_MODEL_7d969b819dd042a0993e23931010189f",
            "value": "Generating train split: "
          }
        },
        "61c7fdf901694bc7a5d37fc7852a32d3": {
          "model_module": "@jupyter-widgets/controls",
          "model_name": "FloatProgressModel",
          "model_module_version": "1.5.0",
          "state": {
            "_dom_classes": [],
            "_model_module": "@jupyter-widgets/controls",
            "_model_module_version": "1.5.0",
            "_model_name": "FloatProgressModel",
            "_view_count": null,
            "_view_module": "@jupyter-widgets/controls",
            "_view_module_version": "1.5.0",
            "_view_name": "ProgressView",
            "bar_style": "success",
            "description": "",
            "description_tooltip": null,
            "layout": "IPY_MODEL_6a5cd07530a94efc9dbe7403f7d7bf86",
            "max": 1,
            "min": 0,
            "orientation": "horizontal",
            "style": "IPY_MODEL_8f00f2e37ca84d81a3c548ff1b00bf4d",
            "value": 1
          }
        },
        "7e4b2f64d8ca4732b71c3cbe22c37858": {
          "model_module": "@jupyter-widgets/controls",
          "model_name": "HTMLModel",
          "model_module_version": "1.5.0",
          "state": {
            "_dom_classes": [],
            "_model_module": "@jupyter-widgets/controls",
            "_model_module_version": "1.5.0",
            "_model_name": "HTMLModel",
            "_view_count": null,
            "_view_module": "@jupyter-widgets/controls",
            "_view_module_version": "1.5.0",
            "_view_name": "HTMLView",
            "description": "",
            "description_tooltip": null,
            "layout": "IPY_MODEL_a9bc7903b54a49dd91ccdc395285c5fa",
            "placeholder": "​",
            "style": "IPY_MODEL_1a99d69ff76a4c8c9b6cd74e8618175d",
            "value": " 381449/0 [00:01&lt;00:00, 353365.91 examples/s]"
          }
        },
        "cfae9e3b964c4ed8b32e4db059315f0d": {
          "model_module": "@jupyter-widgets/base",
          "model_name": "LayoutModel",
          "model_module_version": "1.2.0",
          "state": {
            "_model_module": "@jupyter-widgets/base",
            "_model_module_version": "1.2.0",
            "_model_name": "LayoutModel",
            "_view_count": null,
            "_view_module": "@jupyter-widgets/base",
            "_view_module_version": "1.2.0",
            "_view_name": "LayoutView",
            "align_content": null,
            "align_items": null,
            "align_self": null,
            "border": null,
            "bottom": null,
            "display": null,
            "flex": null,
            "flex_flow": null,
            "grid_area": null,
            "grid_auto_columns": null,
            "grid_auto_flow": null,
            "grid_auto_rows": null,
            "grid_column": null,
            "grid_gap": null,
            "grid_row": null,
            "grid_template_areas": null,
            "grid_template_columns": null,
            "grid_template_rows": null,
            "height": null,
            "justify_content": null,
            "justify_items": null,
            "left": null,
            "margin": null,
            "max_height": null,
            "max_width": null,
            "min_height": null,
            "min_width": null,
            "object_fit": null,
            "object_position": null,
            "order": null,
            "overflow": null,
            "overflow_x": null,
            "overflow_y": null,
            "padding": null,
            "right": null,
            "top": null,
            "visibility": null,
            "width": null
          }
        },
        "e6a8f9e1dbf84a559f13a3c404c4bb23": {
          "model_module": "@jupyter-widgets/base",
          "model_name": "LayoutModel",
          "model_module_version": "1.2.0",
          "state": {
            "_model_module": "@jupyter-widgets/base",
            "_model_module_version": "1.2.0",
            "_model_name": "LayoutModel",
            "_view_count": null,
            "_view_module": "@jupyter-widgets/base",
            "_view_module_version": "1.2.0",
            "_view_name": "LayoutView",
            "align_content": null,
            "align_items": null,
            "align_self": null,
            "border": null,
            "bottom": null,
            "display": null,
            "flex": null,
            "flex_flow": null,
            "grid_area": null,
            "grid_auto_columns": null,
            "grid_auto_flow": null,
            "grid_auto_rows": null,
            "grid_column": null,
            "grid_gap": null,
            "grid_row": null,
            "grid_template_areas": null,
            "grid_template_columns": null,
            "grid_template_rows": null,
            "height": null,
            "justify_content": null,
            "justify_items": null,
            "left": null,
            "margin": null,
            "max_height": null,
            "max_width": null,
            "min_height": null,
            "min_width": null,
            "object_fit": null,
            "object_position": null,
            "order": null,
            "overflow": null,
            "overflow_x": null,
            "overflow_y": null,
            "padding": null,
            "right": null,
            "top": null,
            "visibility": null,
            "width": null
          }
        },
        "7d969b819dd042a0993e23931010189f": {
          "model_module": "@jupyter-widgets/controls",
          "model_name": "DescriptionStyleModel",
          "model_module_version": "1.5.0",
          "state": {
            "_model_module": "@jupyter-widgets/controls",
            "_model_module_version": "1.5.0",
            "_model_name": "DescriptionStyleModel",
            "_view_count": null,
            "_view_module": "@jupyter-widgets/base",
            "_view_module_version": "1.2.0",
            "_view_name": "StyleView",
            "description_width": ""
          }
        },
        "6a5cd07530a94efc9dbe7403f7d7bf86": {
          "model_module": "@jupyter-widgets/base",
          "model_name": "LayoutModel",
          "model_module_version": "1.2.0",
          "state": {
            "_model_module": "@jupyter-widgets/base",
            "_model_module_version": "1.2.0",
            "_model_name": "LayoutModel",
            "_view_count": null,
            "_view_module": "@jupyter-widgets/base",
            "_view_module_version": "1.2.0",
            "_view_name": "LayoutView",
            "align_content": null,
            "align_items": null,
            "align_self": null,
            "border": null,
            "bottom": null,
            "display": null,
            "flex": null,
            "flex_flow": null,
            "grid_area": null,
            "grid_auto_columns": null,
            "grid_auto_flow": null,
            "grid_auto_rows": null,
            "grid_column": null,
            "grid_gap": null,
            "grid_row": null,
            "grid_template_areas": null,
            "grid_template_columns": null,
            "grid_template_rows": null,
            "height": null,
            "justify_content": null,
            "justify_items": null,
            "left": null,
            "margin": null,
            "max_height": null,
            "max_width": null,
            "min_height": null,
            "min_width": null,
            "object_fit": null,
            "object_position": null,
            "order": null,
            "overflow": null,
            "overflow_x": null,
            "overflow_y": null,
            "padding": null,
            "right": null,
            "top": null,
            "visibility": null,
            "width": "20px"
          }
        },
        "8f00f2e37ca84d81a3c548ff1b00bf4d": {
          "model_module": "@jupyter-widgets/controls",
          "model_name": "ProgressStyleModel",
          "model_module_version": "1.5.0",
          "state": {
            "_model_module": "@jupyter-widgets/controls",
            "_model_module_version": "1.5.0",
            "_model_name": "ProgressStyleModel",
            "_view_count": null,
            "_view_module": "@jupyter-widgets/base",
            "_view_module_version": "1.2.0",
            "_view_name": "StyleView",
            "bar_color": null,
            "description_width": ""
          }
        },
        "a9bc7903b54a49dd91ccdc395285c5fa": {
          "model_module": "@jupyter-widgets/base",
          "model_name": "LayoutModel",
          "model_module_version": "1.2.0",
          "state": {
            "_model_module": "@jupyter-widgets/base",
            "_model_module_version": "1.2.0",
            "_model_name": "LayoutModel",
            "_view_count": null,
            "_view_module": "@jupyter-widgets/base",
            "_view_module_version": "1.2.0",
            "_view_name": "LayoutView",
            "align_content": null,
            "align_items": null,
            "align_self": null,
            "border": null,
            "bottom": null,
            "display": null,
            "flex": null,
            "flex_flow": null,
            "grid_area": null,
            "grid_auto_columns": null,
            "grid_auto_flow": null,
            "grid_auto_rows": null,
            "grid_column": null,
            "grid_gap": null,
            "grid_row": null,
            "grid_template_areas": null,
            "grid_template_columns": null,
            "grid_template_rows": null,
            "height": null,
            "justify_content": null,
            "justify_items": null,
            "left": null,
            "margin": null,
            "max_height": null,
            "max_width": null,
            "min_height": null,
            "min_width": null,
            "object_fit": null,
            "object_position": null,
            "order": null,
            "overflow": null,
            "overflow_x": null,
            "overflow_y": null,
            "padding": null,
            "right": null,
            "top": null,
            "visibility": null,
            "width": null
          }
        },
        "1a99d69ff76a4c8c9b6cd74e8618175d": {
          "model_module": "@jupyter-widgets/controls",
          "model_name": "DescriptionStyleModel",
          "model_module_version": "1.5.0",
          "state": {
            "_model_module": "@jupyter-widgets/controls",
            "_model_module_version": "1.5.0",
            "_model_name": "DescriptionStyleModel",
            "_view_count": null,
            "_view_module": "@jupyter-widgets/base",
            "_view_module_version": "1.2.0",
            "_view_name": "StyleView",
            "description_width": ""
          }
        },
        "d33c4b7f7128448286a52aaa476053b5": {
          "model_module": "@jupyter-widgets/controls",
          "model_name": "HBoxModel",
          "model_module_version": "1.5.0",
          "state": {
            "_dom_classes": [],
            "_model_module": "@jupyter-widgets/controls",
            "_model_module_version": "1.5.0",
            "_model_name": "HBoxModel",
            "_view_count": null,
            "_view_module": "@jupyter-widgets/controls",
            "_view_module_version": "1.5.0",
            "_view_name": "HBoxView",
            "box_style": "",
            "children": [
              "IPY_MODEL_41cef18c31934b748d6c73a6b8c6697c",
              "IPY_MODEL_d97b5192c2174b3792326daa19baf6a9",
              "IPY_MODEL_18d911880f04478196912b96b20e005c"
            ],
            "layout": "IPY_MODEL_cc7a0ee97dee4438818bb1564d900965"
          }
        },
        "41cef18c31934b748d6c73a6b8c6697c": {
          "model_module": "@jupyter-widgets/controls",
          "model_name": "HTMLModel",
          "model_module_version": "1.5.0",
          "state": {
            "_dom_classes": [],
            "_model_module": "@jupyter-widgets/controls",
            "_model_module_version": "1.5.0",
            "_model_name": "HTMLModel",
            "_view_count": null,
            "_view_module": "@jupyter-widgets/controls",
            "_view_module_version": "1.5.0",
            "_view_name": "HTMLView",
            "description": "",
            "description_tooltip": null,
            "layout": "IPY_MODEL_ec40532a2f534218bc2e5459b4e8103a",
            "placeholder": "​",
            "style": "IPY_MODEL_47ff945bb4434630819b1ce86d1699d6",
            "value": "Generating test split: "
          }
        },
        "d97b5192c2174b3792326daa19baf6a9": {
          "model_module": "@jupyter-widgets/controls",
          "model_name": "FloatProgressModel",
          "model_module_version": "1.5.0",
          "state": {
            "_dom_classes": [],
            "_model_module": "@jupyter-widgets/controls",
            "_model_module_version": "1.5.0",
            "_model_name": "FloatProgressModel",
            "_view_count": null,
            "_view_module": "@jupyter-widgets/controls",
            "_view_module_version": "1.5.0",
            "_view_name": "ProgressView",
            "bar_style": "success",
            "description": "",
            "description_tooltip": null,
            "layout": "IPY_MODEL_37205dd3fd8c4360b4db01ef929e0472",
            "max": 1,
            "min": 0,
            "orientation": "horizontal",
            "style": "IPY_MODEL_95ea46a7cd1b44fc9b06ef78ffa0ff68",
            "value": 1
          }
        },
        "18d911880f04478196912b96b20e005c": {
          "model_module": "@jupyter-widgets/controls",
          "model_name": "HTMLModel",
          "model_module_version": "1.5.0",
          "state": {
            "_dom_classes": [],
            "_model_module": "@jupyter-widgets/controls",
            "_model_module_version": "1.5.0",
            "_model_name": "HTMLModel",
            "_view_count": null,
            "_view_module": "@jupyter-widgets/controls",
            "_view_module_version": "1.5.0",
            "_view_name": "HTMLView",
            "description": "",
            "description_tooltip": null,
            "layout": "IPY_MODEL_7977e19e0b6c4ab29a5abdea57fed12c",
            "placeholder": "​",
            "style": "IPY_MODEL_edce73a6d33f46d8989eff1b6e4ddd3c",
            "value": " 4895/0 [00:00&lt;00:00, 90583.52 examples/s]"
          }
        },
        "cc7a0ee97dee4438818bb1564d900965": {
          "model_module": "@jupyter-widgets/base",
          "model_name": "LayoutModel",
          "model_module_version": "1.2.0",
          "state": {
            "_model_module": "@jupyter-widgets/base",
            "_model_module_version": "1.2.0",
            "_model_name": "LayoutModel",
            "_view_count": null,
            "_view_module": "@jupyter-widgets/base",
            "_view_module_version": "1.2.0",
            "_view_name": "LayoutView",
            "align_content": null,
            "align_items": null,
            "align_self": null,
            "border": null,
            "bottom": null,
            "display": null,
            "flex": null,
            "flex_flow": null,
            "grid_area": null,
            "grid_auto_columns": null,
            "grid_auto_flow": null,
            "grid_auto_rows": null,
            "grid_column": null,
            "grid_gap": null,
            "grid_row": null,
            "grid_template_areas": null,
            "grid_template_columns": null,
            "grid_template_rows": null,
            "height": null,
            "justify_content": null,
            "justify_items": null,
            "left": null,
            "margin": null,
            "max_height": null,
            "max_width": null,
            "min_height": null,
            "min_width": null,
            "object_fit": null,
            "object_position": null,
            "order": null,
            "overflow": null,
            "overflow_x": null,
            "overflow_y": null,
            "padding": null,
            "right": null,
            "top": null,
            "visibility": null,
            "width": null
          }
        },
        "ec40532a2f534218bc2e5459b4e8103a": {
          "model_module": "@jupyter-widgets/base",
          "model_name": "LayoutModel",
          "model_module_version": "1.2.0",
          "state": {
            "_model_module": "@jupyter-widgets/base",
            "_model_module_version": "1.2.0",
            "_model_name": "LayoutModel",
            "_view_count": null,
            "_view_module": "@jupyter-widgets/base",
            "_view_module_version": "1.2.0",
            "_view_name": "LayoutView",
            "align_content": null,
            "align_items": null,
            "align_self": null,
            "border": null,
            "bottom": null,
            "display": null,
            "flex": null,
            "flex_flow": null,
            "grid_area": null,
            "grid_auto_columns": null,
            "grid_auto_flow": null,
            "grid_auto_rows": null,
            "grid_column": null,
            "grid_gap": null,
            "grid_row": null,
            "grid_template_areas": null,
            "grid_template_columns": null,
            "grid_template_rows": null,
            "height": null,
            "justify_content": null,
            "justify_items": null,
            "left": null,
            "margin": null,
            "max_height": null,
            "max_width": null,
            "min_height": null,
            "min_width": null,
            "object_fit": null,
            "object_position": null,
            "order": null,
            "overflow": null,
            "overflow_x": null,
            "overflow_y": null,
            "padding": null,
            "right": null,
            "top": null,
            "visibility": null,
            "width": null
          }
        },
        "47ff945bb4434630819b1ce86d1699d6": {
          "model_module": "@jupyter-widgets/controls",
          "model_name": "DescriptionStyleModel",
          "model_module_version": "1.5.0",
          "state": {
            "_model_module": "@jupyter-widgets/controls",
            "_model_module_version": "1.5.0",
            "_model_name": "DescriptionStyleModel",
            "_view_count": null,
            "_view_module": "@jupyter-widgets/base",
            "_view_module_version": "1.2.0",
            "_view_name": "StyleView",
            "description_width": ""
          }
        },
        "37205dd3fd8c4360b4db01ef929e0472": {
          "model_module": "@jupyter-widgets/base",
          "model_name": "LayoutModel",
          "model_module_version": "1.2.0",
          "state": {
            "_model_module": "@jupyter-widgets/base",
            "_model_module_version": "1.2.0",
            "_model_name": "LayoutModel",
            "_view_count": null,
            "_view_module": "@jupyter-widgets/base",
            "_view_module_version": "1.2.0",
            "_view_name": "LayoutView",
            "align_content": null,
            "align_items": null,
            "align_self": null,
            "border": null,
            "bottom": null,
            "display": null,
            "flex": null,
            "flex_flow": null,
            "grid_area": null,
            "grid_auto_columns": null,
            "grid_auto_flow": null,
            "grid_auto_rows": null,
            "grid_column": null,
            "grid_gap": null,
            "grid_row": null,
            "grid_template_areas": null,
            "grid_template_columns": null,
            "grid_template_rows": null,
            "height": null,
            "justify_content": null,
            "justify_items": null,
            "left": null,
            "margin": null,
            "max_height": null,
            "max_width": null,
            "min_height": null,
            "min_width": null,
            "object_fit": null,
            "object_position": null,
            "order": null,
            "overflow": null,
            "overflow_x": null,
            "overflow_y": null,
            "padding": null,
            "right": null,
            "top": null,
            "visibility": null,
            "width": "20px"
          }
        },
        "95ea46a7cd1b44fc9b06ef78ffa0ff68": {
          "model_module": "@jupyter-widgets/controls",
          "model_name": "ProgressStyleModel",
          "model_module_version": "1.5.0",
          "state": {
            "_model_module": "@jupyter-widgets/controls",
            "_model_module_version": "1.5.0",
            "_model_name": "ProgressStyleModel",
            "_view_count": null,
            "_view_module": "@jupyter-widgets/base",
            "_view_module_version": "1.2.0",
            "_view_name": "StyleView",
            "bar_color": null,
            "description_width": ""
          }
        },
        "7977e19e0b6c4ab29a5abdea57fed12c": {
          "model_module": "@jupyter-widgets/base",
          "model_name": "LayoutModel",
          "model_module_version": "1.2.0",
          "state": {
            "_model_module": "@jupyter-widgets/base",
            "_model_module_version": "1.2.0",
            "_model_name": "LayoutModel",
            "_view_count": null,
            "_view_module": "@jupyter-widgets/base",
            "_view_module_version": "1.2.0",
            "_view_name": "LayoutView",
            "align_content": null,
            "align_items": null,
            "align_self": null,
            "border": null,
            "bottom": null,
            "display": null,
            "flex": null,
            "flex_flow": null,
            "grid_area": null,
            "grid_auto_columns": null,
            "grid_auto_flow": null,
            "grid_auto_rows": null,
            "grid_column": null,
            "grid_gap": null,
            "grid_row": null,
            "grid_template_areas": null,
            "grid_template_columns": null,
            "grid_template_rows": null,
            "height": null,
            "justify_content": null,
            "justify_items": null,
            "left": null,
            "margin": null,
            "max_height": null,
            "max_width": null,
            "min_height": null,
            "min_width": null,
            "object_fit": null,
            "object_position": null,
            "order": null,
            "overflow": null,
            "overflow_x": null,
            "overflow_y": null,
            "padding": null,
            "right": null,
            "top": null,
            "visibility": null,
            "width": null
          }
        },
        "edce73a6d33f46d8989eff1b6e4ddd3c": {
          "model_module": "@jupyter-widgets/controls",
          "model_name": "DescriptionStyleModel",
          "model_module_version": "1.5.0",
          "state": {
            "_model_module": "@jupyter-widgets/controls",
            "_model_module_version": "1.5.0",
            "_model_name": "DescriptionStyleModel",
            "_view_count": null,
            "_view_module": "@jupyter-widgets/base",
            "_view_module_version": "1.2.0",
            "_view_name": "StyleView",
            "description_width": ""
          }
        },
        "ae433f81c7a34c5ebc9f790c66ee8857": {
          "model_module": "@jupyter-widgets/controls",
          "model_name": "HBoxModel",
          "model_module_version": "1.5.0",
          "state": {
            "_dom_classes": [],
            "_model_module": "@jupyter-widgets/controls",
            "_model_module_version": "1.5.0",
            "_model_name": "HBoxModel",
            "_view_count": null,
            "_view_module": "@jupyter-widgets/controls",
            "_view_module_version": "1.5.0",
            "_view_name": "HBoxView",
            "box_style": "",
            "children": [
              "IPY_MODEL_1f01b94828214571ac9e57e42ac5dfba",
              "IPY_MODEL_c58eb878f19c4e3c9e0d25b23f79b585",
              "IPY_MODEL_ec621b34ad604946b30f593a3e17f0a7"
            ],
            "layout": "IPY_MODEL_68ed17d388c1463f8999d8b5a087816f"
          }
        },
        "1f01b94828214571ac9e57e42ac5dfba": {
          "model_module": "@jupyter-widgets/controls",
          "model_name": "HTMLModel",
          "model_module_version": "1.5.0",
          "state": {
            "_dom_classes": [],
            "_model_module": "@jupyter-widgets/controls",
            "_model_module_version": "1.5.0",
            "_model_name": "HTMLModel",
            "_view_count": null,
            "_view_module": "@jupyter-widgets/controls",
            "_view_module_version": "1.5.0",
            "_view_name": "HTMLView",
            "description": "",
            "description_tooltip": null,
            "layout": "IPY_MODEL_89a116a43a194525ac7cdab2c682fceb",
            "placeholder": "​",
            "style": "IPY_MODEL_f177051bd0fe4e0ba5d7928292b5ed59",
            "value": "Generating validation split: "
          }
        },
        "c58eb878f19c4e3c9e0d25b23f79b585": {
          "model_module": "@jupyter-widgets/controls",
          "model_name": "FloatProgressModel",
          "model_module_version": "1.5.0",
          "state": {
            "_dom_classes": [],
            "_model_module": "@jupyter-widgets/controls",
            "_model_module_version": "1.5.0",
            "_model_name": "FloatProgressModel",
            "_view_count": null,
            "_view_module": "@jupyter-widgets/controls",
            "_view_module_version": "1.5.0",
            "_view_name": "ProgressView",
            "bar_style": "success",
            "description": "",
            "description_tooltip": null,
            "layout": "IPY_MODEL_d1c1ba06d66f4b1b8cf47dcad1e95b0d",
            "max": 1,
            "min": 0,
            "orientation": "horizontal",
            "style": "IPY_MODEL_36dad50d36a6492b929d8897f547d9d0",
            "value": 1
          }
        },
        "ec621b34ad604946b30f593a3e17f0a7": {
          "model_module": "@jupyter-widgets/controls",
          "model_name": "HTMLModel",
          "model_module_version": "1.5.0",
          "state": {
            "_dom_classes": [],
            "_model_module": "@jupyter-widgets/controls",
            "_model_module_version": "1.5.0",
            "_model_name": "HTMLModel",
            "_view_count": null,
            "_view_module": "@jupyter-widgets/controls",
            "_view_module_version": "1.5.0",
            "_view_name": "HTMLView",
            "description": "",
            "description_tooltip": null,
            "layout": "IPY_MODEL_dcb3cc96aa714bdabcce032607d64697",
            "placeholder": "​",
            "style": "IPY_MODEL_60ed849d6bbb4798b3a731b030677aab",
            "value": " 2419/0 [00:00&lt;00:00, 32451.38 examples/s]"
          }
        },
        "68ed17d388c1463f8999d8b5a087816f": {
          "model_module": "@jupyter-widgets/base",
          "model_name": "LayoutModel",
          "model_module_version": "1.2.0",
          "state": {
            "_model_module": "@jupyter-widgets/base",
            "_model_module_version": "1.2.0",
            "_model_name": "LayoutModel",
            "_view_count": null,
            "_view_module": "@jupyter-widgets/base",
            "_view_module_version": "1.2.0",
            "_view_name": "LayoutView",
            "align_content": null,
            "align_items": null,
            "align_self": null,
            "border": null,
            "bottom": null,
            "display": null,
            "flex": null,
            "flex_flow": null,
            "grid_area": null,
            "grid_auto_columns": null,
            "grid_auto_flow": null,
            "grid_auto_rows": null,
            "grid_column": null,
            "grid_gap": null,
            "grid_row": null,
            "grid_template_areas": null,
            "grid_template_columns": null,
            "grid_template_rows": null,
            "height": null,
            "justify_content": null,
            "justify_items": null,
            "left": null,
            "margin": null,
            "max_height": null,
            "max_width": null,
            "min_height": null,
            "min_width": null,
            "object_fit": null,
            "object_position": null,
            "order": null,
            "overflow": null,
            "overflow_x": null,
            "overflow_y": null,
            "padding": null,
            "right": null,
            "top": null,
            "visibility": null,
            "width": null
          }
        },
        "89a116a43a194525ac7cdab2c682fceb": {
          "model_module": "@jupyter-widgets/base",
          "model_name": "LayoutModel",
          "model_module_version": "1.2.0",
          "state": {
            "_model_module": "@jupyter-widgets/base",
            "_model_module_version": "1.2.0",
            "_model_name": "LayoutModel",
            "_view_count": null,
            "_view_module": "@jupyter-widgets/base",
            "_view_module_version": "1.2.0",
            "_view_name": "LayoutView",
            "align_content": null,
            "align_items": null,
            "align_self": null,
            "border": null,
            "bottom": null,
            "display": null,
            "flex": null,
            "flex_flow": null,
            "grid_area": null,
            "grid_auto_columns": null,
            "grid_auto_flow": null,
            "grid_auto_rows": null,
            "grid_column": null,
            "grid_gap": null,
            "grid_row": null,
            "grid_template_areas": null,
            "grid_template_columns": null,
            "grid_template_rows": null,
            "height": null,
            "justify_content": null,
            "justify_items": null,
            "left": null,
            "margin": null,
            "max_height": null,
            "max_width": null,
            "min_height": null,
            "min_width": null,
            "object_fit": null,
            "object_position": null,
            "order": null,
            "overflow": null,
            "overflow_x": null,
            "overflow_y": null,
            "padding": null,
            "right": null,
            "top": null,
            "visibility": null,
            "width": null
          }
        },
        "f177051bd0fe4e0ba5d7928292b5ed59": {
          "model_module": "@jupyter-widgets/controls",
          "model_name": "DescriptionStyleModel",
          "model_module_version": "1.5.0",
          "state": {
            "_model_module": "@jupyter-widgets/controls",
            "_model_module_version": "1.5.0",
            "_model_name": "DescriptionStyleModel",
            "_view_count": null,
            "_view_module": "@jupyter-widgets/base",
            "_view_module_version": "1.2.0",
            "_view_name": "StyleView",
            "description_width": ""
          }
        },
        "d1c1ba06d66f4b1b8cf47dcad1e95b0d": {
          "model_module": "@jupyter-widgets/base",
          "model_name": "LayoutModel",
          "model_module_version": "1.2.0",
          "state": {
            "_model_module": "@jupyter-widgets/base",
            "_model_module_version": "1.2.0",
            "_model_name": "LayoutModel",
            "_view_count": null,
            "_view_module": "@jupyter-widgets/base",
            "_view_module_version": "1.2.0",
            "_view_name": "LayoutView",
            "align_content": null,
            "align_items": null,
            "align_self": null,
            "border": null,
            "bottom": null,
            "display": null,
            "flex": null,
            "flex_flow": null,
            "grid_area": null,
            "grid_auto_columns": null,
            "grid_auto_flow": null,
            "grid_auto_rows": null,
            "grid_column": null,
            "grid_gap": null,
            "grid_row": null,
            "grid_template_areas": null,
            "grid_template_columns": null,
            "grid_template_rows": null,
            "height": null,
            "justify_content": null,
            "justify_items": null,
            "left": null,
            "margin": null,
            "max_height": null,
            "max_width": null,
            "min_height": null,
            "min_width": null,
            "object_fit": null,
            "object_position": null,
            "order": null,
            "overflow": null,
            "overflow_x": null,
            "overflow_y": null,
            "padding": null,
            "right": null,
            "top": null,
            "visibility": null,
            "width": "20px"
          }
        },
        "36dad50d36a6492b929d8897f547d9d0": {
          "model_module": "@jupyter-widgets/controls",
          "model_name": "ProgressStyleModel",
          "model_module_version": "1.5.0",
          "state": {
            "_model_module": "@jupyter-widgets/controls",
            "_model_module_version": "1.5.0",
            "_model_name": "ProgressStyleModel",
            "_view_count": null,
            "_view_module": "@jupyter-widgets/base",
            "_view_module_version": "1.2.0",
            "_view_name": "StyleView",
            "bar_color": null,
            "description_width": ""
          }
        },
        "dcb3cc96aa714bdabcce032607d64697": {
          "model_module": "@jupyter-widgets/base",
          "model_name": "LayoutModel",
          "model_module_version": "1.2.0",
          "state": {
            "_model_module": "@jupyter-widgets/base",
            "_model_module_version": "1.2.0",
            "_model_name": "LayoutModel",
            "_view_count": null,
            "_view_module": "@jupyter-widgets/base",
            "_view_module_version": "1.2.0",
            "_view_name": "LayoutView",
            "align_content": null,
            "align_items": null,
            "align_self": null,
            "border": null,
            "bottom": null,
            "display": null,
            "flex": null,
            "flex_flow": null,
            "grid_area": null,
            "grid_auto_columns": null,
            "grid_auto_flow": null,
            "grid_auto_rows": null,
            "grid_column": null,
            "grid_gap": null,
            "grid_row": null,
            "grid_template_areas": null,
            "grid_template_columns": null,
            "grid_template_rows": null,
            "height": null,
            "justify_content": null,
            "justify_items": null,
            "left": null,
            "margin": null,
            "max_height": null,
            "max_width": null,
            "min_height": null,
            "min_width": null,
            "object_fit": null,
            "object_position": null,
            "order": null,
            "overflow": null,
            "overflow_x": null,
            "overflow_y": null,
            "padding": null,
            "right": null,
            "top": null,
            "visibility": null,
            "width": null
          }
        },
        "60ed849d6bbb4798b3a731b030677aab": {
          "model_module": "@jupyter-widgets/controls",
          "model_name": "DescriptionStyleModel",
          "model_module_version": "1.5.0",
          "state": {
            "_model_module": "@jupyter-widgets/controls",
            "_model_module_version": "1.5.0",
            "_model_name": "DescriptionStyleModel",
            "_view_count": null,
            "_view_module": "@jupyter-widgets/base",
            "_view_module_version": "1.2.0",
            "_view_name": "StyleView",
            "description_width": ""
          }
        }
      }
    }
  },
  "cells": [
    {
      "cell_type": "markdown",
      "metadata": {
        "id": "view-in-github",
        "colab_type": "text"
      },
      "source": [
        "<a href=\"https://colab.research.google.com/github/fatemafaria142/Comparative-Analysis-of-Pretrained-BERT-models-for-Natural-Language-Inference-on-Bangla-XNLI-Dataset/blob/main/Bangla_XNLI_using_mBERT.ipynb\" target=\"_parent\"><img src=\"https://colab.research.google.com/assets/colab-badge.svg\" alt=\"Open In Colab\"/></a>"
      ]
    },
    {
      "cell_type": "code",
      "execution_count": 1,
      "metadata": {
        "id": "aBRzPyYxNJ0f"
      },
      "outputs": [],
      "source": [
        "import pandas as pd\n",
        "import numpy as np\n",
        "import matplotlib.pyplot as plt\n",
        "import seaborn as sns\n",
        "from sklearn.model_selection import train_test_split\n",
        "import torch\n",
        "from tqdm import tqdm\n",
        "import time\n",
        "from sklearn.metrics import accuracy_score,precision_score,recall_score,f1_score,log_loss,jaccard_score,roc_auc_score,classification_report,confusion_matrix\n",
        "from torch.utils.data import Dataset, DataLoader"
      ]
    },
    {
      "cell_type": "code",
      "source": [
        "!pip install datasets"
      ],
      "metadata": {
        "colab": {
          "base_uri": "https://localhost:8080/"
        },
        "id": "8KDmjTaQIf9B",
        "outputId": "f1f1947d-837f-4df3-ad3e-a04fe128e7f8"
      },
      "execution_count": 2,
      "outputs": [
        {
          "output_type": "stream",
          "name": "stdout",
          "text": [
            "Collecting datasets\n",
            "  Downloading datasets-2.16.1-py3-none-any.whl (507 kB)\n",
            "\u001b[2K     \u001b[90m━━━━━━━━━━━━━━━━━━━━━━━━━━━━━━━━━━━━━━━━\u001b[0m \u001b[32m507.1/507.1 kB\u001b[0m \u001b[31m8.0 MB/s\u001b[0m eta \u001b[36m0:00:00\u001b[0m\n",
            "\u001b[?25hRequirement already satisfied: filelock in /usr/local/lib/python3.10/dist-packages (from datasets) (3.13.1)\n",
            "Requirement already satisfied: numpy>=1.17 in /usr/local/lib/python3.10/dist-packages (from datasets) (1.23.5)\n",
            "Requirement already satisfied: pyarrow>=8.0.0 in /usr/local/lib/python3.10/dist-packages (from datasets) (10.0.1)\n",
            "Collecting pyarrow-hotfix (from datasets)\n",
            "  Downloading pyarrow_hotfix-0.6-py3-none-any.whl (7.9 kB)\n",
            "Collecting dill<0.3.8,>=0.3.0 (from datasets)\n",
            "  Downloading dill-0.3.7-py3-none-any.whl (115 kB)\n",
            "\u001b[2K     \u001b[90m━━━━━━━━━━━━━━━━━━━━━━━━━━━━━━━━━━━━━━━━\u001b[0m \u001b[32m115.3/115.3 kB\u001b[0m \u001b[31m9.0 MB/s\u001b[0m eta \u001b[36m0:00:00\u001b[0m\n",
            "\u001b[?25hRequirement already satisfied: pandas in /usr/local/lib/python3.10/dist-packages (from datasets) (1.5.3)\n",
            "Requirement already satisfied: requests>=2.19.0 in /usr/local/lib/python3.10/dist-packages (from datasets) (2.31.0)\n",
            "Requirement already satisfied: tqdm>=4.62.1 in /usr/local/lib/python3.10/dist-packages (from datasets) (4.66.1)\n",
            "Requirement already satisfied: xxhash in /usr/local/lib/python3.10/dist-packages (from datasets) (3.4.1)\n",
            "Collecting multiprocess (from datasets)\n",
            "  Downloading multiprocess-0.70.15-py310-none-any.whl (134 kB)\n",
            "\u001b[2K     \u001b[90m━━━━━━━━━━━━━━━━━━━━━━━━━━━━━━━━━━━━━━━━\u001b[0m \u001b[32m134.8/134.8 kB\u001b[0m \u001b[31m14.0 MB/s\u001b[0m eta \u001b[36m0:00:00\u001b[0m\n",
            "\u001b[?25hRequirement already satisfied: fsspec[http]<=2023.10.0,>=2023.1.0 in /usr/local/lib/python3.10/dist-packages (from datasets) (2023.6.0)\n",
            "Requirement already satisfied: aiohttp in /usr/local/lib/python3.10/dist-packages (from datasets) (3.9.1)\n",
            "Requirement already satisfied: huggingface-hub>=0.19.4 in /usr/local/lib/python3.10/dist-packages (from datasets) (0.19.4)\n",
            "Requirement already satisfied: packaging in /usr/local/lib/python3.10/dist-packages (from datasets) (23.2)\n",
            "Requirement already satisfied: pyyaml>=5.1 in /usr/local/lib/python3.10/dist-packages (from datasets) (6.0.1)\n",
            "Requirement already satisfied: attrs>=17.3.0 in /usr/local/lib/python3.10/dist-packages (from aiohttp->datasets) (23.1.0)\n",
            "Requirement already satisfied: multidict<7.0,>=4.5 in /usr/local/lib/python3.10/dist-packages (from aiohttp->datasets) (6.0.4)\n",
            "Requirement already satisfied: yarl<2.0,>=1.0 in /usr/local/lib/python3.10/dist-packages (from aiohttp->datasets) (1.9.4)\n",
            "Requirement already satisfied: frozenlist>=1.1.1 in /usr/local/lib/python3.10/dist-packages (from aiohttp->datasets) (1.4.1)\n",
            "Requirement already satisfied: aiosignal>=1.1.2 in /usr/local/lib/python3.10/dist-packages (from aiohttp->datasets) (1.3.1)\n",
            "Requirement already satisfied: async-timeout<5.0,>=4.0 in /usr/local/lib/python3.10/dist-packages (from aiohttp->datasets) (4.0.3)\n",
            "Requirement already satisfied: typing-extensions>=3.7.4.3 in /usr/local/lib/python3.10/dist-packages (from huggingface-hub>=0.19.4->datasets) (4.5.0)\n",
            "Requirement already satisfied: charset-normalizer<4,>=2 in /usr/local/lib/python3.10/dist-packages (from requests>=2.19.0->datasets) (3.3.2)\n",
            "Requirement already satisfied: idna<4,>=2.5 in /usr/local/lib/python3.10/dist-packages (from requests>=2.19.0->datasets) (3.6)\n",
            "Requirement already satisfied: urllib3<3,>=1.21.1 in /usr/local/lib/python3.10/dist-packages (from requests>=2.19.0->datasets) (2.0.7)\n",
            "Requirement already satisfied: certifi>=2017.4.17 in /usr/local/lib/python3.10/dist-packages (from requests>=2.19.0->datasets) (2023.11.17)\n",
            "Requirement already satisfied: python-dateutil>=2.8.1 in /usr/local/lib/python3.10/dist-packages (from pandas->datasets) (2.8.2)\n",
            "Requirement already satisfied: pytz>=2020.1 in /usr/local/lib/python3.10/dist-packages (from pandas->datasets) (2023.3.post1)\n",
            "Requirement already satisfied: six>=1.5 in /usr/local/lib/python3.10/dist-packages (from python-dateutil>=2.8.1->pandas->datasets) (1.16.0)\n",
            "Installing collected packages: pyarrow-hotfix, dill, multiprocess, datasets\n",
            "Successfully installed datasets-2.16.1 dill-0.3.7 multiprocess-0.70.15 pyarrow-hotfix-0.6\n"
          ]
        }
      ]
    },
    {
      "cell_type": "markdown",
      "source": [
        "### **Dataset link:** https://huggingface.co/datasets/csebuetnlp/xnli_bn"
      ],
      "metadata": {
        "id": "Tia5tAEYMaze"
      }
    },
    {
      "cell_type": "code",
      "source": [
        "from datasets import load_dataset\n",
        "\n",
        "dataset = load_dataset(\"csebuetnlp/xnli_bn\")"
      ],
      "metadata": {
        "colab": {
          "base_uri": "https://localhost:8080/",
          "height": 209,
          "referenced_widgets": [
            "d29d06b6e36b46c382c2564b07c8ef3c",
            "0c8c630ad9294ff5907ce1393489ef54",
            "8ede4f10f5a6445d894ab33434d31f15",
            "967f4ed183954c1ab6115ed70cc90a16",
            "acbaaf1f9d654c37873ca3cbf60697c7",
            "472f637d7fbe4c5198abed6921d5a744",
            "27f37cd0564544d5aedee44be6892b3d",
            "2924f6c4799443b8a9c69fb4e4beed2b",
            "062a22a2a2ab41af888571aaeb8110fd",
            "361cce2280254c979172ff7d1bf92332",
            "053f8afc93894a5193a548ea301adff0",
            "512598ba13cc4e67b7bb31dcfcb0425f",
            "c884042fe76146189471c4153d51cc55",
            "1f2ec2cee4b548e485064c0318a604dd",
            "7af4f3df22da4011bac5a1946b00b86c",
            "9f8a812cad1b490791622f1ee0c9c817",
            "c996a4c27d82429192fbb78ad3bdd224",
            "e6c0444c8f574e788136c14b07b23cd7",
            "69cb16cc3d824517aaa9345d09664074",
            "caf52f4d45be42bbacd09cd64f9ffeeb",
            "5a0bb9a8984e48c6a5da5f3c96108781",
            "99a9cb9964e54f51a995a0f412396374",
            "7f7fb5f84d8c44caa089001fb0e58f4b",
            "2afe7c6fdf5b45dda69f32e7651fb715",
            "3e2386b5de2349568f0375fe4e963a55",
            "0be4a5643bfa4c6f87a66268499961e6",
            "23fc2e92116349c5a8581039ad1b66e0",
            "5c615af81cbe41cd9e3b9369161aea11",
            "3f503b7a4f1a4062bafa57b09c80bcbe",
            "2e9ed28c9a9544f38671f81738961625",
            "09dd94d494274e37bc7637f25b694f6a",
            "ea6d093b8eb3474e96eb8d3308d0140b",
            "15a42aa74d31479887797f475b2652b9",
            "a0223860d8a5489c9cd89dcfdbde5995",
            "bf174fd9402d4610b819493146e08be9",
            "61c7fdf901694bc7a5d37fc7852a32d3",
            "7e4b2f64d8ca4732b71c3cbe22c37858",
            "cfae9e3b964c4ed8b32e4db059315f0d",
            "e6a8f9e1dbf84a559f13a3c404c4bb23",
            "7d969b819dd042a0993e23931010189f",
            "6a5cd07530a94efc9dbe7403f7d7bf86",
            "8f00f2e37ca84d81a3c548ff1b00bf4d",
            "a9bc7903b54a49dd91ccdc395285c5fa",
            "1a99d69ff76a4c8c9b6cd74e8618175d",
            "d33c4b7f7128448286a52aaa476053b5",
            "41cef18c31934b748d6c73a6b8c6697c",
            "d97b5192c2174b3792326daa19baf6a9",
            "18d911880f04478196912b96b20e005c",
            "cc7a0ee97dee4438818bb1564d900965",
            "ec40532a2f534218bc2e5459b4e8103a",
            "47ff945bb4434630819b1ce86d1699d6",
            "37205dd3fd8c4360b4db01ef929e0472",
            "95ea46a7cd1b44fc9b06ef78ffa0ff68",
            "7977e19e0b6c4ab29a5abdea57fed12c",
            "edce73a6d33f46d8989eff1b6e4ddd3c",
            "ae433f81c7a34c5ebc9f790c66ee8857",
            "1f01b94828214571ac9e57e42ac5dfba",
            "c58eb878f19c4e3c9e0d25b23f79b585",
            "ec621b34ad604946b30f593a3e17f0a7",
            "68ed17d388c1463f8999d8b5a087816f",
            "89a116a43a194525ac7cdab2c682fceb",
            "f177051bd0fe4e0ba5d7928292b5ed59",
            "d1c1ba06d66f4b1b8cf47dcad1e95b0d",
            "36dad50d36a6492b929d8897f547d9d0",
            "dcb3cc96aa714bdabcce032607d64697",
            "60ed849d6bbb4798b3a731b030677aab"
          ]
        },
        "id": "6h2Br0UrIFIW",
        "outputId": "b7fcf659-50af-4a39-8cf2-70ebb4b8df0a"
      },
      "execution_count": 3,
      "outputs": [
        {
          "output_type": "display_data",
          "data": {
            "text/plain": [
              "Downloading data:   0%|          | 0.00/74.6M [00:00<?, ?B/s]"
            ],
            "application/vnd.jupyter.widget-view+json": {
              "version_major": 2,
              "version_minor": 0,
              "model_id": "d29d06b6e36b46c382c2564b07c8ef3c"
            }
          },
          "metadata": {}
        },
        {
          "output_type": "display_data",
          "data": {
            "text/plain": [
              "Downloading data:   0%|          | 0.00/480k [00:00<?, ?B/s]"
            ],
            "application/vnd.jupyter.widget-view+json": {
              "version_major": 2,
              "version_minor": 0,
              "model_id": "512598ba13cc4e67b7bb31dcfcb0425f"
            }
          },
          "metadata": {}
        },
        {
          "output_type": "display_data",
          "data": {
            "text/plain": [
              "Downloading data:   0%|          | 0.00/242k [00:00<?, ?B/s]"
            ],
            "application/vnd.jupyter.widget-view+json": {
              "version_major": 2,
              "version_minor": 0,
              "model_id": "7f7fb5f84d8c44caa089001fb0e58f4b"
            }
          },
          "metadata": {}
        },
        {
          "output_type": "display_data",
          "data": {
            "text/plain": [
              "Generating train split: 0 examples [00:00, ? examples/s]"
            ],
            "application/vnd.jupyter.widget-view+json": {
              "version_major": 2,
              "version_minor": 0,
              "model_id": "a0223860d8a5489c9cd89dcfdbde5995"
            }
          },
          "metadata": {}
        },
        {
          "output_type": "display_data",
          "data": {
            "text/plain": [
              "Generating test split: 0 examples [00:00, ? examples/s]"
            ],
            "application/vnd.jupyter.widget-view+json": {
              "version_major": 2,
              "version_minor": 0,
              "model_id": "d33c4b7f7128448286a52aaa476053b5"
            }
          },
          "metadata": {}
        },
        {
          "output_type": "display_data",
          "data": {
            "text/plain": [
              "Generating validation split: 0 examples [00:00, ? examples/s]"
            ],
            "application/vnd.jupyter.widget-view+json": {
              "version_major": 2,
              "version_minor": 0,
              "model_id": "ae433f81c7a34c5ebc9f790c66ee8857"
            }
          },
          "metadata": {}
        }
      ]
    },
    {
      "cell_type": "code",
      "source": [
        "# Access train, test, and validation splits\n",
        "train_data = dataset['train']\n",
        "test_data = dataset['test']\n",
        "validation_data = dataset['validation']\n",
        "\n",
        "# Optional: You can also print the number of examples in each split\n",
        "print(f\"Number of examples in train set: {len(train_data)}\")\n",
        "print(f\"Number of examples in test set: {len(test_data)}\")\n",
        "print(f\"Number of examples in validation set: {len(validation_data)}\")"
      ],
      "metadata": {
        "colab": {
          "base_uri": "https://localhost:8080/"
        },
        "id": "6394LGB9I4ag",
        "outputId": "807735c4-492e-4e43-cff0-35737b4a7a76"
      },
      "execution_count": 4,
      "outputs": [
        {
          "output_type": "stream",
          "name": "stdout",
          "text": [
            "Number of examples in train set: 381449\n",
            "Number of examples in test set: 4895\n",
            "Number of examples in validation set: 2419\n"
          ]
        }
      ]
    },
    {
      "cell_type": "code",
      "source": [
        "# Access train data\n",
        "train_data = dataset['train']\n",
        "\n",
        "# Create a DataFrame from the dataset\n",
        "df_train = pd.DataFrame(train_data[:15000])  # Taking the first 15,000 rows\n",
        "\n",
        "# Map numeric labels to textual representations\n",
        "label_map = {\n",
        "    0: 'Contradiction',\n",
        "    1: 'Entailment',\n",
        "    2: 'Neutral'\n",
        "}\n",
        "\n",
        "df_train['label'] = df_train['label'].map(label_map)\n",
        "\n",
        "# Display the modified DataFrame with the new column\n",
        "df_train.head()\n"
      ],
      "metadata": {
        "colab": {
          "base_uri": "https://localhost:8080/",
          "height": 206
        },
        "id": "sLPWzK9EJynU",
        "outputId": "5e33bb5b-0fa7-4e0c-be00-4e855642b330"
      },
      "execution_count": 5,
      "outputs": [
        {
          "output_type": "execute_result",
          "data": {
            "text/plain": [
              "                                           sentence1  \\\n",
              "0  ধারণাগতভাবে ক্রীম স্কিমিং এর দুটি মৌলিক মাত্রা...   \n",
              "1  আপনি জানেন এই মৌসুমে আর আমার মনে হয় আপনার পর্...   \n",
              "2  আমাদের মধ্যে একজন আপনার নির্দেশগুলো পুঙ্খানুপু...   \n",
              "3         আপনি কিভাবে জানলেন? এই সব তাদের তথ্য আবার.   \n",
              "4  হ্যাঁ আমি তোমাকে বলি যদি তুমি কিছু টেনিসের জুত...   \n",
              "\n",
              "                                           sentence2       label  \n",
              "0          পণ্য এবং ভূগোল হচ্ছে ক্রিমের স্কিমিং কাজ।     Neutral  \n",
              "1  মানুষ যদি স্মরণ করতে পারে তাহলে আপনি নীচের স্ত...  Entailment  \n",
              "2  আমার দলের একজন সদস্য আপনার আদেশ পালন করবেন অত্...  Entailment  \n",
              "3                                   এই তথ্যটি তাদের।  Entailment  \n",
              "4                            টেনিসের জুতার দাম অনেক।     Neutral  "
            ],
            "text/html": [
              "\n",
              "  <div id=\"df-ab90d6f9-21b1-4307-956c-6c2a69f9fc9a\" class=\"colab-df-container\">\n",
              "    <div>\n",
              "<style scoped>\n",
              "    .dataframe tbody tr th:only-of-type {\n",
              "        vertical-align: middle;\n",
              "    }\n",
              "\n",
              "    .dataframe tbody tr th {\n",
              "        vertical-align: top;\n",
              "    }\n",
              "\n",
              "    .dataframe thead th {\n",
              "        text-align: right;\n",
              "    }\n",
              "</style>\n",
              "<table border=\"1\" class=\"dataframe\">\n",
              "  <thead>\n",
              "    <tr style=\"text-align: right;\">\n",
              "      <th></th>\n",
              "      <th>sentence1</th>\n",
              "      <th>sentence2</th>\n",
              "      <th>label</th>\n",
              "    </tr>\n",
              "  </thead>\n",
              "  <tbody>\n",
              "    <tr>\n",
              "      <th>0</th>\n",
              "      <td>ধারণাগতভাবে ক্রীম স্কিমিং এর দুটি মৌলিক মাত্রা...</td>\n",
              "      <td>পণ্য এবং ভূগোল হচ্ছে ক্রিমের স্কিমিং কাজ।</td>\n",
              "      <td>Neutral</td>\n",
              "    </tr>\n",
              "    <tr>\n",
              "      <th>1</th>\n",
              "      <td>আপনি জানেন এই মৌসুমে আর আমার মনে হয় আপনার পর্...</td>\n",
              "      <td>মানুষ যদি স্মরণ করতে পারে তাহলে আপনি নীচের স্ত...</td>\n",
              "      <td>Entailment</td>\n",
              "    </tr>\n",
              "    <tr>\n",
              "      <th>2</th>\n",
              "      <td>আমাদের মধ্যে একজন আপনার নির্দেশগুলো পুঙ্খানুপু...</td>\n",
              "      <td>আমার দলের একজন সদস্য আপনার আদেশ পালন করবেন অত্...</td>\n",
              "      <td>Entailment</td>\n",
              "    </tr>\n",
              "    <tr>\n",
              "      <th>3</th>\n",
              "      <td>আপনি কিভাবে জানলেন? এই সব তাদের তথ্য আবার.</td>\n",
              "      <td>এই তথ্যটি তাদের।</td>\n",
              "      <td>Entailment</td>\n",
              "    </tr>\n",
              "    <tr>\n",
              "      <th>4</th>\n",
              "      <td>হ্যাঁ আমি তোমাকে বলি যদি তুমি কিছু টেনিসের জুত...</td>\n",
              "      <td>টেনিসের জুতার দাম অনেক।</td>\n",
              "      <td>Neutral</td>\n",
              "    </tr>\n",
              "  </tbody>\n",
              "</table>\n",
              "</div>\n",
              "    <div class=\"colab-df-buttons\">\n",
              "\n",
              "  <div class=\"colab-df-container\">\n",
              "    <button class=\"colab-df-convert\" onclick=\"convertToInteractive('df-ab90d6f9-21b1-4307-956c-6c2a69f9fc9a')\"\n",
              "            title=\"Convert this dataframe to an interactive table.\"\n",
              "            style=\"display:none;\">\n",
              "\n",
              "  <svg xmlns=\"http://www.w3.org/2000/svg\" height=\"24px\" viewBox=\"0 -960 960 960\">\n",
              "    <path d=\"M120-120v-720h720v720H120Zm60-500h600v-160H180v160Zm220 220h160v-160H400v160Zm0 220h160v-160H400v160ZM180-400h160v-160H180v160Zm440 0h160v-160H620v160ZM180-180h160v-160H180v160Zm440 0h160v-160H620v160Z\"/>\n",
              "  </svg>\n",
              "    </button>\n",
              "\n",
              "  <style>\n",
              "    .colab-df-container {\n",
              "      display:flex;\n",
              "      gap: 12px;\n",
              "    }\n",
              "\n",
              "    .colab-df-convert {\n",
              "      background-color: #E8F0FE;\n",
              "      border: none;\n",
              "      border-radius: 50%;\n",
              "      cursor: pointer;\n",
              "      display: none;\n",
              "      fill: #1967D2;\n",
              "      height: 32px;\n",
              "      padding: 0 0 0 0;\n",
              "      width: 32px;\n",
              "    }\n",
              "\n",
              "    .colab-df-convert:hover {\n",
              "      background-color: #E2EBFA;\n",
              "      box-shadow: 0px 1px 2px rgba(60, 64, 67, 0.3), 0px 1px 3px 1px rgba(60, 64, 67, 0.15);\n",
              "      fill: #174EA6;\n",
              "    }\n",
              "\n",
              "    .colab-df-buttons div {\n",
              "      margin-bottom: 4px;\n",
              "    }\n",
              "\n",
              "    [theme=dark] .colab-df-convert {\n",
              "      background-color: #3B4455;\n",
              "      fill: #D2E3FC;\n",
              "    }\n",
              "\n",
              "    [theme=dark] .colab-df-convert:hover {\n",
              "      background-color: #434B5C;\n",
              "      box-shadow: 0px 1px 3px 1px rgba(0, 0, 0, 0.15);\n",
              "      filter: drop-shadow(0px 1px 2px rgba(0, 0, 0, 0.3));\n",
              "      fill: #FFFFFF;\n",
              "    }\n",
              "  </style>\n",
              "\n",
              "    <script>\n",
              "      const buttonEl =\n",
              "        document.querySelector('#df-ab90d6f9-21b1-4307-956c-6c2a69f9fc9a button.colab-df-convert');\n",
              "      buttonEl.style.display =\n",
              "        google.colab.kernel.accessAllowed ? 'block' : 'none';\n",
              "\n",
              "      async function convertToInteractive(key) {\n",
              "        const element = document.querySelector('#df-ab90d6f9-21b1-4307-956c-6c2a69f9fc9a');\n",
              "        const dataTable =\n",
              "          await google.colab.kernel.invokeFunction('convertToInteractive',\n",
              "                                                    [key], {});\n",
              "        if (!dataTable) return;\n",
              "\n",
              "        const docLinkHtml = 'Like what you see? Visit the ' +\n",
              "          '<a target=\"_blank\" href=https://colab.research.google.com/notebooks/data_table.ipynb>data table notebook</a>'\n",
              "          + ' to learn more about interactive tables.';\n",
              "        element.innerHTML = '';\n",
              "        dataTable['output_type'] = 'display_data';\n",
              "        await google.colab.output.renderOutput(dataTable, element);\n",
              "        const docLink = document.createElement('div');\n",
              "        docLink.innerHTML = docLinkHtml;\n",
              "        element.appendChild(docLink);\n",
              "      }\n",
              "    </script>\n",
              "  </div>\n",
              "\n",
              "\n",
              "<div id=\"df-43c704e8-8aba-495e-8c35-d49dd89fef1c\">\n",
              "  <button class=\"colab-df-quickchart\" onclick=\"quickchart('df-43c704e8-8aba-495e-8c35-d49dd89fef1c')\"\n",
              "            title=\"Suggest charts\"\n",
              "            style=\"display:none;\">\n",
              "\n",
              "<svg xmlns=\"http://www.w3.org/2000/svg\" height=\"24px\"viewBox=\"0 0 24 24\"\n",
              "     width=\"24px\">\n",
              "    <g>\n",
              "        <path d=\"M19 3H5c-1.1 0-2 .9-2 2v14c0 1.1.9 2 2 2h14c1.1 0 2-.9 2-2V5c0-1.1-.9-2-2-2zM9 17H7v-7h2v7zm4 0h-2V7h2v10zm4 0h-2v-4h2v4z\"/>\n",
              "    </g>\n",
              "</svg>\n",
              "  </button>\n",
              "\n",
              "<style>\n",
              "  .colab-df-quickchart {\n",
              "      --bg-color: #E8F0FE;\n",
              "      --fill-color: #1967D2;\n",
              "      --hover-bg-color: #E2EBFA;\n",
              "      --hover-fill-color: #174EA6;\n",
              "      --disabled-fill-color: #AAA;\n",
              "      --disabled-bg-color: #DDD;\n",
              "  }\n",
              "\n",
              "  [theme=dark] .colab-df-quickchart {\n",
              "      --bg-color: #3B4455;\n",
              "      --fill-color: #D2E3FC;\n",
              "      --hover-bg-color: #434B5C;\n",
              "      --hover-fill-color: #FFFFFF;\n",
              "      --disabled-bg-color: #3B4455;\n",
              "      --disabled-fill-color: #666;\n",
              "  }\n",
              "\n",
              "  .colab-df-quickchart {\n",
              "    background-color: var(--bg-color);\n",
              "    border: none;\n",
              "    border-radius: 50%;\n",
              "    cursor: pointer;\n",
              "    display: none;\n",
              "    fill: var(--fill-color);\n",
              "    height: 32px;\n",
              "    padding: 0;\n",
              "    width: 32px;\n",
              "  }\n",
              "\n",
              "  .colab-df-quickchart:hover {\n",
              "    background-color: var(--hover-bg-color);\n",
              "    box-shadow: 0 1px 2px rgba(60, 64, 67, 0.3), 0 1px 3px 1px rgba(60, 64, 67, 0.15);\n",
              "    fill: var(--button-hover-fill-color);\n",
              "  }\n",
              "\n",
              "  .colab-df-quickchart-complete:disabled,\n",
              "  .colab-df-quickchart-complete:disabled:hover {\n",
              "    background-color: var(--disabled-bg-color);\n",
              "    fill: var(--disabled-fill-color);\n",
              "    box-shadow: none;\n",
              "  }\n",
              "\n",
              "  .colab-df-spinner {\n",
              "    border: 2px solid var(--fill-color);\n",
              "    border-color: transparent;\n",
              "    border-bottom-color: var(--fill-color);\n",
              "    animation:\n",
              "      spin 1s steps(1) infinite;\n",
              "  }\n",
              "\n",
              "  @keyframes spin {\n",
              "    0% {\n",
              "      border-color: transparent;\n",
              "      border-bottom-color: var(--fill-color);\n",
              "      border-left-color: var(--fill-color);\n",
              "    }\n",
              "    20% {\n",
              "      border-color: transparent;\n",
              "      border-left-color: var(--fill-color);\n",
              "      border-top-color: var(--fill-color);\n",
              "    }\n",
              "    30% {\n",
              "      border-color: transparent;\n",
              "      border-left-color: var(--fill-color);\n",
              "      border-top-color: var(--fill-color);\n",
              "      border-right-color: var(--fill-color);\n",
              "    }\n",
              "    40% {\n",
              "      border-color: transparent;\n",
              "      border-right-color: var(--fill-color);\n",
              "      border-top-color: var(--fill-color);\n",
              "    }\n",
              "    60% {\n",
              "      border-color: transparent;\n",
              "      border-right-color: var(--fill-color);\n",
              "    }\n",
              "    80% {\n",
              "      border-color: transparent;\n",
              "      border-right-color: var(--fill-color);\n",
              "      border-bottom-color: var(--fill-color);\n",
              "    }\n",
              "    90% {\n",
              "      border-color: transparent;\n",
              "      border-bottom-color: var(--fill-color);\n",
              "    }\n",
              "  }\n",
              "</style>\n",
              "\n",
              "  <script>\n",
              "    async function quickchart(key) {\n",
              "      const quickchartButtonEl =\n",
              "        document.querySelector('#' + key + ' button');\n",
              "      quickchartButtonEl.disabled = true;  // To prevent multiple clicks.\n",
              "      quickchartButtonEl.classList.add('colab-df-spinner');\n",
              "      try {\n",
              "        const charts = await google.colab.kernel.invokeFunction(\n",
              "            'suggestCharts', [key], {});\n",
              "      } catch (error) {\n",
              "        console.error('Error during call to suggestCharts:', error);\n",
              "      }\n",
              "      quickchartButtonEl.classList.remove('colab-df-spinner');\n",
              "      quickchartButtonEl.classList.add('colab-df-quickchart-complete');\n",
              "    }\n",
              "    (() => {\n",
              "      let quickchartButtonEl =\n",
              "        document.querySelector('#df-43c704e8-8aba-495e-8c35-d49dd89fef1c button');\n",
              "      quickchartButtonEl.style.display =\n",
              "        google.colab.kernel.accessAllowed ? 'block' : 'none';\n",
              "    })();\n",
              "  </script>\n",
              "</div>\n",
              "\n",
              "    </div>\n",
              "  </div>\n"
            ]
          },
          "metadata": {},
          "execution_count": 5
        }
      ]
    },
    {
      "cell_type": "code",
      "source": [
        "# Access test data\n",
        "test_data = dataset['test']\n",
        "\n",
        "# Create a DataFrame from the dataset\n",
        "df_test = pd.DataFrame(test_data)\n",
        "\n",
        "# Map numeric labels to textual representations\n",
        "label_map = {\n",
        "    0: 'Contradiction',\n",
        "    1: 'Entailment',\n",
        "    2: 'Neutral'\n",
        "}\n",
        "\n",
        "df_test['label'] = df_test['label'].map(label_map)\n",
        "\n",
        "# Display the modified DataFrame with the new column\n",
        "df_test.head()\n"
      ],
      "metadata": {
        "colab": {
          "base_uri": "https://localhost:8080/",
          "height": 206
        },
        "id": "fT-FFrYjJdaS",
        "outputId": "707bbd21-6220-4a11-c76e-a0f75cd5b482"
      },
      "execution_count": 6,
      "outputs": [
        {
          "output_type": "execute_result",
          "data": {
            "text/plain": [
              "                                           sentence1  \\\n",
              "0  আসলে, আমি এমনকি এই বিষয়ে চিন্তাও করিনি, কিন্ত...   \n",
              "1  আসলে, আমি এমনকি এই বিষয়ে চিন্তাও করিনি, কিন্ত...   \n",
              "2  আসলে, আমি এমনকি এই বিষয়ে চিন্তাও করিনি, কিন্ত...   \n",
              "3  আর আমি ভেবেছিলাম এটা একটা বিশেষ সুযোগ, আর এখনো...   \n",
              "4  আর আমি ভেবেছিলাম এটা একটা বিশেষ সুযোগ, আর এখনো...   \n",
              "\n",
              "                                           sentence2          label  \n",
              "0                       আমি তার সাথে আবার কথা বলিনি।  Contradiction  \n",
              "1  আমি এতই ভেঙে পড়েছিলাম যে, আমি আবারও তার সঙ্গে...     Entailment  \n",
              "2                       আমাদের খুব ভালো কথা হয়েছিল।        Neutral  \n",
              "3  আমি জানতাম না যে, সেই দিন আমিই একমাত্র ব্যক্তি...        Neutral  \n",
              "4  আমার মনে হয়েছিল যে এএফএফসি বিমান বাহিনীর ক্যা...     Entailment  "
            ],
            "text/html": [
              "\n",
              "  <div id=\"df-c36717cc-c6f7-421b-9dfa-c80257782d41\" class=\"colab-df-container\">\n",
              "    <div>\n",
              "<style scoped>\n",
              "    .dataframe tbody tr th:only-of-type {\n",
              "        vertical-align: middle;\n",
              "    }\n",
              "\n",
              "    .dataframe tbody tr th {\n",
              "        vertical-align: top;\n",
              "    }\n",
              "\n",
              "    .dataframe thead th {\n",
              "        text-align: right;\n",
              "    }\n",
              "</style>\n",
              "<table border=\"1\" class=\"dataframe\">\n",
              "  <thead>\n",
              "    <tr style=\"text-align: right;\">\n",
              "      <th></th>\n",
              "      <th>sentence1</th>\n",
              "      <th>sentence2</th>\n",
              "      <th>label</th>\n",
              "    </tr>\n",
              "  </thead>\n",
              "  <tbody>\n",
              "    <tr>\n",
              "      <th>0</th>\n",
              "      <td>আসলে, আমি এমনকি এই বিষয়ে চিন্তাও করিনি, কিন্ত...</td>\n",
              "      <td>আমি তার সাথে আবার কথা বলিনি।</td>\n",
              "      <td>Contradiction</td>\n",
              "    </tr>\n",
              "    <tr>\n",
              "      <th>1</th>\n",
              "      <td>আসলে, আমি এমনকি এই বিষয়ে চিন্তাও করিনি, কিন্ত...</td>\n",
              "      <td>আমি এতই ভেঙে পড়েছিলাম যে, আমি আবারও তার সঙ্গে...</td>\n",
              "      <td>Entailment</td>\n",
              "    </tr>\n",
              "    <tr>\n",
              "      <th>2</th>\n",
              "      <td>আসলে, আমি এমনকি এই বিষয়ে চিন্তাও করিনি, কিন্ত...</td>\n",
              "      <td>আমাদের খুব ভালো কথা হয়েছিল।</td>\n",
              "      <td>Neutral</td>\n",
              "    </tr>\n",
              "    <tr>\n",
              "      <th>3</th>\n",
              "      <td>আর আমি ভেবেছিলাম এটা একটা বিশেষ সুযোগ, আর এখনো...</td>\n",
              "      <td>আমি জানতাম না যে, সেই দিন আমিই একমাত্র ব্যক্তি...</td>\n",
              "      <td>Neutral</td>\n",
              "    </tr>\n",
              "    <tr>\n",
              "      <th>4</th>\n",
              "      <td>আর আমি ভেবেছিলাম এটা একটা বিশেষ সুযোগ, আর এখনো...</td>\n",
              "      <td>আমার মনে হয়েছিল যে এএফএফসি বিমান বাহিনীর ক্যা...</td>\n",
              "      <td>Entailment</td>\n",
              "    </tr>\n",
              "  </tbody>\n",
              "</table>\n",
              "</div>\n",
              "    <div class=\"colab-df-buttons\">\n",
              "\n",
              "  <div class=\"colab-df-container\">\n",
              "    <button class=\"colab-df-convert\" onclick=\"convertToInteractive('df-c36717cc-c6f7-421b-9dfa-c80257782d41')\"\n",
              "            title=\"Convert this dataframe to an interactive table.\"\n",
              "            style=\"display:none;\">\n",
              "\n",
              "  <svg xmlns=\"http://www.w3.org/2000/svg\" height=\"24px\" viewBox=\"0 -960 960 960\">\n",
              "    <path d=\"M120-120v-720h720v720H120Zm60-500h600v-160H180v160Zm220 220h160v-160H400v160Zm0 220h160v-160H400v160ZM180-400h160v-160H180v160Zm440 0h160v-160H620v160ZM180-180h160v-160H180v160Zm440 0h160v-160H620v160Z\"/>\n",
              "  </svg>\n",
              "    </button>\n",
              "\n",
              "  <style>\n",
              "    .colab-df-container {\n",
              "      display:flex;\n",
              "      gap: 12px;\n",
              "    }\n",
              "\n",
              "    .colab-df-convert {\n",
              "      background-color: #E8F0FE;\n",
              "      border: none;\n",
              "      border-radius: 50%;\n",
              "      cursor: pointer;\n",
              "      display: none;\n",
              "      fill: #1967D2;\n",
              "      height: 32px;\n",
              "      padding: 0 0 0 0;\n",
              "      width: 32px;\n",
              "    }\n",
              "\n",
              "    .colab-df-convert:hover {\n",
              "      background-color: #E2EBFA;\n",
              "      box-shadow: 0px 1px 2px rgba(60, 64, 67, 0.3), 0px 1px 3px 1px rgba(60, 64, 67, 0.15);\n",
              "      fill: #174EA6;\n",
              "    }\n",
              "\n",
              "    .colab-df-buttons div {\n",
              "      margin-bottom: 4px;\n",
              "    }\n",
              "\n",
              "    [theme=dark] .colab-df-convert {\n",
              "      background-color: #3B4455;\n",
              "      fill: #D2E3FC;\n",
              "    }\n",
              "\n",
              "    [theme=dark] .colab-df-convert:hover {\n",
              "      background-color: #434B5C;\n",
              "      box-shadow: 0px 1px 3px 1px rgba(0, 0, 0, 0.15);\n",
              "      filter: drop-shadow(0px 1px 2px rgba(0, 0, 0, 0.3));\n",
              "      fill: #FFFFFF;\n",
              "    }\n",
              "  </style>\n",
              "\n",
              "    <script>\n",
              "      const buttonEl =\n",
              "        document.querySelector('#df-c36717cc-c6f7-421b-9dfa-c80257782d41 button.colab-df-convert');\n",
              "      buttonEl.style.display =\n",
              "        google.colab.kernel.accessAllowed ? 'block' : 'none';\n",
              "\n",
              "      async function convertToInteractive(key) {\n",
              "        const element = document.querySelector('#df-c36717cc-c6f7-421b-9dfa-c80257782d41');\n",
              "        const dataTable =\n",
              "          await google.colab.kernel.invokeFunction('convertToInteractive',\n",
              "                                                    [key], {});\n",
              "        if (!dataTable) return;\n",
              "\n",
              "        const docLinkHtml = 'Like what you see? Visit the ' +\n",
              "          '<a target=\"_blank\" href=https://colab.research.google.com/notebooks/data_table.ipynb>data table notebook</a>'\n",
              "          + ' to learn more about interactive tables.';\n",
              "        element.innerHTML = '';\n",
              "        dataTable['output_type'] = 'display_data';\n",
              "        await google.colab.output.renderOutput(dataTable, element);\n",
              "        const docLink = document.createElement('div');\n",
              "        docLink.innerHTML = docLinkHtml;\n",
              "        element.appendChild(docLink);\n",
              "      }\n",
              "    </script>\n",
              "  </div>\n",
              "\n",
              "\n",
              "<div id=\"df-cc25a21b-7164-436a-877d-68dc853621d2\">\n",
              "  <button class=\"colab-df-quickchart\" onclick=\"quickchart('df-cc25a21b-7164-436a-877d-68dc853621d2')\"\n",
              "            title=\"Suggest charts\"\n",
              "            style=\"display:none;\">\n",
              "\n",
              "<svg xmlns=\"http://www.w3.org/2000/svg\" height=\"24px\"viewBox=\"0 0 24 24\"\n",
              "     width=\"24px\">\n",
              "    <g>\n",
              "        <path d=\"M19 3H5c-1.1 0-2 .9-2 2v14c0 1.1.9 2 2 2h14c1.1 0 2-.9 2-2V5c0-1.1-.9-2-2-2zM9 17H7v-7h2v7zm4 0h-2V7h2v10zm4 0h-2v-4h2v4z\"/>\n",
              "    </g>\n",
              "</svg>\n",
              "  </button>\n",
              "\n",
              "<style>\n",
              "  .colab-df-quickchart {\n",
              "      --bg-color: #E8F0FE;\n",
              "      --fill-color: #1967D2;\n",
              "      --hover-bg-color: #E2EBFA;\n",
              "      --hover-fill-color: #174EA6;\n",
              "      --disabled-fill-color: #AAA;\n",
              "      --disabled-bg-color: #DDD;\n",
              "  }\n",
              "\n",
              "  [theme=dark] .colab-df-quickchart {\n",
              "      --bg-color: #3B4455;\n",
              "      --fill-color: #D2E3FC;\n",
              "      --hover-bg-color: #434B5C;\n",
              "      --hover-fill-color: #FFFFFF;\n",
              "      --disabled-bg-color: #3B4455;\n",
              "      --disabled-fill-color: #666;\n",
              "  }\n",
              "\n",
              "  .colab-df-quickchart {\n",
              "    background-color: var(--bg-color);\n",
              "    border: none;\n",
              "    border-radius: 50%;\n",
              "    cursor: pointer;\n",
              "    display: none;\n",
              "    fill: var(--fill-color);\n",
              "    height: 32px;\n",
              "    padding: 0;\n",
              "    width: 32px;\n",
              "  }\n",
              "\n",
              "  .colab-df-quickchart:hover {\n",
              "    background-color: var(--hover-bg-color);\n",
              "    box-shadow: 0 1px 2px rgba(60, 64, 67, 0.3), 0 1px 3px 1px rgba(60, 64, 67, 0.15);\n",
              "    fill: var(--button-hover-fill-color);\n",
              "  }\n",
              "\n",
              "  .colab-df-quickchart-complete:disabled,\n",
              "  .colab-df-quickchart-complete:disabled:hover {\n",
              "    background-color: var(--disabled-bg-color);\n",
              "    fill: var(--disabled-fill-color);\n",
              "    box-shadow: none;\n",
              "  }\n",
              "\n",
              "  .colab-df-spinner {\n",
              "    border: 2px solid var(--fill-color);\n",
              "    border-color: transparent;\n",
              "    border-bottom-color: var(--fill-color);\n",
              "    animation:\n",
              "      spin 1s steps(1) infinite;\n",
              "  }\n",
              "\n",
              "  @keyframes spin {\n",
              "    0% {\n",
              "      border-color: transparent;\n",
              "      border-bottom-color: var(--fill-color);\n",
              "      border-left-color: var(--fill-color);\n",
              "    }\n",
              "    20% {\n",
              "      border-color: transparent;\n",
              "      border-left-color: var(--fill-color);\n",
              "      border-top-color: var(--fill-color);\n",
              "    }\n",
              "    30% {\n",
              "      border-color: transparent;\n",
              "      border-left-color: var(--fill-color);\n",
              "      border-top-color: var(--fill-color);\n",
              "      border-right-color: var(--fill-color);\n",
              "    }\n",
              "    40% {\n",
              "      border-color: transparent;\n",
              "      border-right-color: var(--fill-color);\n",
              "      border-top-color: var(--fill-color);\n",
              "    }\n",
              "    60% {\n",
              "      border-color: transparent;\n",
              "      border-right-color: var(--fill-color);\n",
              "    }\n",
              "    80% {\n",
              "      border-color: transparent;\n",
              "      border-right-color: var(--fill-color);\n",
              "      border-bottom-color: var(--fill-color);\n",
              "    }\n",
              "    90% {\n",
              "      border-color: transparent;\n",
              "      border-bottom-color: var(--fill-color);\n",
              "    }\n",
              "  }\n",
              "</style>\n",
              "\n",
              "  <script>\n",
              "    async function quickchart(key) {\n",
              "      const quickchartButtonEl =\n",
              "        document.querySelector('#' + key + ' button');\n",
              "      quickchartButtonEl.disabled = true;  // To prevent multiple clicks.\n",
              "      quickchartButtonEl.classList.add('colab-df-spinner');\n",
              "      try {\n",
              "        const charts = await google.colab.kernel.invokeFunction(\n",
              "            'suggestCharts', [key], {});\n",
              "      } catch (error) {\n",
              "        console.error('Error during call to suggestCharts:', error);\n",
              "      }\n",
              "      quickchartButtonEl.classList.remove('colab-df-spinner');\n",
              "      quickchartButtonEl.classList.add('colab-df-quickchart-complete');\n",
              "    }\n",
              "    (() => {\n",
              "      let quickchartButtonEl =\n",
              "        document.querySelector('#df-cc25a21b-7164-436a-877d-68dc853621d2 button');\n",
              "      quickchartButtonEl.style.display =\n",
              "        google.colab.kernel.accessAllowed ? 'block' : 'none';\n",
              "    })();\n",
              "  </script>\n",
              "</div>\n",
              "\n",
              "    </div>\n",
              "  </div>\n"
            ]
          },
          "metadata": {},
          "execution_count": 6
        }
      ]
    },
    {
      "cell_type": "code",
      "source": [
        "# Access validation data\n",
        "validation_data = dataset['validation']\n",
        "\n",
        "# Create a DataFrame from the dataset\n",
        "df_validation = pd.DataFrame(validation_data)\n",
        "\n",
        "# Map numeric labels to textual representations\n",
        "label_map = {\n",
        "    0: 'Contradiction',\n",
        "    1: 'Entailment',\n",
        "    2: 'Neutral'\n",
        "}\n",
        "\n",
        "df_validation['label'] = df_validation['label'].map(label_map)\n",
        "\n",
        "# Display the modified DataFrame with the new column\n",
        "df_validation.head()\n"
      ],
      "metadata": {
        "colab": {
          "base_uri": "https://localhost:8080/",
          "height": 206
        },
        "id": "F8CjrWGAKOpP",
        "outputId": "0639b69d-29cb-4840-a9af-1e0f9bf1b3cc"
      },
      "execution_count": 7,
      "outputs": [
        {
          "output_type": "execute_result",
          "data": {
            "text/plain": [
              "                                           sentence1  \\\n",
              "0                         আর সে বললো, মা, আমি বাড়ি।   \n",
              "1                         আর সে বললো, মা, আমি বাড়ি।   \n",
              "2                         আর সে বললো, মা, আমি বাড়ি।   \n",
              "3  আমি জানতাম না আমি কি জন্য যাচ্ছি বা কিছু, তাই ...   \n",
              "4  আমি জানতাম না আমি কি জন্য যাচ্ছি বা কিছু, তাই ...   \n",
              "\n",
              "                                           sentence2          label  \n",
              "0  স্কুলের বাস তাকে নামিয়ে দেওয়ার সঙ্গে সঙ্গে ত...        Neutral  \n",
              "1                                  সে কোন কথা বলেনি.  Contradiction  \n",
              "2         সে তার মাকে বলেছিল যে সে বাড়ি ফিরে এসেছে।     Entailment  \n",
              "3  আমি কখনো ওয়াশিংটনে যাইনি তাই যখন আমাকে সেখানে...        Neutral  \n",
              "4  আমি ঠিক জানতাম যে, ওয়াশিংটনের দিকে যাত্রা করা...  Contradiction  "
            ],
            "text/html": [
              "\n",
              "  <div id=\"df-e7875314-fa4d-46f2-8b59-8b2b2143faa1\" class=\"colab-df-container\">\n",
              "    <div>\n",
              "<style scoped>\n",
              "    .dataframe tbody tr th:only-of-type {\n",
              "        vertical-align: middle;\n",
              "    }\n",
              "\n",
              "    .dataframe tbody tr th {\n",
              "        vertical-align: top;\n",
              "    }\n",
              "\n",
              "    .dataframe thead th {\n",
              "        text-align: right;\n",
              "    }\n",
              "</style>\n",
              "<table border=\"1\" class=\"dataframe\">\n",
              "  <thead>\n",
              "    <tr style=\"text-align: right;\">\n",
              "      <th></th>\n",
              "      <th>sentence1</th>\n",
              "      <th>sentence2</th>\n",
              "      <th>label</th>\n",
              "    </tr>\n",
              "  </thead>\n",
              "  <tbody>\n",
              "    <tr>\n",
              "      <th>0</th>\n",
              "      <td>আর সে বললো, মা, আমি বাড়ি।</td>\n",
              "      <td>স্কুলের বাস তাকে নামিয়ে দেওয়ার সঙ্গে সঙ্গে ত...</td>\n",
              "      <td>Neutral</td>\n",
              "    </tr>\n",
              "    <tr>\n",
              "      <th>1</th>\n",
              "      <td>আর সে বললো, মা, আমি বাড়ি।</td>\n",
              "      <td>সে কোন কথা বলেনি.</td>\n",
              "      <td>Contradiction</td>\n",
              "    </tr>\n",
              "    <tr>\n",
              "      <th>2</th>\n",
              "      <td>আর সে বললো, মা, আমি বাড়ি।</td>\n",
              "      <td>সে তার মাকে বলেছিল যে সে বাড়ি ফিরে এসেছে।</td>\n",
              "      <td>Entailment</td>\n",
              "    </tr>\n",
              "    <tr>\n",
              "      <th>3</th>\n",
              "      <td>আমি জানতাম না আমি কি জন্য যাচ্ছি বা কিছু, তাই ...</td>\n",
              "      <td>আমি কখনো ওয়াশিংটনে যাইনি তাই যখন আমাকে সেখানে...</td>\n",
              "      <td>Neutral</td>\n",
              "    </tr>\n",
              "    <tr>\n",
              "      <th>4</th>\n",
              "      <td>আমি জানতাম না আমি কি জন্য যাচ্ছি বা কিছু, তাই ...</td>\n",
              "      <td>আমি ঠিক জানতাম যে, ওয়াশিংটনের দিকে যাত্রা করা...</td>\n",
              "      <td>Contradiction</td>\n",
              "    </tr>\n",
              "  </tbody>\n",
              "</table>\n",
              "</div>\n",
              "    <div class=\"colab-df-buttons\">\n",
              "\n",
              "  <div class=\"colab-df-container\">\n",
              "    <button class=\"colab-df-convert\" onclick=\"convertToInteractive('df-e7875314-fa4d-46f2-8b59-8b2b2143faa1')\"\n",
              "            title=\"Convert this dataframe to an interactive table.\"\n",
              "            style=\"display:none;\">\n",
              "\n",
              "  <svg xmlns=\"http://www.w3.org/2000/svg\" height=\"24px\" viewBox=\"0 -960 960 960\">\n",
              "    <path d=\"M120-120v-720h720v720H120Zm60-500h600v-160H180v160Zm220 220h160v-160H400v160Zm0 220h160v-160H400v160ZM180-400h160v-160H180v160Zm440 0h160v-160H620v160ZM180-180h160v-160H180v160Zm440 0h160v-160H620v160Z\"/>\n",
              "  </svg>\n",
              "    </button>\n",
              "\n",
              "  <style>\n",
              "    .colab-df-container {\n",
              "      display:flex;\n",
              "      gap: 12px;\n",
              "    }\n",
              "\n",
              "    .colab-df-convert {\n",
              "      background-color: #E8F0FE;\n",
              "      border: none;\n",
              "      border-radius: 50%;\n",
              "      cursor: pointer;\n",
              "      display: none;\n",
              "      fill: #1967D2;\n",
              "      height: 32px;\n",
              "      padding: 0 0 0 0;\n",
              "      width: 32px;\n",
              "    }\n",
              "\n",
              "    .colab-df-convert:hover {\n",
              "      background-color: #E2EBFA;\n",
              "      box-shadow: 0px 1px 2px rgba(60, 64, 67, 0.3), 0px 1px 3px 1px rgba(60, 64, 67, 0.15);\n",
              "      fill: #174EA6;\n",
              "    }\n",
              "\n",
              "    .colab-df-buttons div {\n",
              "      margin-bottom: 4px;\n",
              "    }\n",
              "\n",
              "    [theme=dark] .colab-df-convert {\n",
              "      background-color: #3B4455;\n",
              "      fill: #D2E3FC;\n",
              "    }\n",
              "\n",
              "    [theme=dark] .colab-df-convert:hover {\n",
              "      background-color: #434B5C;\n",
              "      box-shadow: 0px 1px 3px 1px rgba(0, 0, 0, 0.15);\n",
              "      filter: drop-shadow(0px 1px 2px rgba(0, 0, 0, 0.3));\n",
              "      fill: #FFFFFF;\n",
              "    }\n",
              "  </style>\n",
              "\n",
              "    <script>\n",
              "      const buttonEl =\n",
              "        document.querySelector('#df-e7875314-fa4d-46f2-8b59-8b2b2143faa1 button.colab-df-convert');\n",
              "      buttonEl.style.display =\n",
              "        google.colab.kernel.accessAllowed ? 'block' : 'none';\n",
              "\n",
              "      async function convertToInteractive(key) {\n",
              "        const element = document.querySelector('#df-e7875314-fa4d-46f2-8b59-8b2b2143faa1');\n",
              "        const dataTable =\n",
              "          await google.colab.kernel.invokeFunction('convertToInteractive',\n",
              "                                                    [key], {});\n",
              "        if (!dataTable) return;\n",
              "\n",
              "        const docLinkHtml = 'Like what you see? Visit the ' +\n",
              "          '<a target=\"_blank\" href=https://colab.research.google.com/notebooks/data_table.ipynb>data table notebook</a>'\n",
              "          + ' to learn more about interactive tables.';\n",
              "        element.innerHTML = '';\n",
              "        dataTable['output_type'] = 'display_data';\n",
              "        await google.colab.output.renderOutput(dataTable, element);\n",
              "        const docLink = document.createElement('div');\n",
              "        docLink.innerHTML = docLinkHtml;\n",
              "        element.appendChild(docLink);\n",
              "      }\n",
              "    </script>\n",
              "  </div>\n",
              "\n",
              "\n",
              "<div id=\"df-ca32ac11-d2b7-474f-bdb9-ca37a5893e38\">\n",
              "  <button class=\"colab-df-quickchart\" onclick=\"quickchart('df-ca32ac11-d2b7-474f-bdb9-ca37a5893e38')\"\n",
              "            title=\"Suggest charts\"\n",
              "            style=\"display:none;\">\n",
              "\n",
              "<svg xmlns=\"http://www.w3.org/2000/svg\" height=\"24px\"viewBox=\"0 0 24 24\"\n",
              "     width=\"24px\">\n",
              "    <g>\n",
              "        <path d=\"M19 3H5c-1.1 0-2 .9-2 2v14c0 1.1.9 2 2 2h14c1.1 0 2-.9 2-2V5c0-1.1-.9-2-2-2zM9 17H7v-7h2v7zm4 0h-2V7h2v10zm4 0h-2v-4h2v4z\"/>\n",
              "    </g>\n",
              "</svg>\n",
              "  </button>\n",
              "\n",
              "<style>\n",
              "  .colab-df-quickchart {\n",
              "      --bg-color: #E8F0FE;\n",
              "      --fill-color: #1967D2;\n",
              "      --hover-bg-color: #E2EBFA;\n",
              "      --hover-fill-color: #174EA6;\n",
              "      --disabled-fill-color: #AAA;\n",
              "      --disabled-bg-color: #DDD;\n",
              "  }\n",
              "\n",
              "  [theme=dark] .colab-df-quickchart {\n",
              "      --bg-color: #3B4455;\n",
              "      --fill-color: #D2E3FC;\n",
              "      --hover-bg-color: #434B5C;\n",
              "      --hover-fill-color: #FFFFFF;\n",
              "      --disabled-bg-color: #3B4455;\n",
              "      --disabled-fill-color: #666;\n",
              "  }\n",
              "\n",
              "  .colab-df-quickchart {\n",
              "    background-color: var(--bg-color);\n",
              "    border: none;\n",
              "    border-radius: 50%;\n",
              "    cursor: pointer;\n",
              "    display: none;\n",
              "    fill: var(--fill-color);\n",
              "    height: 32px;\n",
              "    padding: 0;\n",
              "    width: 32px;\n",
              "  }\n",
              "\n",
              "  .colab-df-quickchart:hover {\n",
              "    background-color: var(--hover-bg-color);\n",
              "    box-shadow: 0 1px 2px rgba(60, 64, 67, 0.3), 0 1px 3px 1px rgba(60, 64, 67, 0.15);\n",
              "    fill: var(--button-hover-fill-color);\n",
              "  }\n",
              "\n",
              "  .colab-df-quickchart-complete:disabled,\n",
              "  .colab-df-quickchart-complete:disabled:hover {\n",
              "    background-color: var(--disabled-bg-color);\n",
              "    fill: var(--disabled-fill-color);\n",
              "    box-shadow: none;\n",
              "  }\n",
              "\n",
              "  .colab-df-spinner {\n",
              "    border: 2px solid var(--fill-color);\n",
              "    border-color: transparent;\n",
              "    border-bottom-color: var(--fill-color);\n",
              "    animation:\n",
              "      spin 1s steps(1) infinite;\n",
              "  }\n",
              "\n",
              "  @keyframes spin {\n",
              "    0% {\n",
              "      border-color: transparent;\n",
              "      border-bottom-color: var(--fill-color);\n",
              "      border-left-color: var(--fill-color);\n",
              "    }\n",
              "    20% {\n",
              "      border-color: transparent;\n",
              "      border-left-color: var(--fill-color);\n",
              "      border-top-color: var(--fill-color);\n",
              "    }\n",
              "    30% {\n",
              "      border-color: transparent;\n",
              "      border-left-color: var(--fill-color);\n",
              "      border-top-color: var(--fill-color);\n",
              "      border-right-color: var(--fill-color);\n",
              "    }\n",
              "    40% {\n",
              "      border-color: transparent;\n",
              "      border-right-color: var(--fill-color);\n",
              "      border-top-color: var(--fill-color);\n",
              "    }\n",
              "    60% {\n",
              "      border-color: transparent;\n",
              "      border-right-color: var(--fill-color);\n",
              "    }\n",
              "    80% {\n",
              "      border-color: transparent;\n",
              "      border-right-color: var(--fill-color);\n",
              "      border-bottom-color: var(--fill-color);\n",
              "    }\n",
              "    90% {\n",
              "      border-color: transparent;\n",
              "      border-bottom-color: var(--fill-color);\n",
              "    }\n",
              "  }\n",
              "</style>\n",
              "\n",
              "  <script>\n",
              "    async function quickchart(key) {\n",
              "      const quickchartButtonEl =\n",
              "        document.querySelector('#' + key + ' button');\n",
              "      quickchartButtonEl.disabled = true;  // To prevent multiple clicks.\n",
              "      quickchartButtonEl.classList.add('colab-df-spinner');\n",
              "      try {\n",
              "        const charts = await google.colab.kernel.invokeFunction(\n",
              "            'suggestCharts', [key], {});\n",
              "      } catch (error) {\n",
              "        console.error('Error during call to suggestCharts:', error);\n",
              "      }\n",
              "      quickchartButtonEl.classList.remove('colab-df-spinner');\n",
              "      quickchartButtonEl.classList.add('colab-df-quickchart-complete');\n",
              "    }\n",
              "    (() => {\n",
              "      let quickchartButtonEl =\n",
              "        document.querySelector('#df-ca32ac11-d2b7-474f-bdb9-ca37a5893e38 button');\n",
              "      quickchartButtonEl.style.display =\n",
              "        google.colab.kernel.accessAllowed ? 'block' : 'none';\n",
              "    })();\n",
              "  </script>\n",
              "</div>\n",
              "\n",
              "    </div>\n",
              "  </div>\n"
            ]
          },
          "metadata": {},
          "execution_count": 7
        }
      ]
    },
    {
      "cell_type": "markdown",
      "source": [
        "# **Visualization of Label Distribution in Train dataset**\n",
        "* Contradiction - 0\n",
        "* Entailment - 1\n",
        "* Neutral - 2"
      ],
      "metadata": {
        "id": "z8vIwkssRyQ-"
      }
    },
    {
      "cell_type": "code",
      "source": [
        "label_counts = df_train['label'].value_counts()\n",
        "\n",
        "# Define custom colors for the bars ('e', 'c', and 'n')\n",
        "custom_colors = ['#8cbfff', '#d62728','#d4ffcc']\n",
        "\n",
        "# Define custom font dictionary for title and labels\n",
        "font = {'family': 'Serif', 'weight': 'bold', 'size': 12}\n",
        "\n",
        "plt.figure(figsize=(6, 6))\n",
        "\n",
        "# Create bar plot with grid\n",
        "bars = plt.bar(label_counts.index, label_counts.values, color=custom_colors)\n",
        "#plt.grid(axis='y', linestyle='--', alpha=0.7)\n",
        "\n",
        "# Set title and axis labels using custom fontdict\n",
        "plt.title('Label Distribution', fontdict=font)\n",
        "plt.xlabel('Label', fontdict=font)\n",
        "plt.ylabel('Count', fontdict=font)\n",
        "\n",
        "# Set custom font for ticks on both x and y axes\n",
        "plt.xticks(label_counts.index, label_counts.index, fontdict=font)\n",
        "plt.yticks(fontname='Serif', fontsize=10)\n",
        "\n",
        "# Adding annotations (count values) on top of each bar\n",
        "for bar, count in zip(bars, label_counts.values):\n",
        "    plt.text(bar.get_x() + bar.get_width() / 2, bar.get_height(), str(count),\n",
        "             ha='center', va='bottom', fontdict=font)\n",
        "\n",
        "# Show the plot\n",
        "plt.show()\n"
      ],
      "metadata": {
        "colab": {
          "base_uri": "https://localhost:8080/",
          "height": 569
        },
        "id": "y-wuShbSREsG",
        "outputId": "91a03461-6218-450c-9a32-09cf96344ab5"
      },
      "execution_count": 8,
      "outputs": [
        {
          "output_type": "display_data",
          "data": {
            "text/plain": [
              "<Figure size 600x600 with 1 Axes>"
            ],
            "image/png": "[encoded data removed]"
          },
          "metadata": {}
        }
      ]
    },
    {
      "cell_type": "markdown",
      "source": [
        "# **Visualization of Label Distribution in Test dataset**\n",
        "* Contradiction - 0\n",
        "* Entailment - 1\n",
        "* Neutral - 2"
      ],
      "metadata": {
        "id": "1BLyZA3kSd84"
      }
    },
    {
      "cell_type": "code",
      "source": [
        "label_counts = df_test['label'].value_counts()\n",
        "\n",
        "# Define custom colors for the bars ('e', 'c', and 'n')\n",
        "custom_colors = ['#8cbfff', '#d62728','#d4ffcc']\n",
        "\n",
        "# Define custom font dictionary for title and labels\n",
        "font = {'family': 'Serif', 'weight': 'bold', 'size': 12}\n",
        "\n",
        "plt.figure(figsize=(6, 6))\n",
        "\n",
        "# Create bar plot with grid\n",
        "bars = plt.bar(label_counts.index, label_counts.values, color=custom_colors)\n",
        "#plt.grid(axis='y', linestyle='--', alpha=0.7)\n",
        "\n",
        "# Set title and axis labels using custom fontdict\n",
        "plt.title('Label Distribution', fontdict=font)\n",
        "plt.xlabel('Label', fontdict=font)\n",
        "plt.ylabel('Count', fontdict=font)\n",
        "\n",
        "# Set custom font for ticks on both x and y axes\n",
        "plt.xticks(label_counts.index, label_counts.index, fontdict=font)\n",
        "plt.yticks(fontname='Serif', fontsize=10)\n",
        "\n",
        "# Adding annotations (count values) on top of each bar\n",
        "for bar, count in zip(bars, label_counts.values):\n",
        "    plt.text(bar.get_x() + bar.get_width() / 2, bar.get_height(), str(count),\n",
        "             ha='center', va='bottom', fontdict=font)\n",
        "\n",
        "# Show the plot\n",
        "plt.show()\n"
      ],
      "metadata": {
        "colab": {
          "base_uri": "https://localhost:8080/",
          "height": 569
        },
        "id": "JOiar7ipSbA_",
        "outputId": "464e26c2-2376-4ed7-cdb7-ffa767c7f33f"
      },
      "execution_count": 9,
      "outputs": [
        {
          "output_type": "display_data",
          "data": {
            "text/plain": [
              "<Figure size 600x600 with 1 Axes>"
            ],
            "image/png": "[encoded data removed]"
          },
          "metadata": {}
        }
      ]
    },
    {
      "cell_type": "markdown",
      "source": [
        "# **Visualization of Label Distribution in Validation dataset**\n",
        "* Contradiction - 0\n",
        "* Entailment - 1\n",
        "* Neutral - 2"
      ],
      "metadata": {
        "id": "4RWjV05iSrV2"
      }
    },
    {
      "cell_type": "code",
      "source": [
        "label_counts = df_validation['label'].value_counts()\n",
        "\n",
        "# Define custom colors for the bars ('e', 'c', and 'n')\n",
        "custom_colors = ['#8cbfff', '#d62728','#d4ffcc']\n",
        "\n",
        "# Define custom font dictionary for title and labels\n",
        "font = {'family': 'Serif', 'weight': 'bold', 'size': 12}\n",
        "\n",
        "plt.figure(figsize=(6, 6))\n",
        "\n",
        "# Create bar plot with grid\n",
        "bars = plt.bar(label_counts.index, label_counts.values, color=custom_colors)\n",
        "#plt.grid(axis='y', linestyle='--', alpha=0.7)\n",
        "\n",
        "# Set title and axis labels using custom fontdict\n",
        "plt.title('Label Distribution', fontdict=font)\n",
        "plt.xlabel('Label', fontdict=font)\n",
        "plt.ylabel('Count', fontdict=font)\n",
        "\n",
        "# Set custom font for ticks on both x and y axes\n",
        "plt.xticks(label_counts.index, label_counts.index, fontdict=font)\n",
        "plt.yticks(fontname='Serif', fontsize=10)\n",
        "\n",
        "# Adding annotations (count values) on top of each bar\n",
        "for bar, count in zip(bars, label_counts.values):\n",
        "    plt.text(bar.get_x() + bar.get_width() / 2, bar.get_height(), str(count),\n",
        "             ha='center', va='bottom', fontdict=font)\n",
        "\n",
        "# Show the plot\n",
        "plt.show()\n"
      ],
      "metadata": {
        "colab": {
          "base_uri": "https://localhost:8080/",
          "height": 569
        },
        "id": "3Nn6NpSGSpKv",
        "outputId": "9d72558a-bf21-4473-d174-818ac646612d"
      },
      "execution_count": 10,
      "outputs": [
        {
          "output_type": "display_data",
          "data": {
            "text/plain": [
              "<Figure size 600x600 with 1 Axes>"
            ],
            "image/png": "[encoded data removed]"
          },
          "metadata": {}
        }
      ]
    },
    {
      "cell_type": "markdown",
      "source": [
        "# **Visualization of Premise Length Distribution in Train Dataset**\n",
        "## **sentence1 length checking**"
      ],
      "metadata": {
        "id": "zA5tBs-uTHKc"
      }
    },
    {
      "cell_type": "code",
      "source": [
        "# Visualize premise length distribution\n",
        "premise_lengths = df_train['sentence1'].apply(lambda x: len(x.split()))\n",
        "# Define custom font dictionary for title and labels\n",
        "font = {'family': 'Serif', 'weight': 'bold', 'size': 12}\n",
        "custom_colors = ['#fc9292']\n",
        "plt.figure(figsize=(5, 4))\n",
        "plt.hist(premise_lengths, bins=15, color=custom_colors,edgecolor='black' ,alpha=0.7)\n",
        "\n",
        "# Set title and axis labels using custom fontdict\n",
        "plt.title('Premise Length Distribution',fontdict=font)\n",
        "plt.xlabel('Length of Premise',fontdict=font)\n",
        "plt.ylabel('Numbers of Premise',fontdict=font)\n",
        "\n",
        "# Set custom font for ticks on both x and y axes\n",
        "plt.xticks(fontname='Serif', fontsize=10)\n",
        "plt.yticks(fontname='Serif', fontsize=10)\n",
        "#plt.grid(True)\n",
        "plt.show()"
      ],
      "metadata": {
        "colab": {
          "base_uri": "https://localhost:8080/",
          "height": 412
        },
        "id": "O02DpO2LTC1y",
        "outputId": "4becc5e1-f650-4f12-d1dc-c46661ed62a0"
      },
      "execution_count": 11,
      "outputs": [
        {
          "output_type": "display_data",
          "data": {
            "text/plain": [
              "<Figure size 500x400 with 1 Axes>"
            ],
            "image/png": "[encoded data removed]"
          },
          "metadata": {}
        }
      ]
    },
    {
      "cell_type": "markdown",
      "source": [
        "# **Visualization of Premise Length Distribution in Test Dataset**\n",
        "## **sentence1 length checking**"
      ],
      "metadata": {
        "id": "mcq6Ox5_T-eI"
      }
    },
    {
      "cell_type": "code",
      "source": [
        "# Visualize premise length distribution\n",
        "premise_lengths = df_test['sentence1'].apply(lambda x: len(x.split()))\n",
        "# Define custom font dictionary for title and labels\n",
        "font = {'family': 'Serif', 'weight': 'bold', 'size': 12}\n",
        "custom_colors = ['#fc9292']\n",
        "plt.figure(figsize=(5, 4))\n",
        "plt.hist(premise_lengths, bins=15, color=custom_colors,edgecolor='black' ,alpha=0.7)\n",
        "\n",
        "# Set title and axis labels using custom fontdict\n",
        "plt.title('Premise Length Distribution',fontdict=font)\n",
        "plt.xlabel('Length of Premise',fontdict=font)\n",
        "plt.ylabel('Numbers of Premise',fontdict=font)\n",
        "\n",
        "# Set custom font for ticks on both x and y axes\n",
        "plt.xticks(fontname='Serif', fontsize=10)\n",
        "plt.yticks(fontname='Serif', fontsize=10)\n",
        "#plt.grid(True)\n",
        "plt.show()"
      ],
      "metadata": {
        "colab": {
          "base_uri": "https://localhost:8080/",
          "height": 412
        },
        "id": "zoejjr4gT4RR",
        "outputId": "85773831-1402-413a-c9eb-bd24b3112726"
      },
      "execution_count": 12,
      "outputs": [
        {
          "output_type": "display_data",
          "data": {
            "text/plain": [
              "<Figure size 500x400 with 1 Axes>"
            ],
            "image/png": "[encoded data removed]"
          },
          "metadata": {}
        }
      ]
    },
    {
      "cell_type": "markdown",
      "source": [
        "# **Visualization of Premise Length Distribution in Validation Dataset**\n",
        "## **sentence1 length checking**"
      ],
      "metadata": {
        "id": "GM7ClLAlUMKW"
      }
    },
    {
      "cell_type": "code",
      "source": [
        "# Visualize premise length distribution\n",
        "premise_lengths = df_validation['sentence1'].apply(lambda x: len(x.split()))\n",
        "# Define custom font dictionary for title and labels\n",
        "font = {'family': 'Serif', 'weight': 'bold', 'size': 12}\n",
        "custom_colors = ['#fc9292']\n",
        "plt.figure(figsize=(5, 4))\n",
        "plt.hist(premise_lengths, bins=15, color=custom_colors,edgecolor='black' ,alpha=0.7)\n",
        "\n",
        "# Set title and axis labels using custom fontdict\n",
        "plt.title('Premise Length Distribution',fontdict=font)\n",
        "plt.xlabel('Length of Premise',fontdict=font)\n",
        "plt.ylabel('Numbers of Premise',fontdict=font)\n",
        "\n",
        "# Set custom font for ticks on both x and y axes\n",
        "plt.xticks(fontname='Serif', fontsize=10)\n",
        "plt.yticks(fontname='Serif', fontsize=10)\n",
        "#plt.grid(True)\n",
        "plt.show()"
      ],
      "metadata": {
        "colab": {
          "base_uri": "https://localhost:8080/",
          "height": 412
        },
        "id": "7P9zOgW6T4Ze",
        "outputId": "2584aeb1-1146-4c3b-8aa8-b392f470c5e8"
      },
      "execution_count": 13,
      "outputs": [
        {
          "output_type": "display_data",
          "data": {
            "text/plain": [
              "<Figure size 500x400 with 1 Axes>"
            ],
            "image/png": "[encoded data removed]"
          },
          "metadata": {}
        }
      ]
    },
    {
      "cell_type": "markdown",
      "source": [
        "# **Dataset Length**"
      ],
      "metadata": {
        "id": "PoM8l5aCUa0L"
      }
    },
    {
      "cell_type": "code",
      "source": [
        "print(f\"Train Dataset Length: {len(df_train)}\")\n",
        "print(f\"Test Dataset Length: {len(df_test)}\")\n",
        "print(f\"Validation Dataset Length: {len(df_validation)}\")"
      ],
      "metadata": {
        "colab": {
          "base_uri": "https://localhost:8080/"
        },
        "id": "yvhWp-DvUVpd",
        "outputId": "6750dced-77b4-400c-d166-31d3094d600c"
      },
      "execution_count": 64,
      "outputs": [
        {
          "output_type": "stream",
          "name": "stdout",
          "text": [
            "Train Dataset Length: 15000\n",
            "Test Dataset Length: 4895\n",
            "Validation Dataset Length: 2419\n"
          ]
        }
      ]
    },
    {
      "cell_type": "markdown",
      "source": [
        "# **Null value checking in Train dataset**"
      ],
      "metadata": {
        "id": "MEsnFWBTVmLS"
      }
    },
    {
      "cell_type": "code",
      "source": [
        "# Check for null values in 'premise', 'hypothesis' and\t'label' columns\n",
        "null_premise = df_train['sentence1'].isnull().sum()\n",
        "null_hypothesis = df_train['sentence2'].isnull().sum()\n",
        "null_label = df_train['label'].isnull().sum()\n",
        "\n",
        "\n",
        "print(f\"Null values in 'sentence1': {null_premise}\")\n",
        "print(f\"Null values in 'sentence2': {null_hypothesis}\")\n",
        "print(f\"Null values in 'label': {null_label}\")\n"
      ],
      "metadata": {
        "colab": {
          "base_uri": "https://localhost:8080/"
        },
        "id": "xK9pVl81UVtj",
        "outputId": "afbc18ad-c0a0-4e41-ec81-e9988e034ada"
      },
      "execution_count": 15,
      "outputs": [
        {
          "output_type": "stream",
          "name": "stdout",
          "text": [
            "Null values in 'sentence1': 0\n",
            "Null values in 'sentence2': 0\n",
            "Null values in 'label': 0\n"
          ]
        }
      ]
    },
    {
      "cell_type": "markdown",
      "source": [
        "# **Null value checking in Test dataset**"
      ],
      "metadata": {
        "id": "dUwiQtiXVrwU"
      }
    },
    {
      "cell_type": "code",
      "source": [
        "# Check for null values in 'premise', 'hypothesis' and\t'label' columns\n",
        "null_premise = df_test['sentence1'].isnull().sum()\n",
        "null_hypothesis = df_test['sentence2'].isnull().sum()\n",
        "null_label = df_test['label'].isnull().sum()\n",
        "\n",
        "\n",
        "print(f\"Null values in 'sentence1': {null_premise}\")\n",
        "print(f\"Null values in 'sentence2': {null_hypothesis}\")\n",
        "print(f\"Null values in 'label': {null_label}\")\n"
      ],
      "metadata": {
        "colab": {
          "base_uri": "https://localhost:8080/"
        },
        "id": "noFsoPvtVp52",
        "outputId": "7d5054e1-1c38-4692-9cae-9889d56d75ef"
      },
      "execution_count": 16,
      "outputs": [
        {
          "output_type": "stream",
          "name": "stdout",
          "text": [
            "Null values in 'sentence1': 0\n",
            "Null values in 'sentence2': 0\n",
            "Null values in 'label': 0\n"
          ]
        }
      ]
    },
    {
      "cell_type": "markdown",
      "source": [
        "# **Null value checking in Validation dataset**"
      ],
      "metadata": {
        "id": "T6NuC1kuV2vg"
      }
    },
    {
      "cell_type": "code",
      "source": [
        "# Check for null values in 'premise', 'hypothesis' and\t'label' columns\n",
        "null_premise = df_validation['sentence1'].isnull().sum()\n",
        "null_hypothesis = df_validation['sentence2'].isnull().sum()\n",
        "null_label = df_validation['label'].isnull().sum()\n",
        "\n",
        "\n",
        "print(f\"Null values in 'sentence1': {null_premise}\")\n",
        "print(f\"Null values in 'sentence2': {null_hypothesis}\")\n",
        "print(f\"Null values in 'label': {null_label}\")\n"
      ],
      "metadata": {
        "colab": {
          "base_uri": "https://localhost:8080/"
        },
        "id": "KAqnTK22Vp-G",
        "outputId": "e3b6c55a-4399-4f7d-987d-7483b54b1674"
      },
      "execution_count": 17,
      "outputs": [
        {
          "output_type": "stream",
          "name": "stdout",
          "text": [
            "Null values in 'sentence1': 0\n",
            "Null values in 'sentence2': 0\n",
            "Null values in 'label': 0\n"
          ]
        }
      ]
    },
    {
      "cell_type": "markdown",
      "source": [
        "# **mBERT model and its tokenizer**"
      ],
      "metadata": {
        "id": "Ug6ZBvbDXZyp"
      }
    },
    {
      "cell_type": "code",
      "source": [
        "from transformers import BertTokenizer, BertModel, BertForSequenceClassification, AdamW\n",
        "num_classes = 3  #number of classes in our dataset\n",
        "# Load the tokenizer and model\n",
        "tokenizer = BertTokenizer.from_pretrained('bert-base-multilingual-cased')\n",
        "model = BertForSequenceClassification.from_pretrained('bert-base-multilingual-cased',num_labels=num_classes)"
      ],
      "metadata": {
        "colab": {
          "base_uri": "https://localhost:8080/"
        },
        "id": "89j9mSDuXYVC",
        "outputId": "c23d02b5-33a7-4cbd-e58a-b9b395e4476b"
      },
      "execution_count": 20,
      "outputs": [
        {
          "output_type": "stream",
          "name": "stderr",
          "text": [
            "Some weights of BertForSequenceClassification were not initialized from the model checkpoint at bert-base-multilingual-cased and are newly initialized: ['classifier.bias', 'classifier.weight']\n",
            "You should probably TRAIN this model on a down-stream task to be able to use it for predictions and inference.\n"
          ]
        }
      ]
    },
    {
      "cell_type": "code",
      "source": [
        "# Place model on the device\n",
        "device = torch.device('cuda' if torch.cuda.is_available() else 'cpu')\n",
        "model.to(device)"
      ],
      "metadata": {
        "colab": {
          "base_uri": "https://localhost:8080/"
        },
        "id": "33_47eAvYAq7",
        "outputId": "860d5d32-dac5-4d8c-807c-deeff8ece03e"
      },
      "execution_count": 21,
      "outputs": [
        {
          "output_type": "execute_result",
          "data": {
            "text/plain": [
              "BertForSequenceClassification(\n",
              "  (bert): BertModel(\n",
              "    (embeddings): BertEmbeddings(\n",
              "      (word_embeddings): Embedding(119547, 768, padding_idx=0)\n",
              "      (position_embeddings): Embedding(512, 768)\n",
              "      (token_type_embeddings): Embedding(2, 768)\n",
              "      (LayerNorm): LayerNorm((768,), eps=1e-12, elementwise_affine=True)\n",
              "      (dropout): Dropout(p=0.1, inplace=False)\n",
              "    )\n",
              "    (encoder): BertEncoder(\n",
              "      (layer): ModuleList(\n",
              "        (0-11): 12 x BertLayer(\n",
              "          (attention): BertAttention(\n",
              "            (self): BertSelfAttention(\n",
              "              (query): Linear(in_features=768, out_features=768, bias=True)\n",
              "              (key): Linear(in_features=768, out_features=768, bias=True)\n",
              "              (value): Linear(in_features=768, out_features=768, bias=True)\n",
              "              (dropout): Dropout(p=0.1, inplace=False)\n",
              "            )\n",
              "            (output): BertSelfOutput(\n",
              "              (dense): Linear(in_features=768, out_features=768, bias=True)\n",
              "              (LayerNorm): LayerNorm((768,), eps=1e-12, elementwise_affine=True)\n",
              "              (dropout): Dropout(p=0.1, inplace=False)\n",
              "            )\n",
              "          )\n",
              "          (intermediate): BertIntermediate(\n",
              "            (dense): Linear(in_features=768, out_features=3072, bias=True)\n",
              "            (intermediate_act_fn): GELUActivation()\n",
              "          )\n",
              "          (output): BertOutput(\n",
              "            (dense): Linear(in_features=3072, out_features=768, bias=True)\n",
              "            (LayerNorm): LayerNorm((768,), eps=1e-12, elementwise_affine=True)\n",
              "            (dropout): Dropout(p=0.1, inplace=False)\n",
              "          )\n",
              "        )\n",
              "      )\n",
              "    )\n",
              "    (pooler): BertPooler(\n",
              "      (dense): Linear(in_features=768, out_features=768, bias=True)\n",
              "      (activation): Tanh()\n",
              "    )\n",
              "  )\n",
              "  (dropout): Dropout(p=0.1, inplace=False)\n",
              "  (classifier): Linear(in_features=768, out_features=3, bias=True)\n",
              ")"
            ]
          },
          "metadata": {},
          "execution_count": 21
        }
      ]
    },
    {
      "cell_type": "code",
      "source": [
        "from torch.utils.data import Dataset, DataLoader\n",
        "import torch"
      ],
      "metadata": {
        "id": "9Ra5idwcXGnr"
      },
      "execution_count": 22,
      "outputs": []
    },
    {
      "cell_type": "markdown",
      "source": [
        "# **Custom Dataset Class**"
      ],
      "metadata": {
        "id": "8DEdDfUQXmSP"
      }
    },
    {
      "cell_type": "code",
      "source": [
        "class NaturalLanguageInferenceDataset(Dataset):\n",
        "    def __init__(self, data, tokenizer, max_length=128):\n",
        "        self.data = data\n",
        "        self.tokenizer = tokenizer\n",
        "        self.max_length = max_length\n",
        "        self.label_map = {'Contradiction': 0, 'Entailment': 1, 'Neutral': 2}\n",
        "\n",
        "    def __len__(self):\n",
        "        return len(self.data)\n",
        "\n",
        "    def __getitem__(self, idx):\n",
        "        premise = self.data.iloc[idx]['sentence1']\n",
        "        hypothesis = self.data.iloc[idx]['sentence2']\n",
        "        label = self.data.iloc[idx]['label']\n",
        "\n",
        "        # Map label to integer\n",
        "        label_id = self.label_map[label]\n",
        "\n",
        "        # Tokenize premise and hypothesis separately\n",
        "        encoded_dict_premise = self.tokenizer.encode_plus(\n",
        "            premise,\n",
        "            add_special_tokens=True,\n",
        "            max_length=self.max_length // 2,  # Allocate half of the max_length to each\n",
        "            padding='max_length',\n",
        "            return_attention_mask=True,\n",
        "            return_tensors='pt',\n",
        "            truncation=True\n",
        "        )\n",
        "        encoded_dict_hypothesis = self.tokenizer.encode_plus(\n",
        "            hypothesis,\n",
        "            add_special_tokens=True,\n",
        "            max_length=self.max_length // 2,\n",
        "            padding='max_length',\n",
        "            return_attention_mask=True,\n",
        "            return_tensors='pt',\n",
        "            truncation=True\n",
        "        )\n",
        "\n",
        "        # Concatenate input_ids and attention_masks\n",
        "        input_ids = torch.cat((encoded_dict_premise['input_ids'], encoded_dict_hypothesis['input_ids']), dim=1)\n",
        "        attention_mask = torch.cat((encoded_dict_premise['attention_mask'], encoded_dict_hypothesis['attention_mask']), dim=1)\n",
        "\n",
        "        return {\n",
        "            'input_ids': input_ids.squeeze(),\n",
        "            'attention_mask': attention_mask.squeeze(),\n",
        "            'label': torch.tensor(label_id, dtype=torch.long)  # Use mapped label_id\n",
        "        }\n"
      ],
      "metadata": {
        "id": "6KS9BMVKkI2Q"
      },
      "execution_count": 24,
      "outputs": []
    },
    {
      "cell_type": "markdown",
      "source": [
        "# **Custom dataset and dataloader**"
      ],
      "metadata": {
        "id": "Lb-YGHWDXp1o"
      }
    },
    {
      "cell_type": "code",
      "source": [
        "# Define custom datasets\n",
        "train_dataset = NaturalLanguageInferenceDataset(df_train, tokenizer)\n",
        "val_dataset = NaturalLanguageInferenceDataset(df_validation, tokenizer)\n",
        "test_dataset = NaturalLanguageInferenceDataset(df_test, tokenizer)\n",
        "\n",
        "# Define data loaders\n",
        "train_loader = DataLoader(train_dataset, batch_size=10, shuffle=True)\n",
        "val_loader = DataLoader(val_dataset, batch_size=10, shuffle=False)\n",
        "test_loader = DataLoader(test_dataset, batch_size=10, shuffle=False)"
      ],
      "metadata": {
        "id": "WmY-Js5uWIQR"
      },
      "execution_count": 25,
      "outputs": []
    },
    {
      "cell_type": "markdown",
      "source": [
        "# **Train Dataset Encoding Printing**"
      ],
      "metadata": {
        "id": "GqS_EvPQYvbP"
      }
    },
    {
      "cell_type": "code",
      "source": [
        "# Set a flag to track whether it's the first batch\n",
        "first_batch = True\n",
        "\n",
        "for batch in train_loader:\n",
        "    # Move inputs and labels to the GPU\n",
        "    inputs = {key: value.to(device) for key, value in batch.items()}  # Using 'batch' directly\n",
        "\n",
        "    # Extract information for the first example in the batch\n",
        "    input_ids = inputs['input_ids'][0]\n",
        "    attention_mask = inputs['attention_mask'][0]\n",
        "    labels = inputs['label'][0]\n",
        "\n",
        "\n",
        "    # Print information\n",
        "    print(\"Input IDs:\", input_ids)\n",
        "    print(\"Attention Mask:\", attention_mask)\n",
        "    print(\"Labels:\", labels)\n",
        "\n",
        "\n",
        "    # Break out of the loop after processing the first batch\n",
        "    break\n"
      ],
      "metadata": {
        "colab": {
          "base_uri": "https://localhost:8080/"
        },
        "id": "iFgbykugWIUc",
        "outputId": "10805ab4-da72-4b74-f531-3f87e7544a16"
      },
      "execution_count": 26,
      "outputs": [
        {
          "output_type": "stream",
          "name": "stdout",
          "text": [
            "Input IDs: tensor([   101,    946,  26145,    959,  15691,  40560,    938,  37376,  84851,\n",
            "           948,  82742,    938,  37376,  59620,  23866,  53574,  12235,    938,\n",
            "         26145,    948,  40685,  15002, 111240,  82445,  22756,    938,  55077,\n",
            "         19320,  16755,  21716,  71839,  14339,    973,  13542,  17511,  29261,\n",
            "         84851,  99770,    938,  15002,  28410,  45038,    946,  13104,  29621,\n",
            "         26145,  16431,  55631,  13228,  59620,  23866,  53574,  12235,  12051,\n",
            "         43956,  20066,    938,  15002,  28410, 100024,  15258,  15002,  13228,\n",
            "           102,    101,    938,  55077,  17660,  56078,    118,  18601,  71083,\n",
            "           978,  77139, 110153,  60958,  11199,    938,  55631,  16755,    948,\n",
            "         40685,  15002, 111240,  82445,  22756,    118,    944,  24288,  15613,\n",
            "         17660,  56251,  15215,    948,  86885,    920,    102,      0,      0,\n",
            "             0,      0,      0,      0,      0,      0,      0,      0,      0,\n",
            "             0,      0,      0,      0,      0,      0,      0,      0,      0,\n",
            "             0,      0,      0,      0,      0,      0,      0,      0,      0,\n",
            "             0,      0], device='cuda:0')\n",
            "Attention Mask: tensor([1, 1, 1, 1, 1, 1, 1, 1, 1, 1, 1, 1, 1, 1, 1, 1, 1, 1, 1, 1, 1, 1, 1, 1,\n",
            "        1, 1, 1, 1, 1, 1, 1, 1, 1, 1, 1, 1, 1, 1, 1, 1, 1, 1, 1, 1, 1, 1, 1, 1,\n",
            "        1, 1, 1, 1, 1, 1, 1, 1, 1, 1, 1, 1, 1, 1, 1, 1, 1, 1, 1, 1, 1, 1, 1, 1,\n",
            "        1, 1, 1, 1, 1, 1, 1, 1, 1, 1, 1, 1, 1, 1, 1, 1, 1, 1, 1, 1, 1, 1, 1, 1,\n",
            "        1, 0, 0, 0, 0, 0, 0, 0, 0, 0, 0, 0, 0, 0, 0, 0, 0, 0, 0, 0, 0, 0, 0, 0,\n",
            "        0, 0, 0, 0, 0, 0, 0, 0], device='cuda:0')\n",
            "Labels: tensor(2, device='cuda:0')\n"
          ]
        }
      ]
    },
    {
      "cell_type": "markdown",
      "source": [
        "# **Test Dataset Encoding Printing**"
      ],
      "metadata": {
        "id": "0WOw8GpDYxfu"
      }
    },
    {
      "cell_type": "code",
      "source": [
        "# Set a flag to track whether it's the first batch\n",
        "first_batch = True\n",
        "\n",
        "for batch in test_loader:\n",
        "    # Move inputs and labels to the GPU\n",
        "    inputs = {key: value.to(device) for key, value in batch.items()}  # Using 'batch' directly\n",
        "\n",
        "    # Extract information for the first example in the batch\n",
        "    input_ids = inputs['input_ids'][0]\n",
        "    attention_mask = inputs['attention_mask'][0]\n",
        "    labels = inputs['label'][0]\n",
        "\n",
        "\n",
        "    # Print information\n",
        "    print(\"Input IDs:\", input_ids)\n",
        "    print(\"Attention Mask:\", attention_mask)\n",
        "    print(\"Labels:\", labels)\n",
        "\n",
        "\n",
        "    # Break out of the loop after processing the first batch\n",
        "    break\n"
      ],
      "metadata": {
        "colab": {
          "base_uri": "https://localhost:8080/"
        },
        "id": "wq5TW7iYYZLV",
        "outputId": "ba18a49b-457e-4412-cb7d-91bf86e36632"
      },
      "execution_count": 27,
      "outputs": [
        {
          "output_type": "stream",
          "name": "stdout",
          "text": [
            "Input IDs: tensor([   101,    938,  15258,  28799,    117,    938,  37376, 109477,  70295,\n",
            "         14112,    970,  12235,  34070,  24758,    953,  39994,  72659,  18262,\n",
            "           948,  82742,  40349,    117,  35003,    938,  37376,    944,  13542,\n",
            "           979,  19668,  22875,  23866,  99770,  50537,  58354,  24288,    117,\n",
            "         63435,  34491,    938,  37376, 106681,  16869,  52082,  72088,    970,\n",
            "         13458,  15613,  33151,  13334,  50537,  58354,    102,      0,      0,\n",
            "             0,      0,      0,      0,      0,      0,      0,      0,      0,\n",
            "             0,    101,    938,  37376,  16869,  22904, 106681,  72088,    970,\n",
            "         55384,  40349,    920,    102,      0,      0,      0,      0,      0,\n",
            "             0,      0,      0,      0,      0,      0,      0,      0,      0,\n",
            "             0,      0,      0,      0,      0,      0,      0,      0,      0,\n",
            "             0,      0,      0,      0,      0,      0,      0,      0,      0,\n",
            "             0,      0,      0,      0,      0,      0,      0,      0,      0,\n",
            "             0,      0,      0,      0,      0,      0,      0,      0,      0,\n",
            "             0,      0], device='cuda:0')\n",
            "Attention Mask: tensor([1, 1, 1, 1, 1, 1, 1, 1, 1, 1, 1, 1, 1, 1, 1, 1, 1, 1, 1, 1, 1, 1, 1, 1,\n",
            "        1, 1, 1, 1, 1, 1, 1, 1, 1, 1, 1, 1, 1, 1, 1, 1, 1, 1, 1, 1, 1, 1, 1, 1,\n",
            "        1, 1, 1, 1, 0, 0, 0, 0, 0, 0, 0, 0, 0, 0, 0, 0, 1, 1, 1, 1, 1, 1, 1, 1,\n",
            "        1, 1, 1, 1, 0, 0, 0, 0, 0, 0, 0, 0, 0, 0, 0, 0, 0, 0, 0, 0, 0, 0, 0, 0,\n",
            "        0, 0, 0, 0, 0, 0, 0, 0, 0, 0, 0, 0, 0, 0, 0, 0, 0, 0, 0, 0, 0, 0, 0, 0,\n",
            "        0, 0, 0, 0, 0, 0, 0, 0], device='cuda:0')\n",
            "Labels: tensor(0, device='cuda:0')\n"
          ]
        }
      ]
    },
    {
      "cell_type": "markdown",
      "source": [
        "# **Validation Dataset Encoding Printing**"
      ],
      "metadata": {
        "id": "CMKWxh1cY1VY"
      }
    },
    {
      "cell_type": "code",
      "source": [
        "# Set a flag to track whether it's the first batch\n",
        "first_batch = True\n",
        "\n",
        "for batch in val_loader:\n",
        "    # Move inputs and labels to the GPU\n",
        "    inputs = {key: value.to(device) for key, value in batch.items()}  # Using 'batch' directly\n",
        "\n",
        "    # Extract information for the first example in the batch\n",
        "    input_ids = inputs['input_ids'][0]\n",
        "    attention_mask = inputs['attention_mask'][0]\n",
        "    labels = inputs['label'][0]\n",
        "\n",
        "\n",
        "    # Print information\n",
        "    print(\"Input IDs:\", input_ids)\n",
        "    print(\"Attention Mask:\", attention_mask)\n",
        "    print(\"Labels:\", labels)\n",
        "\n",
        "\n",
        "    # Break out of the loop after processing the first batch\n",
        "    break\n"
      ],
      "metadata": {
        "colab": {
          "base_uri": "https://localhost:8080/"
        },
        "id": "2IoCxG4aYZP8",
        "outputId": "f935ace2-7d72-4df3-e982-f4944e5f150a"
      },
      "execution_count": 28,
      "outputs": [
        {
          "output_type": "stream",
          "name": "stdout",
          "text": [
            "Input IDs: tensor([   101,  46085,  58417,    970,  13458, 105864,    117,  18601,    117,\n",
            "           938,  37376,  17660,  60164,    920,    102,      0,      0,      0,\n",
            "             0,      0,      0,      0,      0,      0,      0,      0,      0,\n",
            "             0,      0,      0,      0,      0,      0,      0,      0,      0,\n",
            "             0,      0,      0,      0,      0,      0,      0,      0,      0,\n",
            "             0,      0,      0,      0,      0,      0,      0,      0,      0,\n",
            "             0,      0,      0,      0,      0,      0,      0,      0,      0,\n",
            "             0,    101, 108342,  11421,  17660,  15258,  51003,  35059,  37422,\n",
            "         91599,  11128,  52082,  52082,  14192,  16869,  18601,  18243,    969,\n",
            "         82825,  62285,    920,    102,      0,      0,      0,      0,      0,\n",
            "             0,      0,      0,      0,      0,      0,      0,      0,      0,\n",
            "             0,      0,      0,      0,      0,      0,      0,      0,      0,\n",
            "             0,      0,      0,      0,      0,      0,      0,      0,      0,\n",
            "             0,      0,      0,      0,      0,      0,      0,      0,      0,\n",
            "             0,      0], device='cuda:0')\n",
            "Attention Mask: tensor([1, 1, 1, 1, 1, 1, 1, 1, 1, 1, 1, 1, 1, 1, 1, 0, 0, 0, 0, 0, 0, 0, 0, 0,\n",
            "        0, 0, 0, 0, 0, 0, 0, 0, 0, 0, 0, 0, 0, 0, 0, 0, 0, 0, 0, 0, 0, 0, 0, 0,\n",
            "        0, 0, 0, 0, 0, 0, 0, 0, 0, 0, 0, 0, 0, 0, 0, 0, 1, 1, 1, 1, 1, 1, 1, 1,\n",
            "        1, 1, 1, 1, 1, 1, 1, 1, 1, 1, 1, 1, 1, 0, 0, 0, 0, 0, 0, 0, 0, 0, 0, 0,\n",
            "        0, 0, 0, 0, 0, 0, 0, 0, 0, 0, 0, 0, 0, 0, 0, 0, 0, 0, 0, 0, 0, 0, 0, 0,\n",
            "        0, 0, 0, 0, 0, 0, 0, 0], device='cuda:0')\n",
            "Labels: tensor(2, device='cuda:0')\n"
          ]
        }
      ]
    },
    {
      "cell_type": "markdown",
      "source": [
        "# **Train Dataset Decoding Printing**"
      ],
      "metadata": {
        "id": "xya2GAiZY7Dc"
      }
    },
    {
      "cell_type": "code",
      "source": [
        "# Set a flag to track whether it's the first batch\n",
        "first_batch = True\n",
        "\n",
        "for batch in train_loader:\n",
        "    # Move inputs and labels to the GPU\n",
        "    inputs = {key: value.to(device) for key, value in batch.items()}\n",
        "\n",
        "    # Extract information for the first example in the batch\n",
        "    input_ids = inputs['input_ids'][0]\n",
        "    attention_mask = inputs['attention_mask'][0]\n",
        "    labels = inputs['label'][0]\n",
        "\n",
        "\n",
        "    # Check for problematic token IDs causing overflow error during decoding\n",
        "    problematic_ids = torch.nonzero((input_ids < 0) | (input_ids >= tokenizer.vocab_size))\n",
        "    if problematic_ids.numel() > 0:\n",
        "        print(\"Problematic Token IDs:\", input_ids[problematic_ids])\n",
        "        print(\"Problematic Token Positions:\", problematic_ids)\n",
        "        # Handle the problematic input IDs as needed\n",
        "        raise ValueError(\"Problematic token IDs detected\")\n",
        "\n",
        "    # Decode and print input text\n",
        "    decoded_input_text = tokenizer.decode(input_ids.clamp(0, tokenizer.vocab_size - 1), skip_special_tokens=True)\n",
        "    print(\"Decoded Input Text:\", decoded_input_text)\n",
        "    print(\"Attention Mask:\", attention_mask)\n",
        "\n",
        "    # Decode and print labels\n",
        "    decoded_labels = tokenizer.decode(labels.clamp(0, tokenizer.vocab_size - 1), skip_special_tokens=True)\n",
        "    print(\"Labels:\", decoded_labels)\n",
        "\n",
        "\n",
        "\n",
        "    # Break out of the loop after processing the first batch\n",
        "    break\n"
      ],
      "metadata": {
        "colab": {
          "base_uri": "https://localhost:8080/"
        },
        "id": "TFw3haCPYZT0",
        "outputId": "b3c58789-f7e9-4211-a70d-b8cdd9571815"
      },
      "execution_count": 29,
      "outputs": [
        {
          "output_type": "stream",
          "name": "stdout",
          "text": [
            "Decoded Input Text: টমি তার দিকে তাকিয়েই থাকলো । টমি তার দিকে তাকিয়ে থাকলো ।\n",
            "Attention Mask: tensor([1, 1, 1, 1, 1, 1, 1, 1, 1, 1, 1, 1, 1, 1, 0, 0, 0, 0, 0, 0, 0, 0, 0, 0,\n",
            "        0, 0, 0, 0, 0, 0, 0, 0, 0, 0, 0, 0, 0, 0, 0, 0, 0, 0, 0, 0, 0, 0, 0, 0,\n",
            "        0, 0, 0, 0, 0, 0, 0, 0, 0, 0, 0, 0, 0, 0, 0, 0, 1, 1, 1, 1, 1, 1, 1, 1,\n",
            "        1, 1, 1, 1, 1, 0, 0, 0, 0, 0, 0, 0, 0, 0, 0, 0, 0, 0, 0, 0, 0, 0, 0, 0,\n",
            "        0, 0, 0, 0, 0, 0, 0, 0, 0, 0, 0, 0, 0, 0, 0, 0, 0, 0, 0, 0, 0, 0, 0, 0,\n",
            "        0, 0, 0, 0, 0, 0, 0, 0], device='cuda:0')\n",
            "Labels: [ u n u s e d 1 ]\n"
          ]
        }
      ]
    },
    {
      "cell_type": "markdown",
      "source": [
        "# **Test Dataset Decoding Printing**"
      ],
      "metadata": {
        "id": "OaFuSRr4Y8zq"
      }
    },
    {
      "cell_type": "code",
      "source": [
        "# Set a flag to track whether it's the first batch\n",
        "first_batch = True\n",
        "\n",
        "for batch in test_loader:\n",
        "    # Move inputs and labels to the GPU\n",
        "    inputs = {key: value.to(device) for key, value in batch.items()}\n",
        "\n",
        "    # Extract information for the first example in the batch\n",
        "    input_ids = inputs['input_ids'][0]\n",
        "    attention_mask = inputs['attention_mask'][0]\n",
        "    labels = inputs['label'][0]\n",
        "\n",
        "\n",
        "    # Check for problematic token IDs causing overflow error during decoding\n",
        "    problematic_ids = torch.nonzero((input_ids < 0) | (input_ids >= tokenizer.vocab_size))\n",
        "    if problematic_ids.numel() > 0:\n",
        "        print(\"Problematic Token IDs:\", input_ids[problematic_ids])\n",
        "        print(\"Problematic Token Positions:\", problematic_ids)\n",
        "        # Handle the problematic input IDs as needed\n",
        "        raise ValueError(\"Problematic token IDs detected\")\n",
        "\n",
        "    # Decode and print input text\n",
        "    decoded_input_text = tokenizer.decode(input_ids.clamp(0, tokenizer.vocab_size - 1), skip_special_tokens=True)\n",
        "    print(\"Decoded Input Text:\", decoded_input_text)\n",
        "    print(\"Attention Mask:\", attention_mask)\n",
        "\n",
        "    # Decode and print labels\n",
        "    decoded_labels = tokenizer.decode(labels.clamp(0, tokenizer.vocab_size - 1), skip_special_tokens=True)\n",
        "    print(\"Labels:\", decoded_labels)\n",
        "\n",
        "\n",
        "\n",
        "    # Break out of the loop after processing the first batch\n",
        "    break\n"
      ],
      "metadata": {
        "colab": {
          "base_uri": "https://localhost:8080/"
        },
        "id": "qHWs5hbMYjoR",
        "outputId": "2d63afe2-4e99-4249-e834-2eece4c420df"
      },
      "execution_count": 30,
      "outputs": [
        {
          "output_type": "stream",
          "name": "stdout",
          "text": [
            "Decoded Input Text: আসলে, আমি এমনকি এই বিষয়ে চিন্তাও করিনি, কিন্তু আমি এত হতাশ হয়ে পড়েছিলাম যে, শেষ পর্যন্ত আমি আবার তার সঙ্গে কথা বলতে শুরু করেছিলাম আমি তার সাথে আবার কথা বলিনি ।\n",
            "Attention Mask: tensor([1, 1, 1, 1, 1, 1, 1, 1, 1, 1, 1, 1, 1, 1, 1, 1, 1, 1, 1, 1, 1, 1, 1, 1,\n",
            "        1, 1, 1, 1, 1, 1, 1, 1, 1, 1, 1, 1, 1, 1, 1, 1, 1, 1, 1, 1, 1, 1, 1, 1,\n",
            "        1, 1, 1, 1, 0, 0, 0, 0, 0, 0, 0, 0, 0, 0, 0, 0, 1, 1, 1, 1, 1, 1, 1, 1,\n",
            "        1, 1, 1, 1, 0, 0, 0, 0, 0, 0, 0, 0, 0, 0, 0, 0, 0, 0, 0, 0, 0, 0, 0, 0,\n",
            "        0, 0, 0, 0, 0, 0, 0, 0, 0, 0, 0, 0, 0, 0, 0, 0, 0, 0, 0, 0, 0, 0, 0, 0,\n",
            "        0, 0, 0, 0, 0, 0, 0, 0], device='cuda:0')\n",
            "Labels: [ P A D ]\n"
          ]
        }
      ]
    },
    {
      "cell_type": "markdown",
      "source": [
        "# **Validation Dataset Decoding Printing**"
      ],
      "metadata": {
        "id": "WLjTMnmHZBY8"
      }
    },
    {
      "cell_type": "code",
      "source": [
        "# Set a flag to track whether it's the first batch\n",
        "first_batch = True\n",
        "\n",
        "for batch in val_loader:\n",
        "    # Move inputs and labels to the GPU\n",
        "    inputs = {key: value.to(device) for key, value in batch.items()}\n",
        "\n",
        "    # Extract information for the first example in the batch\n",
        "    input_ids = inputs['input_ids'][0]\n",
        "    attention_mask = inputs['attention_mask'][0]\n",
        "    labels = inputs['label'][0]\n",
        "\n",
        "\n",
        "    # Check for problematic token IDs causing overflow error during decoding\n",
        "    problematic_ids = torch.nonzero((input_ids < 0) | (input_ids >= tokenizer.vocab_size))\n",
        "    if problematic_ids.numel() > 0:\n",
        "        print(\"Problematic Token IDs:\", input_ids[problematic_ids])\n",
        "        print(\"Problematic Token Positions:\", problematic_ids)\n",
        "        # Handle the problematic input IDs as needed\n",
        "        raise ValueError(\"Problematic token IDs detected\")\n",
        "\n",
        "    # Decode and print input text\n",
        "    decoded_input_text = tokenizer.decode(input_ids.clamp(0, tokenizer.vocab_size - 1), skip_special_tokens=True)\n",
        "    print(\"Decoded Input Text:\", decoded_input_text)\n",
        "    print(\"Attention Mask:\", attention_mask)\n",
        "\n",
        "    # Decode and print labels\n",
        "    decoded_labels = tokenizer.decode(labels.clamp(0, tokenizer.vocab_size - 1), skip_special_tokens=True)\n",
        "    print(\"Labels:\", decoded_labels)\n",
        "\n",
        "\n",
        "\n",
        "    # Break out of the loop after processing the first batch\n",
        "    break\n"
      ],
      "metadata": {
        "colab": {
          "base_uri": "https://localhost:8080/"
        },
        "id": "6erEF_UnYm2S",
        "outputId": "c9c201ae-943a-446b-9d7d-e0e043b63f48"
      },
      "execution_count": 31,
      "outputs": [
        {
          "output_type": "stream",
          "name": "stdout",
          "text": [
            "Decoded Input Text: আর সে বললো, মা, আমি বাড়ি । স্কুলের বাস তাকে নামিয়ে দেওয়ার সঙ্গে সঙ্গে তিনি তার মাকে ফোন করেছিলেন ।\n",
            "Attention Mask: tensor([1, 1, 1, 1, 1, 1, 1, 1, 1, 1, 1, 1, 1, 1, 1, 0, 0, 0, 0, 0, 0, 0, 0, 0,\n",
            "        0, 0, 0, 0, 0, 0, 0, 0, 0, 0, 0, 0, 0, 0, 0, 0, 0, 0, 0, 0, 0, 0, 0, 0,\n",
            "        0, 0, 0, 0, 0, 0, 0, 0, 0, 0, 0, 0, 0, 0, 0, 0, 1, 1, 1, 1, 1, 1, 1, 1,\n",
            "        1, 1, 1, 1, 1, 1, 1, 1, 1, 1, 1, 1, 1, 0, 0, 0, 0, 0, 0, 0, 0, 0, 0, 0,\n",
            "        0, 0, 0, 0, 0, 0, 0, 0, 0, 0, 0, 0, 0, 0, 0, 0, 0, 0, 0, 0, 0, 0, 0, 0,\n",
            "        0, 0, 0, 0, 0, 0, 0, 0], device='cuda:0')\n",
            "Labels: [ u n u s e d 2 ]\n"
          ]
        }
      ]
    },
    {
      "cell_type": "markdown",
      "source": [
        "# **Optimizer and Loss Function**"
      ],
      "metadata": {
        "id": "uKfX8TKTagym"
      }
    },
    {
      "cell_type": "code",
      "source": [
        "# Define optimizer and loss function\n",
        "optimizer = torch.optim.AdamW(model.parameters(), lr=2e-5)\n",
        "criterion = torch.nn.CrossEntropyLoss()"
      ],
      "metadata": {
        "id": "IzJPPnvEZEDg"
      },
      "execution_count": 32,
      "outputs": []
    },
    {
      "cell_type": "markdown",
      "source": [
        "# **Training the model**"
      ],
      "metadata": {
        "id": "nIciuBBecEJs"
      }
    },
    {
      "cell_type": "code",
      "source": [
        "# Training loop\n",
        "num_epochs = 5\n",
        "gradient_accumulation_steps = 4  # Accumulate gradients over 4 steps\n",
        "\n",
        "for epoch in range(num_epochs):\n",
        "    start_time = time.time()  # Start time of the epoch\n",
        "    model.train()\n",
        "    total_loss = 0\n",
        "    optimizer.zero_grad()\n",
        "\n",
        "    # Wrap train_loader with tqdm for progress bar\n",
        "    for batch_idx, batch in enumerate(tqdm(train_loader, desc=f'Epoch {epoch + 1}/{num_epochs}', leave=False)):\n",
        "        input_ids = batch['input_ids'].to(device)\n",
        "        attention_mask = batch['attention_mask'].to(device)\n",
        "        labels = batch['label'].to(device)\n",
        "\n",
        "        outputs = model(input_ids=input_ids, attention_mask=attention_mask)\n",
        "        logits = outputs.logits  # Logits directly from the model output\n",
        "\n",
        "        loss = criterion(logits, labels)\n",
        "        total_loss += loss.item()\n",
        "\n",
        "        loss = loss / gradient_accumulation_steps\n",
        "        loss.backward()\n",
        "\n",
        "        if (batch_idx + 1) % gradient_accumulation_steps == 0:\n",
        "            optimizer.step()\n",
        "            optimizer.zero_grad()\n",
        "\n",
        "    avg_train_loss = total_loss / len(train_loader)\n",
        "    print(f'Epoch {epoch + 1}/{num_epochs} - Average training loss: {avg_train_loss:.4f}')\n",
        "\n",
        "    # Validation\n",
        "    model.eval()\n",
        "    val_preds = []\n",
        "    val_labels = []\n",
        "\n",
        "    # Wrap val_loader with tqdm for progress bar\n",
        "    for batch in tqdm(val_loader, desc=f'Validation', leave=False):\n",
        "        input_ids = batch['input_ids'].to(device)\n",
        "        attention_mask = batch['attention_mask'].to(device)\n",
        "        labels = batch['label'].to(device)\n",
        "\n",
        "        outputs = model(input_ids=input_ids, attention_mask=attention_mask)\n",
        "        logits = outputs.logits  # Logits directly from the model output\n",
        "\n",
        "        _, predicted = torch.max(logits, 1)\n",
        "\n",
        "        val_preds.extend(predicted.cpu().numpy())\n",
        "        val_labels.extend(labels.cpu().numpy())\n",
        "\n",
        "    val_accuracy = accuracy_score(val_labels, val_preds)\n",
        "    print(f'Epoch {epoch + 1}/{num_epochs} - Validation Accuracy: {val_accuracy:.4f}')\n",
        "\n",
        "    # Calculate and print epoch training time\n",
        "    epoch_time = time.time() - start_time\n",
        "    print(f\"Epoch {epoch + 1} completed in {epoch_time // 60:.0f}m {epoch_time % 60:.0f}s\")"
      ],
      "metadata": {
        "colab": {
          "base_uri": "https://localhost:8080/"
        },
        "id": "D6EHO17FZEGq",
        "outputId": "d330bcae-d202-424a-86f8-2f5d862656f1"
      },
      "execution_count": 63,
      "outputs": [
        {
          "output_type": "stream",
          "name": "stderr",
          "text": []
        },
        {
          "output_type": "stream",
          "name": "stdout",
          "text": [
            "Epoch 1/5 - Average training loss: 0.8686\n"
          ]
        },
        {
          "output_type": "stream",
          "name": "stderr",
          "text": []
        },
        {
          "output_type": "stream",
          "name": "stdout",
          "text": [
            "Epoch 1/5 - Validation Accuracy: 0.6044\n",
            "Epoch 1 completed in 5m 52s\n"
          ]
        },
        {
          "output_type": "stream",
          "name": "stderr",
          "text": []
        },
        {
          "output_type": "stream",
          "name": "stdout",
          "text": [
            "Epoch 2/5 - Average training loss: 0.7579\n"
          ]
        },
        {
          "output_type": "stream",
          "name": "stderr",
          "text": []
        },
        {
          "output_type": "stream",
          "name": "stdout",
          "text": [
            "Epoch 2/5 - Validation Accuracy: 0.6147\n",
            "Epoch 2 completed in 5m 52s\n"
          ]
        },
        {
          "output_type": "stream",
          "name": "stderr",
          "text": []
        },
        {
          "output_type": "stream",
          "name": "stdout",
          "text": [
            "Epoch 3/5 - Average training loss: 0.6349\n"
          ]
        },
        {
          "output_type": "stream",
          "name": "stderr",
          "text": []
        },
        {
          "output_type": "stream",
          "name": "stdout",
          "text": [
            "Epoch 3/5 - Validation Accuracy: 0.6040\n",
            "Epoch 3 completed in 5m 52s\n"
          ]
        },
        {
          "output_type": "stream",
          "name": "stderr",
          "text": []
        },
        {
          "output_type": "stream",
          "name": "stdout",
          "text": [
            "Epoch 4/5 - Average training loss: 0.5037\n"
          ]
        },
        {
          "output_type": "stream",
          "name": "stderr",
          "text": []
        },
        {
          "output_type": "stream",
          "name": "stdout",
          "text": [
            "Epoch 4/5 - Validation Accuracy: 0.6230\n",
            "Epoch 4 completed in 5m 51s\n"
          ]
        },
        {
          "output_type": "stream",
          "name": "stderr",
          "text": []
        },
        {
          "output_type": "stream",
          "name": "stdout",
          "text": [
            "Epoch 5/5 - Average training loss: 0.3816\n"
          ]
        },
        {
          "output_type": "stream",
          "name": "stderr",
          "text": [
            "                                                             "
          ]
        },
        {
          "output_type": "stream",
          "name": "stdout",
          "text": [
            "Epoch 5/5 - Validation Accuracy: 0.6213\n",
            "Epoch 5 completed in 5m 51s\n"
          ]
        },
        {
          "output_type": "stream",
          "name": "stderr",
          "text": [
            "\r"
          ]
        }
      ]
    },
    {
      "cell_type": "markdown",
      "source": [
        "# **Testing the model**"
      ],
      "metadata": {
        "id": "lMAZ3gxRcHln"
      }
    },
    {
      "cell_type": "code",
      "source": [
        "test_preds = []\n",
        "test_labels = []\n",
        "test_probs = []  # Store predicted probabilities\n",
        "\n",
        "with torch.no_grad():\n",
        "    for batch in tqdm(test_loader, desc='Testing'):\n",
        "        input_ids = batch['input_ids'].to(device)\n",
        "        attention_mask = batch['attention_mask'].to(device)\n",
        "        labels = batch['label'].to(device)\n",
        "\n",
        "        outputs = model(input_ids=input_ids, attention_mask=attention_mask)\n",
        "\n",
        "        # Assuming our model directly outputs logits\n",
        "        probabilities = torch.softmax(outputs.logits, dim=1)  # Softmax to get probabilities\n",
        "        _, predicted = torch.max(outputs.logits, 1)\n",
        "\n",
        "        test_preds.extend(predicted.cpu().numpy())\n",
        "        test_labels.extend(labels.cpu().numpy())\n",
        "        test_probs.extend(probabilities.cpu().numpy())  # Append predicted probabilities\n",
        "\n",
        "test_accuracy = accuracy_score(test_labels, test_preds)\n",
        "test_precision = precision_score(test_labels, test_preds, average='macro')\n",
        "test_recall = recall_score(test_labels, test_preds, average='macro')\n",
        "test_f1 = f1_score(test_labels, test_preds, average='macro')\n",
        "test_jaccard_score = jaccard_score(test_labels, test_preds, average='macro')\n",
        "test_log_loss = log_loss(test_labels, test_probs)\n"
      ],
      "metadata": {
        "colab": {
          "base_uri": "https://localhost:8080/"
        },
        "id": "fo5cj9stZJFB",
        "outputId": "f04882a3-f82a-4ee6-96a1-8a9c0610aa67"
      },
      "execution_count": 65,
      "outputs": [
        {
          "output_type": "stream",
          "name": "stderr",
          "text": [
            "Testing: 100%|██████████| 490/490 [00:40<00:00, 12.25it/s]\n"
          ]
        }
      ]
    },
    {
      "cell_type": "code",
      "source": [
        "print(test_preds)\n",
        "print(test_labels)"
      ],
      "metadata": {
        "colab": {
          "base_uri": "https://localhost:8080/"
        },
        "id": "HRqYwRUaXgXY",
        "outputId": "73301461-29ff-47bd-c75f-6f43e888a17c"
      },
      "execution_count": 66,
      "outputs": [
        {
          "output_type": "stream",
          "name": "stdout",
          "text": [
            "[1, 1, 2, 0, 2, 0, 0, 1, 2, 0, 0, 2, 0, 1, 2, 0, 2, 1, 0, 1, 2, 1, 0, 2, 0, 1, 1, 0, 0, 1, 2, 1, 0, 0, 0, 0, 2, 1, 0, 0, 0, 1, 0, 2, 2, 2, 2, 2, 1, 2, 2, 2, 2, 0, 1, 0, 2, 0, 2, 0, 2, 2, 2, 0, 1, 2, 0, 1, 2, 2, 0, 2, 0, 1, 1, 0, 0, 2, 2, 1, 1, 0, 2, 0, 2, 0, 0, 0, 2, 2, 2, 1, 2, 0, 2, 1, 0, 1, 0, 2, 0, 2, 0, 2, 0, 0, 0, 0, 1, 0, 0, 0, 0, 0, 2, 1, 0, 0, 1, 0, 1, 0, 0, 0, 0, 0, 0, 1, 0, 1, 2, 2, 0, 1, 2, 1, 0, 0, 2, 1, 0, 2, 2, 0, 1, 0, 0, 2, 2, 2, 2, 1, 0, 2, 1, 1, 0, 2, 0, 2, 2, 1, 1, 1, 0, 0, 0, 2, 1, 0, 0, 2, 2, 2, 2, 0, 0, 2, 0, 2, 0, 2, 2, 0, 2, 0, 1, 0, 0, 2, 1, 0, 2, 2, 1, 2, 1, 2, 1, 2, 0, 0, 1, 2, 0, 2, 0, 0, 2, 2, 2, 1, 1, 2, 0, 0, 1, 1, 0, 2, 2, 2, 2, 2, 0, 1, 0, 0, 1, 1, 1, 1, 0, 2, 0, 0, 2, 2, 2, 1, 0, 2, 1, 2, 2, 1, 0, 0, 2, 1, 2, 1, 0, 2, 2, 0, 1, 0, 0, 0, 2, 0, 0, 2, 1, 2, 0, 1, 1, 0, 0, 0, 2, 0, 2, 2, 2, 2, 2, 2, 0, 0, 1, 0, 1, 1, 0, 1, 1, 0, 1, 0, 0, 2, 0, 2, 2, 0, 0, 2, 1, 0, 0, 0, 0, 0, 1, 2, 2, 2, 2, 0, 0, 0, 1, 2, 1, 0, 1, 0, 2, 0, 2, 1, 0, 0, 0, 0, 1, 1, 2, 0, 0, 0, 2, 0, 0, 1, 2, 1, 0, 2, 0, 1, 1, 0, 0, 0, 0, 2, 2, 2, 2, 2, 1, 0, 2, 1, 2, 2, 2, 0, 0, 0, 2, 2, 0, 0, 0, 1, 2, 0, 2, 0, 2, 1, 0, 2, 1, 2, 2, 2, 2, 2, 0, 0, 2, 1, 0, 0, 2, 1, 1, 2, 0, 0, 0, 2, 1, 2, 0, 0, 0, 0, 0, 0, 2, 2, 2, 1, 0, 2, 0, 2, 1, 0, 2, 0, 0, 0, 0, 0, 2, 0, 0, 0, 1, 2, 1, 2, 0, 2, 2, 2, 0, 0, 0, 0, 2, 0, 1, 0, 2, 2, 2, 2, 2, 1, 2, 1, 0, 1, 0, 0, 1, 2, 0, 2, 1, 1, 2, 0, 0, 0, 2, 1, 0, 0, 1, 1, 0, 2, 0, 2, 2, 1, 1, 0, 1, 2, 0, 2, 2, 2, 1, 2, 0, 2, 2, 0, 1, 2, 0, 0, 0, 2, 1, 0, 1, 0, 0, 0, 0, 0, 1, 2, 0, 1, 0, 2, 0, 2, 2, 2, 0, 2, 0, 0, 1, 2, 0, 0, 0, 2, 2, 1, 2, 1, 2, 1, 1, 2, 1, 1, 2, 0, 1, 0, 2, 1, 1, 0, 0, 0, 2, 2, 2, 0, 1, 1, 1, 2, 0, 0, 2, 0, 2, 2, 0, 2, 0, 2, 1, 1, 1, 0, 1, 1, 2, 0, 2, 2, 1, 2, 1, 2, 1, 2, 1, 0, 2, 1, 2, 0, 2, 0, 0, 2, 2, 1, 2, 0, 1, 2, 0, 1, 1, 2, 1, 0, 2, 2, 1, 1, 0, 2, 2, 1, 0, 1, 0, 2, 2, 1, 0, 0, 2, 1, 1, 2, 2, 0, 1, 0, 0, 1, 2, 0, 2, 0, 0, 2, 2, 0, 0, 0, 2, 1, 0, 2, 0, 0, 0, 1, 0, 2, 2, 2, 2, 0, 1, 2, 1, 0, 0, 2, 2, 1, 2, 0, 0, 2, 1, 0, 0, 0, 2, 1, 2, 2, 1, 0, 0, 2, 2, 1, 2, 1, 0, 2, 0, 0, 1, 0, 1, 0, 0, 2, 0, 0, 1, 0, 2, 1, 1, 2, 2, 2, 0, 1, 1, 0, 2, 0, 2, 0, 2, 0, 2, 1, 2, 2, 1, 2, 0, 0, 1, 1, 2, 2, 2, 2, 1, 2, 2, 2, 2, 0, 0, 1, 0, 0, 0, 0, 2, 0, 0, 1, 1, 1, 1, 0, 2, 2, 0, 2, 1, 1, 2, 0, 1, 2, 2, 1, 0, 1, 0, 2, 1, 2, 2, 2, 2, 2, 2, 0, 1, 0, 2, 1, 0, 2, 0, 0, 1, 2, 1, 2, 2, 0, 1, 0, 2, 0, 1, 2, 0, 1, 2, 2, 2, 0, 1, 2, 2, 1, 1, 2, 2, 2, 1, 2, 0, 1, 1, 2, 1, 0, 1, 1, 0, 0, 1, 0, 2, 0, 1, 1, 2, 0, 1, 1, 0, 1, 1, 1, 2, 1, 1, 0, 0, 1, 1, 2, 0, 2, 2, 0, 1, 0, 0, 2, 2, 2, 1, 0, 2, 2, 1, 0, 2, 2, 1, 1, 1, 2, 2, 2, 0, 1, 0, 0, 0, 0, 0, 2, 1, 2, 0, 1, 2, 2, 1, 2, 0, 2, 1, 0, 2, 2, 1, 2, 0, 2, 0, 1, 1, 0, 0, 1, 1, 0, 0, 2, 0, 2, 1, 0, 2, 1, 2, 0, 1, 0, 1, 2, 2, 1, 2, 2, 1, 0, 1, 0, 0, 2, 1, 2, 2, 1, 0, 2, 0, 0, 2, 2, 0, 0, 1, 0, 0, 0, 1, 0, 1, 2, 0, 1, 2, 0, 0, 0, 0, 0, 2, 2, 0, 2, 0, 2, 2, 0, 0, 0, 0, 2, 2, 2, 2, 0, 0, 2, 1, 0, 0, 0, 1, 2, 1, 0, 0, 0, 2, 0, 0, 1, 0, 0, 1, 0, 2, 2, 2, 0, 0, 1, 2, 2, 1, 2, 2, 1, 0, 1, 0, 0, 0, 2, 2, 0, 2, 0, 0, 2, 2, 2, 1, 2, 1, 1, 2, 2, 1, 2, 0, 2, 2, 2, 1, 2, 2, 2, 0, 1, 0, 2, 2, 2, 2, 0, 2, 2, 0, 0, 2, 1, 2, 2, 0, 2, 2, 1, 1, 0, 0, 1, 2, 0, 2, 2, 2, 0, 2, 0, 1, 0, 0, 2, 1, 2, 2, 2, 0, 0, 0, 0, 0, 2, 0, 1, 0, 2, 0, 2, 1, 1, 2, 2, 2, 2, 0, 0, 2, 0, 2, 2, 2, 0, 2, 2, 1, 0, 0, 1, 2, 1, 2, 2, 2, 1, 0, 1, 2, 2, 1, 0, 0, 1, 1, 0, 2, 1, 2, 2, 2, 2, 2, 0, 2, 1, 1, 2, 0, 0, 0, 0, 0, 1, 2, 2, 1, 2, 2, 1, 0, 0, 0, 1, 2, 2, 2, 2, 0, 2, 2, 1, 1, 2, 2, 0, 1, 2, 0, 0, 1, 0, 0, 1, 2, 1, 0, 2, 0, 2, 1, 0, 2, 2, 0, 0, 1, 1, 0, 0, 2, 0, 0, 1, 1, 0, 1, 2, 0, 0, 1, 2, 1, 1, 1, 0, 2, 2, 0, 1, 2, 1, 2, 2, 2, 0, 0, 0, 1, 1, 0, 1, 1, 2, 2, 2, 1, 0, 2, 2, 2, 0, 1, 2, 0, 0, 1, 0, 1, 0, 1, 2, 0, 1, 0, 1, 0, 1, 2, 1, 1, 2, 2, 0, 2, 0, 1, 1, 1, 0, 0, 2, 2, 2, 1, 2, 0, 0, 1, 0, 1, 2, 1, 0, 2, 2, 0, 0, 0, 0, 1, 1, 0, 1, 2, 2, 1, 2, 2, 2, 0, 0, 1, 0, 1, 1, 0, 1, 2, 1, 2, 1, 2, 1, 2, 2, 2, 0, 2, 2, 2, 0, 1, 2, 0, 1, 2, 2, 1, 0, 2, 2, 2, 2, 0, 2, 0, 0, 0, 1, 1, 2, 2, 2, 1, 1, 1, 1, 2, 2, 1, 0, 0, 0, 1, 2, 2, 0, 1, 0, 2, 2, 2, 0, 0, 2, 0, 2, 0, 2, 2, 1, 1, 1, 0, 0, 1, 1, 0, 0, 2, 0, 1, 2, 1, 0, 0, 2, 1, 0, 2, 1, 0, 2, 2, 0, 1, 0, 1, 0, 0, 1, 1, 1, 2, 1, 0, 2, 2, 0, 0, 1, 1, 0, 1, 0, 0, 0, 0, 0, 1, 0, 1, 1, 0, 1, 1, 2, 1, 0, 2, 1, 0, 0, 1, 1, 0, 1, 2, 0, 0, 0, 1, 2, 0, 2, 2, 1, 0, 2, 1, 1, 2, 0, 2, 1, 2, 0, 0, 0, 2, 2, 0, 2, 2, 0, 2, 1, 0, 2, 2, 0, 1, 1, 1, 2, 0, 1, 2, 0, 1, 1, 2, 2, 2, 1, 1, 1, 2, 1, 2, 2, 1, 0, 2, 2, 2, 1, 1, 1, 0, 1, 2, 2, 1, 2, 1, 0, 2, 2, 1, 2, 2, 2, 0, 0, 1, 2, 0, 0, 2, 1, 2, 2, 0, 1, 1, 2, 2, 2, 2, 1, 0, 0, 1, 2, 2, 2, 2, 2, 0, 2, 2, 2, 2, 0, 2, 1, 2, 2, 0, 2, 2, 0, 0, 2, 0, 2, 2, 2, 2, 2, 1, 2, 2, 0, 2, 0, 2, 0, 1, 1, 1, 1, 1, 0, 2, 2, 1, 1, 2, 1, 1, 0, 2, 2, 0, 0, 0, 0, 2, 1, 1, 0, 2, 0, 2, 0, 2, 1, 0, 1, 0, 1, 2, 1, 1, 1, 2, 0, 1, 2, 0, 2, 1, 2, 0, 1, 0, 0, 0, 0, 2, 1, 0, 0, 2, 2, 0, 2, 2, 0, 0, 1, 1, 2, 2, 0, 0, 1, 2, 0, 2, 1, 0, 0, 2, 2, 1, 2, 1, 2, 0, 2, 2, 1, 2, 0, 2, 1, 1, 2, 0, 1, 2, 2, 0, 2, 2, 0, 2, 0, 0, 2, 1, 2, 2, 0, 1, 2, 2, 2, 2, 2, 2, 2, 1, 1, 2, 2, 1, 2, 0, 2, 2, 2, 1, 0, 2, 1, 0, 0, 0, 2, 1, 0, 2, 0, 1, 1, 0, 0, 2, 2, 2, 2, 2, 2, 2, 0, 0, 0, 2, 1, 0, 2, 2, 0, 0, 1, 2, 1, 1, 2, 2, 2, 2, 2, 2, 1, 0, 1, 2, 0, 2, 1, 0, 1, 2, 0, 0, 1, 0, 0, 2, 0, 2, 1, 0, 2, 1, 0, 2, 1, 1, 2, 2, 0, 0, 2, 1, 2, 1, 2, 2, 0, 1, 2, 0, 2, 1, 1, 0, 0, 2, 2, 0, 2, 0, 1, 1, 0, 1, 2, 1, 0, 2, 0, 2, 1, 0, 1, 1, 1, 2, 0, 1, 1, 1, 1, 2, 0, 2, 0, 1, 2, 0, 1, 0, 2, 1, 1, 2, 1, 0, 1, 2, 2, 0, 1, 0, 2, 0, 2, 1, 0, 1, 1, 0, 0, 2, 2, 2, 0, 0, 0, 0, 2, 1, 0, 2, 0, 2, 0, 2, 1, 1, 0, 0, 0, 2, 0, 2, 2, 2, 1, 0, 2, 2, 0, 1, 1, 2, 2, 2, 2, 2, 2, 2, 0, 0, 2, 2, 2, 0, 0, 0, 0, 1, 0, 2, 0, 0, 1, 1, 0, 1, 2, 1, 0, 2, 0, 1, 0, 1, 2, 2, 0, 1, 0, 1, 0, 2, 0, 2, 1, 2, 1, 0, 2, 1, 1, 2, 0, 2, 2, 1, 0, 2, 2, 2, 0, 1, 0, 1, 1, 2, 2, 0, 2, 1, 1, 2, 1, 0, 2, 0, 0, 1, 0, 0, 0, 0, 2, 2, 0, 1, 1, 1, 0, 2, 0, 1, 0, 2, 0, 0, 2, 0, 0, 2, 1, 0, 2, 1, 2, 1, 2, 0, 2, 1, 0, 0, 1, 2, 0, 1, 2, 1, 0, 2, 1, 0, 2, 2, 0, 0, 1, 0, 1, 0, 0, 2, 0, 2, 2, 0, 1, 1, 1, 2, 2, 0, 2, 1, 0, 1, 2, 1, 2, 0, 2, 1, 2, 1, 2, 0, 0, 0, 0, 2, 2, 1, 2, 2, 2, 2, 1, 0, 1, 0, 2, 0, 2, 0, 0, 1, 1, 0, 1, 1, 2, 0, 2, 0, 1, 1, 2, 0, 1, 0, 1, 2, 1, 0, 2, 0, 2, 2, 2, 0, 2, 2, 2, 0, 0, 1, 0, 0, 2, 0, 1, 0, 0, 2, 1, 1, 0, 2, 0, 1, 0, 1, 1, 0, 1, 0, 0, 2, 0, 2, 2, 0, 2, 0, 2, 2, 1, 2, 0, 0, 2, 2, 0, 0, 1, 0, 1, 0, 1, 0, 2, 1, 2, 0, 2, 0, 0, 0, 2, 2, 2, 2, 2, 2, 2, 1, 0, 2, 0, 2, 2, 0, 0, 0, 2, 0, 1, 2, 2, 0, 2, 2, 0, 0, 2, 1, 2, 1, 0, 1, 2, 1, 0, 0, 1, 1, 0, 2, 2, 0, 2, 0, 1, 0, 2, 0, 1, 0, 1, 0, 1, 0, 0, 0, 2, 2, 2, 0, 1, 0, 2, 2, 2, 0, 0, 1, 0, 0, 0, 0, 2, 0, 0, 2, 0, 2, 0, 1, 0, 1, 2, 0, 1, 2, 2, 2, 1, 0, 2, 0, 0, 2, 2, 2, 0, 1, 0, 2, 2, 1, 0, 0, 1, 1, 1, 0, 1, 0, 1, 0, 0, 2, 1, 2, 1, 1, 0, 1, 1, 0, 0, 0, 2, 0, 2, 0, 0, 0, 0, 2, 0, 0, 1, 1, 2, 0, 2, 2, 1, 0, 0, 1, 0, 2, 0, 2, 1, 2, 0, 0, 2, 2, 1, 2, 0, 2, 0, 2, 1, 2, 2, 2, 1, 0, 2, 2, 1, 0, 0, 2, 0, 2, 2, 2, 2, 2, 0, 0, 2, 2, 2, 0, 1, 2, 1, 0, 0, 1, 1, 2, 1, 1, 1, 2, 0, 2, 0, 2, 2, 2, 2, 2, 0, 1, 0, 2, 0, 0, 0, 2, 1, 2, 0, 0, 2, 0, 2, 1, 0, 1, 1, 0, 0, 2, 1, 2, 1, 2, 2, 0, 1, 0, 2, 2, 2, 0, 0, 2, 0, 2, 2, 0, 2, 0, 2, 2, 0, 2, 0, 0, 2, 1, 0, 2, 0, 2, 2, 2, 0, 2, 0, 0, 1, 0, 0, 0, 0, 1, 2, 1, 0, 0, 1, 2, 0, 1, 0, 1, 0, 1, 0, 2, 0, 1, 0, 2, 1, 1, 0, 0, 1, 2, 0, 2, 0, 2, 2, 2, 2, 0, 1, 1, 1, 0, 2, 0, 2, 2, 0, 0, 0, 0, 0, 2, 1, 0, 0, 0, 0, 1, 0, 0, 2, 0, 0, 2, 2, 1, 0, 1, 1, 0, 1, 1, 0, 2, 0, 1, 1, 2, 1, 2, 2, 2, 2, 0, 0, 0, 0, 0, 1, 2, 1, 2, 2, 0, 1, 2, 1, 0, 2, 0, 1, 2, 1, 0, 0, 0, 2, 0, 1, 1, 2, 1, 0, 2, 0, 2, 0, 2, 1, 2, 2, 0, 1, 1, 0, 2, 0, 1, 0, 2, 2, 2, 2, 0, 0, 2, 2, 0, 1, 2, 1, 1, 0, 0, 0, 2, 0, 0, 2, 2, 1, 0, 0, 2, 1, 2, 0, 0, 0, 1, 1, 2, 0, 2, 1, 2, 1, 0, 2, 1, 2, 2, 2, 2, 0, 2, 0, 1, 2, 0, 0, 2, 0, 0, 0, 2, 0, 2, 2, 1, 1, 0, 2, 2, 2, 1, 0, 2, 2, 2, 2, 1, 0, 0, 2, 2, 2, 1, 0, 2, 2, 0, 0, 0, 2, 0, 2, 2, 0, 2, 2, 2, 2, 2, 2, 1, 2, 2, 0, 1, 2, 2, 2, 1, 2, 2, 2, 1, 0, 0, 2, 2, 2, 2, 2, 2, 1, 0, 0, 2, 0, 2, 2, 1, 2, 0, 2, 0, 1, 2, 2, 2, 2, 1, 0, 0, 2, 1, 0, 2, 2, 2, 2, 1, 2, 2, 2, 2, 2, 0, 1, 0, 2, 0, 2, 2, 1, 0, 2, 1, 2, 2, 2, 0, 0, 1, 2, 0, 2, 0, 0, 2, 1, 1, 0, 0, 1, 1, 0, 2, 1, 1, 0, 2, 0, 2, 1, 0, 0, 2, 2, 1, 2, 1, 0, 2, 0, 2, 0, 1, 0, 2, 2, 2, 2, 2, 1, 0, 0, 0, 2, 2, 1, 0, 1, 1, 2, 2, 1, 1, 1, 2, 2, 2, 0, 2, 1, 0, 1, 1, 0, 2, 2, 2, 1, 0, 0, 0, 2, 0, 2, 1, 2, 0, 1, 1, 0, 1, 1, 1, 1, 0, 2, 1, 2, 0, 0, 1, 2, 0, 1, 0, 0, 0, 2, 2, 0, 0, 0, 2, 2, 2, 0, 1, 0, 2, 0, 0, 1, 2, 0, 2, 2, 0, 1, 2, 2, 1, 0, 1, 0, 0, 2, 1, 0, 0, 1, 0, 0, 2, 1, 1, 2, 2, 0, 0, 2, 2, 2, 1, 2, 1, 0, 0, 1, 2, 2, 0, 1, 1, 2, 0, 2, 2, 1, 1, 0, 0, 0, 2, 0, 0, 0, 0, 0, 1, 1, 1, 2, 1, 0, 2, 1, 1, 2, 1, 0, 2, 2, 2, 1, 1, 0, 2, 1, 1, 0, 1, 2, 1, 0, 2, 0, 2, 1, 0, 1, 1, 1, 1, 0, 2, 2, 2, 0, 1, 2, 2, 0, 2, 2, 2, 0, 0, 2, 0, 2, 0, 2, 1, 2, 2, 2, 0, 0, 0, 0, 2, 0, 1, 2, 0, 1, 2, 2, 0, 2, 0, 1, 0, 2, 1, 2, 2, 2, 2, 0, 2, 1, 0, 2, 2, 2, 0, 0, 2, 0, 1, 0, 2, 0, 1, 2, 0, 2, 1, 0, 1, 0, 0, 0, 0, 2, 0, 1, 0, 1, 2, 1, 0, 2, 2, 1, 0, 2, 0, 2, 1, 1, 2, 1, 0, 1, 2, 0, 2, 1, 0, 2, 2, 0, 0, 0, 0, 2, 0, 0, 2, 2, 1, 2, 0, 2, 2, 2, 2, 1, 0, 0, 2, 2, 2, 1, 0, 2, 0, 0, 2, 2, 0, 0, 2, 0, 2, 0, 1, 1, 1, 0, 0, 2, 2, 0, 1, 2, 1, 2, 0, 2, 0, 1, 2, 1, 0, 0, 2, 2, 0, 0, 1, 1, 0, 1, 0, 2, 1, 0, 0, 1, 2, 2, 0, 2, 2, 2, 2, 2, 0, 0, 2, 0, 2, 2, 2, 0, 1, 2, 2, 1, 0, 0, 2, 1, 2, 0, 1, 2, 0, 0, 2, 1, 0, 2, 0, 0, 0, 2, 1, 0, 2, 2, 2, 2, 2, 2, 1, 0, 1, 1, 1, 0, 2, 0, 0, 0, 2, 1, 0, 2, 2, 2, 2, 0, 2, 1, 2, 0, 2, 1, 1, 2, 2, 0, 2, 0, 0, 0, 0, 0, 1, 0, 0, 2, 0, 1, 0, 1, 2, 2, 2, 0, 2, 2, 0, 2, 2, 2, 2, 2, 2, 0, 2, 2, 1, 1, 2, 0, 2, 1, 0, 2, 0, 0, 0, 2, 2, 0, 1, 1, 2, 1, 2, 1, 0, 0, 1, 0, 2, 0, 1, 1, 2, 1, 2, 0, 1, 0, 2, 1, 0, 0, 1, 0, 0, 2, 1, 2, 2, 0, 2, 0, 1, 2, 1, 1, 1, 2, 2, 2, 2, 1, 0, 2, 2, 0, 1, 2, 2, 0, 1, 2, 0, 0, 2, 2, 1, 2, 2, 2, 1, 0, 0, 0, 1, 1, 1, 0, 2, 0, 0, 0, 0, 2, 0, 1, 2, 1, 0, 2, 1, 0, 1, 1, 2, 0, 0, 0, 2, 0, 2, 2, 1, 1, 0, 1, 2, 0, 2, 2, 1, 1, 0, 0, 2, 0, 0, 0, 0, 1, 2, 1, 0, 1, 1, 1, 1, 0, 2, 1, 2, 0, 0, 1, 1, 0, 2, 0, 1, 1, 2, 1, 0, 2, 2, 0, 2, 0, 2, 1, 2, 2, 2, 2, 1, 2, 0, 2, 0, 2, 2, 0, 1, 0, 0, 1, 1, 0, 0, 2, 2, 2, 1, 2, 1, 2, 2, 2, 1, 0, 2, 1, 0, 2, 0, 2, 0, 2, 2, 2, 2, 2, 0, 2, 0, 0, 2, 2, 1, 2, 1, 2, 2, 2, 2, 2, 2, 0, 1, 1, 2, 0, 1, 0, 2, 2, 2, 2, 2, 1, 2, 0, 2, 0, 2, 0, 0, 0, 2, 2, 0, 1, 2, 2, 0, 2, 0, 2, 1, 0, 1, 2, 0, 2, 1, 2, 0, 0, 2, 2, 0, 2, 1, 2, 0, 2, 1, 0, 2, 2, 0, 0, 2, 0, 2, 2, 0, 2, 0, 1, 1, 2, 1, 2, 1, 0, 2, 2, 2, 2, 0, 2, 2, 2, 1, 0, 2, 2, 1, 2, 2, 2, 0, 1, 2, 1, 2, 2, 2, 0, 0, 1, 1, 0, 2, 2, 2, 0, 1, 0, 2, 0, 1, 2, 0, 1, 1, 0, 1, 2, 2, 0, 0, 2, 2, 0, 1, 2, 2, 0, 1, 0, 0, 0, 2, 1, 0, 2, 0, 2, 0, 2, 0, 0, 2, 2, 1, 0, 0, 0, 1, 0, 1, 2, 2, 2, 1, 1, 0, 2, 2, 0, 2, 1, 0, 2, 0, 0, 2, 1, 0, 2, 2, 0, 2, 2, 0, 0, 1, 0, 2, 1, 2, 2, 0, 0, 0, 0, 0, 1, 2, 2, 1, 2, 2, 0, 2, 2, 0, 0, 0, 1, 2, 0, 1, 2, 2, 2, 0, 2, 1, 2, 2, 0, 1, 2, 1, 0, 2, 2, 1, 2, 2, 2, 2, 2, 1, 2, 1, 0, 1, 1, 1, 0, 1, 2, 0, 0, 1, 2, 0, 0, 0, 2, 1, 0, 1, 0, 1, 2, 0, 2, 2, 2, 2, 2, 1, 0, 2, 0, 2, 2, 0, 2, 0, 1, 0, 2, 2, 1, 1, 2, 0, 2, 2, 1, 0, 0, 2, 2, 2, 1, 1, 0, 0, 1, 1, 0, 2, 0, 2, 2, 0, 0, 1, 0, 2, 2, 2, 2, 1, 0, 0, 2, 2, 1, 1, 0, 2, 1, 0, 0, 1, 0, 0, 1, 1, 2, 0, 0, 0, 2, 0, 1, 1, 0, 2, 0, 0, 2, 0, 1, 0, 2, 1, 0, 1, 2, 0, 0, 2, 1, 1, 2, 2, 0, 0, 2, 1, 2, 2, 0, 2, 0, 0, 0, 2, 0, 1, 0, 1, 0, 2, 0, 2, 2, 2, 1, 0, 1, 2, 0, 2, 0, 2, 2, 2, 2, 1, 0, 2, 2, 1, 1, 0, 1, 0, 0, 2, 1, 1, 1, 2, 0, 2, 2, 0, 2, 0, 2, 1, 2, 0, 2, 0, 0, 0, 2, 0, 0, 2, 1, 2, 2, 0, 0, 0, 2, 1, 0, 0, 0, 0, 2, 0, 2, 0, 0, 2, 2, 1, 2, 1, 1, 2, 2, 1, 2, 2, 0, 2, 2, 1, 2, 0, 2, 2, 1, 0, 0, 2, 2, 1, 1, 2, 1, 0, 0, 0, 0, 0, 2, 2, 0, 1, 1, 2, 0, 1, 2, 0, 2, 1, 1, 0, 0, 2, 0, 2, 2, 0, 2, 1, 2, 0, 0, 2, 1, 2, 2, 1, 2, 2, 0, 0, 2, 2, 0, 1, 0, 2, 2, 0, 0, 2, 0, 1, 2, 2, 2, 1, 1, 0, 0, 2, 1, 2, 1, 0, 1, 0, 2, 1, 2, 0, 2, 0, 2, 2, 0, 2, 1, 1, 2, 0, 2, 0, 2, 0, 1, 0, 2, 0, 1, 2, 0, 2, 2, 2, 0, 2, 0, 0, 2, 0, 2, 2, 2, 2, 2, 2, 2, 0, 0, 1, 2, 0, 2, 1, 2, 0, 2, 0, 1, 2, 0, 2, 1, 1, 0, 0, 2, 2, 2, 1, 1, 1, 1, 1, 0, 2, 2, 2, 0, 1, 0, 1, 0, 2, 2, 2, 1, 1, 0, 0, 0, 0, 2, 0, 2, 0, 2, 0, 2, 2, 1, 2, 0, 2, 0, 2, 2, 0, 1, 2, 0, 2, 2, 1, 1, 2, 2, 2, 2, 0, 0, 2, 0, 0, 0, 2, 2, 1, 1, 2, 0, 0, 0, 1, 2, 2, 0, 1, 2, 2, 1, 2, 2, 2, 2, 0, 1, 1, 1, 0, 1, 2, 1, 1, 0, 0, 2, 2, 2, 0, 0, 2, 0, 0, 0, 2, 0, 1, 1, 0, 2, 2, 0, 0, 0, 2, 0, 1, 0, 1, 0, 2, 2, 1, 0, 0, 2, 2, 1, 1, 0, 1, 1, 2, 1, 1, 0, 2, 1, 2, 1, 0, 2, 1, 1, 2, 2, 2, 2, 0, 0, 1, 1, 2, 2, 0, 0, 0, 1, 2, 2, 1, 0, 2, 2, 1, 1, 1, 1, 0, 1, 1, 0, 1, 2, 1, 2, 0, 1, 0, 2, 2, 2, 1, 0, 2, 2, 0, 0, 0, 1, 2, 2, 2, 2, 0, 2, 0, 1, 2, 2, 2, 0, 2, 0, 2, 0, 1, 0, 2, 0, 2, 2, 0, 1, 2, 1, 0, 0, 1, 2, 2, 0, 2, 0, 1, 1, 0, 2, 0, 1, 2, 0, 2, 2, 2, 0, 2, 2, 2, 2, 0, 2, 1, 0, 1, 0, 0, 1, 2, 0, 0, 1, 0, 2, 1, 1, 0, 1, 2, 2, 0, 2, 2, 0, 0, 2, 0, 0, 2, 0, 0, 1, 2, 0, 0, 1, 2, 1, 0, 0, 2, 0, 1, 2, 2, 2, 1, 2, 0, 0, 1, 1, 0, 2, 2, 0, 2, 0, 0, 2, 0, 2, 0, 2, 2, 0, 0, 1, 0, 2, 1, 1, 1, 0, 1, 0, 1, 2, 2, 0, 0, 1, 0, 1, 2, 0, 0, 0, 0, 0, 2, 2, 0, 2, 0, 2, 1, 0, 2, 1, 0, 0, 1, 2, 2, 0, 2, 1, 0, 1, 2, 0, 2, 1, 1, 0, 0, 0, 1, 0, 2, 1, 1, 0, 2, 0, 0, 0, 1, 2, 2, 2, 0, 2, 1, 0, 2, 1, 0, 1, 1, 0, 2, 0, 1, 2, 2, 2, 0, 2, 2, 2, 1, 0, 2, 0, 0, 0, 0, 1, 0, 1, 2, 0, 0, 1, 0, 2, 0, 1, 0, 1, 1, 0, 0, 0, 0, 0, 1, 1, 2, 0, 0, 0, 2, 1, 0, 2, 1, 1, 2, 1, 0, 0, 2, 0, 1, 2, 0, 1, 0, 1, 2, 0, 0, 0, 1, 0, 2, 1, 1, 1, 0, 1, 2, 2, 1, 0, 2, 0, 0, 2, 1, 1, 1, 0, 0, 1, 2, 2, 1, 2, 2, 2, 0, 1, 1, 1, 1, 0, 2, 0, 0, 1, 1, 1, 0, 0, 1, 0, 0, 0, 2, 2, 2, 0, 1, 1, 0, 2, 0, 2, 2, 1, 0, 1, 0, 1, 2, 1, 2, 0, 0, 2, 0, 2, 1, 1, 0, 1, 2, 2, 2, 2, 0, 2, 0, 0, 2, 0, 1, 1, 0, 2, 1, 1, 0, 0, 2, 0, 2, 2, 1, 1, 2, 1, 2, 2, 1, 2, 2, 1, 2, 0, 0, 2, 0, 0, 2, 1, 0, 2, 1, 0, 2, 2, 2, 2, 0, 1, 0, 2, 2, 2, 2, 0, 1, 2, 0, 1, 2, 1, 1, 2, 2, 2, 2, 2, 2, 2, 2, 0, 2, 0, 2, 2, 0, 2, 0, 2, 2, 0, 1, 0, 1, 1, 1, 1, 0, 2, 2, 1, 2, 2, 0, 1, 1, 2, 2, 0, 1, 2, 2, 0, 0, 0, 1, 2, 1, 0, 1, 0, 0, 2, 1, 2, 0, 2, 1, 0, 2, 1, 2, 1, 2, 1, 0, 2, 0, 2, 2, 0, 0, 0, 1, 2, 0, 0, 0, 0, 2, 2, 1, 2, 2, 1, 2, 0, 0, 0, 2, 1, 2, 2, 2, 2, 2, 2, 2, 1, 1, 0, 0, 0, 2, 0, 2, 0, 2, 1, 0, 2, 2, 1, 1, 1, 1, 1, 0, 1, 1, 2, 0, 2, 2, 2, 1, 0, 1, 1, 0, 0, 0, 1, 2, 1, 2, 0, 0, 1, 2, 2, 2, 0, 1, 1, 0, 0, 1, 0, 1, 2, 0, 1, 1, 1, 1, 0, 2, 0, 2, 0, 2, 0, 1, 0, 2, 2, 2, 0, 0, 0, 0, 1, 2, 2, 2, 2, 1, 1, 2, 2, 0, 0, 0, 0, 2, 1, 1, 0, 0, 1, 0, 2, 1, 0, 2, 2, 2, 2, 2, 2, 2, 0, 2, 0, 0, 2, 1, 0, 1, 2, 0, 1, 2, 0, 0, 2, 0, 2, 0, 1, 0, 2, 2, 1, 0, 2, 2, 2, 0, 2, 1, 2, 0, 1, 0, 2, 1, 0, 0, 2, 2, 2, 0, 2, 2, 0, 1, 0, 2, 0, 2, 2, 2, 2, 0, 0, 0, 1, 0, 0, 0, 0, 2, 0, 2, 0, 1, 1, 0, 1, 2, 0, 0, 0, 2, 0, 2, 1, 2, 0, 1, 1, 0, 0, 0, 0, 0, 1, 2, 1, 0, 1, 2, 2, 1, 1, 1, 0, 2, 2, 2, 0, 2, 2, 0, 1, 0, 1, 0, 2, 0, 0, 1, 0, 2, 2, 0, 0, 2, 0, 1, 0, 0, 0, 1, 1, 0, 1, 1, 0, 1, 1, 1, 0, 0, 0, 1, 1, 2, 0, 2, 1, 1, 0, 0, 1, 1, 2, 2, 1, 0, 0, 2, 1, 0, 2, 1, 2, 2, 0, 2, 1, 0, 0, 1, 0, 2, 1, 1, 0, 1, 0, 1, 0, 1, 0, 0, 1, 0, 2, 1, 0, 1, 2, 1, 1, 0, 2, 1, 0, 1]\n",
            "[0, 1, 2, 2, 1, 0, 0, 1, 2, 0, 1, 2, 0, 1, 2, 0, 2, 1, 0, 1, 2, 1, 0, 2, 2, 1, 0, 0, 2, 1, 2, 1, 0, 1, 2, 0, 0, 1, 2, 0, 2, 1, 0, 1, 2, 1, 2, 0, 1, 0, 2, 2, 1, 0, 1, 2, 0, 1, 2, 0, 2, 1, 0, 2, 1, 0, 0, 1, 2, 2, 1, 0, 0, 2, 1, 0, 1, 0, 2, 1, 1, 0, 2, 1, 2, 0, 0, 2, 1, 2, 1, 0, 2, 1, 0, 2, 0, 1, 0, 2, 1, 1, 0, 2, 2, 1, 0, 2, 1, 0, 2, 0, 1, 0, 1, 2, 2, 0, 1, 0, 1, 2, 1, 2, 0, 0, 2, 1, 0, 1, 2, 2, 0, 1, 2, 1, 0, 0, 2, 1, 0, 2, 1, 0, 1, 2, 2, 1, 0, 0, 2, 1, 0, 2, 1, 1, 0, 2, 0, 2, 1, 2, 1, 0, 0, 2, 1, 2, 1, 0, 0, 1, 2, 1, 2, 0, 1, 2, 0, 1, 0, 2, 1, 0, 2, 2, 1, 0, 0, 2, 1, 0, 1, 2, 0, 2, 1, 0, 1, 2, 0, 2, 1, 2, 0, 1, 0, 2, 1, 0, 2, 1, 1, 2, 0, 0, 1, 2, 0, 1, 2, 0, 1, 2, 0, 1, 2, 1, 0, 0, 1, 2, 0, 2, 1, 0, 1, 2, 2, 1, 0, 0, 1, 2, 2, 1, 0, 0, 2, 1, 1, 2, 0, 2, 1, 0, 1, 2, 0, 0, 2, 1, 0, 2, 1, 2, 0, 1, 1, 0, 2, 2, 1, 0, 2, 0, 1, 2, 1, 0, 2, 0, 1, 0, 2, 1, 0, 1, 2, 0, 1, 2, 1, 2, 0, 2, 1, 0, 0, 2, 1, 1, 0, 2, 0, 2, 1, 0, 1, 2, 0, 2, 1, 1, 0, 2, 2, 0, 1, 2, 1, 0, 2, 1, 0, 2, 1, 0, 0, 1, 2, 1, 0, 2, 2, 1, 0, 1, 2, 0, 1, 2, 0, 1, 2, 0, 0, 2, 1, 2, 1, 0, 0, 2, 1, 0, 2, 1, 2, 1, 2, 0, 2, 1, 0, 2, 1, 0, 0, 1, 2, 1, 2, 0, 2, 1, 0, 1, 0, 2, 2, 0, 1, 2, 1, 0, 2, 1, 0, 0, 2, 1, 1, 2, 0, 2, 0, 1, 1, 2, 0, 1, 2, 0, 0, 1, 2, 0, 2, 1, 0, 1, 2, 2, 1, 0, 2, 0, 1, 2, 0, 1, 2, 0, 1, 0, 1, 2, 1, 2, 0, 2, 1, 0, 1, 2, 0, 1, 0, 2, 1, 0, 2, 0, 2, 1, 2, 1, 0, 1, 0, 2, 2, 0, 1, 2, 0, 1, 1, 0, 2, 2, 1, 0, 2, 1, 0, 0, 1, 1, 2, 0, 0, 1, 2, 1, 2, 0, 1, 0, 2, 2, 1, 0, 1, 2, 0, 2, 0, 1, 1, 2, 0, 0, 2, 1, 2, 0, 1, 2, 1, 0, 2, 0, 1, 2, 0, 1, 0, 2, 1, 2, 1, 0, 1, 2, 2, 0, 1, 1, 2, 0, 1, 2, 0, 1, 2, 0, 0, 1, 2, 0, 2, 1, 1, 0, 2, 2, 0, 1, 1, 2, 0, 1, 2, 0, 2, 0, 1, 0, 1, 2, 0, 2, 1, 0, 2, 1, 1, 2, 0, 2, 0, 1, 2, 0, 1, 1, 2, 0, 2, 0, 1, 1, 2, 0, 1, 0, 2, 0, 1, 2, 1, 0, 2, 1, 0, 2, 0, 1, 2, 2, 1, 0, 1, 0, 2, 2, 1, 0, 0, 2, 1, 1, 0, 2, 2, 1, 0, 1, 0, 2, 2, 1, 0, 1, 2, 0, 1, 2, 0, 0, 1, 2, 1, 2, 0, 0, 2, 1, 0, 1, 2, 2, 1, 0, 1, 2, 0, 2, 0, 1, 2, 1, 0, 1, 2, 0, 1, 0, 2, 2, 1, 0, 1, 0, 2, 1, 2, 0, 0, 2, 1, 1, 0, 2, 0, 1, 2, 2, 1, 0, 0, 2, 1, 1, 0, 2, 0, 1, 2, 0, 1, 2, 1, 2, 0, 1, 2, 0, 1, 0, 2, 1, 0, 2, 1, 0, 2, 2, 1, 0, 1, 0, 2, 1, 2, 0, 2, 1, 0, 2, 1, 0, 0, 2, 1, 2, 1, 0, 0, 2, 1, 2, 0, 1, 2, 1, 0, 1, 0, 2, 0, 1, 2, 0, 2, 1, 0, 1, 2, 0, 2, 0, 1, 2, 2, 1, 0, 0, 1, 2, 2, 1, 0, 1, 0, 2, 1, 0, 2, 2, 0, 1, 2, 0, 1, 0, 2, 1, 0, 2, 2, 0, 1, 0, 1, 2, 2, 1, 0, 2, 1, 0, 1, 2, 0, 0, 1, 2, 2, 0, 1, 0, 2, 1, 1, 2, 0, 2, 1, 0, 0, 1, 2, 2, 1, 0, 2, 1, 0, 2, 1, 0, 2, 0, 1, 1, 2, 0, 1, 2, 0, 0, 1, 2, 0, 1, 2, 1, 0, 2, 1, 2, 0, 2, 1, 0, 1, 2, 0, 1, 2, 0, 1, 0, 2, 2, 1, 0, 2, 0, 1, 1, 2, 0, 2, 0, 1, 0, 1, 2, 0, 2, 1, 0, 1, 2, 0, 1, 2, 2, 1, 0, 0, 2, 1, 0, 1, 2, 1, 2, 0, 1, 2, 2, 1, 0, 0, 1, 2, 1, 2, 0, 0, 2, 1, 0, 2, 1, 2, 0, 1, 0, 1, 2, 2, 1, 0, 2, 1, 0, 1, 0, 2, 1, 2, 0, 2, 1, 0, 1, 2, 0, 1, 2, 0, 2, 0, 1, 2, 2, 1, 0, 1, 2, 0, 1, 2, 0, 2, 1, 0, 2, 1, 1, 0, 2, 2, 0, 1, 1, 0, 2, 0, 1, 2, 1, 2, 0, 0, 2, 1, 0, 1, 2, 1, 0, 2, 2, 1, 0, 2, 0, 1, 1, 2, 0, 1, 0, 2, 2, 1, 0, 2, 1, 0, 1, 2, 0, 0, 1, 2, 1, 2, 0, 0, 2, 1, 1, 2, 0, 0, 1, 2, 0, 1, 2, 0, 1, 2, 2, 1, 0, 1, 0, 2, 0, 1, 2, 1, 2, 0, 1, 0, 2, 1, 0, 2, 0, 2, 1, 0, 1, 2, 1, 2, 0, 0, 2, 1, 0, 1, 2, 0, 1, 2, 0, 2, 1, 1, 0, 2, 1, 2, 0, 0, 2, 1, 0, 1, 2, 0, 2, 1, 0, 1, 2, 2, 0, 1, 1, 2, 0, 0, 1, 2, 1, 2, 0, 2, 0, 1, 0, 1, 2, 2, 0, 1, 2, 1, 0, 0, 1, 2, 1, 0, 2, 2, 1, 0, 1, 2, 2, 1, 0, 0, 1, 2, 2, 0, 1, 0, 1, 2, 1, 2, 0, 2, 1, 1, 2, 0, 0, 2, 1, 0, 1, 2, 0, 1, 2, 2, 1, 0, 0, 2, 1, 2, 0, 1, 2, 1, 0, 0, 2, 1, 2, 1, 0, 1, 2, 0, 2, 1, 2, 0, 1, 2, 1, 0, 2, 0, 1, 1, 0, 2, 1, 0, 2, 2, 1, 0, 1, 2, 0, 0, 1, 2, 0, 1, 2, 1, 0, 2, 2, 1, 0, 1, 0, 2, 2, 0, 1, 0, 1, 2, 1, 2, 0, 1, 2, 0, 1, 2, 0, 1, 2, 0, 2, 1, 0, 0, 2, 2, 0, 1, 2, 1, 0, 2, 0, 1, 0, 1, 2, 2, 1, 0, 1, 0, 2, 2, 0, 1, 0, 2, 1, 2, 0, 1, 0, 1, 2, 0, 2, 1, 0, 1, 2, 0, 2, 1, 0, 1, 2, 1, 0, 2, 2, 0, 1, 2, 1, 0, 1, 0, 2, 0, 2, 1, 1, 2, 0, 1, 0, 2, 0, 2, 1, 0, 1, 2, 0, 1, 2, 0, 1, 2, 1, 2, 0, 0, 2, 1, 0, 1, 2, 0, 1, 2, 1, 0, 2, 2, 1, 2, 1, 0, 0, 2, 1, 0, 2, 1, 0, 1, 2, 0, 1, 2, 0, 2, 1, 1, 2, 0, 2, 1, 0, 2, 0, 1, 0, 2, 1, 1, 0, 2, 1, 0, 2, 0, 2, 1, 2, 1, 0, 0, 2, 1, 1, 2, 0, 1, 0, 2, 0, 1, 2, 0, 2, 1, 0, 2, 1, 2, 1, 0, 0, 1, 2, 2, 1, 0, 1, 2, 0, 2, 1, 0, 2, 1, 0, 0, 2, 1, 2, 0, 1, 2, 1, 0, 1, 0, 2, 2, 1, 0, 2, 1, 2, 1, 0, 2, 1, 0, 1, 0, 2, 0, 1, 2, 0, 2, 1, 0, 2, 1, 0, 2, 1, 0, 2, 1, 1, 2, 0, 2, 1, 0, 2, 0, 1, 0, 2, 0, 2, 1, 0, 2, 1, 0, 1, 2, 0, 2, 1, 1, 2, 0, 1, 2, 0, 2, 1, 0, 0, 2, 1, 2, 1, 0, 0, 2, 1, 2, 0, 1, 2, 0, 1, 2, 1, 0, 1, 0, 2, 0, 2, 1, 1, 2, 0, 1, 0, 2, 1, 2, 0, 1, 2, 0, 0, 2, 1, 1, 2, 0, 0, 1, 2, 0, 2, 1, 1, 0, 2, 1, 0, 2, 0, 2, 1, 1, 2, 0, 0, 2, 1, 2, 1, 0, 1, 0, 2, 2, 1, 0, 2, 1, 0, 0, 1, 2, 0, 1, 2, 2, 0, 1, 1, 2, 0, 0, 2, 1, 1, 0, 2, 0, 2, 1, 0, 2, 1, 1, 2, 0, 2, 1, 0, 1, 0, 2, 1, 0, 2, 2, 0, 1, 2, 0, 1, 1, 2, 0, 1, 2, 0, 0, 2, 1, 0, 1, 2, 0, 2, 1, 2, 0, 1, 1, 2, 0, 2, 0, 1, 0, 1, 2, 1, 0, 2, 2, 1, 0, 0, 1, 2, 2, 0, 1, 1, 2, 0, 2, 1, 0, 0, 1, 2, 0, 2, 1, 2, 1, 0, 0, 2, 1, 0, 2, 1, 1, 2, 0, 1, 0, 2, 0, 2, 1, 0, 2, 1, 0, 2, 1, 2, 1, 0, 1, 2, 0, 2, 0, 1, 2, 0, 1, 1, 2, 0, 1, 2, 0, 1, 2, 2, 1, 0, 2, 1, 0, 1, 0, 2, 1, 0, 2, 2, 0, 1, 0, 1, 2, 2, 1, 0, 1, 2, 2, 1, 0, 0, 2, 0, 1, 2, 2, 0, 1, 1, 2, 0, 1, 2, 2, 0, 1, 0, 2, 1, 0, 1, 2, 0, 1, 2, 0, 1, 2, 2, 0, 1, 0, 1, 2, 0, 2, 1, 0, 2, 1, 0, 2, 1, 1, 0, 2, 0, 1, 2, 0, 2, 1, 1, 2, 0, 1, 0, 2, 0, 1, 2, 2, 0, 1, 2, 0, 1, 0, 2, 1, 2, 1, 0, 1, 0, 2, 0, 1, 0, 2, 0, 2, 1, 2, 0, 1, 0, 2, 1, 0, 2, 1, 0, 1, 2, 0, 1, 2, 0, 1, 2, 0, 1, 0, 1, 2, 2, 0, 1, 0, 2, 1, 2, 1, 0, 2, 1, 0, 0, 2, 1, 1, 2, 0, 1, 0, 2, 1, 0, 2, 0, 2, 1, 2, 1, 0, 1, 2, 0, 2, 0, 1, 0, 2, 1, 0, 1, 2, 0, 2, 1, 1, 0, 2, 0, 1, 2, 2, 1, 0, 0, 1, 2, 0, 2, 1, 0, 1, 2, 1, 0, 0, 2, 1, 0, 1, 2, 1, 0, 2, 2, 1, 0, 1, 0, 2, 0, 1, 2, 1, 0, 2, 0, 2, 1, 2, 1, 0, 2, 1, 0, 2, 1, 0, 2, 0, 1, 0, 2, 1, 0, 1, 2, 2, 1, 0, 1, 0, 2, 0, 1, 2, 1, 0, 2, 2, 0, 1, 0, 2, 1, 1, 2, 0, 0, 1, 2, 1, 0, 2, 0, 1, 2, 2, 0, 1, 2, 1, 0, 2, 1, 0, 0, 1, 2, 1, 2, 0, 2, 1, 0, 0, 1, 2, 0, 1, 2, 1, 0, 2, 1, 2, 0, 2, 0, 1, 2, 0, 1, 2, 0, 1, 0, 1, 2, 0, 1, 2, 2, 0, 1, 0, 2, 1, 0, 1, 2, 1, 2, 0, 0, 1, 2, 1, 2, 0, 2, 1, 0, 2, 0, 1, 1, 0, 2, 2, 1, 0, 1, 0, 2, 0, 2, 1, 0, 2, 1, 0, 2, 1, 2, 0, 1, 0, 1, 2, 2, 0, 1, 0, 1, 2, 2, 0, 1, 1, 2, 0, 2, 0, 0, 1, 2, 0, 2, 1, 0, 2, 1, 0, 1, 2, 0, 2, 1, 2, 0, 1, 0, 1, 2, 1, 2, 0, 1, 0, 2, 2, 0, 1, 0, 1, 2, 0, 1, 2, 2, 1, 0, 0, 2, 1, 0, 1, 2, 0, 1, 2, 1, 0, 2, 1, 2, 0, 2, 0, 1, 0, 1, 2, 2, 1, 0, 1, 2, 0, 1, 0, 2, 2, 1, 0, 0, 1, 2, 0, 1, 2, 0, 2, 1, 2, 0, 1, 2, 1, 0, 2, 0, 1, 2, 1, 0, 0, 1, 2, 0, 2, 1, 0, 2, 1, 2, 0, 1, 0, 1, 2, 1, 0, 2, 2, 1, 0, 1, 2, 0, 0, 1, 2, 1, 0, 2, 0, 2, 1, 0, 2, 1, 1, 2, 0, 0, 1, 2, 2, 0, 1, 0, 1, 0, 2, 1, 2, 1, 0, 1, 0, 2, 1, 0, 2, 1, 2, 0, 1, 0, 1, 2, 1, 2, 0, 1, 2, 0, 2, 1, 0, 1, 2, 0, 2, 1, 0, 1, 2, 0, 1, 2, 0, 0, 1, 2, 2, 1, 0, 1, 0, 2, 1, 0, 2, 1, 1, 2, 0, 2, 0, 1, 2, 0, 1, 0, 2, 1, 2, 1, 0, 0, 2, 1, 2, 1, 0, 0, 2, 1, 2, 1, 0, 2, 0, 1, 0, 2, 1, 1, 2, 0, 1, 0, 2, 2, 1, 0, 2, 0, 1, 0, 2, 2, 0, 1, 2, 1, 0, 0, 1, 2, 0, 2, 1, 1, 2, 0, 2, 0, 1, 2, 1, 0, 2, 0, 1, 0, 2, 1, 0, 1, 2, 1, 2, 0, 0, 2, 1, 2, 1, 0, 2, 1, 0, 0, 2, 1, 2, 1, 0, 2, 0, 1, 2, 0, 1, 2, 0, 1, 1, 2, 0, 0, 2, 1, 0, 1, 2, 1, 2, 0, 0, 1, 1, 0, 2, 0, 2, 0, 1, 2, 2, 0, 1, 1, 0, 2, 0, 2, 1, 2, 1, 0, 0, 1, 2, 0, 2, 1, 1, 0, 2, 2, 0, 1, 1, 0, 2, 1, 2, 0, 0, 1, 2, 1, 2, 0, 2, 0, 1, 2, 0, 1, 2, 1, 0, 2, 0, 1, 2, 0, 2, 0, 1, 0, 2, 1, 0, 1, 2, 2, 0, 1, 1, 2, 0, 0, 1, 2, 2, 0, 1, 2, 0, 1, 1, 0, 2, 0, 2, 1, 2, 1, 0, 0, 1, 2, 1, 2, 0, 0, 2, 1, 2, 0, 1, 2, 0, 1, 2, 1, 0, 2, 0, 1, 2, 1, 0, 1, 0, 2, 0, 2, 1, 0, 1, 2, 2, 0, 1, 0, 2, 1, 2, 0, 1, 2, 1, 0, 2, 0, 1, 0, 2, 1, 1, 2, 0, 0, 2, 1, 0, 1, 2, 1, 2, 0, 2, 1, 0, 2, 1, 0, 2, 1, 0, 0, 2, 1, 1, 2, 0, 0, 2, 1, 2, 1, 0, 1, 2, 0, 0, 2, 1, 2, 1, 0, 1, 0, 2, 0, 1, 2, 2, 1, 0, 0, 2, 1, 1, 2, 0, 2, 1, 0, 0, 2, 1, 2, 1, 0, 0, 1, 2, 0, 2, 1, 0, 1, 2, 2, 1, 0, 1, 2, 0, 0, 2, 1, 0, 1, 2, 0, 2, 1, 2, 1, 0, 0, 1, 2, 0, 2, 1, 2, 1, 0, 1, 2, 0, 2, 1, 0, 0, 2, 1, 2, 1, 0, 0, 2, 0, 1, 2, 0, 2, 1, 1, 2, 0, 2, 0, 1, 0, 2, 1, 2, 1, 0, 0, 2, 1, 0, 1, 2, 2, 0, 1, 0, 2, 1, 1, 2, 0, 1, 0, 2, 0, 1, 2, 1, 0, 2, 1, 2, 0, 2, 1, 0, 1, 2, 0, 2, 1, 2, 0, 1, 1, 0, 2, 1, 2, 0, 2, 0, 1, 1, 2, 0, 2, 1, 0, 0, 2, 2, 1, 0, 1, 0, 2, 1, 2, 0, 1, 0, 2, 0, 2, 1, 2, 1, 0, 2, 0, 1, 2, 1, 0, 1, 0, 2, 2, 0, 1, 1, 2, 0, 2, 0, 1, 1, 0, 2, 1, 0, 2, 2, 0, 1, 2, 0, 1, 0, 1, 2, 1, 2, 0, 2, 0, 1, 2, 1, 0, 1, 0, 2, 1, 2, 0, 0, 1, 2, 2, 1, 0, 1, 2, 0, 2, 0, 1, 1, 0, 2, 0, 2, 1, 1, 2, 0, 0, 1, 2, 0, 1, 2, 0, 1, 2, 2, 1, 0, 1, 0, 2, 2, 1, 0, 2, 1, 0, 0, 2, 1, 1, 2, 0, 1, 2, 2, 1, 0, 1, 2, 0, 2, 0, 1, 1, 2, 0, 1, 0, 2, 0, 2, 1, 1, 2, 0, 1, 2, 0, 1, 0, 2, 0, 2, 1, 1, 0, 2, 1, 2, 0, 0, 1, 2, 1, 0, 2, 1, 0, 2, 1, 0, 2, 1, 0, 0, 1, 2, 1, 0, 2, 0, 1, 2, 0, 2, 1, 0, 2, 0, 1, 2, 2, 0, 1, 1, 2, 0, 0, 1, 2, 1, 0, 2, 1, 2, 0, 2, 0, 1, 1, 2, 0, 2, 1, 0, 2, 1, 0, 2, 0, 1, 2, 1, 0, 2, 0, 1, 0, 2, 1, 1, 0, 2, 1, 2, 0, 1, 0, 2, 2, 1, 0, 1, 2, 0, 1, 0, 2, 0, 1, 2, 0, 2, 1, 2, 1, 0, 2, 1, 0, 0, 2, 1, 0, 1, 2, 1, 0, 2, 2, 1, 0, 1, 0, 2, 1, 0, 2, 1, 0, 1, 2, 0, 2, 1, 0, 2, 1, 0, 0, 1, 2, 1, 0, 2, 0, 2, 1, 1, 0, 2, 2, 1, 2, 1, 0, 0, 1, 2, 2, 1, 0, 2, 1, 0, 0, 2, 1, 0, 2, 1, 2, 0, 1, 2, 1, 0, 0, 1, 2, 0, 1, 2, 1, 2, 0, 2, 0, 1, 2, 1, 0, 0, 1, 2, 0, 2, 1, 2, 0, 1, 0, 2, 1, 0, 2, 1, 2, 1, 0, 2, 0, 1, 2, 0, 1, 1, 2, 0, 0, 2, 1, 0, 1, 2, 2, 1, 0, 0, 2, 1, 2, 0, 1, 2, 0, 1, 2, 1, 0, 2, 0, 1, 0, 2, 1, 0, 1, 2, 0, 1, 2, 2, 1, 0, 1, 2, 0, 0, 2, 1, 2, 0, 1, 1, 0, 2, 2, 0, 1, 0, 2, 1, 1, 0, 2, 1, 0, 2, 2, 0, 1, 1, 2, 0, 0, 2, 1, 0, 1, 2, 2, 1, 0, 1, 0, 2, 2, 0, 1, 2, 0, 1, 1, 2, 0, 2, 1, 0, 2, 0, 1, 1, 2, 0, 2, 1, 0, 2, 0, 1, 0, 1, 2, 0, 1, 2, 2, 0, 1, 1, 0, 2, 1, 0, 2, 0, 2, 1, 2, 1, 0, 2, 1, 0, 2, 1, 0, 0, 1, 2, 0, 2, 1, 1, 2, 0, 2, 0, 1, 2, 1, 0, 1, 0, 2, 0, 2, 1, 0, 2, 1, 1, 0, 2, 2, 0, 1, 2, 0, 1, 0, 2, 1, 1, 2, 0, 1, 0, 2, 0, 2, 1, 2, 0, 1, 0, 2, 0, 1, 2, 0, 1, 2, 1, 0, 2, 1, 0, 2, 1, 2, 0, 2, 0, 1, 2, 1, 0, 1, 2, 0, 1, 2, 0, 0, 2, 1, 2, 0, 1, 2, 1, 0, 2, 0, 1, 2, 1, 0, 0, 2, 1, 1, 0, 2, 1, 2, 0, 0, 1, 2, 0, 2, 1, 0, 1, 2, 1, 0, 2, 0, 1, 2, 2, 1, 0, 1, 2, 0, 0, 1, 2, 0, 1, 2, 2, 1, 0, 2, 1, 0, 2, 0, 0, 1, 2, 2, 0, 1, 2, 1, 0, 2, 0, 1, 0, 2, 1, 1, 2, 0, 1, 0, 2, 0, 1, 2, 1, 0, 2, 0, 2, 1, 0, 1, 2, 1, 2, 0, 1, 0, 2, 2, 0, 1, 1, 2, 0, 1, 0, 2, 1, 2, 0, 0, 1, 2, 0, 2, 1, 2, 1, 0, 0, 1, 2, 0, 1, 2, 2, 1, 0, 0, 2, 1, 0, 1, 2, 0, 2, 1, 2, 0, 1, 0, 2, 1, 2, 1, 0, 0, 2, 1, 1, 0, 2, 2, 0, 1, 0, 1, 2, 1, 2, 0, 1, 0, 2, 1, 0, 1, 2, 0, 2, 1, 0, 0, 1, 2, 2, 0, 1, 2, 0, 1, 2, 0, 1, 0, 1, 2, 1, 0, 2, 2, 0, 1, 2, 1, 0, 0, 1, 2, 0, 2, 1, 2, 0, 1, 2, 0, 1, 1, 0, 2, 1, 2, 0, 0, 1, 2, 0, 1, 2, 2, 0, 1, 0, 1, 2, 2, 1, 0, 2, 1, 0, 1, 2, 0, 2, 0, 1, 1, 2, 0, 2, 1, 0, 1, 2, 0, 0, 2, 1, 0, 1, 2, 0, 2, 1, 0, 1, 2, 0, 1, 2, 0, 2, 1, 0, 2, 1, 2, 0, 1, 0, 2, 1, 2, 1, 0, 1, 0, 2, 0, 1, 2, 2, 1, 0, 0, 1, 2, 1, 2, 0, 0, 1, 2, 0, 1, 2, 1, 2, 0, 2, 1, 0, 2, 0, 1, 2, 1, 0, 2, 0, 1, 0, 1, 2, 1, 2, 0, 2, 1, 0, 1, 2, 0, 0, 1, 2, 0, 2, 1, 1, 0, 2, 0, 2, 1, 0, 1, 2, 1, 2, 0, 2, 1, 0, 1, 2, 0, 1, 2, 0, 1, 2, 0, 0, 2, 1, 0, 1, 2, 1, 2, 0, 2, 1, 0, 1, 2, 0, 2, 0, 1, 2, 1, 0, 0, 1, 2, 1, 2, 0, 1, 2, 0, 0, 1, 2, 0, 2, 1, 2, 1, 0, 0, 2, 1, 2, 1, 0, 2, 1, 0, 0, 1, 2, 2, 1, 0, 2, 1, 0, 0, 2, 1, 1, 2, 0, 2, 1, 0, 2, 0, 1, 0, 2, 1, 0, 1, 2, 1, 0, 2, 0, 1, 2, 1, 0, 0, 2, 1, 2, 1, 0, 0, 2, 1, 1, 2, 0, 1, 0, 2, 0, 2, 1, 2, 1, 0, 2, 0, 1, 0, 2, 1, 0, 2, 1, 2, 0, 1, 0, 2, 1, 2, 0, 1, 1, 0, 2, 0, 2, 1, 1, 2, 0, 2, 1, 0, 2, 0, 1, 1, 2, 0, 2, 1, 0, 0, 2, 1, 0, 2, 1, 2, 0, 1, 2, 0, 1, 1, 0, 2, 0, 1, 2, 2, 1, 0, 0, 2, 1, 1, 2, 0, 1, 2, 0, 1, 0, 2, 0, 2, 1, 1, 2, 0, 2, 0, 1, 1, 0, 2, 0, 2, 1, 2, 1, 0, 2, 1, 0, 0, 1, 2, 0, 2, 1, 2, 0, 1, 0, 1, 2, 2, 1, 0, 0, 2, 1, 0, 1, 2, 0, 1, 2, 0, 1, 2, 1, 0, 2, 1, 2, 0, 2, 1, 0, 2, 0, 1, 0, 2, 1, 0, 1, 2, 0, 2, 1, 0, 2, 1, 1, 2, 0, 0, 1, 2, 2, 0, 1, 2, 0, 1, 1, 0, 2, 0, 2, 1, 0, 2, 1, 1, 2, 0, 1, 2, 0, 0, 1, 2, 2, 0, 1, 1, 0, 2, 2, 1, 0, 2, 0, 1, 1, 0, 2, 0, 1, 2, 0, 1, 2, 2, 0, 1, 2, 0, 1, 1, 2, 0, 2, 0, 1, 0, 1, 2, 2, 1, 0, 1, 0, 2, 2, 1, 0, 1, 0, 2, 1, 0, 2, 0, 2, 1, 0, 1, 0, 1, 2, 2, 1, 0, 1, 2, 0, 1, 2, 0, 2, 0, 1, 0, 1, 2, 1, 2, 0, 2, 0, 1, 2, 0, 1, 1, 0, 2, 2, 1, 0, 0, 2, 1, 2, 1, 0, 2, 0, 1, 1, 0, 2, 2, 1, 0, 0, 2, 1, 1, 2, 0, 2, 1, 0, 2, 1, 0, 0, 2, 1, 0, 2, 1, 1, 0, 2, 0, 1, 2, 0, 1, 2, 1, 2, 0, 1, 2, 0, 0, 1, 2, 1, 2, 0, 0, 2, 1, 2, 0, 1, 2, 0, 1, 0, 2, 1, 0, 2, 1, 0, 1, 2, 0, 2, 1, 0, 1, 2, 1, 0, 2, 0, 2, 1, 2, 1, 0, 2, 0, 1, 1, 0, 2, 2, 1, 0, 0, 1, 2, 2, 0, 1, 1, 0, 2, 2, 1, 0, 2, 0, 1, 1, 2, 0, 0, 1, 2, 0, 2, 1, 0, 1, 2, 1, 0, 2, 2, 0, 1, 0, 1, 2, 1, 2, 0, 2, 0, 1, 2, 1, 0, 1, 2, 0, 2, 1, 0, 1, 0, 2, 2, 0, 1, 2, 1, 0, 1, 2, 0, 0, 2, 1, 0, 2, 1, 2, 1, 0, 1, 0, 2, 2, 0, 1, 0, 1, 2, 0, 2, 1, 1, 0, 2, 2, 1, 0, 0, 2, 1, 0, 1, 2, 0, 1, 2, 0, 2, 1, 0, 2, 1, 2, 0, 0, 1, 2, 0, 1, 2, 0, 2, 1, 0, 2, 1, 2, 0, 1, 2, 1, 0, 0, 2, 1, 0, 1, 2, 2, 1, 0, 2, 1, 0, 2, 1, 0, 1, 2, 0, 2, 1, 0, 1, 2, 0, 2, 0, 1, 0, 1, 2, 0, 2, 1, 0, 2, 1, 1, 2, 0, 2, 0, 1, 2, 1, 0, 0, 1, 2, 0, 2, 1, 0, 1, 2, 2, 0, 1, 0, 2, 1, 2, 1, 0, 2, 1, 0, 0, 1, 2, 0, 1, 2, 2, 0, 1, 0, 1, 2, 1, 2, 0, 0, 2, 1, 0, 1, 2, 1, 0, 2, 0, 2, 1, 2, 1, 0, 0, 2, 1, 1, 0, 2, 2, 0, 1, 2, 0, 1, 0, 1, 2, 2, 0, 1, 2, 0, 1, 1, 2, 0, 1, 0, 2, 0, 2, 1, 1, 2, 0, 0, 1, 2, 2, 0, 1, 0, 2, 1, 0, 2, 1, 2, 0, 1, 1, 2, 0, 0, 1, 2, 1, 0, 2, 2, 0, 1, 1, 2, 0, 2, 0, 1, 2, 0, 1, 0, 1, 2, 0, 2, 1, 2, 1, 0, 0, 1, 2, 0, 1, 2, 2, 1, 1, 0, 2, 2, 0, 1, 2, 1, 0, 0, 1, 2, 2, 0, 1, 1, 0, 2, 0, 2, 1, 0, 2, 1, 0, 2, 1, 2, 1, 0, 2, 1, 0, 0, 2, 1, 1, 2, 0, 2, 1, 0, 1, 2, 0, 2, 1, 0, 1, 0, 2, 1, 2, 0, 0, 1, 2, 0, 2, 1, 1, 0, 2, 2, 0, 1, 1, 0, 2, 1, 0, 2, 2, 0, 1, 0, 2, 1, 1, 0, 2, 2, 0, 1, 2, 0, 1, 2, 1, 0, 0, 1, 2, 2, 0, 1, 0, 1, 2, 1, 0, 2, 1, 0, 2, 2, 1, 0, 0, 1, 2, 0, 1, 0, 2, 1, 2, 1, 0, 1, 2, 0, 2, 0, 1, 1, 0, 2, 2, 0, 1, 0, 1, 2, 0, 2, 1, 0, 2, 1, 1, 0, 2, 0, 2, 1, 2, 1, 0, 0, 1, 2, 0, 2, 1, 2, 1, 0, 1, 0, 2, 2, 0, 1, 1, 2, 0, 0, 2, 1, 2, 1, 0, 1, 2, 0, 0, 1, 2, 2, 0, 1, 0, 2, 1, 2, 0, 1, 1, 0, 2, 0, 1, 2, 0, 2, 1, 1, 2, 0, 0, 2, 1, 2, 0, 1, 0, 2, 1, 0, 1, 2, 0, 2, 1, 1, 0, 2, 1, 2, 0, 2, 1, 0, 1, 0, 2, 1, 0, 2, 0, 2, 1, 1, 0, 2, 0, 1, 2, 1, 2, 0, 1, 2, 0, 2, 0, 1, 2, 1, 0, 0, 2, 1, 2, 0, 1, 2, 0, 1, 2, 0, 1, 2, 0, 1, 0, 2, 1, 2, 0, 1, 0, 1, 2, 0, 1, 2, 1, 2, 0, 2, 0, 1, 0, 2, 1, 1, 0, 2, 1, 2, 0, 0, 1, 2, 1, 2, 0, 1, 2, 0, 1, 0, 2, 0, 2, 1, 0, 2, 1, 0, 1, 2, 1, 0, 2, 1, 0, 2, 1, 2, 0, 0, 1, 2, 0, 2, 1, 0, 2, 1, 1, 0, 2, 0, 1, 2, 0, 1, 2, 0, 2, 1, 1, 0, 2, 2, 1, 0, 2, 1, 0, 0, 2, 1, 2, 0, 1, 0, 2, 1, 0, 2, 1, 2, 1, 0, 1, 0, 2, 1, 0, 2, 2, 1, 0, 2, 1, 0, 2, 1, 0, 2, 1, 0, 0, 2, 1, 1, 0, 2, 2, 0, 1, 2, 2, 1, 0, 0, 1, 2, 1, 0, 2, 1, 2, 0, 0, 1, 2, 0, 1, 2, 2, 0, 1, 0, 2, 1, 2, 0, 1, 0, 2, 1, 1, 2, 0, 0, 2, 1, 1, 2, 0, 2, 0, 1, 0, 2, 1, 1, 0, 2, 0, 1, 2, 2, 1, 2, 1, 0, 1, 2, 0, 2, 0, 1, 0, 2, 0, 1, 2, 0, 1, 2, 2, 1, 0, 0, 1, 2, 1, 0, 2, 2, 1, 0, 1, 0, 2, 1, 2, 0, 0, 2, 1, 0, 2, 1, 0, 2, 1, 1, 0, 2, 0, 1, 0, 2, 1, 0, 1, 2, 2, 1, 0, 1, 2, 0, 2, 1, 0, 2, 0, 1]\n"
          ]
        }
      ]
    },
    {
      "cell_type": "markdown",
      "source": [
        "# **Evaluation Metrics**"
      ],
      "metadata": {
        "id": "hIXup--IZ309"
      }
    },
    {
      "cell_type": "code",
      "source": [
        "print(f'Test Accuracy: {test_accuracy}')\n",
        "print(f'Test Precision: {test_precision}')\n",
        "print(f'Test Recall: {test_recall}')\n",
        "print(f'Test F1 Score: {test_f1}')\n",
        "print(f'Test Jaccard Score: {test_jaccard_score}')\n",
        "print(f'Test Log Loss: {test_log_loss}')"
      ],
      "metadata": {
        "colab": {
          "base_uri": "https://localhost:8080/"
        },
        "id": "jVcXiSQZZ13m",
        "outputId": "561c3c13-6392-4cb9-e987-64cba2fef30f"
      },
      "execution_count": 67,
      "outputs": [
        {
          "output_type": "stream",
          "name": "stdout",
          "text": [
            "Test Accuracy: 0.62267620020429\n",
            "Test Precision: 0.6317351315738685\n",
            "Test Recall: 0.6226688961315\n",
            "Test F1 Score: 0.6223500147574583\n",
            "Test Jaccard Score: 0.4519868262378474\n",
            "Test Log Loss: 1.0853951255783068\n"
          ]
        }
      ]
    },
    {
      "cell_type": "markdown",
      "source": [
        "* For a multiclass problem, sensitivity and specificity are typically calculated using a one-vs-all (or one-vs-rest) approach. This means treating each class as the positive class once while aggregating the others as the negative class."
      ],
      "metadata": {
        "id": "Q0jb96A-XMov"
      }
    },
    {
      "cell_type": "code",
      "source": [
        "from sklearn.metrics import confusion_matrix\n",
        "\n",
        "def sensitivity_score_multiclass(y_true, y_pred, class_label):\n",
        "    cm = confusion_matrix(y_true, y_pred)\n",
        "    true_positives = cm[class_label, class_label]\n",
        "    actual_positives = sum(cm[class_label, :])\n",
        "    return true_positives / actual_positives if actual_positives != 0 else 0\n",
        "\n",
        "num_classes = 3  # We have 3 classes (adjust according to your dataset)\n",
        "\n",
        "sensitivity_scores = []\n",
        "for class_label in range(num_classes):\n",
        "    sensitivity = sensitivity_score_multiclass(test_labels, test_preds, class_label)\n",
        "    sensitivity_scores.append(sensitivity)\n",
        "\n",
        "print(\"Sensitivity (Recall) for each class:\", sensitivity_scores)"
      ],
      "metadata": {
        "colab": {
          "base_uri": "https://localhost:8080/"
        },
        "id": "4o8mMf0iW_lT",
        "outputId": "91745b71-4cad-4019-e8aa-a22ba08112e0"
      },
      "execution_count": 68,
      "outputs": [
        {
          "output_type": "stream",
          "name": "stdout",
          "text": [
            "Sensitivity (Recall) for each class: [0.6742331288343558, 0.5419987737584304, 0.6517747858017136]\n"
          ]
        }
      ]
    },
    {
      "cell_type": "code",
      "source": [
        "def specificity_score_multiclass(y_true, y_pred, class_label):\n",
        "    cm = confusion_matrix(y_true, y_pred)\n",
        "    true_negatives = sum(sum(cm)) - sum(cm[class_label, :]) - sum(cm[:, class_label]) + cm[class_label, class_label]\n",
        "    actual_negatives = sum(sum(cm)) - sum(cm[class_label, :])\n",
        "    return true_negatives / actual_negatives if actual_negatives != 0 else 0\n",
        "specificity_scores = []\n",
        "for class_label in range(num_classes):\n",
        "    specificity = specificity_score_multiclass(test_labels, test_preds, class_label)\n",
        "    specificity_scores.append(specificity)\n",
        "\n",
        "print(\"Specificity for each class:\", specificity_scores)\n"
      ],
      "metadata": {
        "colab": {
          "base_uri": "https://localhost:8080/"
        },
        "id": "Qw8I0V_OXXYk",
        "outputId": "33423320-abed-4ff3-8f2d-eac0aaa158b4"
      },
      "execution_count": 69,
      "outputs": [
        {
          "output_type": "stream",
          "name": "stdout",
          "text": [
            "Specificity for each class: [0.795405819295559, 0.8866421568627451, 0.7519165900030665]\n"
          ]
        }
      ]
    },
    {
      "cell_type": "code",
      "source": [
        "from sklearn.preprocessing import LabelBinarizer\n",
        "# Convert labels to one-hot encoded format\n",
        "label_binarizer = LabelBinarizer()\n",
        "test_labels_one_hot = label_binarizer.fit_transform(test_labels)\n",
        "\n",
        "# Reshape the one-hot encoded labels\n",
        "num_classes = len(label_binarizer.classes_)\n",
        "test_labels_one_hot = test_labels_one_hot.reshape(-1, num_classes)\n",
        "\n",
        "# Creating a 2D array for test_preds\n",
        "num_samples = len(test_preds)\n",
        "num_classes = len(label_binarizer.classes_)\n",
        "formatted_preds = [[0] * num_classes for _ in range(num_samples)]\n",
        "for i, pred in enumerate(test_preds):\n",
        "    formatted_preds[i][pred] = 1\n",
        "\n",
        "# Calculate ROC AUC score for multiclass classification\n",
        "test_roc_auc_score = roc_auc_score(test_labels_one_hot, formatted_preds, average='macro', multi_class='ovo')\n",
        "print(\"Test ROC AUC Score:\", test_roc_auc_score)"
      ],
      "metadata": {
        "colab": {
          "base_uri": "https://localhost:8080/"
        },
        "id": "sgaso22xeD5C",
        "outputId": "6e500422-83d5-422d-b93b-9af086caebbf"
      },
      "execution_count": 70,
      "outputs": [
        {
          "output_type": "stream",
          "name": "stdout",
          "text": [
            "Test ROC AUC Score: 0.7169952090926449\n"
          ]
        }
      ]
    },
    {
      "cell_type": "code",
      "source": [
        "# Mapping numeric labels to category names\n",
        "label_map = {0: 'Entailment', 1: 'Contradiction', 2: 'Neutral'}\n",
        "\n",
        "# Convert numeric predictions to label names\n",
        "predicted_labels = [label_map[pred] for pred in test_preds]\n",
        "true_labels = [label_map[label] for label in test_labels]\n",
        "\n",
        "# Generate and print the classification report\n",
        "report = classification_report(true_labels, predicted_labels)\n",
        "print(\"Classification Report:\")\n",
        "print(report)"
      ],
      "metadata": {
        "colab": {
          "base_uri": "https://localhost:8080/"
        },
        "id": "6NVQ0W5LZJM5",
        "outputId": "6b5a9442-d0fe-4cbf-f835-c17453151d7d"
      },
      "execution_count": 71,
      "outputs": [
        {
          "output_type": "stream",
          "name": "stdout",
          "text": [
            "Classification Report:\n",
            "               precision    recall  f1-score   support\n",
            "\n",
            "Contradiction       0.70      0.54      0.61      1631\n",
            "   Entailment       0.62      0.67      0.65      1630\n",
            "      Neutral       0.57      0.65      0.61      1634\n",
            "\n",
            "     accuracy                           0.62      4895\n",
            "    macro avg       0.63      0.62      0.62      4895\n",
            " weighted avg       0.63      0.62      0.62      4895\n",
            "\n"
          ]
        }
      ]
    },
    {
      "cell_type": "markdown",
      "source": [
        "# **Confusion Matrix for MultiNLI Dataset**"
      ],
      "metadata": {
        "id": "u9ulwJOfaMyD"
      }
    },
    {
      "cell_type": "code",
      "source": [
        "# Generate confusion matrix\n",
        "conf_matrix = confusion_matrix(true_labels, predicted_labels)\n",
        "\n",
        "# Plot confusion matrix\n",
        "plt.figure(figsize=(6, 4))\n",
        "# Define the custom palette\n",
        "custom_palette = sns.color_palette(\"blend:#7AB,#EDA\", as_cmap=True) # Modify the number based on number of classes in the dataset\n",
        "#sns.color_palette(\"Spectral\", as_cmap=True)\n",
        "\n",
        "# Define custom font dictionary for title and labels\n",
        "font = {'family': 'Serif', 'weight': 'bold', 'size': 12}\n",
        "\n",
        "# Create heatmap with annotations and colormap\n",
        "heatmap = sns.heatmap(conf_matrix, annot=True, fmt='d', cmap=custom_palette,\n",
        "                      xticklabels=['Contradiction', 'Entailment', 'Neutral'], yticklabels=['Contradiction', 'Entailment', 'Neutral'],annot_kws={\"family\": \"Serif\", 'size': 12, 'color':'black'})\n",
        "\n",
        "# Set x and y labels with the custom font dictionary\n",
        "heatmap.set_xlabel('Predicted Labels', fontdict=font)\n",
        "heatmap.set_ylabel('True Labels', fontdict=font)\n",
        "heatmap.set_title('Natural Language Inference on \\n XNLI Dataset', fontdict=font)\n",
        "\n",
        "# Set font properties for tick labels on both axes\n",
        "heatmap.set_xticklabels(heatmap.get_xticklabels(), fontname='Serif', fontsize=10)\n",
        "heatmap.set_yticklabels(heatmap.get_yticklabels(), fontname='Serif', fontsize=10)\n",
        "\n",
        "# Create a color bar to indicate the scale\n",
        "cbar = heatmap.collections[0].colorbar\n",
        "cbar.set_label('Count', fontdict=font)\n",
        "cbar.ax.tick_params(labelsize=10)\n",
        "\n",
        "plt.show()\n"
      ],
      "metadata": {
        "colab": {
          "base_uri": "https://localhost:8080/",
          "height": 432
        },
        "id": "T3RZGUFBZJQR",
        "outputId": "b568d1a7-27ea-4290-d1d8-09b6dbda3a25"
      },
      "execution_count": 73,
      "outputs": [
        {
          "output_type": "display_data",
          "data": {
            "text/plain": [
              "<Figure size 600x400 with 2 Axes>"
            ],
            "image/png": "[encoded data removed]"
          },
          "metadata": {}
        }
      ]
    },
    {
      "cell_type": "markdown",
      "source": [
        "# **Save results to a csv file**"
      ],
      "metadata": {
        "id": "dY4JWgMxaZiJ"
      }
    },
    {
      "cell_type": "code",
      "source": [
        "# Combine the lists into a DataFrame\n",
        "data = {'Sentence1': df_test['sentence1'],\n",
        "        'Sentence2': df_test['sentence2'],\n",
        "        'True_Labels': df_test['label'],\n",
        "        'Predicted_Labels': test_preds}\n",
        "df = pd.DataFrame(data)\n",
        "\n",
        "# Save the DataFrame to a CSV file\n",
        "df.to_csv('predicted_results.csv', index=False)\n"
      ],
      "metadata": {
        "id": "3enaoA8nZQhE"
      },
      "execution_count": 74,
      "outputs": []
    },
    {
      "cell_type": "markdown",
      "source": [
        "# **Save the model and its tokenizer**"
      ],
      "metadata": {
        "id": "3OewdOJGZFN-"
      }
    },
    {
      "cell_type": "code",
      "source": [
        "# Save the model\n",
        "model.save_pretrained('/content/drive/MyDrive/Natural_Language_Inference/NLI_mBERT/NLI_mBERT_Model.pt')\n",
        "\n",
        "# Save the tokenizer\n",
        "tokenizer.save_pretrained('/content/drive/MyDrive/Natural_Language_Inference/NLI_mBERT/NLI_mBERT_Tokenizer.json')"
      ],
      "metadata": {
        "id": "zca-M5R6ZQ6E",
        "colab": {
          "base_uri": "https://localhost:8080/"
        },
        "outputId": "29b34ac2-77ec-47a7-8f61-d1e2a433a236"
      },
      "execution_count": 75,
      "outputs": [
        {
          "output_type": "execute_result",
          "data": {
            "text/plain": [
              "('/content/drive/MyDrive/Natural_Language_Inference/NLI_mBERT/NLI_mBERT_Tokenizer.json/tokenizer_config.json',\n",
              " '/content/drive/MyDrive/Natural_Language_Inference/NLI_mBERT/NLI_mBERT_Tokenizer.json/special_tokens_map.json',\n",
              " '/content/drive/MyDrive/Natural_Language_Inference/NLI_mBERT/NLI_mBERT_Tokenizer.json/vocab.txt',\n",
              " '/content/drive/MyDrive/Natural_Language_Inference/NLI_mBERT/NLI_mBERT_Tokenizer.json/added_tokens.json')"
            ]
          },
          "metadata": {},
          "execution_count": 75
        }
      ]
    },
    {
      "cell_type": "markdown",
      "source": [
        "# **Load the model and its tokenizer**"
      ],
      "metadata": {
        "id": "Co55vDWHZKb6"
      }
    },
    {
      "cell_type": "code",
      "source": [
        "# load the model\n",
        "model.from_pretrained('/content/drive/MyDrive/Natural_Language_Inference/NLI_mBERT/NLI_mBERT_Model.pt')\n",
        "\n",
        "# load the tokenizer\n",
        "tokenizer.from_pretrained('/content/drive/MyDrive/Natural_Language_Inference/NLI_mBERT/NLI_mBERT_Tokenizer.json')\n"
      ],
      "metadata": {
        "colab": {
          "base_uri": "https://localhost:8080/"
        },
        "id": "UPIG5hI6ZSMN",
        "outputId": "b5f89dae-d1d0-41fe-9ab6-d8300a22e5f7"
      },
      "execution_count": 76,
      "outputs": [
        {
          "output_type": "execute_result",
          "data": {
            "text/plain": [
              "BertTokenizer(name_or_path='/content/drive/MyDrive/Natural_Language_Inference/NLI_mBERT/NLI_mBERT_Tokenizer.json', vocab_size=119547, model_max_length=512, is_fast=False, padding_side='right', truncation_side='right', special_tokens={'unk_token': '[UNK]', 'sep_token': '[SEP]', 'pad_token': '[PAD]', 'cls_token': '[CLS]', 'mask_token': '[MASK]'}, clean_up_tokenization_spaces=True),  added_tokens_decoder={\n",
              "\t0: AddedToken(\"[PAD]\", rstrip=False, lstrip=False, single_word=False, normalized=False, special=True),\n",
              "\t100: AddedToken(\"[UNK]\", rstrip=False, lstrip=False, single_word=False, normalized=False, special=True),\n",
              "\t101: AddedToken(\"[CLS]\", rstrip=False, lstrip=False, single_word=False, normalized=False, special=True),\n",
              "\t102: AddedToken(\"[SEP]\", rstrip=False, lstrip=False, single_word=False, normalized=False, special=True),\n",
              "\t103: AddedToken(\"[MASK]\", rstrip=False, lstrip=False, single_word=False, normalized=False, special=True),\n",
              "}"
            ]
          },
          "metadata": {},
          "execution_count": 76
        }
      ]
    }
  ]
}