{
  "nbformat": 4,
  "nbformat_minor": 0,
  "metadata": {
    "colab": {
      "provenance": [],
      "gpuType": "T4",
      "include_colab_link": true
    },
    "kernelspec": {
      "name": "python3",
      "display_name": "Python 3"
    },
    "language_info": {
      "name": "python"
    },
    "accelerator": "GPU",
    "widgets": {
      "application/vnd.jupyter.widget-state+json": {
        "9ab239b4dee74a0ab9b86fe02f070c22": {
          "model_module": "@jupyter-widgets/controls",
          "model_name": "HBoxModel",
          "model_module_version": "1.5.0",
          "state": {
            "_dom_classes": [],
            "_model_module": "@jupyter-widgets/controls",
            "_model_module_version": "1.5.0",
            "_model_name": "HBoxModel",
            "_view_count": null,
            "_view_module": "@jupyter-widgets/controls",
            "_view_module_version": "1.5.0",
            "_view_name": "HBoxView",
            "box_style": "",
            "children": [
              "IPY_MODEL_405a2f699c984ed4b3c908e9845228dc",
              "IPY_MODEL_4057e877a44f4115a9784fea60e7d684",
              "IPY_MODEL_4b19e2a6518b4de2ad6cdebbd03582a4"
            ],
            "layout": "IPY_MODEL_cda9f79a5bad421ba5647e20a6c351ed"
          }
        },
        "405a2f699c984ed4b3c908e9845228dc": {
          "model_module": "@jupyter-widgets/controls",
          "model_name": "HTMLModel",
          "model_module_version": "1.5.0",
          "state": {
            "_dom_classes": [],
            "_model_module": "@jupyter-widgets/controls",
            "_model_module_version": "1.5.0",
            "_model_name": "HTMLModel",
            "_view_count": null,
            "_view_module": "@jupyter-widgets/controls",
            "_view_module_version": "1.5.0",
            "_view_name": "HTMLView",
            "description": "",
            "description_tooltip": null,
            "layout": "IPY_MODEL_13ed7e116ffe4a629c2a3d540e9500cb",
            "placeholder": "​",
            "style": "IPY_MODEL_1732fce6433b4e998578ad667bea2683",
            "value": "config.json: 100%"
          }
        },
        "4057e877a44f4115a9784fea60e7d684": {
          "model_module": "@jupyter-widgets/controls",
          "model_name": "FloatProgressModel",
          "model_module_version": "1.5.0",
          "state": {
            "_dom_classes": [],
            "_model_module": "@jupyter-widgets/controls",
            "_model_module_version": "1.5.0",
            "_model_name": "FloatProgressModel",
            "_view_count": null,
            "_view_module": "@jupyter-widgets/controls",
            "_view_module_version": "1.5.0",
            "_view_name": "ProgressView",
            "bar_style": "success",
            "description": "",
            "description_tooltip": null,
            "layout": "IPY_MODEL_0866cb8fd2b2438689a0c182f6d97a6a",
            "max": 491,
            "min": 0,
            "orientation": "horizontal",
            "style": "IPY_MODEL_bc70958c339c4264a2c78caf4e3211c3",
            "value": 491
          }
        },
        "4b19e2a6518b4de2ad6cdebbd03582a4": {
          "model_module": "@jupyter-widgets/controls",
          "model_name": "HTMLModel",
          "model_module_version": "1.5.0",
          "state": {
            "_dom_classes": [],
            "_model_module": "@jupyter-widgets/controls",
            "_model_module_version": "1.5.0",
            "_model_name": "HTMLModel",
            "_view_count": null,
            "_view_module": "@jupyter-widgets/controls",
            "_view_module_version": "1.5.0",
            "_view_name": "HTMLView",
            "description": "",
            "description_tooltip": null,
            "layout": "IPY_MODEL_71524abe6fa243c6b1a418dd956f2646",
            "placeholder": "​",
            "style": "IPY_MODEL_3665cd15ea9f48c79f3a8538adb9ae51",
            "value": " 491/491 [00:00&lt;00:00, 24.6kB/s]"
          }
        },
        "cda9f79a5bad421ba5647e20a6c351ed": {
          "model_module": "@jupyter-widgets/base",
          "model_name": "LayoutModel",
          "model_module_version": "1.2.0",
          "state": {
            "_model_module": "@jupyter-widgets/base",
            "_model_module_version": "1.2.0",
            "_model_name": "LayoutModel",
            "_view_count": null,
            "_view_module": "@jupyter-widgets/base",
            "_view_module_version": "1.2.0",
            "_view_name": "LayoutView",
            "align_content": null,
            "align_items": null,
            "align_self": null,
            "border": null,
            "bottom": null,
            "display": null,
            "flex": null,
            "flex_flow": null,
            "grid_area": null,
            "grid_auto_columns": null,
            "grid_auto_flow": null,
            "grid_auto_rows": null,
            "grid_column": null,
            "grid_gap": null,
            "grid_row": null,
            "grid_template_areas": null,
            "grid_template_columns": null,
            "grid_template_rows": null,
            "height": null,
            "justify_content": null,
            "justify_items": null,
            "left": null,
            "margin": null,
            "max_height": null,
            "max_width": null,
            "min_height": null,
            "min_width": null,
            "object_fit": null,
            "object_position": null,
            "order": null,
            "overflow": null,
            "overflow_x": null,
            "overflow_y": null,
            "padding": null,
            "right": null,
            "top": null,
            "visibility": null,
            "width": null
          }
        },
        "13ed7e116ffe4a629c2a3d540e9500cb": {
          "model_module": "@jupyter-widgets/base",
          "model_name": "LayoutModel",
          "model_module_version": "1.2.0",
          "state": {
            "_model_module": "@jupyter-widgets/base",
            "_model_module_version": "1.2.0",
            "_model_name": "LayoutModel",
            "_view_count": null,
            "_view_module": "@jupyter-widgets/base",
            "_view_module_version": "1.2.0",
            "_view_name": "LayoutView",
            "align_content": null,
            "align_items": null,
            "align_self": null,
            "border": null,
            "bottom": null,
            "display": null,
            "flex": null,
            "flex_flow": null,
            "grid_area": null,
            "grid_auto_columns": null,
            "grid_auto_flow": null,
            "grid_auto_rows": null,
            "grid_column": null,
            "grid_gap": null,
            "grid_row": null,
            "grid_template_areas": null,
            "grid_template_columns": null,
            "grid_template_rows": null,
            "height": null,
            "justify_content": null,
            "justify_items": null,
            "left": null,
            "margin": null,
            "max_height": null,
            "max_width": null,
            "min_height": null,
            "min_width": null,
            "object_fit": null,
            "object_position": null,
            "order": null,
            "overflow": null,
            "overflow_x": null,
            "overflow_y": null,
            "padding": null,
            "right": null,
            "top": null,
            "visibility": null,
            "width": null
          }
        },
        "1732fce6433b4e998578ad667bea2683": {
          "model_module": "@jupyter-widgets/controls",
          "model_name": "DescriptionStyleModel",
          "model_module_version": "1.5.0",
          "state": {
            "_model_module": "@jupyter-widgets/controls",
            "_model_module_version": "1.5.0",
            "_model_name": "DescriptionStyleModel",
            "_view_count": null,
            "_view_module": "@jupyter-widgets/base",
            "_view_module_version": "1.2.0",
            "_view_name": "StyleView",
            "description_width": ""
          }
        },
        "0866cb8fd2b2438689a0c182f6d97a6a": {
          "model_module": "@jupyter-widgets/base",
          "model_name": "LayoutModel",
          "model_module_version": "1.2.0",
          "state": {
            "_model_module": "@jupyter-widgets/base",
            "_model_module_version": "1.2.0",
            "_model_name": "LayoutModel",
            "_view_count": null,
            "_view_module": "@jupyter-widgets/base",
            "_view_module_version": "1.2.0",
            "_view_name": "LayoutView",
            "align_content": null,
            "align_items": null,
            "align_self": null,
            "border": null,
            "bottom": null,
            "display": null,
            "flex": null,
            "flex_flow": null,
            "grid_area": null,
            "grid_auto_columns": null,
            "grid_auto_flow": null,
            "grid_auto_rows": null,
            "grid_column": null,
            "grid_gap": null,
            "grid_row": null,
            "grid_template_areas": null,
            "grid_template_columns": null,
            "grid_template_rows": null,
            "height": null,
            "justify_content": null,
            "justify_items": null,
            "left": null,
            "margin": null,
            "max_height": null,
            "max_width": null,
            "min_height": null,
            "min_width": null,
            "object_fit": null,
            "object_position": null,
            "order": null,
            "overflow": null,
            "overflow_x": null,
            "overflow_y": null,
            "padding": null,
            "right": null,
            "top": null,
            "visibility": null,
            "width": null
          }
        },
        "bc70958c339c4264a2c78caf4e3211c3": {
          "model_module": "@jupyter-widgets/controls",
          "model_name": "ProgressStyleModel",
          "model_module_version": "1.5.0",
          "state": {
            "_model_module": "@jupyter-widgets/controls",
            "_model_module_version": "1.5.0",
            "_model_name": "ProgressStyleModel",
            "_view_count": null,
            "_view_module": "@jupyter-widgets/base",
            "_view_module_version": "1.2.0",
            "_view_name": "StyleView",
            "bar_color": null,
            "description_width": ""
          }
        },
        "71524abe6fa243c6b1a418dd956f2646": {
          "model_module": "@jupyter-widgets/base",
          "model_name": "LayoutModel",
          "model_module_version": "1.2.0",
          "state": {
            "_model_module": "@jupyter-widgets/base",
            "_model_module_version": "1.2.0",
            "_model_name": "LayoutModel",
            "_view_count": null,
            "_view_module": "@jupyter-widgets/base",
            "_view_module_version": "1.2.0",
            "_view_name": "LayoutView",
            "align_content": null,
            "align_items": null,
            "align_self": null,
            "border": null,
            "bottom": null,
            "display": null,
            "flex": null,
            "flex_flow": null,
            "grid_area": null,
            "grid_auto_columns": null,
            "grid_auto_flow": null,
            "grid_auto_rows": null,
            "grid_column": null,
            "grid_gap": null,
            "grid_row": null,
            "grid_template_areas": null,
            "grid_template_columns": null,
            "grid_template_rows": null,
            "height": null,
            "justify_content": null,
            "justify_items": null,
            "left": null,
            "margin": null,
            "max_height": null,
            "max_width": null,
            "min_height": null,
            "min_width": null,
            "object_fit": null,
            "object_position": null,
            "order": null,
            "overflow": null,
            "overflow_x": null,
            "overflow_y": null,
            "padding": null,
            "right": null,
            "top": null,
            "visibility": null,
            "width": null
          }
        },
        "3665cd15ea9f48c79f3a8538adb9ae51": {
          "model_module": "@jupyter-widgets/controls",
          "model_name": "DescriptionStyleModel",
          "model_module_version": "1.5.0",
          "state": {
            "_model_module": "@jupyter-widgets/controls",
            "_model_module_version": "1.5.0",
            "_model_name": "DescriptionStyleModel",
            "_view_count": null,
            "_view_module": "@jupyter-widgets/base",
            "_view_module_version": "1.2.0",
            "_view_name": "StyleView",
            "description_width": ""
          }
        },
        "d81f68e9e15140f3a60db82b937c48ab": {
          "model_module": "@jupyter-widgets/controls",
          "model_name": "HBoxModel",
          "model_module_version": "1.5.0",
          "state": {
            "_dom_classes": [],
            "_model_module": "@jupyter-widgets/controls",
            "_model_module_version": "1.5.0",
            "_model_name": "HBoxModel",
            "_view_count": null,
            "_view_module": "@jupyter-widgets/controls",
            "_view_module_version": "1.5.0",
            "_view_name": "HBoxView",
            "box_style": "",
            "children": [
              "IPY_MODEL_d99e5e68733b42e6b057fb80e536365b",
              "IPY_MODEL_3515fc20aacb4f41861a4ff0ec2a6f4e",
              "IPY_MODEL_c43679ae43d24b64aa45ac9d5ee24974"
            ],
            "layout": "IPY_MODEL_019c76db50174603a7d3aa3d9795f93d"
          }
        },
        "d99e5e68733b42e6b057fb80e536365b": {
          "model_module": "@jupyter-widgets/controls",
          "model_name": "HTMLModel",
          "model_module_version": "1.5.0",
          "state": {
            "_dom_classes": [],
            "_model_module": "@jupyter-widgets/controls",
            "_model_module_version": "1.5.0",
            "_model_name": "HTMLModel",
            "_view_count": null,
            "_view_module": "@jupyter-widgets/controls",
            "_view_module_version": "1.5.0",
            "_view_name": "HTMLView",
            "description": "",
            "description_tooltip": null,
            "layout": "IPY_MODEL_44ca99e73770450dae9f546a212b9fd6",
            "placeholder": "​",
            "style": "IPY_MODEL_8539c5ccbdc845fbb1cb824c7e29d5dd",
            "value": "model.safetensors: 100%"
          }
        },
        "3515fc20aacb4f41861a4ff0ec2a6f4e": {
          "model_module": "@jupyter-widgets/controls",
          "model_name": "FloatProgressModel",
          "model_module_version": "1.5.0",
          "state": {
            "_dom_classes": [],
            "_model_module": "@jupyter-widgets/controls",
            "_model_module_version": "1.5.0",
            "_model_name": "FloatProgressModel",
            "_view_count": null,
            "_view_module": "@jupyter-widgets/controls",
            "_view_module_version": "1.5.0",
            "_view_name": "ProgressView",
            "bar_style": "success",
            "description": "",
            "description_tooltip": null,
            "layout": "IPY_MODEL_e0f3db97e1cb4528b89e6008a593d6f0",
            "max": 660393036,
            "min": 0,
            "orientation": "horizontal",
            "style": "IPY_MODEL_67984599f0ea4ddf836dabe927e38e03",
            "value": 660393036
          }
        },
        "c43679ae43d24b64aa45ac9d5ee24974": {
          "model_module": "@jupyter-widgets/controls",
          "model_name": "HTMLModel",
          "model_module_version": "1.5.0",
          "state": {
            "_dom_classes": [],
            "_model_module": "@jupyter-widgets/controls",
            "_model_module_version": "1.5.0",
            "_model_name": "HTMLModel",
            "_view_count": null,
            "_view_module": "@jupyter-widgets/controls",
            "_view_module_version": "1.5.0",
            "_view_name": "HTMLView",
            "description": "",
            "description_tooltip": null,
            "layout": "IPY_MODEL_1d54bcc355e9486dab1cdbd0021cd1ce",
            "placeholder": "​",
            "style": "IPY_MODEL_ab7a90644cbf41aea5355407a0686c19",
            "value": " 660M/660M [00:06&lt;00:00, 230MB/s]"
          }
        },
        "019c76db50174603a7d3aa3d9795f93d": {
          "model_module": "@jupyter-widgets/base",
          "model_name": "LayoutModel",
          "model_module_version": "1.2.0",
          "state": {
            "_model_module": "@jupyter-widgets/base",
            "_model_module_version": "1.2.0",
            "_model_name": "LayoutModel",
            "_view_count": null,
            "_view_module": "@jupyter-widgets/base",
            "_view_module_version": "1.2.0",
            "_view_name": "LayoutView",
            "align_content": null,
            "align_items": null,
            "align_self": null,
            "border": null,
            "bottom": null,
            "display": null,
            "flex": null,
            "flex_flow": null,
            "grid_area": null,
            "grid_auto_columns": null,
            "grid_auto_flow": null,
            "grid_auto_rows": null,
            "grid_column": null,
            "grid_gap": null,
            "grid_row": null,
            "grid_template_areas": null,
            "grid_template_columns": null,
            "grid_template_rows": null,
            "height": null,
            "justify_content": null,
            "justify_items": null,
            "left": null,
            "margin": null,
            "max_height": null,
            "max_width": null,
            "min_height": null,
            "min_width": null,
            "object_fit": null,
            "object_position": null,
            "order": null,
            "overflow": null,
            "overflow_x": null,
            "overflow_y": null,
            "padding": null,
            "right": null,
            "top": null,
            "visibility": null,
            "width": null
          }
        },
        "44ca99e73770450dae9f546a212b9fd6": {
          "model_module": "@jupyter-widgets/base",
          "model_name": "LayoutModel",
          "model_module_version": "1.2.0",
          "state": {
            "_model_module": "@jupyter-widgets/base",
            "_model_module_version": "1.2.0",
            "_model_name": "LayoutModel",
            "_view_count": null,
            "_view_module": "@jupyter-widgets/base",
            "_view_module_version": "1.2.0",
            "_view_name": "LayoutView",
            "align_content": null,
            "align_items": null,
            "align_self": null,
            "border": null,
            "bottom": null,
            "display": null,
            "flex": null,
            "flex_flow": null,
            "grid_area": null,
            "grid_auto_columns": null,
            "grid_auto_flow": null,
            "grid_auto_rows": null,
            "grid_column": null,
            "grid_gap": null,
            "grid_row": null,
            "grid_template_areas": null,
            "grid_template_columns": null,
            "grid_template_rows": null,
            "height": null,
            "justify_content": null,
            "justify_items": null,
            "left": null,
            "margin": null,
            "max_height": null,
            "max_width": null,
            "min_height": null,
            "min_width": null,
            "object_fit": null,
            "object_position": null,
            "order": null,
            "overflow": null,
            "overflow_x": null,
            "overflow_y": null,
            "padding": null,
            "right": null,
            "top": null,
            "visibility": null,
            "width": null
          }
        },
        "8539c5ccbdc845fbb1cb824c7e29d5dd": {
          "model_module": "@jupyter-widgets/controls",
          "model_name": "DescriptionStyleModel",
          "model_module_version": "1.5.0",
          "state": {
            "_model_module": "@jupyter-widgets/controls",
            "_model_module_version": "1.5.0",
            "_model_name": "DescriptionStyleModel",
            "_view_count": null,
            "_view_module": "@jupyter-widgets/base",
            "_view_module_version": "1.2.0",
            "_view_name": "StyleView",
            "description_width": ""
          }
        },
        "e0f3db97e1cb4528b89e6008a593d6f0": {
          "model_module": "@jupyter-widgets/base",
          "model_name": "LayoutModel",
          "model_module_version": "1.2.0",
          "state": {
            "_model_module": "@jupyter-widgets/base",
            "_model_module_version": "1.2.0",
            "_model_name": "LayoutModel",
            "_view_count": null,
            "_view_module": "@jupyter-widgets/base",
            "_view_module_version": "1.2.0",
            "_view_name": "LayoutView",
            "align_content": null,
            "align_items": null,
            "align_self": null,
            "border": null,
            "bottom": null,
            "display": null,
            "flex": null,
            "flex_flow": null,
            "grid_area": null,
            "grid_auto_columns": null,
            "grid_auto_flow": null,
            "grid_auto_rows": null,
            "grid_column": null,
            "grid_gap": null,
            "grid_row": null,
            "grid_template_areas": null,
            "grid_template_columns": null,
            "grid_template_rows": null,
            "height": null,
            "justify_content": null,
            "justify_items": null,
            "left": null,
            "margin": null,
            "max_height": null,
            "max_width": null,
            "min_height": null,
            "min_width": null,
            "object_fit": null,
            "object_position": null,
            "order": null,
            "overflow": null,
            "overflow_x": null,
            "overflow_y": null,
            "padding": null,
            "right": null,
            "top": null,
            "visibility": null,
            "width": null
          }
        },
        "67984599f0ea4ddf836dabe927e38e03": {
          "model_module": "@jupyter-widgets/controls",
          "model_name": "ProgressStyleModel",
          "model_module_version": "1.5.0",
          "state": {
            "_model_module": "@jupyter-widgets/controls",
            "_model_module_version": "1.5.0",
            "_model_name": "ProgressStyleModel",
            "_view_count": null,
            "_view_module": "@jupyter-widgets/base",
            "_view_module_version": "1.2.0",
            "_view_name": "StyleView",
            "bar_color": null,
            "description_width": ""
          }
        },
        "1d54bcc355e9486dab1cdbd0021cd1ce": {
          "model_module": "@jupyter-widgets/base",
          "model_name": "LayoutModel",
          "model_module_version": "1.2.0",
          "state": {
            "_model_module": "@jupyter-widgets/base",
            "_model_module_version": "1.2.0",
            "_model_name": "LayoutModel",
            "_view_count": null,
            "_view_module": "@jupyter-widgets/base",
            "_view_module_version": "1.2.0",
            "_view_name": "LayoutView",
            "align_content": null,
            "align_items": null,
            "align_self": null,
            "border": null,
            "bottom": null,
            "display": null,
            "flex": null,
            "flex_flow": null,
            "grid_area": null,
            "grid_auto_columns": null,
            "grid_auto_flow": null,
            "grid_auto_rows": null,
            "grid_column": null,
            "grid_gap": null,
            "grid_row": null,
            "grid_template_areas": null,
            "grid_template_columns": null,
            "grid_template_rows": null,
            "height": null,
            "justify_content": null,
            "justify_items": null,
            "left": null,
            "margin": null,
            "max_height": null,
            "max_width": null,
            "min_height": null,
            "min_width": null,
            "object_fit": null,
            "object_position": null,
            "order": null,
            "overflow": null,
            "overflow_x": null,
            "overflow_y": null,
            "padding": null,
            "right": null,
            "top": null,
            "visibility": null,
            "width": null
          }
        },
        "ab7a90644cbf41aea5355407a0686c19": {
          "model_module": "@jupyter-widgets/controls",
          "model_name": "DescriptionStyleModel",
          "model_module_version": "1.5.0",
          "state": {
            "_model_module": "@jupyter-widgets/controls",
            "_model_module_version": "1.5.0",
            "_model_name": "DescriptionStyleModel",
            "_view_count": null,
            "_view_module": "@jupyter-widgets/base",
            "_view_module_version": "1.2.0",
            "_view_name": "StyleView",
            "description_width": ""
          }
        },
        "e23dfa720481412eb42def1597b5672b": {
          "model_module": "@jupyter-widgets/controls",
          "model_name": "HBoxModel",
          "model_module_version": "1.5.0",
          "state": {
            "_dom_classes": [],
            "_model_module": "@jupyter-widgets/controls",
            "_model_module_version": "1.5.0",
            "_model_name": "HBoxModel",
            "_view_count": null,
            "_view_module": "@jupyter-widgets/controls",
            "_view_module_version": "1.5.0",
            "_view_name": "HBoxView",
            "box_style": "",
            "children": [
              "IPY_MODEL_98dee9ce3b79420ca44f1d7d44b56c0d",
              "IPY_MODEL_499c5c2226834c55b268453548b0be7c",
              "IPY_MODEL_6d4e6faea2f24b839891976ff40099e2"
            ],
            "layout": "IPY_MODEL_d331977a48204524a0a29d88161eba3a"
          }
        },
        "98dee9ce3b79420ca44f1d7d44b56c0d": {
          "model_module": "@jupyter-widgets/controls",
          "model_name": "HTMLModel",
          "model_module_version": "1.5.0",
          "state": {
            "_dom_classes": [],
            "_model_module": "@jupyter-widgets/controls",
            "_model_module_version": "1.5.0",
            "_model_name": "HTMLModel",
            "_view_count": null,
            "_view_module": "@jupyter-widgets/controls",
            "_view_module_version": "1.5.0",
            "_view_name": "HTMLView",
            "description": "",
            "description_tooltip": null,
            "layout": "IPY_MODEL_b432242c3b4449e8b0b11a3695e67c3c",
            "placeholder": "​",
            "style": "IPY_MODEL_e0b119eb336d45f4b21954701d41bf51",
            "value": "vocab.txt: 100%"
          }
        },
        "499c5c2226834c55b268453548b0be7c": {
          "model_module": "@jupyter-widgets/controls",
          "model_name": "FloatProgressModel",
          "model_module_version": "1.5.0",
          "state": {
            "_dom_classes": [],
            "_model_module": "@jupyter-widgets/controls",
            "_model_module_version": "1.5.0",
            "_model_name": "FloatProgressModel",
            "_view_count": null,
            "_view_module": "@jupyter-widgets/controls",
            "_view_module_version": "1.5.0",
            "_view_name": "ProgressView",
            "bar_style": "success",
            "description": "",
            "description_tooltip": null,
            "layout": "IPY_MODEL_32a092920bb54dd0ae0a6a5bf06535f0",
            "max": 2237676,
            "min": 0,
            "orientation": "horizontal",
            "style": "IPY_MODEL_1abd9e36cdba4f43b95b46b2dab80429",
            "value": 2237676
          }
        },
        "6d4e6faea2f24b839891976ff40099e2": {
          "model_module": "@jupyter-widgets/controls",
          "model_name": "HTMLModel",
          "model_module_version": "1.5.0",
          "state": {
            "_dom_classes": [],
            "_model_module": "@jupyter-widgets/controls",
            "_model_module_version": "1.5.0",
            "_model_name": "HTMLModel",
            "_view_count": null,
            "_view_module": "@jupyter-widgets/controls",
            "_view_module_version": "1.5.0",
            "_view_name": "HTMLView",
            "description": "",
            "description_tooltip": null,
            "layout": "IPY_MODEL_cd07b9365ee946b389a6e51af0cb2d62",
            "placeholder": "​",
            "style": "IPY_MODEL_2b91e9e3a28d45c7859c7ea84432e488",
            "value": " 2.24M/2.24M [00:00&lt;00:00, 12.6MB/s]"
          }
        },
        "d331977a48204524a0a29d88161eba3a": {
          "model_module": "@jupyter-widgets/base",
          "model_name": "LayoutModel",
          "model_module_version": "1.2.0",
          "state": {
            "_model_module": "@jupyter-widgets/base",
            "_model_module_version": "1.2.0",
            "_model_name": "LayoutModel",
            "_view_count": null,
            "_view_module": "@jupyter-widgets/base",
            "_view_module_version": "1.2.0",
            "_view_name": "LayoutView",
            "align_content": null,
            "align_items": null,
            "align_self": null,
            "border": null,
            "bottom": null,
            "display": null,
            "flex": null,
            "flex_flow": null,
            "grid_area": null,
            "grid_auto_columns": null,
            "grid_auto_flow": null,
            "grid_auto_rows": null,
            "grid_column": null,
            "grid_gap": null,
            "grid_row": null,
            "grid_template_areas": null,
            "grid_template_columns": null,
            "grid_template_rows": null,
            "height": null,
            "justify_content": null,
            "justify_items": null,
            "left": null,
            "margin": null,
            "max_height": null,
            "max_width": null,
            "min_height": null,
            "min_width": null,
            "object_fit": null,
            "object_position": null,
            "order": null,
            "overflow": null,
            "overflow_x": null,
            "overflow_y": null,
            "padding": null,
            "right": null,
            "top": null,
            "visibility": null,
            "width": null
          }
        },
        "b432242c3b4449e8b0b11a3695e67c3c": {
          "model_module": "@jupyter-widgets/base",
          "model_name": "LayoutModel",
          "model_module_version": "1.2.0",
          "state": {
            "_model_module": "@jupyter-widgets/base",
            "_model_module_version": "1.2.0",
            "_model_name": "LayoutModel",
            "_view_count": null,
            "_view_module": "@jupyter-widgets/base",
            "_view_module_version": "1.2.0",
            "_view_name": "LayoutView",
            "align_content": null,
            "align_items": null,
            "align_self": null,
            "border": null,
            "bottom": null,
            "display": null,
            "flex": null,
            "flex_flow": null,
            "grid_area": null,
            "grid_auto_columns": null,
            "grid_auto_flow": null,
            "grid_auto_rows": null,
            "grid_column": null,
            "grid_gap": null,
            "grid_row": null,
            "grid_template_areas": null,
            "grid_template_columns": null,
            "grid_template_rows": null,
            "height": null,
            "justify_content": null,
            "justify_items": null,
            "left": null,
            "margin": null,
            "max_height": null,
            "max_width": null,
            "min_height": null,
            "min_width": null,
            "object_fit": null,
            "object_position": null,
            "order": null,
            "overflow": null,
            "overflow_x": null,
            "overflow_y": null,
            "padding": null,
            "right": null,
            "top": null,
            "visibility": null,
            "width": null
          }
        },
        "e0b119eb336d45f4b21954701d41bf51": {
          "model_module": "@jupyter-widgets/controls",
          "model_name": "DescriptionStyleModel",
          "model_module_version": "1.5.0",
          "state": {
            "_model_module": "@jupyter-widgets/controls",
            "_model_module_version": "1.5.0",
            "_model_name": "DescriptionStyleModel",
            "_view_count": null,
            "_view_module": "@jupyter-widgets/base",
            "_view_module_version": "1.2.0",
            "_view_name": "StyleView",
            "description_width": ""
          }
        },
        "32a092920bb54dd0ae0a6a5bf06535f0": {
          "model_module": "@jupyter-widgets/base",
          "model_name": "LayoutModel",
          "model_module_version": "1.2.0",
          "state": {
            "_model_module": "@jupyter-widgets/base",
            "_model_module_version": "1.2.0",
            "_model_name": "LayoutModel",
            "_view_count": null,
            "_view_module": "@jupyter-widgets/base",
            "_view_module_version": "1.2.0",
            "_view_name": "LayoutView",
            "align_content": null,
            "align_items": null,
            "align_self": null,
            "border": null,
            "bottom": null,
            "display": null,
            "flex": null,
            "flex_flow": null,
            "grid_area": null,
            "grid_auto_columns": null,
            "grid_auto_flow": null,
            "grid_auto_rows": null,
            "grid_column": null,
            "grid_gap": null,
            "grid_row": null,
            "grid_template_areas": null,
            "grid_template_columns": null,
            "grid_template_rows": null,
            "height": null,
            "justify_content": null,
            "justify_items": null,
            "left": null,
            "margin": null,
            "max_height": null,
            "max_width": null,
            "min_height": null,
            "min_width": null,
            "object_fit": null,
            "object_position": null,
            "order": null,
            "overflow": null,
            "overflow_x": null,
            "overflow_y": null,
            "padding": null,
            "right": null,
            "top": null,
            "visibility": null,
            "width": null
          }
        },
        "1abd9e36cdba4f43b95b46b2dab80429": {
          "model_module": "@jupyter-widgets/controls",
          "model_name": "ProgressStyleModel",
          "model_module_version": "1.5.0",
          "state": {
            "_model_module": "@jupyter-widgets/controls",
            "_model_module_version": "1.5.0",
            "_model_name": "ProgressStyleModel",
            "_view_count": null,
            "_view_module": "@jupyter-widgets/base",
            "_view_module_version": "1.2.0",
            "_view_name": "StyleView",
            "bar_color": null,
            "description_width": ""
          }
        },
        "cd07b9365ee946b389a6e51af0cb2d62": {
          "model_module": "@jupyter-widgets/base",
          "model_name": "LayoutModel",
          "model_module_version": "1.2.0",
          "state": {
            "_model_module": "@jupyter-widgets/base",
            "_model_module_version": "1.2.0",
            "_model_name": "LayoutModel",
            "_view_count": null,
            "_view_module": "@jupyter-widgets/base",
            "_view_module_version": "1.2.0",
            "_view_name": "LayoutView",
            "align_content": null,
            "align_items": null,
            "align_self": null,
            "border": null,
            "bottom": null,
            "display": null,
            "flex": null,
            "flex_flow": null,
            "grid_area": null,
            "grid_auto_columns": null,
            "grid_auto_flow": null,
            "grid_auto_rows": null,
            "grid_column": null,
            "grid_gap": null,
            "grid_row": null,
            "grid_template_areas": null,
            "grid_template_columns": null,
            "grid_template_rows": null,
            "height": null,
            "justify_content": null,
            "justify_items": null,
            "left": null,
            "margin": null,
            "max_height": null,
            "max_width": null,
            "min_height": null,
            "min_width": null,
            "object_fit": null,
            "object_position": null,
            "order": null,
            "overflow": null,
            "overflow_x": null,
            "overflow_y": null,
            "padding": null,
            "right": null,
            "top": null,
            "visibility": null,
            "width": null
          }
        },
        "2b91e9e3a28d45c7859c7ea84432e488": {
          "model_module": "@jupyter-widgets/controls",
          "model_name": "DescriptionStyleModel",
          "model_module_version": "1.5.0",
          "state": {
            "_model_module": "@jupyter-widgets/controls",
            "_model_module_version": "1.5.0",
            "_model_name": "DescriptionStyleModel",
            "_view_count": null,
            "_view_module": "@jupyter-widgets/base",
            "_view_module_version": "1.2.0",
            "_view_name": "StyleView",
            "description_width": ""
          }
        }
      }
    }
  },
  "cells": [
    {
      "cell_type": "markdown",
      "metadata": {
        "id": "view-in-github",
        "colab_type": "text"
      },
      "source": [
        "<a href=\"https://colab.research.google.com/github/fatemafaria142/Comparative-Analysis-of-Pretrained-BERT-models-for-Natural-Language-Inference-on-Bangla-XNLI-Dataset/blob/main/Bangla_XNLI_using_Bangla_bert_base.ipynb\" target=\"_parent\"><img src=\"https://colab.research.google.com/assets/colab-badge.svg\" alt=\"Open In Colab\"/></a>"
      ]
    },
    {
      "cell_type": "code",
      "execution_count": 20,
      "metadata": {
        "id": "aBRzPyYxNJ0f"
      },
      "outputs": [],
      "source": [
        "import pandas as pd\n",
        "import numpy as np\n",
        "import matplotlib.pyplot as plt\n",
        "import seaborn as sns\n",
        "from sklearn.model_selection import train_test_split\n",
        "import torch\n",
        "from tqdm import tqdm\n",
        "import time\n",
        "from sklearn.metrics import accuracy_score,precision_score,recall_score,f1_score,log_loss,jaccard_score,roc_auc_score,classification_report,confusion_matrix\n",
        "from torch.utils.data import Dataset, DataLoader"
      ]
    },
    {
      "cell_type": "code",
      "source": [
        "!pip install datasets"
      ],
      "metadata": {
        "colab": {
          "base_uri": "https://localhost:8080/"
        },
        "id": "8KDmjTaQIf9B",
        "outputId": "5a97145b-b7b6-4950-cbaf-d86fdb7e89a5"
      },
      "execution_count": 21,
      "outputs": [
        {
          "output_type": "stream",
          "name": "stdout",
          "text": [
            "Requirement already satisfied: datasets in /usr/local/lib/python3.10/dist-packages (2.16.1)\n",
            "Requirement already satisfied: filelock in /usr/local/lib/python3.10/dist-packages (from datasets) (3.13.1)\n",
            "Requirement already satisfied: numpy>=1.17 in /usr/local/lib/python3.10/dist-packages (from datasets) (1.23.5)\n",
            "Requirement already satisfied: pyarrow>=8.0.0 in /usr/local/lib/python3.10/dist-packages (from datasets) (10.0.1)\n",
            "Requirement already satisfied: pyarrow-hotfix in /usr/local/lib/python3.10/dist-packages (from datasets) (0.6)\n",
            "Requirement already satisfied: dill<0.3.8,>=0.3.0 in /usr/local/lib/python3.10/dist-packages (from datasets) (0.3.7)\n",
            "Requirement already satisfied: pandas in /usr/local/lib/python3.10/dist-packages (from datasets) (1.5.3)\n",
            "Requirement already satisfied: requests>=2.19.0 in /usr/local/lib/python3.10/dist-packages (from datasets) (2.31.0)\n",
            "Requirement already satisfied: tqdm>=4.62.1 in /usr/local/lib/python3.10/dist-packages (from datasets) (4.66.1)\n",
            "Requirement already satisfied: xxhash in /usr/local/lib/python3.10/dist-packages (from datasets) (3.4.1)\n",
            "Requirement already satisfied: multiprocess in /usr/local/lib/python3.10/dist-packages (from datasets) (0.70.15)\n",
            "Requirement already satisfied: fsspec[http]<=2023.10.0,>=2023.1.0 in /usr/local/lib/python3.10/dist-packages (from datasets) (2023.6.0)\n",
            "Requirement already satisfied: aiohttp in /usr/local/lib/python3.10/dist-packages (from datasets) (3.9.1)\n",
            "Requirement already satisfied: huggingface-hub>=0.19.4 in /usr/local/lib/python3.10/dist-packages (from datasets) (0.19.4)\n",
            "Requirement already satisfied: packaging in /usr/local/lib/python3.10/dist-packages (from datasets) (23.2)\n",
            "Requirement already satisfied: pyyaml>=5.1 in /usr/local/lib/python3.10/dist-packages (from datasets) (6.0.1)\n",
            "Requirement already satisfied: attrs>=17.3.0 in /usr/local/lib/python3.10/dist-packages (from aiohttp->datasets) (23.1.0)\n",
            "Requirement already satisfied: multidict<7.0,>=4.5 in /usr/local/lib/python3.10/dist-packages (from aiohttp->datasets) (6.0.4)\n",
            "Requirement already satisfied: yarl<2.0,>=1.0 in /usr/local/lib/python3.10/dist-packages (from aiohttp->datasets) (1.9.4)\n",
            "Requirement already satisfied: frozenlist>=1.1.1 in /usr/local/lib/python3.10/dist-packages (from aiohttp->datasets) (1.4.1)\n",
            "Requirement already satisfied: aiosignal>=1.1.2 in /usr/local/lib/python3.10/dist-packages (from aiohttp->datasets) (1.3.1)\n",
            "Requirement already satisfied: async-timeout<5.0,>=4.0 in /usr/local/lib/python3.10/dist-packages (from aiohttp->datasets) (4.0.3)\n",
            "Requirement already satisfied: typing-extensions>=3.7.4.3 in /usr/local/lib/python3.10/dist-packages (from huggingface-hub>=0.19.4->datasets) (4.5.0)\n",
            "Requirement already satisfied: charset-normalizer<4,>=2 in /usr/local/lib/python3.10/dist-packages (from requests>=2.19.0->datasets) (3.3.2)\n",
            "Requirement already satisfied: idna<4,>=2.5 in /usr/local/lib/python3.10/dist-packages (from requests>=2.19.0->datasets) (3.6)\n",
            "Requirement already satisfied: urllib3<3,>=1.21.1 in /usr/local/lib/python3.10/dist-packages (from requests>=2.19.0->datasets) (2.0.7)\n",
            "Requirement already satisfied: certifi>=2017.4.17 in /usr/local/lib/python3.10/dist-packages (from requests>=2.19.0->datasets) (2023.11.17)\n",
            "Requirement already satisfied: python-dateutil>=2.8.1 in /usr/local/lib/python3.10/dist-packages (from pandas->datasets) (2.8.2)\n",
            "Requirement already satisfied: pytz>=2020.1 in /usr/local/lib/python3.10/dist-packages (from pandas->datasets) (2023.3.post1)\n",
            "Requirement already satisfied: six>=1.5 in /usr/local/lib/python3.10/dist-packages (from python-dateutil>=2.8.1->pandas->datasets) (1.16.0)\n"
          ]
        }
      ]
    },
    {
      "cell_type": "markdown",
      "source": [
        "### **Dataset link:** https://huggingface.co/datasets/csebuetnlp/xnli_bn"
      ],
      "metadata": {
        "id": "Tia5tAEYMaze"
      }
    },
    {
      "cell_type": "code",
      "source": [
        "from datasets import load_dataset\n",
        "\n",
        "dataset = load_dataset(\"csebuetnlp/xnli_bn\")"
      ],
      "metadata": {
        "id": "6h2Br0UrIFIW"
      },
      "execution_count": 22,
      "outputs": []
    },
    {
      "cell_type": "code",
      "source": [
        "# Access train, test, and validation splits\n",
        "train_data = dataset['train']\n",
        "test_data = dataset['test']\n",
        "validation_data = dataset['validation']\n",
        "\n",
        "# Optional: You can also print the number of examples in each split\n",
        "print(f\"Number of examples in train set: {len(train_data)}\")\n",
        "print(f\"Number of examples in test set: {len(test_data)}\")\n",
        "print(f\"Number of examples in validation set: {len(validation_data)}\")"
      ],
      "metadata": {
        "colab": {
          "base_uri": "https://localhost:8080/"
        },
        "id": "6394LGB9I4ag",
        "outputId": "2ad1fae7-55bb-4d82-d52a-26f147798eef"
      },
      "execution_count": 23,
      "outputs": [
        {
          "output_type": "stream",
          "name": "stdout",
          "text": [
            "Number of examples in train set: 381449\n",
            "Number of examples in test set: 4895\n",
            "Number of examples in validation set: 2419\n"
          ]
        }
      ]
    },
    {
      "cell_type": "code",
      "source": [
        "# Access train data\n",
        "train_data = dataset['train']\n",
        "\n",
        "# Create a DataFrame from the dataset\n",
        "df_train = pd.DataFrame(train_data[:15000])  # Taking the first 15,000 rows\n",
        "\n",
        "# Map numeric labels to textual representations\n",
        "label_map = {\n",
        "    0: 'Contradiction',\n",
        "    1: 'Entailment',\n",
        "    2: 'Neutral'\n",
        "}\n",
        "\n",
        "df_train['label'] = df_train['label'].map(label_map)\n",
        "\n",
        "# Display the modified DataFrame with the new column\n",
        "df_train.head()\n"
      ],
      "metadata": {
        "colab": {
          "base_uri": "https://localhost:8080/",
          "height": 206
        },
        "id": "sLPWzK9EJynU",
        "outputId": "d47db946-17e2-48cc-ac67-c2fb73468f65"
      },
      "execution_count": 24,
      "outputs": [
        {
          "output_type": "execute_result",
          "data": {
            "text/plain": [
              "                                           sentence1  \\\n",
              "0  ধারণাগতভাবে ক্রীম স্কিমিং এর দুটি মৌলিক মাত্রা...   \n",
              "1  আপনি জানেন এই মৌসুমে আর আমার মনে হয় আপনার পর্...   \n",
              "2  আমাদের মধ্যে একজন আপনার নির্দেশগুলো পুঙ্খানুপু...   \n",
              "3         আপনি কিভাবে জানলেন? এই সব তাদের তথ্য আবার.   \n",
              "4  হ্যাঁ আমি তোমাকে বলি যদি তুমি কিছু টেনিসের জুত...   \n",
              "\n",
              "                                           sentence2       label  \n",
              "0          পণ্য এবং ভূগোল হচ্ছে ক্রিমের স্কিমিং কাজ।     Neutral  \n",
              "1  মানুষ যদি স্মরণ করতে পারে তাহলে আপনি নীচের স্ত...  Entailment  \n",
              "2  আমার দলের একজন সদস্য আপনার আদেশ পালন করবেন অত্...  Entailment  \n",
              "3                                   এই তথ্যটি তাদের।  Entailment  \n",
              "4                            টেনিসের জুতার দাম অনেক।     Neutral  "
            ],
            "text/html": [
              "\n",
              "  <div id=\"df-9b50bec1-3991-4839-bd51-7feaf66bc43a\" class=\"colab-df-container\">\n",
              "    <div>\n",
              "<style scoped>\n",
              "    .dataframe tbody tr th:only-of-type {\n",
              "        vertical-align: middle;\n",
              "    }\n",
              "\n",
              "    .dataframe tbody tr th {\n",
              "        vertical-align: top;\n",
              "    }\n",
              "\n",
              "    .dataframe thead th {\n",
              "        text-align: right;\n",
              "    }\n",
              "</style>\n",
              "<table border=\"1\" class=\"dataframe\">\n",
              "  <thead>\n",
              "    <tr style=\"text-align: right;\">\n",
              "      <th></th>\n",
              "      <th>sentence1</th>\n",
              "      <th>sentence2</th>\n",
              "      <th>label</th>\n",
              "    </tr>\n",
              "  </thead>\n",
              "  <tbody>\n",
              "    <tr>\n",
              "      <th>0</th>\n",
              "      <td>ধারণাগতভাবে ক্রীম স্কিমিং এর দুটি মৌলিক মাত্রা...</td>\n",
              "      <td>পণ্য এবং ভূগোল হচ্ছে ক্রিমের স্কিমিং কাজ।</td>\n",
              "      <td>Neutral</td>\n",
              "    </tr>\n",
              "    <tr>\n",
              "      <th>1</th>\n",
              "      <td>আপনি জানেন এই মৌসুমে আর আমার মনে হয় আপনার পর্...</td>\n",
              "      <td>মানুষ যদি স্মরণ করতে পারে তাহলে আপনি নীচের স্ত...</td>\n",
              "      <td>Entailment</td>\n",
              "    </tr>\n",
              "    <tr>\n",
              "      <th>2</th>\n",
              "      <td>আমাদের মধ্যে একজন আপনার নির্দেশগুলো পুঙ্খানুপু...</td>\n",
              "      <td>আমার দলের একজন সদস্য আপনার আদেশ পালন করবেন অত্...</td>\n",
              "      <td>Entailment</td>\n",
              "    </tr>\n",
              "    <tr>\n",
              "      <th>3</th>\n",
              "      <td>আপনি কিভাবে জানলেন? এই সব তাদের তথ্য আবার.</td>\n",
              "      <td>এই তথ্যটি তাদের।</td>\n",
              "      <td>Entailment</td>\n",
              "    </tr>\n",
              "    <tr>\n",
              "      <th>4</th>\n",
              "      <td>হ্যাঁ আমি তোমাকে বলি যদি তুমি কিছু টেনিসের জুত...</td>\n",
              "      <td>টেনিসের জুতার দাম অনেক।</td>\n",
              "      <td>Neutral</td>\n",
              "    </tr>\n",
              "  </tbody>\n",
              "</table>\n",
              "</div>\n",
              "    <div class=\"colab-df-buttons\">\n",
              "\n",
              "  <div class=\"colab-df-container\">\n",
              "    <button class=\"colab-df-convert\" onclick=\"convertToInteractive('df-9b50bec1-3991-4839-bd51-7feaf66bc43a')\"\n",
              "            title=\"Convert this dataframe to an interactive table.\"\n",
              "            style=\"display:none;\">\n",
              "\n",
              "  <svg xmlns=\"http://www.w3.org/2000/svg\" height=\"24px\" viewBox=\"0 -960 960 960\">\n",
              "    <path d=\"M120-120v-720h720v720H120Zm60-500h600v-160H180v160Zm220 220h160v-160H400v160Zm0 220h160v-160H400v160ZM180-400h160v-160H180v160Zm440 0h160v-160H620v160ZM180-180h160v-160H180v160Zm440 0h160v-160H620v160Z\"/>\n",
              "  </svg>\n",
              "    </button>\n",
              "\n",
              "  <style>\n",
              "    .colab-df-container {\n",
              "      display:flex;\n",
              "      gap: 12px;\n",
              "    }\n",
              "\n",
              "    .colab-df-convert {\n",
              "      background-color: #E8F0FE;\n",
              "      border: none;\n",
              "      border-radius: 50%;\n",
              "      cursor: pointer;\n",
              "      display: none;\n",
              "      fill: #1967D2;\n",
              "      height: 32px;\n",
              "      padding: 0 0 0 0;\n",
              "      width: 32px;\n",
              "    }\n",
              "\n",
              "    .colab-df-convert:hover {\n",
              "      background-color: #E2EBFA;\n",
              "      box-shadow: 0px 1px 2px rgba(60, 64, 67, 0.3), 0px 1px 3px 1px rgba(60, 64, 67, 0.15);\n",
              "      fill: #174EA6;\n",
              "    }\n",
              "\n",
              "    .colab-df-buttons div {\n",
              "      margin-bottom: 4px;\n",
              "    }\n",
              "\n",
              "    [theme=dark] .colab-df-convert {\n",
              "      background-color: #3B4455;\n",
              "      fill: #D2E3FC;\n",
              "    }\n",
              "\n",
              "    [theme=dark] .colab-df-convert:hover {\n",
              "      background-color: #434B5C;\n",
              "      box-shadow: 0px 1px 3px 1px rgba(0, 0, 0, 0.15);\n",
              "      filter: drop-shadow(0px 1px 2px rgba(0, 0, 0, 0.3));\n",
              "      fill: #FFFFFF;\n",
              "    }\n",
              "  </style>\n",
              "\n",
              "    <script>\n",
              "      const buttonEl =\n",
              "        document.querySelector('#df-9b50bec1-3991-4839-bd51-7feaf66bc43a button.colab-df-convert');\n",
              "      buttonEl.style.display =\n",
              "        google.colab.kernel.accessAllowed ? 'block' : 'none';\n",
              "\n",
              "      async function convertToInteractive(key) {\n",
              "        const element = document.querySelector('#df-9b50bec1-3991-4839-bd51-7feaf66bc43a');\n",
              "        const dataTable =\n",
              "          await google.colab.kernel.invokeFunction('convertToInteractive',\n",
              "                                                    [key], {});\n",
              "        if (!dataTable) return;\n",
              "\n",
              "        const docLinkHtml = 'Like what you see? Visit the ' +\n",
              "          '<a target=\"_blank\" href=https://colab.research.google.com/notebooks/data_table.ipynb>data table notebook</a>'\n",
              "          + ' to learn more about interactive tables.';\n",
              "        element.innerHTML = '';\n",
              "        dataTable['output_type'] = 'display_data';\n",
              "        await google.colab.output.renderOutput(dataTable, element);\n",
              "        const docLink = document.createElement('div');\n",
              "        docLink.innerHTML = docLinkHtml;\n",
              "        element.appendChild(docLink);\n",
              "      }\n",
              "    </script>\n",
              "  </div>\n",
              "\n",
              "\n",
              "<div id=\"df-02fab541-bca9-482c-985f-42a17b6d2bff\">\n",
              "  <button class=\"colab-df-quickchart\" onclick=\"quickchart('df-02fab541-bca9-482c-985f-42a17b6d2bff')\"\n",
              "            title=\"Suggest charts\"\n",
              "            style=\"display:none;\">\n",
              "\n",
              "<svg xmlns=\"http://www.w3.org/2000/svg\" height=\"24px\"viewBox=\"0 0 24 24\"\n",
              "     width=\"24px\">\n",
              "    <g>\n",
              "        <path d=\"M19 3H5c-1.1 0-2 .9-2 2v14c0 1.1.9 2 2 2h14c1.1 0 2-.9 2-2V5c0-1.1-.9-2-2-2zM9 17H7v-7h2v7zm4 0h-2V7h2v10zm4 0h-2v-4h2v4z\"/>\n",
              "    </g>\n",
              "</svg>\n",
              "  </button>\n",
              "\n",
              "<style>\n",
              "  .colab-df-quickchart {\n",
              "      --bg-color: #E8F0FE;\n",
              "      --fill-color: #1967D2;\n",
              "      --hover-bg-color: #E2EBFA;\n",
              "      --hover-fill-color: #174EA6;\n",
              "      --disabled-fill-color: #AAA;\n",
              "      --disabled-bg-color: #DDD;\n",
              "  }\n",
              "\n",
              "  [theme=dark] .colab-df-quickchart {\n",
              "      --bg-color: #3B4455;\n",
              "      --fill-color: #D2E3FC;\n",
              "      --hover-bg-color: #434B5C;\n",
              "      --hover-fill-color: #FFFFFF;\n",
              "      --disabled-bg-color: #3B4455;\n",
              "      --disabled-fill-color: #666;\n",
              "  }\n",
              "\n",
              "  .colab-df-quickchart {\n",
              "    background-color: var(--bg-color);\n",
              "    border: none;\n",
              "    border-radius: 50%;\n",
              "    cursor: pointer;\n",
              "    display: none;\n",
              "    fill: var(--fill-color);\n",
              "    height: 32px;\n",
              "    padding: 0;\n",
              "    width: 32px;\n",
              "  }\n",
              "\n",
              "  .colab-df-quickchart:hover {\n",
              "    background-color: var(--hover-bg-color);\n",
              "    box-shadow: 0 1px 2px rgba(60, 64, 67, 0.3), 0 1px 3px 1px rgba(60, 64, 67, 0.15);\n",
              "    fill: var(--button-hover-fill-color);\n",
              "  }\n",
              "\n",
              "  .colab-df-quickchart-complete:disabled,\n",
              "  .colab-df-quickchart-complete:disabled:hover {\n",
              "    background-color: var(--disabled-bg-color);\n",
              "    fill: var(--disabled-fill-color);\n",
              "    box-shadow: none;\n",
              "  }\n",
              "\n",
              "  .colab-df-spinner {\n",
              "    border: 2px solid var(--fill-color);\n",
              "    border-color: transparent;\n",
              "    border-bottom-color: var(--fill-color);\n",
              "    animation:\n",
              "      spin 1s steps(1) infinite;\n",
              "  }\n",
              "\n",
              "  @keyframes spin {\n",
              "    0% {\n",
              "      border-color: transparent;\n",
              "      border-bottom-color: var(--fill-color);\n",
              "      border-left-color: var(--fill-color);\n",
              "    }\n",
              "    20% {\n",
              "      border-color: transparent;\n",
              "      border-left-color: var(--fill-color);\n",
              "      border-top-color: var(--fill-color);\n",
              "    }\n",
              "    30% {\n",
              "      border-color: transparent;\n",
              "      border-left-color: var(--fill-color);\n",
              "      border-top-color: var(--fill-color);\n",
              "      border-right-color: var(--fill-color);\n",
              "    }\n",
              "    40% {\n",
              "      border-color: transparent;\n",
              "      border-right-color: var(--fill-color);\n",
              "      border-top-color: var(--fill-color);\n",
              "    }\n",
              "    60% {\n",
              "      border-color: transparent;\n",
              "      border-right-color: var(--fill-color);\n",
              "    }\n",
              "    80% {\n",
              "      border-color: transparent;\n",
              "      border-right-color: var(--fill-color);\n",
              "      border-bottom-color: var(--fill-color);\n",
              "    }\n",
              "    90% {\n",
              "      border-color: transparent;\n",
              "      border-bottom-color: var(--fill-color);\n",
              "    }\n",
              "  }\n",
              "</style>\n",
              "\n",
              "  <script>\n",
              "    async function quickchart(key) {\n",
              "      const quickchartButtonEl =\n",
              "        document.querySelector('#' + key + ' button');\n",
              "      quickchartButtonEl.disabled = true;  // To prevent multiple clicks.\n",
              "      quickchartButtonEl.classList.add('colab-df-spinner');\n",
              "      try {\n",
              "        const charts = await google.colab.kernel.invokeFunction(\n",
              "            'suggestCharts', [key], {});\n",
              "      } catch (error) {\n",
              "        console.error('Error during call to suggestCharts:', error);\n",
              "      }\n",
              "      quickchartButtonEl.classList.remove('colab-df-spinner');\n",
              "      quickchartButtonEl.classList.add('colab-df-quickchart-complete');\n",
              "    }\n",
              "    (() => {\n",
              "      let quickchartButtonEl =\n",
              "        document.querySelector('#df-02fab541-bca9-482c-985f-42a17b6d2bff button');\n",
              "      quickchartButtonEl.style.display =\n",
              "        google.colab.kernel.accessAllowed ? 'block' : 'none';\n",
              "    })();\n",
              "  </script>\n",
              "</div>\n",
              "\n",
              "    </div>\n",
              "  </div>\n"
            ]
          },
          "metadata": {},
          "execution_count": 24
        }
      ]
    },
    {
      "cell_type": "code",
      "source": [
        "# Access test data\n",
        "test_data = dataset['test']\n",
        "\n",
        "# Create a DataFrame from the dataset\n",
        "df_test = pd.DataFrame(test_data)\n",
        "\n",
        "# Map numeric labels to textual representations\n",
        "label_map = {\n",
        "    0: 'Contradiction',\n",
        "    1: 'Entailment',\n",
        "    2: 'Neutral'\n",
        "}\n",
        "\n",
        "df_test['label'] = df_test['label'].map(label_map)\n",
        "\n",
        "# Display the modified DataFrame with the new column\n",
        "df_test.head()\n"
      ],
      "metadata": {
        "colab": {
          "base_uri": "https://localhost:8080/",
          "height": 206
        },
        "id": "fT-FFrYjJdaS",
        "outputId": "4b0608d9-7505-4363-8cc3-01693a4326f6"
      },
      "execution_count": 25,
      "outputs": [
        {
          "output_type": "execute_result",
          "data": {
            "text/plain": [
              "                                           sentence1  \\\n",
              "0  আসলে, আমি এমনকি এই বিষয়ে চিন্তাও করিনি, কিন্ত...   \n",
              "1  আসলে, আমি এমনকি এই বিষয়ে চিন্তাও করিনি, কিন্ত...   \n",
              "2  আসলে, আমি এমনকি এই বিষয়ে চিন্তাও করিনি, কিন্ত...   \n",
              "3  আর আমি ভেবেছিলাম এটা একটা বিশেষ সুযোগ, আর এখনো...   \n",
              "4  আর আমি ভেবেছিলাম এটা একটা বিশেষ সুযোগ, আর এখনো...   \n",
              "\n",
              "                                           sentence2          label  \n",
              "0                       আমি তার সাথে আবার কথা বলিনি।  Contradiction  \n",
              "1  আমি এতই ভেঙে পড়েছিলাম যে, আমি আবারও তার সঙ্গে...     Entailment  \n",
              "2                       আমাদের খুব ভালো কথা হয়েছিল।        Neutral  \n",
              "3  আমি জানতাম না যে, সেই দিন আমিই একমাত্র ব্যক্তি...        Neutral  \n",
              "4  আমার মনে হয়েছিল যে এএফএফসি বিমান বাহিনীর ক্যা...     Entailment  "
            ],
            "text/html": [
              "\n",
              "  <div id=\"df-6c6de0c3-673e-47b8-9295-429fa6503c0f\" class=\"colab-df-container\">\n",
              "    <div>\n",
              "<style scoped>\n",
              "    .dataframe tbody tr th:only-of-type {\n",
              "        vertical-align: middle;\n",
              "    }\n",
              "\n",
              "    .dataframe tbody tr th {\n",
              "        vertical-align: top;\n",
              "    }\n",
              "\n",
              "    .dataframe thead th {\n",
              "        text-align: right;\n",
              "    }\n",
              "</style>\n",
              "<table border=\"1\" class=\"dataframe\">\n",
              "  <thead>\n",
              "    <tr style=\"text-align: right;\">\n",
              "      <th></th>\n",
              "      <th>sentence1</th>\n",
              "      <th>sentence2</th>\n",
              "      <th>label</th>\n",
              "    </tr>\n",
              "  </thead>\n",
              "  <tbody>\n",
              "    <tr>\n",
              "      <th>0</th>\n",
              "      <td>আসলে, আমি এমনকি এই বিষয়ে চিন্তাও করিনি, কিন্ত...</td>\n",
              "      <td>আমি তার সাথে আবার কথা বলিনি।</td>\n",
              "      <td>Contradiction</td>\n",
              "    </tr>\n",
              "    <tr>\n",
              "      <th>1</th>\n",
              "      <td>আসলে, আমি এমনকি এই বিষয়ে চিন্তাও করিনি, কিন্ত...</td>\n",
              "      <td>আমি এতই ভেঙে পড়েছিলাম যে, আমি আবারও তার সঙ্গে...</td>\n",
              "      <td>Entailment</td>\n",
              "    </tr>\n",
              "    <tr>\n",
              "      <th>2</th>\n",
              "      <td>আসলে, আমি এমনকি এই বিষয়ে চিন্তাও করিনি, কিন্ত...</td>\n",
              "      <td>আমাদের খুব ভালো কথা হয়েছিল।</td>\n",
              "      <td>Neutral</td>\n",
              "    </tr>\n",
              "    <tr>\n",
              "      <th>3</th>\n",
              "      <td>আর আমি ভেবেছিলাম এটা একটা বিশেষ সুযোগ, আর এখনো...</td>\n",
              "      <td>আমি জানতাম না যে, সেই দিন আমিই একমাত্র ব্যক্তি...</td>\n",
              "      <td>Neutral</td>\n",
              "    </tr>\n",
              "    <tr>\n",
              "      <th>4</th>\n",
              "      <td>আর আমি ভেবেছিলাম এটা একটা বিশেষ সুযোগ, আর এখনো...</td>\n",
              "      <td>আমার মনে হয়েছিল যে এএফএফসি বিমান বাহিনীর ক্যা...</td>\n",
              "      <td>Entailment</td>\n",
              "    </tr>\n",
              "  </tbody>\n",
              "</table>\n",
              "</div>\n",
              "    <div class=\"colab-df-buttons\">\n",
              "\n",
              "  <div class=\"colab-df-container\">\n",
              "    <button class=\"colab-df-convert\" onclick=\"convertToInteractive('df-6c6de0c3-673e-47b8-9295-429fa6503c0f')\"\n",
              "            title=\"Convert this dataframe to an interactive table.\"\n",
              "            style=\"display:none;\">\n",
              "\n",
              "  <svg xmlns=\"http://www.w3.org/2000/svg\" height=\"24px\" viewBox=\"0 -960 960 960\">\n",
              "    <path d=\"M120-120v-720h720v720H120Zm60-500h600v-160H180v160Zm220 220h160v-160H400v160Zm0 220h160v-160H400v160ZM180-400h160v-160H180v160Zm440 0h160v-160H620v160ZM180-180h160v-160H180v160Zm440 0h160v-160H620v160Z\"/>\n",
              "  </svg>\n",
              "    </button>\n",
              "\n",
              "  <style>\n",
              "    .colab-df-container {\n",
              "      display:flex;\n",
              "      gap: 12px;\n",
              "    }\n",
              "\n",
              "    .colab-df-convert {\n",
              "      background-color: #E8F0FE;\n",
              "      border: none;\n",
              "      border-radius: 50%;\n",
              "      cursor: pointer;\n",
              "      display: none;\n",
              "      fill: #1967D2;\n",
              "      height: 32px;\n",
              "      padding: 0 0 0 0;\n",
              "      width: 32px;\n",
              "    }\n",
              "\n",
              "    .colab-df-convert:hover {\n",
              "      background-color: #E2EBFA;\n",
              "      box-shadow: 0px 1px 2px rgba(60, 64, 67, 0.3), 0px 1px 3px 1px rgba(60, 64, 67, 0.15);\n",
              "      fill: #174EA6;\n",
              "    }\n",
              "\n",
              "    .colab-df-buttons div {\n",
              "      margin-bottom: 4px;\n",
              "    }\n",
              "\n",
              "    [theme=dark] .colab-df-convert {\n",
              "      background-color: #3B4455;\n",
              "      fill: #D2E3FC;\n",
              "    }\n",
              "\n",
              "    [theme=dark] .colab-df-convert:hover {\n",
              "      background-color: #434B5C;\n",
              "      box-shadow: 0px 1px 3px 1px rgba(0, 0, 0, 0.15);\n",
              "      filter: drop-shadow(0px 1px 2px rgba(0, 0, 0, 0.3));\n",
              "      fill: #FFFFFF;\n",
              "    }\n",
              "  </style>\n",
              "\n",
              "    <script>\n",
              "      const buttonEl =\n",
              "        document.querySelector('#df-6c6de0c3-673e-47b8-9295-429fa6503c0f button.colab-df-convert');\n",
              "      buttonEl.style.display =\n",
              "        google.colab.kernel.accessAllowed ? 'block' : 'none';\n",
              "\n",
              "      async function convertToInteractive(key) {\n",
              "        const element = document.querySelector('#df-6c6de0c3-673e-47b8-9295-429fa6503c0f');\n",
              "        const dataTable =\n",
              "          await google.colab.kernel.invokeFunction('convertToInteractive',\n",
              "                                                    [key], {});\n",
              "        if (!dataTable) return;\n",
              "\n",
              "        const docLinkHtml = 'Like what you see? Visit the ' +\n",
              "          '<a target=\"_blank\" href=https://colab.research.google.com/notebooks/data_table.ipynb>data table notebook</a>'\n",
              "          + ' to learn more about interactive tables.';\n",
              "        element.innerHTML = '';\n",
              "        dataTable['output_type'] = 'display_data';\n",
              "        await google.colab.output.renderOutput(dataTable, element);\n",
              "        const docLink = document.createElement('div');\n",
              "        docLink.innerHTML = docLinkHtml;\n",
              "        element.appendChild(docLink);\n",
              "      }\n",
              "    </script>\n",
              "  </div>\n",
              "\n",
              "\n",
              "<div id=\"df-e76ba6de-f3cd-406d-8eaf-63eb7097524e\">\n",
              "  <button class=\"colab-df-quickchart\" onclick=\"quickchart('df-e76ba6de-f3cd-406d-8eaf-63eb7097524e')\"\n",
              "            title=\"Suggest charts\"\n",
              "            style=\"display:none;\">\n",
              "\n",
              "<svg xmlns=\"http://www.w3.org/2000/svg\" height=\"24px\"viewBox=\"0 0 24 24\"\n",
              "     width=\"24px\">\n",
              "    <g>\n",
              "        <path d=\"M19 3H5c-1.1 0-2 .9-2 2v14c0 1.1.9 2 2 2h14c1.1 0 2-.9 2-2V5c0-1.1-.9-2-2-2zM9 17H7v-7h2v7zm4 0h-2V7h2v10zm4 0h-2v-4h2v4z\"/>\n",
              "    </g>\n",
              "</svg>\n",
              "  </button>\n",
              "\n",
              "<style>\n",
              "  .colab-df-quickchart {\n",
              "      --bg-color: #E8F0FE;\n",
              "      --fill-color: #1967D2;\n",
              "      --hover-bg-color: #E2EBFA;\n",
              "      --hover-fill-color: #174EA6;\n",
              "      --disabled-fill-color: #AAA;\n",
              "      --disabled-bg-color: #DDD;\n",
              "  }\n",
              "\n",
              "  [theme=dark] .colab-df-quickchart {\n",
              "      --bg-color: #3B4455;\n",
              "      --fill-color: #D2E3FC;\n",
              "      --hover-bg-color: #434B5C;\n",
              "      --hover-fill-color: #FFFFFF;\n",
              "      --disabled-bg-color: #3B4455;\n",
              "      --disabled-fill-color: #666;\n",
              "  }\n",
              "\n",
              "  .colab-df-quickchart {\n",
              "    background-color: var(--bg-color);\n",
              "    border: none;\n",
              "    border-radius: 50%;\n",
              "    cursor: pointer;\n",
              "    display: none;\n",
              "    fill: var(--fill-color);\n",
              "    height: 32px;\n",
              "    padding: 0;\n",
              "    width: 32px;\n",
              "  }\n",
              "\n",
              "  .colab-df-quickchart:hover {\n",
              "    background-color: var(--hover-bg-color);\n",
              "    box-shadow: 0 1px 2px rgba(60, 64, 67, 0.3), 0 1px 3px 1px rgba(60, 64, 67, 0.15);\n",
              "    fill: var(--button-hover-fill-color);\n",
              "  }\n",
              "\n",
              "  .colab-df-quickchart-complete:disabled,\n",
              "  .colab-df-quickchart-complete:disabled:hover {\n",
              "    background-color: var(--disabled-bg-color);\n",
              "    fill: var(--disabled-fill-color);\n",
              "    box-shadow: none;\n",
              "  }\n",
              "\n",
              "  .colab-df-spinner {\n",
              "    border: 2px solid var(--fill-color);\n",
              "    border-color: transparent;\n",
              "    border-bottom-color: var(--fill-color);\n",
              "    animation:\n",
              "      spin 1s steps(1) infinite;\n",
              "  }\n",
              "\n",
              "  @keyframes spin {\n",
              "    0% {\n",
              "      border-color: transparent;\n",
              "      border-bottom-color: var(--fill-color);\n",
              "      border-left-color: var(--fill-color);\n",
              "    }\n",
              "    20% {\n",
              "      border-color: transparent;\n",
              "      border-left-color: var(--fill-color);\n",
              "      border-top-color: var(--fill-color);\n",
              "    }\n",
              "    30% {\n",
              "      border-color: transparent;\n",
              "      border-left-color: var(--fill-color);\n",
              "      border-top-color: var(--fill-color);\n",
              "      border-right-color: var(--fill-color);\n",
              "    }\n",
              "    40% {\n",
              "      border-color: transparent;\n",
              "      border-right-color: var(--fill-color);\n",
              "      border-top-color: var(--fill-color);\n",
              "    }\n",
              "    60% {\n",
              "      border-color: transparent;\n",
              "      border-right-color: var(--fill-color);\n",
              "    }\n",
              "    80% {\n",
              "      border-color: transparent;\n",
              "      border-right-color: var(--fill-color);\n",
              "      border-bottom-color: var(--fill-color);\n",
              "    }\n",
              "    90% {\n",
              "      border-color: transparent;\n",
              "      border-bottom-color: var(--fill-color);\n",
              "    }\n",
              "  }\n",
              "</style>\n",
              "\n",
              "  <script>\n",
              "    async function quickchart(key) {\n",
              "      const quickchartButtonEl =\n",
              "        document.querySelector('#' + key + ' button');\n",
              "      quickchartButtonEl.disabled = true;  // To prevent multiple clicks.\n",
              "      quickchartButtonEl.classList.add('colab-df-spinner');\n",
              "      try {\n",
              "        const charts = await google.colab.kernel.invokeFunction(\n",
              "            'suggestCharts', [key], {});\n",
              "      } catch (error) {\n",
              "        console.error('Error during call to suggestCharts:', error);\n",
              "      }\n",
              "      quickchartButtonEl.classList.remove('colab-df-spinner');\n",
              "      quickchartButtonEl.classList.add('colab-df-quickchart-complete');\n",
              "    }\n",
              "    (() => {\n",
              "      let quickchartButtonEl =\n",
              "        document.querySelector('#df-e76ba6de-f3cd-406d-8eaf-63eb7097524e button');\n",
              "      quickchartButtonEl.style.display =\n",
              "        google.colab.kernel.accessAllowed ? 'block' : 'none';\n",
              "    })();\n",
              "  </script>\n",
              "</div>\n",
              "\n",
              "    </div>\n",
              "  </div>\n"
            ]
          },
          "metadata": {},
          "execution_count": 25
        }
      ]
    },
    {
      "cell_type": "code",
      "source": [
        "# Access validation data\n",
        "validation_data = dataset['validation']\n",
        "\n",
        "# Create a DataFrame from the dataset\n",
        "df_validation = pd.DataFrame(validation_data)\n",
        "\n",
        "# Map numeric labels to textual representations\n",
        "label_map = {\n",
        "    0: 'Contradiction',\n",
        "    1: 'Entailment',\n",
        "    2: 'Neutral'\n",
        "}\n",
        "\n",
        "df_validation['label'] = df_validation['label'].map(label_map)\n",
        "\n",
        "# Display the modified DataFrame with the new column\n",
        "df_validation.head()\n"
      ],
      "metadata": {
        "colab": {
          "base_uri": "https://localhost:8080/",
          "height": 206
        },
        "id": "F8CjrWGAKOpP",
        "outputId": "7ac94d3e-f22d-49c0-ddd9-8926ea8454c5"
      },
      "execution_count": 26,
      "outputs": [
        {
          "output_type": "execute_result",
          "data": {
            "text/plain": [
              "                                           sentence1  \\\n",
              "0                         আর সে বললো, মা, আমি বাড়ি।   \n",
              "1                         আর সে বললো, মা, আমি বাড়ি।   \n",
              "2                         আর সে বললো, মা, আমি বাড়ি।   \n",
              "3  আমি জানতাম না আমি কি জন্য যাচ্ছি বা কিছু, তাই ...   \n",
              "4  আমি জানতাম না আমি কি জন্য যাচ্ছি বা কিছু, তাই ...   \n",
              "\n",
              "                                           sentence2          label  \n",
              "0  স্কুলের বাস তাকে নামিয়ে দেওয়ার সঙ্গে সঙ্গে ত...        Neutral  \n",
              "1                                  সে কোন কথা বলেনি.  Contradiction  \n",
              "2         সে তার মাকে বলেছিল যে সে বাড়ি ফিরে এসেছে।     Entailment  \n",
              "3  আমি কখনো ওয়াশিংটনে যাইনি তাই যখন আমাকে সেখানে...        Neutral  \n",
              "4  আমি ঠিক জানতাম যে, ওয়াশিংটনের দিকে যাত্রা করা...  Contradiction  "
            ],
            "text/html": [
              "\n",
              "  <div id=\"df-d2ef3be8-1ebb-4808-9d69-2382be025996\" class=\"colab-df-container\">\n",
              "    <div>\n",
              "<style scoped>\n",
              "    .dataframe tbody tr th:only-of-type {\n",
              "        vertical-align: middle;\n",
              "    }\n",
              "\n",
              "    .dataframe tbody tr th {\n",
              "        vertical-align: top;\n",
              "    }\n",
              "\n",
              "    .dataframe thead th {\n",
              "        text-align: right;\n",
              "    }\n",
              "</style>\n",
              "<table border=\"1\" class=\"dataframe\">\n",
              "  <thead>\n",
              "    <tr style=\"text-align: right;\">\n",
              "      <th></th>\n",
              "      <th>sentence1</th>\n",
              "      <th>sentence2</th>\n",
              "      <th>label</th>\n",
              "    </tr>\n",
              "  </thead>\n",
              "  <tbody>\n",
              "    <tr>\n",
              "      <th>0</th>\n",
              "      <td>আর সে বললো, মা, আমি বাড়ি।</td>\n",
              "      <td>স্কুলের বাস তাকে নামিয়ে দেওয়ার সঙ্গে সঙ্গে ত...</td>\n",
              "      <td>Neutral</td>\n",
              "    </tr>\n",
              "    <tr>\n",
              "      <th>1</th>\n",
              "      <td>আর সে বললো, মা, আমি বাড়ি।</td>\n",
              "      <td>সে কোন কথা বলেনি.</td>\n",
              "      <td>Contradiction</td>\n",
              "    </tr>\n",
              "    <tr>\n",
              "      <th>2</th>\n",
              "      <td>আর সে বললো, মা, আমি বাড়ি।</td>\n",
              "      <td>সে তার মাকে বলেছিল যে সে বাড়ি ফিরে এসেছে।</td>\n",
              "      <td>Entailment</td>\n",
              "    </tr>\n",
              "    <tr>\n",
              "      <th>3</th>\n",
              "      <td>আমি জানতাম না আমি কি জন্য যাচ্ছি বা কিছু, তাই ...</td>\n",
              "      <td>আমি কখনো ওয়াশিংটনে যাইনি তাই যখন আমাকে সেখানে...</td>\n",
              "      <td>Neutral</td>\n",
              "    </tr>\n",
              "    <tr>\n",
              "      <th>4</th>\n",
              "      <td>আমি জানতাম না আমি কি জন্য যাচ্ছি বা কিছু, তাই ...</td>\n",
              "      <td>আমি ঠিক জানতাম যে, ওয়াশিংটনের দিকে যাত্রা করা...</td>\n",
              "      <td>Contradiction</td>\n",
              "    </tr>\n",
              "  </tbody>\n",
              "</table>\n",
              "</div>\n",
              "    <div class=\"colab-df-buttons\">\n",
              "\n",
              "  <div class=\"colab-df-container\">\n",
              "    <button class=\"colab-df-convert\" onclick=\"convertToInteractive('df-d2ef3be8-1ebb-4808-9d69-2382be025996')\"\n",
              "            title=\"Convert this dataframe to an interactive table.\"\n",
              "            style=\"display:none;\">\n",
              "\n",
              "  <svg xmlns=\"http://www.w3.org/2000/svg\" height=\"24px\" viewBox=\"0 -960 960 960\">\n",
              "    <path d=\"M120-120v-720h720v720H120Zm60-500h600v-160H180v160Zm220 220h160v-160H400v160Zm0 220h160v-160H400v160ZM180-400h160v-160H180v160Zm440 0h160v-160H620v160ZM180-180h160v-160H180v160Zm440 0h160v-160H620v160Z\"/>\n",
              "  </svg>\n",
              "    </button>\n",
              "\n",
              "  <style>\n",
              "    .colab-df-container {\n",
              "      display:flex;\n",
              "      gap: 12px;\n",
              "    }\n",
              "\n",
              "    .colab-df-convert {\n",
              "      background-color: #E8F0FE;\n",
              "      border: none;\n",
              "      border-radius: 50%;\n",
              "      cursor: pointer;\n",
              "      display: none;\n",
              "      fill: #1967D2;\n",
              "      height: 32px;\n",
              "      padding: 0 0 0 0;\n",
              "      width: 32px;\n",
              "    }\n",
              "\n",
              "    .colab-df-convert:hover {\n",
              "      background-color: #E2EBFA;\n",
              "      box-shadow: 0px 1px 2px rgba(60, 64, 67, 0.3), 0px 1px 3px 1px rgba(60, 64, 67, 0.15);\n",
              "      fill: #174EA6;\n",
              "    }\n",
              "\n",
              "    .colab-df-buttons div {\n",
              "      margin-bottom: 4px;\n",
              "    }\n",
              "\n",
              "    [theme=dark] .colab-df-convert {\n",
              "      background-color: #3B4455;\n",
              "      fill: #D2E3FC;\n",
              "    }\n",
              "\n",
              "    [theme=dark] .colab-df-convert:hover {\n",
              "      background-color: #434B5C;\n",
              "      box-shadow: 0px 1px 3px 1px rgba(0, 0, 0, 0.15);\n",
              "      filter: drop-shadow(0px 1px 2px rgba(0, 0, 0, 0.3));\n",
              "      fill: #FFFFFF;\n",
              "    }\n",
              "  </style>\n",
              "\n",
              "    <script>\n",
              "      const buttonEl =\n",
              "        document.querySelector('#df-d2ef3be8-1ebb-4808-9d69-2382be025996 button.colab-df-convert');\n",
              "      buttonEl.style.display =\n",
              "        google.colab.kernel.accessAllowed ? 'block' : 'none';\n",
              "\n",
              "      async function convertToInteractive(key) {\n",
              "        const element = document.querySelector('#df-d2ef3be8-1ebb-4808-9d69-2382be025996');\n",
              "        const dataTable =\n",
              "          await google.colab.kernel.invokeFunction('convertToInteractive',\n",
              "                                                    [key], {});\n",
              "        if (!dataTable) return;\n",
              "\n",
              "        const docLinkHtml = 'Like what you see? Visit the ' +\n",
              "          '<a target=\"_blank\" href=https://colab.research.google.com/notebooks/data_table.ipynb>data table notebook</a>'\n",
              "          + ' to learn more about interactive tables.';\n",
              "        element.innerHTML = '';\n",
              "        dataTable['output_type'] = 'display_data';\n",
              "        await google.colab.output.renderOutput(dataTable, element);\n",
              "        const docLink = document.createElement('div');\n",
              "        docLink.innerHTML = docLinkHtml;\n",
              "        element.appendChild(docLink);\n",
              "      }\n",
              "    </script>\n",
              "  </div>\n",
              "\n",
              "\n",
              "<div id=\"df-a3fccfd5-b7ea-487b-b614-b97a06b493a4\">\n",
              "  <button class=\"colab-df-quickchart\" onclick=\"quickchart('df-a3fccfd5-b7ea-487b-b614-b97a06b493a4')\"\n",
              "            title=\"Suggest charts\"\n",
              "            style=\"display:none;\">\n",
              "\n",
              "<svg xmlns=\"http://www.w3.org/2000/svg\" height=\"24px\"viewBox=\"0 0 24 24\"\n",
              "     width=\"24px\">\n",
              "    <g>\n",
              "        <path d=\"M19 3H5c-1.1 0-2 .9-2 2v14c0 1.1.9 2 2 2h14c1.1 0 2-.9 2-2V5c0-1.1-.9-2-2-2zM9 17H7v-7h2v7zm4 0h-2V7h2v10zm4 0h-2v-4h2v4z\"/>\n",
              "    </g>\n",
              "</svg>\n",
              "  </button>\n",
              "\n",
              "<style>\n",
              "  .colab-df-quickchart {\n",
              "      --bg-color: #E8F0FE;\n",
              "      --fill-color: #1967D2;\n",
              "      --hover-bg-color: #E2EBFA;\n",
              "      --hover-fill-color: #174EA6;\n",
              "      --disabled-fill-color: #AAA;\n",
              "      --disabled-bg-color: #DDD;\n",
              "  }\n",
              "\n",
              "  [theme=dark] .colab-df-quickchart {\n",
              "      --bg-color: #3B4455;\n",
              "      --fill-color: #D2E3FC;\n",
              "      --hover-bg-color: #434B5C;\n",
              "      --hover-fill-color: #FFFFFF;\n",
              "      --disabled-bg-color: #3B4455;\n",
              "      --disabled-fill-color: #666;\n",
              "  }\n",
              "\n",
              "  .colab-df-quickchart {\n",
              "    background-color: var(--bg-color);\n",
              "    border: none;\n",
              "    border-radius: 50%;\n",
              "    cursor: pointer;\n",
              "    display: none;\n",
              "    fill: var(--fill-color);\n",
              "    height: 32px;\n",
              "    padding: 0;\n",
              "    width: 32px;\n",
              "  }\n",
              "\n",
              "  .colab-df-quickchart:hover {\n",
              "    background-color: var(--hover-bg-color);\n",
              "    box-shadow: 0 1px 2px rgba(60, 64, 67, 0.3), 0 1px 3px 1px rgba(60, 64, 67, 0.15);\n",
              "    fill: var(--button-hover-fill-color);\n",
              "  }\n",
              "\n",
              "  .colab-df-quickchart-complete:disabled,\n",
              "  .colab-df-quickchart-complete:disabled:hover {\n",
              "    background-color: var(--disabled-bg-color);\n",
              "    fill: var(--disabled-fill-color);\n",
              "    box-shadow: none;\n",
              "  }\n",
              "\n",
              "  .colab-df-spinner {\n",
              "    border: 2px solid var(--fill-color);\n",
              "    border-color: transparent;\n",
              "    border-bottom-color: var(--fill-color);\n",
              "    animation:\n",
              "      spin 1s steps(1) infinite;\n",
              "  }\n",
              "\n",
              "  @keyframes spin {\n",
              "    0% {\n",
              "      border-color: transparent;\n",
              "      border-bottom-color: var(--fill-color);\n",
              "      border-left-color: var(--fill-color);\n",
              "    }\n",
              "    20% {\n",
              "      border-color: transparent;\n",
              "      border-left-color: var(--fill-color);\n",
              "      border-top-color: var(--fill-color);\n",
              "    }\n",
              "    30% {\n",
              "      border-color: transparent;\n",
              "      border-left-color: var(--fill-color);\n",
              "      border-top-color: var(--fill-color);\n",
              "      border-right-color: var(--fill-color);\n",
              "    }\n",
              "    40% {\n",
              "      border-color: transparent;\n",
              "      border-right-color: var(--fill-color);\n",
              "      border-top-color: var(--fill-color);\n",
              "    }\n",
              "    60% {\n",
              "      border-color: transparent;\n",
              "      border-right-color: var(--fill-color);\n",
              "    }\n",
              "    80% {\n",
              "      border-color: transparent;\n",
              "      border-right-color: var(--fill-color);\n",
              "      border-bottom-color: var(--fill-color);\n",
              "    }\n",
              "    90% {\n",
              "      border-color: transparent;\n",
              "      border-bottom-color: var(--fill-color);\n",
              "    }\n",
              "  }\n",
              "</style>\n",
              "\n",
              "  <script>\n",
              "    async function quickchart(key) {\n",
              "      const quickchartButtonEl =\n",
              "        document.querySelector('#' + key + ' button');\n",
              "      quickchartButtonEl.disabled = true;  // To prevent multiple clicks.\n",
              "      quickchartButtonEl.classList.add('colab-df-spinner');\n",
              "      try {\n",
              "        const charts = await google.colab.kernel.invokeFunction(\n",
              "            'suggestCharts', [key], {});\n",
              "      } catch (error) {\n",
              "        console.error('Error during call to suggestCharts:', error);\n",
              "      }\n",
              "      quickchartButtonEl.classList.remove('colab-df-spinner');\n",
              "      quickchartButtonEl.classList.add('colab-df-quickchart-complete');\n",
              "    }\n",
              "    (() => {\n",
              "      let quickchartButtonEl =\n",
              "        document.querySelector('#df-a3fccfd5-b7ea-487b-b614-b97a06b493a4 button');\n",
              "      quickchartButtonEl.style.display =\n",
              "        google.colab.kernel.accessAllowed ? 'block' : 'none';\n",
              "    })();\n",
              "  </script>\n",
              "</div>\n",
              "\n",
              "    </div>\n",
              "  </div>\n"
            ]
          },
          "metadata": {},
          "execution_count": 26
        }
      ]
    },
    {
      "cell_type": "markdown",
      "source": [
        "# **Visualization of Label Distribution in Train dataset**\n",
        "* Contradiction - 0\n",
        "* Entailment - 1\n",
        "* Neutral - 2"
      ],
      "metadata": {
        "id": "z8vIwkssRyQ-"
      }
    },
    {
      "cell_type": "code",
      "source": [
        "label_counts = df_train['label'].value_counts()\n",
        "\n",
        "# Define custom colors for the bars ('e', 'c', and 'n')\n",
        "custom_colors = ['#8cbfff', '#d62728','#d4ffcc']\n",
        "\n",
        "# Define custom font dictionary for title and labels\n",
        "font = {'family': 'Serif', 'weight': 'bold', 'size': 12}\n",
        "\n",
        "plt.figure(figsize=(6, 6))\n",
        "\n",
        "# Create bar plot with grid\n",
        "bars = plt.bar(label_counts.index, label_counts.values, color=custom_colors)\n",
        "#plt.grid(axis='y', linestyle='--', alpha=0.7)\n",
        "\n",
        "# Set title and axis labels using custom fontdict\n",
        "plt.title('Label Distribution', fontdict=font)\n",
        "plt.xlabel('Label', fontdict=font)\n",
        "plt.ylabel('Count', fontdict=font)\n",
        "\n",
        "# Set custom font for ticks on both x and y axes\n",
        "plt.xticks(label_counts.index, label_counts.index, fontdict=font)\n",
        "plt.yticks(fontname='Serif', fontsize=10)\n",
        "\n",
        "# Adding annotations (count values) on top of each bar\n",
        "for bar, count in zip(bars, label_counts.values):\n",
        "    plt.text(bar.get_x() + bar.get_width() / 2, bar.get_height(), str(count),\n",
        "             ha='center', va='bottom', fontdict=font)\n",
        "\n",
        "# Show the plot\n",
        "plt.show()\n"
      ],
      "metadata": {
        "colab": {
          "base_uri": "https://localhost:8080/",
          "height": 569
        },
        "id": "y-wuShbSREsG",
        "outputId": "927185be-bda7-4920-c5e9-8f90c0068fc6"
      },
      "execution_count": 27,
      "outputs": [
        {
          "output_type": "display_data",
          "data": {
            "text/plain": [
              "<Figure size 600x600 with 1 Axes>"
            ],
            "image/png": "[encoded data removed]"
          },
          "metadata": {}
        }
      ]
    },
    {
      "cell_type": "markdown",
      "source": [
        "# **Visualization of Label Distribution in Test dataset**\n",
        "* Contradiction - 0\n",
        "* Entailment - 1\n",
        "* Neutral - 2"
      ],
      "metadata": {
        "id": "1BLyZA3kSd84"
      }
    },
    {
      "cell_type": "code",
      "source": [
        "label_counts = df_test['label'].value_counts()\n",
        "\n",
        "# Define custom colors for the bars ('e', 'c', and 'n')\n",
        "custom_colors = ['#8cbfff', '#d62728','#d4ffcc']\n",
        "\n",
        "# Define custom font dictionary for title and labels\n",
        "font = {'family': 'Serif', 'weight': 'bold', 'size': 12}\n",
        "\n",
        "plt.figure(figsize=(6, 6))\n",
        "\n",
        "# Create bar plot with grid\n",
        "bars = plt.bar(label_counts.index, label_counts.values, color=custom_colors)\n",
        "#plt.grid(axis='y', linestyle='--', alpha=0.7)\n",
        "\n",
        "# Set title and axis labels using custom fontdict\n",
        "plt.title('Label Distribution', fontdict=font)\n",
        "plt.xlabel('Label', fontdict=font)\n",
        "plt.ylabel('Count', fontdict=font)\n",
        "\n",
        "# Set custom font for ticks on both x and y axes\n",
        "plt.xticks(label_counts.index, label_counts.index, fontdict=font)\n",
        "plt.yticks(fontname='Serif', fontsize=10)\n",
        "\n",
        "# Adding annotations (count values) on top of each bar\n",
        "for bar, count in zip(bars, label_counts.values):\n",
        "    plt.text(bar.get_x() + bar.get_width() / 2, bar.get_height(), str(count),\n",
        "             ha='center', va='bottom', fontdict=font)\n",
        "\n",
        "# Show the plot\n",
        "plt.show()\n"
      ],
      "metadata": {
        "colab": {
          "base_uri": "https://localhost:8080/",
          "height": 569
        },
        "id": "JOiar7ipSbA_",
        "outputId": "6f9a161e-88d0-47d6-804d-cfb832f3b9cb"
      },
      "execution_count": 28,
      "outputs": [
        {
          "output_type": "display_data",
          "data": {
            "text/plain": [
              "<Figure size 600x600 with 1 Axes>"
            ],
            "image/png": "[encoded data removed]"
          },
          "metadata": {}
        }
      ]
    },
    {
      "cell_type": "markdown",
      "source": [
        "# **Visualization of Label Distribution in Validation dataset**\n",
        "* Contradiction - 0\n",
        "* Entailment - 1\n",
        "* Neutral - 2"
      ],
      "metadata": {
        "id": "4RWjV05iSrV2"
      }
    },
    {
      "cell_type": "code",
      "source": [
        "label_counts = df_validation['label'].value_counts()\n",
        "\n",
        "# Define custom colors for the bars ('e', 'c', and 'n')\n",
        "custom_colors = ['#8cbfff', '#d62728','#d4ffcc']\n",
        "\n",
        "# Define custom font dictionary for title and labels\n",
        "font = {'family': 'Serif', 'weight': 'bold', 'size': 12}\n",
        "\n",
        "plt.figure(figsize=(6, 6))\n",
        "\n",
        "# Create bar plot with grid\n",
        "bars = plt.bar(label_counts.index, label_counts.values, color=custom_colors)\n",
        "#plt.grid(axis='y', linestyle='--', alpha=0.7)\n",
        "\n",
        "# Set title and axis labels using custom fontdict\n",
        "plt.title('Label Distribution', fontdict=font)\n",
        "plt.xlabel('Label', fontdict=font)\n",
        "plt.ylabel('Count', fontdict=font)\n",
        "\n",
        "# Set custom font for ticks on both x and y axes\n",
        "plt.xticks(label_counts.index, label_counts.index, fontdict=font)\n",
        "plt.yticks(fontname='Serif', fontsize=10)\n",
        "\n",
        "# Adding annotations (count values) on top of each bar\n",
        "for bar, count in zip(bars, label_counts.values):\n",
        "    plt.text(bar.get_x() + bar.get_width() / 2, bar.get_height(), str(count),\n",
        "             ha='center', va='bottom', fontdict=font)\n",
        "\n",
        "# Show the plot\n",
        "plt.show()\n"
      ],
      "metadata": {
        "colab": {
          "base_uri": "https://localhost:8080/",
          "height": 569
        },
        "id": "3Nn6NpSGSpKv",
        "outputId": "3290366a-7d5c-4ecb-cf06-127b3c0d31c7"
      },
      "execution_count": 29,
      "outputs": [
        {
          "output_type": "display_data",
          "data": {
            "text/plain": [
              "<Figure size 600x600 with 1 Axes>"
            ],
            "image/png": "[encoded data removed]"
          },
          "metadata": {}
        }
      ]
    },
    {
      "cell_type": "markdown",
      "source": [
        "# **Visualization of Premise Length Distribution in Train Dataset**\n",
        "## **sentence1 length checking**"
      ],
      "metadata": {
        "id": "zA5tBs-uTHKc"
      }
    },
    {
      "cell_type": "code",
      "source": [
        "# Visualize premise length distribution\n",
        "premise_lengths = df_train['sentence1'].apply(lambda x: len(x.split()))\n",
        "# Define custom font dictionary for title and labels\n",
        "font = {'family': 'Serif', 'weight': 'bold', 'size': 12}\n",
        "custom_colors = ['#fc9292']\n",
        "plt.figure(figsize=(5, 4))\n",
        "plt.hist(premise_lengths, bins=15, color=custom_colors,edgecolor='black' ,alpha=0.7)\n",
        "\n",
        "# Set title and axis labels using custom fontdict\n",
        "plt.title('Premise Length Distribution',fontdict=font)\n",
        "plt.xlabel('Length of Premise',fontdict=font)\n",
        "plt.ylabel('Numbers of Premise',fontdict=font)\n",
        "\n",
        "# Set custom font for ticks on both x and y axes\n",
        "plt.xticks(fontname='Serif', fontsize=10)\n",
        "plt.yticks(fontname='Serif', fontsize=10)\n",
        "#plt.grid(True)\n",
        "plt.show()"
      ],
      "metadata": {
        "colab": {
          "base_uri": "https://localhost:8080/",
          "height": 412
        },
        "id": "O02DpO2LTC1y",
        "outputId": "fe0504e4-906a-4903-caf5-257e3ee134fc"
      },
      "execution_count": 30,
      "outputs": [
        {
          "output_type": "display_data",
          "data": {
            "text/plain": [
              "<Figure size 500x400 with 1 Axes>"
            ],
            "image/png": "[encoded data removed]"
          },
          "metadata": {}
        }
      ]
    },
    {
      "cell_type": "markdown",
      "source": [
        "# **Visualization of Premise Length Distribution in Test Dataset**\n",
        "## **sentence1 length checking**"
      ],
      "metadata": {
        "id": "mcq6Ox5_T-eI"
      }
    },
    {
      "cell_type": "code",
      "source": [
        "# Visualize premise length distribution\n",
        "premise_lengths = df_test['sentence1'].apply(lambda x: len(x.split()))\n",
        "# Define custom font dictionary for title and labels\n",
        "font = {'family': 'Serif', 'weight': 'bold', 'size': 12}\n",
        "custom_colors = ['#fc9292']\n",
        "plt.figure(figsize=(5, 4))\n",
        "plt.hist(premise_lengths, bins=15, color=custom_colors,edgecolor='black' ,alpha=0.7)\n",
        "\n",
        "# Set title and axis labels using custom fontdict\n",
        "plt.title('Premise Length Distribution',fontdict=font)\n",
        "plt.xlabel('Length of Premise',fontdict=font)\n",
        "plt.ylabel('Numbers of Premise',fontdict=font)\n",
        "\n",
        "# Set custom font for ticks on both x and y axes\n",
        "plt.xticks(fontname='Serif', fontsize=10)\n",
        "plt.yticks(fontname='Serif', fontsize=10)\n",
        "#plt.grid(True)\n",
        "plt.show()"
      ],
      "metadata": {
        "colab": {
          "base_uri": "https://localhost:8080/",
          "height": 412
        },
        "id": "zoejjr4gT4RR",
        "outputId": "e5213014-c0aa-4149-9c88-3cd684c6ad37"
      },
      "execution_count": 31,
      "outputs": [
        {
          "output_type": "display_data",
          "data": {
            "text/plain": [
              "<Figure size 500x400 with 1 Axes>"
            ],
            "image/png": "[encoded data removed]"
          },
          "metadata": {}
        }
      ]
    },
    {
      "cell_type": "markdown",
      "source": [
        "# **Visualization of Premise Length Distribution in Validation Dataset**\n",
        "## **sentence1 length checking**"
      ],
      "metadata": {
        "id": "GM7ClLAlUMKW"
      }
    },
    {
      "cell_type": "code",
      "source": [
        "# Visualize premise length distribution\n",
        "premise_lengths = df_validation['sentence1'].apply(lambda x: len(x.split()))\n",
        "# Define custom font dictionary for title and labels\n",
        "font = {'family': 'Serif', 'weight': 'bold', 'size': 12}\n",
        "custom_colors = ['#fc9292']\n",
        "plt.figure(figsize=(5, 4))\n",
        "plt.hist(premise_lengths, bins=15, color=custom_colors,edgecolor='black' ,alpha=0.7)\n",
        "\n",
        "# Set title and axis labels using custom fontdict\n",
        "plt.title('Premise Length Distribution',fontdict=font)\n",
        "plt.xlabel('Length of Premise',fontdict=font)\n",
        "plt.ylabel('Numbers of Premise',fontdict=font)\n",
        "\n",
        "# Set custom font for ticks on both x and y axes\n",
        "plt.xticks(fontname='Serif', fontsize=10)\n",
        "plt.yticks(fontname='Serif', fontsize=10)\n",
        "#plt.grid(True)\n",
        "plt.show()"
      ],
      "metadata": {
        "colab": {
          "base_uri": "https://localhost:8080/",
          "height": 412
        },
        "id": "7P9zOgW6T4Ze",
        "outputId": "4b0e27a4-1aa0-4a52-bc19-d4023914ecc6"
      },
      "execution_count": 32,
      "outputs": [
        {
          "output_type": "display_data",
          "data": {
            "text/plain": [
              "<Figure size 500x400 with 1 Axes>"
            ],
            "image/png": "[encoded data removed]"
          },
          "metadata": {}
        }
      ]
    },
    {
      "cell_type": "markdown",
      "source": [
        "# **Dataset Length**"
      ],
      "metadata": {
        "id": "PoM8l5aCUa0L"
      }
    },
    {
      "cell_type": "code",
      "source": [
        "print(f\"Train Dataset Length: {len(df_train)}\")\n",
        "print(f\"Test Dataset Length: {len(df_test)}\")\n",
        "print(f\"Validation Dataset Length: {len(df_validation)}\")"
      ],
      "metadata": {
        "colab": {
          "base_uri": "https://localhost:8080/"
        },
        "id": "yvhWp-DvUVpd",
        "outputId": "227fa657-7292-431c-e9fe-04d0b279226c"
      },
      "execution_count": 33,
      "outputs": [
        {
          "output_type": "stream",
          "name": "stdout",
          "text": [
            "Train Dataset Length: 15000\n",
            "Test Dataset Length: 4895\n",
            "Validation Dataset Length: 2419\n"
          ]
        }
      ]
    },
    {
      "cell_type": "markdown",
      "source": [
        "# **Null value checking in Train dataset**"
      ],
      "metadata": {
        "id": "MEsnFWBTVmLS"
      }
    },
    {
      "cell_type": "code",
      "source": [
        "# Check for null values in 'premise', 'hypothesis' and\t'label' columns\n",
        "null_premise = df_train['sentence1'].isnull().sum()\n",
        "null_hypothesis = df_train['sentence2'].isnull().sum()\n",
        "null_label = df_train['label'].isnull().sum()\n",
        "\n",
        "\n",
        "print(f\"Null values in 'sentence1': {null_premise}\")\n",
        "print(f\"Null values in 'sentence2': {null_hypothesis}\")\n",
        "print(f\"Null values in 'label': {null_label}\")\n"
      ],
      "metadata": {
        "colab": {
          "base_uri": "https://localhost:8080/"
        },
        "id": "xK9pVl81UVtj",
        "outputId": "3f64a9b3-626d-4ab6-d37b-5cf759743034"
      },
      "execution_count": 34,
      "outputs": [
        {
          "output_type": "stream",
          "name": "stdout",
          "text": [
            "Null values in 'sentence1': 0\n",
            "Null values in 'sentence2': 0\n",
            "Null values in 'label': 0\n"
          ]
        }
      ]
    },
    {
      "cell_type": "markdown",
      "source": [
        "# **Null value checking in Test dataset**"
      ],
      "metadata": {
        "id": "dUwiQtiXVrwU"
      }
    },
    {
      "cell_type": "code",
      "source": [
        "# Check for null values in 'premise', 'hypothesis' and\t'label' columns\n",
        "null_premise = df_test['sentence1'].isnull().sum()\n",
        "null_hypothesis = df_test['sentence2'].isnull().sum()\n",
        "null_label = df_test['label'].isnull().sum()\n",
        "\n",
        "\n",
        "print(f\"Null values in 'sentence1': {null_premise}\")\n",
        "print(f\"Null values in 'sentence2': {null_hypothesis}\")\n",
        "print(f\"Null values in 'label': {null_label}\")\n"
      ],
      "metadata": {
        "colab": {
          "base_uri": "https://localhost:8080/"
        },
        "id": "noFsoPvtVp52",
        "outputId": "c7998a8a-756a-4897-cf41-565d78951a75"
      },
      "execution_count": 35,
      "outputs": [
        {
          "output_type": "stream",
          "name": "stdout",
          "text": [
            "Null values in 'sentence1': 0\n",
            "Null values in 'sentence2': 0\n",
            "Null values in 'label': 0\n"
          ]
        }
      ]
    },
    {
      "cell_type": "markdown",
      "source": [
        "# **Null value checking in Validation dataset**"
      ],
      "metadata": {
        "id": "T6NuC1kuV2vg"
      }
    },
    {
      "cell_type": "code",
      "source": [
        "# Check for null values in 'premise', 'hypothesis' and\t'label' columns\n",
        "null_premise = df_validation['sentence1'].isnull().sum()\n",
        "null_hypothesis = df_validation['sentence2'].isnull().sum()\n",
        "null_label = df_validation['label'].isnull().sum()\n",
        "\n",
        "\n",
        "print(f\"Null values in 'sentence1': {null_premise}\")\n",
        "print(f\"Null values in 'sentence2': {null_hypothesis}\")\n",
        "print(f\"Null values in 'label': {null_label}\")\n"
      ],
      "metadata": {
        "colab": {
          "base_uri": "https://localhost:8080/"
        },
        "id": "KAqnTK22Vp-G",
        "outputId": "1a81b399-fd19-4de7-a4fc-e64ea7956591"
      },
      "execution_count": 36,
      "outputs": [
        {
          "output_type": "stream",
          "name": "stdout",
          "text": [
            "Null values in 'sentence1': 0\n",
            "Null values in 'sentence2': 0\n",
            "Null values in 'label': 0\n"
          ]
        }
      ]
    },
    {
      "cell_type": "markdown",
      "source": [
        "# **Bangla-bert-base model and its tokenizer**"
      ],
      "metadata": {
        "id": "Ug6ZBvbDXZyp"
      }
    },
    {
      "cell_type": "code",
      "source": [
        "# Model loading\n",
        "from transformers import AutoModelForSequenceClassification, AutoTokenizer, AdamW\n",
        "\n",
        "num_classes = 3  #number of classes in our dataset\n",
        "\n",
        "model_name = \"sagorsarker/bangla-bert-base\"\n",
        "model = AutoModelForSequenceClassification.from_pretrained(model_name, num_labels=num_classes)\n",
        "tokenizer = AutoTokenizer.from_pretrained(model_name)"
      ],
      "metadata": {
        "colab": {
          "base_uri": "https://localhost:8080/",
          "height": 168,
          "referenced_widgets": [
            "9ab239b4dee74a0ab9b86fe02f070c22",
            "405a2f699c984ed4b3c908e9845228dc",
            "4057e877a44f4115a9784fea60e7d684",
            "4b19e2a6518b4de2ad6cdebbd03582a4",
            "cda9f79a5bad421ba5647e20a6c351ed",
            "13ed7e116ffe4a629c2a3d540e9500cb",
            "1732fce6433b4e998578ad667bea2683",
            "0866cb8fd2b2438689a0c182f6d97a6a",
            "bc70958c339c4264a2c78caf4e3211c3",
            "71524abe6fa243c6b1a418dd956f2646",
            "3665cd15ea9f48c79f3a8538adb9ae51",
            "d81f68e9e15140f3a60db82b937c48ab",
            "d99e5e68733b42e6b057fb80e536365b",
            "3515fc20aacb4f41861a4ff0ec2a6f4e",
            "c43679ae43d24b64aa45ac9d5ee24974",
            "019c76db50174603a7d3aa3d9795f93d",
            "44ca99e73770450dae9f546a212b9fd6",
            "8539c5ccbdc845fbb1cb824c7e29d5dd",
            "e0f3db97e1cb4528b89e6008a593d6f0",
            "67984599f0ea4ddf836dabe927e38e03",
            "1d54bcc355e9486dab1cdbd0021cd1ce",
            "ab7a90644cbf41aea5355407a0686c19",
            "e23dfa720481412eb42def1597b5672b",
            "98dee9ce3b79420ca44f1d7d44b56c0d",
            "499c5c2226834c55b268453548b0be7c",
            "6d4e6faea2f24b839891976ff40099e2",
            "d331977a48204524a0a29d88161eba3a",
            "b432242c3b4449e8b0b11a3695e67c3c",
            "e0b119eb336d45f4b21954701d41bf51",
            "32a092920bb54dd0ae0a6a5bf06535f0",
            "1abd9e36cdba4f43b95b46b2dab80429",
            "cd07b9365ee946b389a6e51af0cb2d62",
            "2b91e9e3a28d45c7859c7ea84432e488"
          ]
        },
        "id": "89j9mSDuXYVC",
        "outputId": "7811209b-374b-4f7d-815e-cc1e7fe642dd"
      },
      "execution_count": 38,
      "outputs": [
        {
          "output_type": "display_data",
          "data": {
            "text/plain": [
              "config.json:   0%|          | 0.00/491 [00:00<?, ?B/s]"
            ],
            "application/vnd.jupyter.widget-view+json": {
              "version_major": 2,
              "version_minor": 0,
              "model_id": "9ab239b4dee74a0ab9b86fe02f070c22"
            }
          },
          "metadata": {}
        },
        {
          "output_type": "display_data",
          "data": {
            "text/plain": [
              "model.safetensors:   0%|          | 0.00/660M [00:00<?, ?B/s]"
            ],
            "application/vnd.jupyter.widget-view+json": {
              "version_major": 2,
              "version_minor": 0,
              "model_id": "d81f68e9e15140f3a60db82b937c48ab"
            }
          },
          "metadata": {}
        },
        {
          "output_type": "stream",
          "name": "stderr",
          "text": [
            "Some weights of BertForSequenceClassification were not initialized from the model checkpoint at sagorsarker/bangla-bert-base and are newly initialized: ['classifier.weight', 'classifier.bias']\n",
            "You should probably TRAIN this model on a down-stream task to be able to use it for predictions and inference.\n"
          ]
        },
        {
          "output_type": "display_data",
          "data": {
            "text/plain": [
              "vocab.txt:   0%|          | 0.00/2.24M [00:00<?, ?B/s]"
            ],
            "application/vnd.jupyter.widget-view+json": {
              "version_major": 2,
              "version_minor": 0,
              "model_id": "e23dfa720481412eb42def1597b5672b"
            }
          },
          "metadata": {}
        }
      ]
    },
    {
      "cell_type": "code",
      "source": [
        "# Place model on the device\n",
        "device = torch.device('cuda' if torch.cuda.is_available() else 'cpu')\n",
        "model.to(device)"
      ],
      "metadata": {
        "colab": {
          "base_uri": "https://localhost:8080/"
        },
        "id": "33_47eAvYAq7",
        "outputId": "423f7abc-ec6d-4c04-ed71-5e0e46dc749e"
      },
      "execution_count": 39,
      "outputs": [
        {
          "output_type": "execute_result",
          "data": {
            "text/plain": [
              "BertForSequenceClassification(\n",
              "  (bert): BertModel(\n",
              "    (embeddings): BertEmbeddings(\n",
              "      (word_embeddings): Embedding(102025, 768, padding_idx=0)\n",
              "      (position_embeddings): Embedding(512, 768)\n",
              "      (token_type_embeddings): Embedding(2, 768)\n",
              "      (LayerNorm): LayerNorm((768,), eps=1e-12, elementwise_affine=True)\n",
              "      (dropout): Dropout(p=0.1, inplace=False)\n",
              "    )\n",
              "    (encoder): BertEncoder(\n",
              "      (layer): ModuleList(\n",
              "        (0-11): 12 x BertLayer(\n",
              "          (attention): BertAttention(\n",
              "            (self): BertSelfAttention(\n",
              "              (query): Linear(in_features=768, out_features=768, bias=True)\n",
              "              (key): Linear(in_features=768, out_features=768, bias=True)\n",
              "              (value): Linear(in_features=768, out_features=768, bias=True)\n",
              "              (dropout): Dropout(p=0.1, inplace=False)\n",
              "            )\n",
              "            (output): BertSelfOutput(\n",
              "              (dense): Linear(in_features=768, out_features=768, bias=True)\n",
              "              (LayerNorm): LayerNorm((768,), eps=1e-12, elementwise_affine=True)\n",
              "              (dropout): Dropout(p=0.1, inplace=False)\n",
              "            )\n",
              "          )\n",
              "          (intermediate): BertIntermediate(\n",
              "            (dense): Linear(in_features=768, out_features=3072, bias=True)\n",
              "            (intermediate_act_fn): GELUActivation()\n",
              "          )\n",
              "          (output): BertOutput(\n",
              "            (dense): Linear(in_features=3072, out_features=768, bias=True)\n",
              "            (LayerNorm): LayerNorm((768,), eps=1e-12, elementwise_affine=True)\n",
              "            (dropout): Dropout(p=0.1, inplace=False)\n",
              "          )\n",
              "        )\n",
              "      )\n",
              "    )\n",
              "    (pooler): BertPooler(\n",
              "      (dense): Linear(in_features=768, out_features=768, bias=True)\n",
              "      (activation): Tanh()\n",
              "    )\n",
              "  )\n",
              "  (dropout): Dropout(p=0.1, inplace=False)\n",
              "  (classifier): Linear(in_features=768, out_features=3, bias=True)\n",
              ")"
            ]
          },
          "metadata": {},
          "execution_count": 39
        }
      ]
    },
    {
      "cell_type": "code",
      "source": [
        "from torch.utils.data import Dataset, DataLoader\n",
        "import torch"
      ],
      "metadata": {
        "id": "9Ra5idwcXGnr"
      },
      "execution_count": 40,
      "outputs": []
    },
    {
      "cell_type": "markdown",
      "source": [
        "# **Custom Dataset Class**"
      ],
      "metadata": {
        "id": "8DEdDfUQXmSP"
      }
    },
    {
      "cell_type": "code",
      "source": [
        "class NaturalLanguageInferenceDataset(Dataset):\n",
        "    def __init__(self, data, tokenizer, max_length=128):\n",
        "        self.data = data\n",
        "        self.tokenizer = tokenizer\n",
        "        self.max_length = max_length\n",
        "        self.label_map = {'Contradiction': 0, 'Entailment': 1, 'Neutral': 2}\n",
        "\n",
        "    def __len__(self):\n",
        "        return len(self.data)\n",
        "\n",
        "    def __getitem__(self, idx):\n",
        "        premise = self.data.iloc[idx]['sentence1']\n",
        "        hypothesis = self.data.iloc[idx]['sentence2']\n",
        "        label = self.data.iloc[idx]['label']\n",
        "\n",
        "        # Map label to integer\n",
        "        label_id = self.label_map[label]\n",
        "\n",
        "        # Tokenize premise and hypothesis separately\n",
        "        encoded_dict_premise = self.tokenizer.encode_plus(\n",
        "            premise,\n",
        "            add_special_tokens=True,\n",
        "            max_length=self.max_length // 2,  # Allocate half of the max_length to each\n",
        "            padding='max_length',\n",
        "            return_attention_mask=True,\n",
        "            return_tensors='pt',\n",
        "            truncation=True\n",
        "        )\n",
        "        encoded_dict_hypothesis = self.tokenizer.encode_plus(\n",
        "            hypothesis,\n",
        "            add_special_tokens=True,\n",
        "            max_length=self.max_length // 2,\n",
        "            padding='max_length',\n",
        "            return_attention_mask=True,\n",
        "            return_tensors='pt',\n",
        "            truncation=True\n",
        "        )\n",
        "\n",
        "        # Concatenate input_ids and attention_masks\n",
        "        input_ids = torch.cat((encoded_dict_premise['input_ids'], encoded_dict_hypothesis['input_ids']), dim=1)\n",
        "        attention_mask = torch.cat((encoded_dict_premise['attention_mask'], encoded_dict_hypothesis['attention_mask']), dim=1)\n",
        "\n",
        "        return {\n",
        "            'input_ids': input_ids.squeeze(),\n",
        "            'attention_mask': attention_mask.squeeze(),\n",
        "            'label': torch.tensor(label_id, dtype=torch.long)  # Use mapped label_id\n",
        "        }\n"
      ],
      "metadata": {
        "id": "6KS9BMVKkI2Q"
      },
      "execution_count": 41,
      "outputs": []
    },
    {
      "cell_type": "markdown",
      "source": [
        "# **Custom dataset and dataloader**"
      ],
      "metadata": {
        "id": "Lb-YGHWDXp1o"
      }
    },
    {
      "cell_type": "code",
      "source": [
        "# Define custom datasets\n",
        "train_dataset = NaturalLanguageInferenceDataset(df_train, tokenizer)\n",
        "val_dataset = NaturalLanguageInferenceDataset(df_validation, tokenizer)\n",
        "test_dataset = NaturalLanguageInferenceDataset(df_test, tokenizer)\n",
        "\n",
        "# Define data loaders\n",
        "train_loader = DataLoader(train_dataset, batch_size=10, shuffle=True)\n",
        "val_loader = DataLoader(val_dataset, batch_size=10, shuffle=False)\n",
        "test_loader = DataLoader(test_dataset, batch_size=10, shuffle=False)"
      ],
      "metadata": {
        "id": "WmY-Js5uWIQR"
      },
      "execution_count": 42,
      "outputs": []
    },
    {
      "cell_type": "markdown",
      "source": [
        "# **Train Dataset Encoding Printing**"
      ],
      "metadata": {
        "id": "GqS_EvPQYvbP"
      }
    },
    {
      "cell_type": "code",
      "source": [
        "# Set a flag to track whether it's the first batch\n",
        "first_batch = True\n",
        "\n",
        "for batch in train_loader:\n",
        "    # Move inputs and labels to the GPU\n",
        "    inputs = {key: value.to(device) for key, value in batch.items()}  # Using 'batch' directly\n",
        "\n",
        "    # Extract information for the first example in the batch\n",
        "    input_ids = inputs['input_ids'][0]\n",
        "    attention_mask = inputs['attention_mask'][0]\n",
        "    labels = inputs['label'][0]\n",
        "\n",
        "\n",
        "    # Print information\n",
        "    print(\"Input IDs:\", input_ids)\n",
        "    print(\"Attention Mask:\", attention_mask)\n",
        "    print(\"Labels:\", labels)\n",
        "\n",
        "\n",
        "    # Break out of the loop after processing the first batch\n",
        "    break\n"
      ],
      "metadata": {
        "colab": {
          "base_uri": "https://localhost:8080/"
        },
        "id": "iFgbykugWIUc",
        "outputId": "45a10c40-021a-4d35-a824-9846265cf9ed"
      },
      "execution_count": 43,
      "outputs": [
        {
          "output_type": "stream",
          "name": "stdout",
          "text": [
            "Input IDs: tensor([  101,  3335,  1012,  8566,  2756, 10706, 33553,  2446, 21327,  5222,\n",
            "         6509,  2040,  2282, 28184,  1026,  2050,  7462,  2094,  2395, 86336,\n",
            "         1014,  2076, 25492, 18655,  8705, 50569, 15281,  6943, 26971,  5602,\n",
            "         1011,  7231,  7428,  4804,  8261, 63614,  6459, 13477, 20379,  2429,\n",
            "        96152,  6187,  2046, 14973,  3867,  9294,  2446, 21327,  5222,  6509,\n",
            "         2040,  2051, 38238, 63129,  2046,  2282,  3020,  9294,  1014,   102,\n",
            "            0,     0,     0,     0,   101, 63614,  6459, 13477, 20379,  2429,\n",
            "        96152,  2046, 50569, 15281,  4531, 15537, 32615, 27900,  2200,  7231,\n",
            "         7428,  4804, 40017,  8844,  2046, 14973,  3867,  9294,  2446, 21327,\n",
            "         5222,  6509,  2040,  2051, 38238, 63129,  2046,  2282,  3020,  9294,\n",
            "         1014,   102,     0,     0,     0,     0,     0,     0,     0,     0,\n",
            "            0,     0,     0,     0,     0,     0,     0,     0,     0,     0,\n",
            "            0,     0,     0,     0,     0,     0,     0,     0],\n",
            "       device='cuda:0')\n",
            "Attention Mask: tensor([1, 1, 1, 1, 1, 1, 1, 1, 1, 1, 1, 1, 1, 1, 1, 1, 1, 1, 1, 1, 1, 1, 1, 1,\n",
            "        1, 1, 1, 1, 1, 1, 1, 1, 1, 1, 1, 1, 1, 1, 1, 1, 1, 1, 1, 1, 1, 1, 1, 1,\n",
            "        1, 1, 1, 1, 1, 1, 1, 1, 1, 1, 1, 1, 0, 0, 0, 0, 1, 1, 1, 1, 1, 1, 1, 1,\n",
            "        1, 1, 1, 1, 1, 1, 1, 1, 1, 1, 1, 1, 1, 1, 1, 1, 1, 1, 1, 1, 1, 1, 1, 1,\n",
            "        1, 1, 1, 1, 1, 1, 0, 0, 0, 0, 0, 0, 0, 0, 0, 0, 0, 0, 0, 0, 0, 0, 0, 0,\n",
            "        0, 0, 0, 0, 0, 0, 0, 0], device='cuda:0')\n",
            "Labels: tensor(0, device='cuda:0')\n"
          ]
        }
      ]
    },
    {
      "cell_type": "markdown",
      "source": [
        "# **Test Dataset Encoding Printing**"
      ],
      "metadata": {
        "id": "0WOw8GpDYxfu"
      }
    },
    {
      "cell_type": "code",
      "source": [
        "# Set a flag to track whether it's the first batch\n",
        "first_batch = True\n",
        "\n",
        "for batch in test_loader:\n",
        "    # Move inputs and labels to the GPU\n",
        "    inputs = {key: value.to(device) for key, value in batch.items()}  # Using 'batch' directly\n",
        "\n",
        "    # Extract information for the first example in the batch\n",
        "    input_ids = inputs['input_ids'][0]\n",
        "    attention_mask = inputs['attention_mask'][0]\n",
        "    labels = inputs['label'][0]\n",
        "\n",
        "\n",
        "    # Print information\n",
        "    print(\"Input IDs:\", input_ids)\n",
        "    print(\"Attention Mask:\", attention_mask)\n",
        "    print(\"Labels:\", labels)\n",
        "\n",
        "\n",
        "    # Break out of the loop after processing the first batch\n",
        "    break\n"
      ],
      "metadata": {
        "colab": {
          "base_uri": "https://localhost:8080/"
        },
        "id": "wq5TW7iYYZLV",
        "outputId": "df09e842-e8f7-4f0f-8cde-38c5940ff0c9"
      },
      "execution_count": 44,
      "outputs": [
        {
          "output_type": "stream",
          "name": "stdout",
          "text": [
            "Input IDs: tensor([  101,  2746,  1011,  2169,  2752,  2045,  8136,  8844, 45484, 23933,\n",
            "         8756,  1011, 77801,  2169,  2592,  6222, 33668,  2094, 71923,  2094,\n",
            "        14523,  2060,  1011,  2158,  2076, 56469,  3283,  2169,  2239,  2056,\n",
            "        47174,  9417,  2085,  2362, 14033,  6625,   102,     0,     0,     0,\n",
            "            0,     0,     0,     0,     0,     0,     0,     0,     0,     0,\n",
            "            0,     0,     0,     0,     0,     0,     0,     0,     0,     0,\n",
            "            0,     0,     0,     0,   101,  2169,  2056,  2179,  2239,  2085,\n",
            "        26217,  1014,   102,     0,     0,     0,     0,     0,     0,     0,\n",
            "            0,     0,     0,     0,     0,     0,     0,     0,     0,     0,\n",
            "            0,     0,     0,     0,     0,     0,     0,     0,     0,     0,\n",
            "            0,     0,     0,     0,     0,     0,     0,     0,     0,     0,\n",
            "            0,     0,     0,     0,     0,     0,     0,     0,     0,     0,\n",
            "            0,     0,     0,     0,     0,     0,     0,     0],\n",
            "       device='cuda:0')\n",
            "Attention Mask: tensor([1, 1, 1, 1, 1, 1, 1, 1, 1, 1, 1, 1, 1, 1, 1, 1, 1, 1, 1, 1, 1, 1, 1, 1,\n",
            "        1, 1, 1, 1, 1, 1, 1, 1, 1, 1, 1, 1, 1, 0, 0, 0, 0, 0, 0, 0, 0, 0, 0, 0,\n",
            "        0, 0, 0, 0, 0, 0, 0, 0, 0, 0, 0, 0, 0, 0, 0, 0, 1, 1, 1, 1, 1, 1, 1, 1,\n",
            "        1, 0, 0, 0, 0, 0, 0, 0, 0, 0, 0, 0, 0, 0, 0, 0, 0, 0, 0, 0, 0, 0, 0, 0,\n",
            "        0, 0, 0, 0, 0, 0, 0, 0, 0, 0, 0, 0, 0, 0, 0, 0, 0, 0, 0, 0, 0, 0, 0, 0,\n",
            "        0, 0, 0, 0, 0, 0, 0, 0], device='cuda:0')\n",
            "Labels: tensor(0, device='cuda:0')\n"
          ]
        }
      ]
    },
    {
      "cell_type": "markdown",
      "source": [
        "# **Validation Dataset Encoding Printing**"
      ],
      "metadata": {
        "id": "CMKWxh1cY1VY"
      }
    },
    {
      "cell_type": "code",
      "source": [
        "# Set a flag to track whether it's the first batch\n",
        "first_batch = True\n",
        "\n",
        "for batch in val_loader:\n",
        "    # Move inputs and labels to the GPU\n",
        "    inputs = {key: value.to(device) for key, value in batch.items()}  # Using 'batch' directly\n",
        "\n",
        "    # Extract information for the first example in the batch\n",
        "    input_ids = inputs['input_ids'][0]\n",
        "    attention_mask = inputs['attention_mask'][0]\n",
        "    labels = inputs['label'][0]\n",
        "\n",
        "\n",
        "    # Print information\n",
        "    print(\"Input IDs:\", input_ids)\n",
        "    print(\"Attention Mask:\", attention_mask)\n",
        "    print(\"Labels:\", labels)\n",
        "\n",
        "\n",
        "    # Break out of the loop after processing the first batch\n",
        "    break\n"
      ],
      "metadata": {
        "colab": {
          "base_uri": "https://localhost:8080/"
        },
        "id": "2IoCxG4aYZP8",
        "outputId": "9d165028-1f04-4003-efaf-f0fe311e78a4"
      },
      "execution_count": 45,
      "outputs": [
        {
          "output_type": "stream",
          "name": "stdout",
          "text": [
            "Input IDs: tensor([  101,  2070,  2118,  6635,  2395,  1011,  2411,  1011,  2169,  2069,\n",
            "         6231,  1014,   102,     0,     0,     0,     0,     0,     0,     0,\n",
            "            0,     0,     0,     0,     0,     0,     0,     0,     0,     0,\n",
            "            0,     0,     0,     0,     0,     0,     0,     0,     0,     0,\n",
            "            0,     0,     0,     0,     0,     0,     0,     0,     0,     0,\n",
            "            0,     0,     0,     0,     0,     0,     0,     0,     0,     0,\n",
            "            0,     0,     0,     0,   101, 10224,  2773,  2271, 37071,  8844,\n",
            "        21380, 14979, 47174,  9417, 47174,  9417,  2049,  2056,  6892, 16359,\n",
            "         5803,  2263,  1014,   102,     0,     0,     0,     0,     0,     0,\n",
            "            0,     0,     0,     0,     0,     0,     0,     0,     0,     0,\n",
            "            0,     0,     0,     0,     0,     0,     0,     0,     0,     0,\n",
            "            0,     0,     0,     0,     0,     0,     0,     0,     0,     0,\n",
            "            0,     0,     0,     0,     0,     0,     0,     0],\n",
            "       device='cuda:0')\n",
            "Attention Mask: tensor([1, 1, 1, 1, 1, 1, 1, 1, 1, 1, 1, 1, 1, 0, 0, 0, 0, 0, 0, 0, 0, 0, 0, 0,\n",
            "        0, 0, 0, 0, 0, 0, 0, 0, 0, 0, 0, 0, 0, 0, 0, 0, 0, 0, 0, 0, 0, 0, 0, 0,\n",
            "        0, 0, 0, 0, 0, 0, 0, 0, 0, 0, 0, 0, 0, 0, 0, 0, 1, 1, 1, 1, 1, 1, 1, 1,\n",
            "        1, 1, 1, 1, 1, 1, 1, 1, 1, 1, 1, 1, 0, 0, 0, 0, 0, 0, 0, 0, 0, 0, 0, 0,\n",
            "        0, 0, 0, 0, 0, 0, 0, 0, 0, 0, 0, 0, 0, 0, 0, 0, 0, 0, 0, 0, 0, 0, 0, 0,\n",
            "        0, 0, 0, 0, 0, 0, 0, 0], device='cuda:0')\n",
            "Labels: tensor(2, device='cuda:0')\n"
          ]
        }
      ]
    },
    {
      "cell_type": "markdown",
      "source": [
        "# **Train Dataset Decoding Printing**"
      ],
      "metadata": {
        "id": "xya2GAiZY7Dc"
      }
    },
    {
      "cell_type": "code",
      "source": [
        "# Set a flag to track whether it's the first batch\n",
        "first_batch = True\n",
        "\n",
        "for batch in train_loader:\n",
        "    # Move inputs and labels to the GPU\n",
        "    inputs = {key: value.to(device) for key, value in batch.items()}\n",
        "\n",
        "    # Extract information for the first example in the batch\n",
        "    input_ids = inputs['input_ids'][0]\n",
        "    attention_mask = inputs['attention_mask'][0]\n",
        "    labels = inputs['label'][0]\n",
        "\n",
        "\n",
        "    # Check for problematic token IDs causing overflow error during decoding\n",
        "    problematic_ids = torch.nonzero((input_ids < 0) | (input_ids >= tokenizer.vocab_size))\n",
        "    if problematic_ids.numel() > 0:\n",
        "        print(\"Problematic Token IDs:\", input_ids[problematic_ids])\n",
        "        print(\"Problematic Token Positions:\", problematic_ids)\n",
        "        # Handle the problematic input IDs as needed\n",
        "        raise ValueError(\"Problematic token IDs detected\")\n",
        "\n",
        "    # Decode and print input text\n",
        "    decoded_input_text = tokenizer.decode(input_ids.clamp(0, tokenizer.vocab_size - 1), skip_special_tokens=True)\n",
        "    print(\"Decoded Input Text:\", decoded_input_text)\n",
        "    print(\"Attention Mask:\", attention_mask)\n",
        "\n",
        "    # Decode and print labels\n",
        "    decoded_labels = tokenizer.decode(labels.clamp(0, tokenizer.vocab_size - 1), skip_special_tokens=True)\n",
        "    print(\"Labels:\", decoded_labels)\n",
        "\n",
        "\n",
        "\n",
        "    # Break out of the loop after processing the first batch\n",
        "    break\n"
      ],
      "metadata": {
        "colab": {
          "base_uri": "https://localhost:8080/"
        },
        "id": "TFw3haCPYZT0",
        "outputId": "29bbb182-14c0-4e91-f926-b2fabd69e7a0"
      },
      "execution_count": 46,
      "outputs": [
        {
          "output_type": "stream",
          "name": "stdout",
          "text": [
            "Decoded Input Text: তিনি দকষিণের ইতিহাস এবং চিঠি, জনপরিয সংসকতি এবং রনধনপরণালীর উপর এক দকষ এবং পরাণবনত উপলবধি পরদরশন করেন । তিনি দকষিণের ইতিহাস ও সংসকতি নিযে পরচর গবেষণা করেছেন ।\n",
            "Attention Mask: tensor([1, 1, 1, 1, 1, 1, 1, 1, 1, 1, 1, 1, 1, 1, 1, 1, 1, 1, 1, 1, 1, 1, 1, 1,\n",
            "        1, 1, 1, 1, 1, 1, 1, 1, 1, 1, 1, 1, 1, 0, 0, 0, 0, 0, 0, 0, 0, 0, 0, 0,\n",
            "        0, 0, 0, 0, 0, 0, 0, 0, 0, 0, 0, 0, 0, 0, 0, 0, 1, 1, 1, 1, 1, 1, 1, 1,\n",
            "        1, 1, 1, 1, 1, 1, 1, 1, 1, 1, 0, 0, 0, 0, 0, 0, 0, 0, 0, 0, 0, 0, 0, 0,\n",
            "        0, 0, 0, 0, 0, 0, 0, 0, 0, 0, 0, 0, 0, 0, 0, 0, 0, 0, 0, 0, 0, 0, 0, 0,\n",
            "        0, 0, 0, 0, 0, 0, 0, 0], device='cuda:0')\n",
            "Labels: [unused1]\n"
          ]
        }
      ]
    },
    {
      "cell_type": "markdown",
      "source": [
        "# **Test Dataset Decoding Printing**"
      ],
      "metadata": {
        "id": "OaFuSRr4Y8zq"
      }
    },
    {
      "cell_type": "code",
      "source": [
        "# Set a flag to track whether it's the first batch\n",
        "first_batch = True\n",
        "\n",
        "for batch in test_loader:\n",
        "    # Move inputs and labels to the GPU\n",
        "    inputs = {key: value.to(device) for key, value in batch.items()}\n",
        "\n",
        "    # Extract information for the first example in the batch\n",
        "    input_ids = inputs['input_ids'][0]\n",
        "    attention_mask = inputs['attention_mask'][0]\n",
        "    labels = inputs['label'][0]\n",
        "\n",
        "\n",
        "    # Check for problematic token IDs causing overflow error during decoding\n",
        "    problematic_ids = torch.nonzero((input_ids < 0) | (input_ids >= tokenizer.vocab_size))\n",
        "    if problematic_ids.numel() > 0:\n",
        "        print(\"Problematic Token IDs:\", input_ids[problematic_ids])\n",
        "        print(\"Problematic Token Positions:\", problematic_ids)\n",
        "        # Handle the problematic input IDs as needed\n",
        "        raise ValueError(\"Problematic token IDs detected\")\n",
        "\n",
        "    # Decode and print input text\n",
        "    decoded_input_text = tokenizer.decode(input_ids.clamp(0, tokenizer.vocab_size - 1), skip_special_tokens=True)\n",
        "    print(\"Decoded Input Text:\", decoded_input_text)\n",
        "    print(\"Attention Mask:\", attention_mask)\n",
        "\n",
        "    # Decode and print labels\n",
        "    decoded_labels = tokenizer.decode(labels.clamp(0, tokenizer.vocab_size - 1), skip_special_tokens=True)\n",
        "    print(\"Labels:\", decoded_labels)\n",
        "\n",
        "\n",
        "\n",
        "    # Break out of the loop after processing the first batch\n",
        "    break\n"
      ],
      "metadata": {
        "colab": {
          "base_uri": "https://localhost:8080/"
        },
        "id": "qHWs5hbMYjoR",
        "outputId": "67546eda-05dc-470c-c223-2e60caf3a611"
      },
      "execution_count": 47,
      "outputs": [
        {
          "output_type": "stream",
          "name": "stdout",
          "text": [
            "Decoded Input Text: আসলে, আমি এমনকি এই বিষযে চিনতাও করিনি, কিনত আমি এত হতাশ হযে পডেছিলাম যে, শেষ পরযনত আমি আবার তার সঙগে কথা বলতে শর করেছিলাম আমি তার সাথে আবার কথা বলিনি ।\n",
            "Attention Mask: tensor([1, 1, 1, 1, 1, 1, 1, 1, 1, 1, 1, 1, 1, 1, 1, 1, 1, 1, 1, 1, 1, 1, 1, 1,\n",
            "        1, 1, 1, 1, 1, 1, 1, 1, 1, 1, 1, 1, 1, 0, 0, 0, 0, 0, 0, 0, 0, 0, 0, 0,\n",
            "        0, 0, 0, 0, 0, 0, 0, 0, 0, 0, 0, 0, 0, 0, 0, 0, 1, 1, 1, 1, 1, 1, 1, 1,\n",
            "        1, 0, 0, 0, 0, 0, 0, 0, 0, 0, 0, 0, 0, 0, 0, 0, 0, 0, 0, 0, 0, 0, 0, 0,\n",
            "        0, 0, 0, 0, 0, 0, 0, 0, 0, 0, 0, 0, 0, 0, 0, 0, 0, 0, 0, 0, 0, 0, 0, 0,\n",
            "        0, 0, 0, 0, 0, 0, 0, 0], device='cuda:0')\n",
            "Labels: \n"
          ]
        }
      ]
    },
    {
      "cell_type": "markdown",
      "source": [
        "# **Validation Dataset Decoding Printing**"
      ],
      "metadata": {
        "id": "WLjTMnmHZBY8"
      }
    },
    {
      "cell_type": "code",
      "source": [
        "# Set a flag to track whether it's the first batch\n",
        "first_batch = True\n",
        "\n",
        "for batch in val_loader:\n",
        "    # Move inputs and labels to the GPU\n",
        "    inputs = {key: value.to(device) for key, value in batch.items()}\n",
        "\n",
        "    # Extract information for the first example in the batch\n",
        "    input_ids = inputs['input_ids'][0]\n",
        "    attention_mask = inputs['attention_mask'][0]\n",
        "    labels = inputs['label'][0]\n",
        "\n",
        "\n",
        "    # Check for problematic token IDs causing overflow error during decoding\n",
        "    problematic_ids = torch.nonzero((input_ids < 0) | (input_ids >= tokenizer.vocab_size))\n",
        "    if problematic_ids.numel() > 0:\n",
        "        print(\"Problematic Token IDs:\", input_ids[problematic_ids])\n",
        "        print(\"Problematic Token Positions:\", problematic_ids)\n",
        "        # Handle the problematic input IDs as needed\n",
        "        raise ValueError(\"Problematic token IDs detected\")\n",
        "\n",
        "    # Decode and print input text\n",
        "    decoded_input_text = tokenizer.decode(input_ids.clamp(0, tokenizer.vocab_size - 1), skip_special_tokens=True)\n",
        "    print(\"Decoded Input Text:\", decoded_input_text)\n",
        "    print(\"Attention Mask:\", attention_mask)\n",
        "\n",
        "    # Decode and print labels\n",
        "    decoded_labels = tokenizer.decode(labels.clamp(0, tokenizer.vocab_size - 1), skip_special_tokens=True)\n",
        "    print(\"Labels:\", decoded_labels)\n",
        "\n",
        "\n",
        "\n",
        "    # Break out of the loop after processing the first batch\n",
        "    break\n"
      ],
      "metadata": {
        "colab": {
          "base_uri": "https://localhost:8080/"
        },
        "id": "6erEF_UnYm2S",
        "outputId": "e6cec093-aedb-43e9-846c-4fe51f647917"
      },
      "execution_count": 48,
      "outputs": [
        {
          "output_type": "stream",
          "name": "stdout",
          "text": [
            "Decoded Input Text: আর সে বললো, মা, আমি বাডি । সকলের বাস তাকে নামিযে দেওযার সঙগে সঙগে তিনি তার মাকে ফোন করেছিলেন ।\n",
            "Attention Mask: tensor([1, 1, 1, 1, 1, 1, 1, 1, 1, 1, 1, 1, 1, 0, 0, 0, 0, 0, 0, 0, 0, 0, 0, 0,\n",
            "        0, 0, 0, 0, 0, 0, 0, 0, 0, 0, 0, 0, 0, 0, 0, 0, 0, 0, 0, 0, 0, 0, 0, 0,\n",
            "        0, 0, 0, 0, 0, 0, 0, 0, 0, 0, 0, 0, 0, 0, 0, 0, 1, 1, 1, 1, 1, 1, 1, 1,\n",
            "        1, 1, 1, 1, 1, 1, 1, 1, 1, 1, 1, 1, 0, 0, 0, 0, 0, 0, 0, 0, 0, 0, 0, 0,\n",
            "        0, 0, 0, 0, 0, 0, 0, 0, 0, 0, 0, 0, 0, 0, 0, 0, 0, 0, 0, 0, 0, 0, 0, 0,\n",
            "        0, 0, 0, 0, 0, 0, 0, 0], device='cuda:0')\n",
            "Labels: [unused1]\n"
          ]
        }
      ]
    },
    {
      "cell_type": "markdown",
      "source": [
        "# **Optimizer and Loss Function**"
      ],
      "metadata": {
        "id": "uKfX8TKTagym"
      }
    },
    {
      "cell_type": "code",
      "source": [
        "# Define optimizer and loss function\n",
        "optimizer = torch.optim.AdamW(model.parameters(), lr=2e-5)\n",
        "criterion = torch.nn.CrossEntropyLoss()"
      ],
      "metadata": {
        "id": "IzJPPnvEZEDg"
      },
      "execution_count": 49,
      "outputs": []
    },
    {
      "cell_type": "markdown",
      "source": [
        "# **Training the model**"
      ],
      "metadata": {
        "id": "nIciuBBecEJs"
      }
    },
    {
      "cell_type": "code",
      "source": [
        "# Training loop\n",
        "num_epochs = 5\n",
        "gradient_accumulation_steps = 4  # Accumulate gradients over 4 steps\n",
        "\n",
        "for epoch in range(num_epochs):\n",
        "    start_time = time.time()  # Start time of the epoch\n",
        "    model.train()\n",
        "    total_loss = 0\n",
        "    optimizer.zero_grad()\n",
        "\n",
        "    # Wrap train_loader with tqdm for progress bar\n",
        "    for batch_idx, batch in enumerate(tqdm(train_loader, desc=f'Epoch {epoch + 1}/{num_epochs}', leave=False)):\n",
        "        input_ids = batch['input_ids'].to(device)\n",
        "        attention_mask = batch['attention_mask'].to(device)\n",
        "        labels = batch['label'].to(device)\n",
        "\n",
        "        outputs = model(input_ids=input_ids, attention_mask=attention_mask)\n",
        "        logits = outputs.logits  # Logits directly from the model output\n",
        "\n",
        "        loss = criterion(logits, labels)\n",
        "        total_loss += loss.item()\n",
        "\n",
        "        loss = loss / gradient_accumulation_steps\n",
        "        loss.backward()\n",
        "\n",
        "        if (batch_idx + 1) % gradient_accumulation_steps == 0:\n",
        "            optimizer.step()\n",
        "            optimizer.zero_grad()\n",
        "\n",
        "    avg_train_loss = total_loss / len(train_loader)\n",
        "    print(f'Epoch {epoch + 1}/{num_epochs} - Average training loss: {avg_train_loss:.4f}')\n",
        "\n",
        "    # Validation\n",
        "    model.eval()\n",
        "    val_preds = []\n",
        "    val_labels = []\n",
        "\n",
        "    # Wrap val_loader with tqdm for progress bar\n",
        "    for batch in tqdm(val_loader, desc=f'Validation', leave=False):\n",
        "        input_ids = batch['input_ids'].to(device)\n",
        "        attention_mask = batch['attention_mask'].to(device)\n",
        "        labels = batch['label'].to(device)\n",
        "\n",
        "        outputs = model(input_ids=input_ids, attention_mask=attention_mask)\n",
        "        logits = outputs.logits  # Logits directly from the model output\n",
        "\n",
        "        _, predicted = torch.max(logits, 1)\n",
        "\n",
        "        val_preds.extend(predicted.cpu().numpy())\n",
        "        val_labels.extend(labels.cpu().numpy())\n",
        "\n",
        "    val_accuracy = accuracy_score(val_labels, val_preds)\n",
        "    print(f'Epoch {epoch + 1}/{num_epochs} - Validation Accuracy: {val_accuracy:.4f}')\n",
        "\n",
        "    # Calculate and print epoch training time\n",
        "    epoch_time = time.time() - start_time\n",
        "    print(f\"Epoch {epoch + 1} completed in {epoch_time // 60:.0f}m {epoch_time % 60:.0f}s\")"
      ],
      "metadata": {
        "colab": {
          "base_uri": "https://localhost:8080/"
        },
        "id": "D6EHO17FZEGq",
        "outputId": "dc1456aa-a947-400e-c60d-e09fe6bff0d8"
      },
      "execution_count": 50,
      "outputs": [
        {
          "output_type": "stream",
          "name": "stderr",
          "text": []
        },
        {
          "output_type": "stream",
          "name": "stdout",
          "text": [
            "Epoch 1/5 - Average training loss: 0.9992\n"
          ]
        },
        {
          "output_type": "stream",
          "name": "stderr",
          "text": []
        },
        {
          "output_type": "stream",
          "name": "stdout",
          "text": [
            "Epoch 1/5 - Validation Accuracy: 0.5577\n",
            "Epoch 1 completed in 5m 31s\n"
          ]
        },
        {
          "output_type": "stream",
          "name": "stderr",
          "text": []
        },
        {
          "output_type": "stream",
          "name": "stdout",
          "text": [
            "Epoch 2/5 - Average training loss: 0.8516\n"
          ]
        },
        {
          "output_type": "stream",
          "name": "stderr",
          "text": []
        },
        {
          "output_type": "stream",
          "name": "stdout",
          "text": [
            "Epoch 2/5 - Validation Accuracy: 0.5870\n",
            "Epoch 2 completed in 5m 31s\n"
          ]
        },
        {
          "output_type": "stream",
          "name": "stderr",
          "text": []
        },
        {
          "output_type": "stream",
          "name": "stdout",
          "text": [
            "Epoch 3/5 - Average training loss: 0.6834\n"
          ]
        },
        {
          "output_type": "stream",
          "name": "stderr",
          "text": []
        },
        {
          "output_type": "stream",
          "name": "stdout",
          "text": [
            "Epoch 3/5 - Validation Accuracy: 0.5825\n",
            "Epoch 3 completed in 5m 32s\n"
          ]
        },
        {
          "output_type": "stream",
          "name": "stderr",
          "text": []
        },
        {
          "output_type": "stream",
          "name": "stdout",
          "text": [
            "Epoch 4/5 - Average training loss: 0.4807\n"
          ]
        },
        {
          "output_type": "stream",
          "name": "stderr",
          "text": []
        },
        {
          "output_type": "stream",
          "name": "stdout",
          "text": [
            "Epoch 4/5 - Validation Accuracy: 0.5618\n",
            "Epoch 4 completed in 5m 32s\n"
          ]
        },
        {
          "output_type": "stream",
          "name": "stderr",
          "text": []
        },
        {
          "output_type": "stream",
          "name": "stdout",
          "text": [
            "Epoch 5/5 - Average training loss: 0.2876\n"
          ]
        },
        {
          "output_type": "stream",
          "name": "stderr",
          "text": [
            "                                                             "
          ]
        },
        {
          "output_type": "stream",
          "name": "stdout",
          "text": [
            "Epoch 5/5 - Validation Accuracy: 0.5560\n",
            "Epoch 5 completed in 5m 32s\n"
          ]
        },
        {
          "output_type": "stream",
          "name": "stderr",
          "text": [
            "\r"
          ]
        }
      ]
    },
    {
      "cell_type": "markdown",
      "source": [
        "# **Testing the model**"
      ],
      "metadata": {
        "id": "lMAZ3gxRcHln"
      }
    },
    {
      "cell_type": "code",
      "source": [
        "test_preds = []\n",
        "test_labels = []\n",
        "test_probs = []  # Store predicted probabilities\n",
        "\n",
        "with torch.no_grad():\n",
        "    for batch in tqdm(test_loader, desc='Testing'):\n",
        "        input_ids = batch['input_ids'].to(device)\n",
        "        attention_mask = batch['attention_mask'].to(device)\n",
        "        labels = batch['label'].to(device)\n",
        "\n",
        "        outputs = model(input_ids=input_ids, attention_mask=attention_mask)\n",
        "\n",
        "        # Assuming our model directly outputs logits\n",
        "        probabilities = torch.softmax(outputs.logits, dim=1)  # Softmax to get probabilities\n",
        "        _, predicted = torch.max(outputs.logits, 1)\n",
        "\n",
        "        test_preds.extend(predicted.cpu().numpy())\n",
        "        test_labels.extend(labels.cpu().numpy())\n",
        "        test_probs.extend(probabilities.cpu().numpy())  # Append predicted probabilities\n",
        "\n",
        "test_accuracy = accuracy_score(test_labels, test_preds)\n",
        "test_precision = precision_score(test_labels, test_preds, average='macro')\n",
        "test_recall = recall_score(test_labels, test_preds, average='macro')\n",
        "test_f1 = f1_score(test_labels, test_preds, average='macro')\n",
        "test_jaccard_score = jaccard_score(test_labels, test_preds, average='macro')\n",
        "test_log_loss = log_loss(test_labels, test_probs)\n"
      ],
      "metadata": {
        "colab": {
          "base_uri": "https://localhost:8080/"
        },
        "id": "fo5cj9stZJFB",
        "outputId": "8aa1b29d-ef30-4faa-a7af-571f8bc820bb"
      },
      "execution_count": 51,
      "outputs": [
        {
          "output_type": "stream",
          "name": "stderr",
          "text": [
            "Testing: 100%|██████████| 490/490 [00:38<00:00, 12.71it/s]\n"
          ]
        }
      ]
    },
    {
      "cell_type": "code",
      "source": [
        "print(test_preds)\n",
        "print(test_labels)"
      ],
      "metadata": {
        "colab": {
          "base_uri": "https://localhost:8080/"
        },
        "id": "HRqYwRUaXgXY",
        "outputId": "36706d27-3a3b-465a-a916-2d274fca2b44"
      },
      "execution_count": 52,
      "outputs": [
        {
          "output_type": "stream",
          "name": "stdout",
          "text": [
            "[0, 1, 2, 2, 1, 0, 0, 1, 2, 0, 0, 0, 0, 1, 2, 1, 0, 2, 0, 1, 2, 1, 0, 2, 0, 1, 1, 2, 1, 1, 2, 1, 0, 1, 0, 1, 2, 2, 2, 1, 2, 1, 0, 1, 2, 2, 2, 0, 0, 0, 0, 1, 1, 0, 1, 0, 2, 0, 0, 1, 2, 2, 2, 0, 1, 1, 1, 1, 0, 0, 1, 1, 0, 1, 2, 2, 0, 0, 2, 1, 1, 0, 0, 0, 0, 0, 0, 1, 1, 2, 0, 0, 2, 0, 0, 1, 0, 1, 0, 2, 1, 1, 2, 0, 2, 0, 1, 2, 1, 0, 0, 0, 0, 0, 1, 1, 1, 0, 1, 1, 1, 2, 1, 0, 0, 0, 2, 2, 0, 2, 2, 0, 1, 1, 2, 1, 2, 2, 1, 1, 0, 2, 0, 1, 1, 2, 0, 2, 0, 1, 2, 1, 0, 1, 1, 1, 0, 2, 0, 0, 2, 1, 1, 2, 0, 1, 1, 0, 1, 0, 0, 0, 1, 0, 2, 0, 2, 0, 0, 2, 0, 2, 2, 0, 1, 0, 1, 0, 0, 2, 1, 0, 2, 1, 1, 1, 1, 2, 1, 0, 0, 0, 1, 1, 0, 1, 0, 1, 2, 1, 0, 1, 1, 1, 0, 0, 1, 1, 0, 1, 1, 2, 0, 2, 0, 0, 0, 0, 1, 1, 0, 2, 0, 0, 0, 2, 2, 2, 1, 1, 2, 2, 1, 2, 1, 1, 0, 0, 2, 0, 1, 1, 0, 1, 1, 0, 1, 0, 0, 2, 0, 2, 0, 1, 1, 2, 0, 1, 2, 0, 2, 0, 0, 0, 2, 0, 2, 1, 1, 0, 2, 0, 1, 0, 1, 1, 0, 0, 0, 0, 1, 1, 0, 1, 1, 0, 2, 2, 0, 0, 0, 2, 0, 0, 0, 1, 1, 0, 2, 2, 0, 0, 0, 1, 1, 1, 1, 0, 1, 1, 1, 0, 1, 1, 0, 0, 0, 1, 1, 0, 0, 0, 0, 0, 1, 2, 0, 2, 1, 1, 2, 2, 2, 1, 1, 0, 2, 0, 0, 2, 1, 2, 2, 1, 1, 0, 1, 1, 2, 1, 2, 0, 0, 1, 0, 2, 1, 0, 0, 1, 1, 2, 2, 0, 2, 1, 0, 1, 1, 1, 1, 0, 1, 1, 0, 1, 1, 1, 0, 0, 2, 1, 1, 2, 0, 2, 0, 0, 1, 0, 0, 1, 1, 0, 0, 1, 2, 0, 2, 2, 2, 2, 2, 1, 1, 0, 1, 0, 1, 0, 0, 0, 2, 0, 1, 0, 1, 1, 0, 2, 0, 0, 1, 0, 0, 0, 2, 1, 0, 0, 1, 0, 2, 2, 0, 1, 2, 1, 0, 1, 0, 1, 0, 1, 1, 2, 2, 2, 1, 1, 1, 0, 1, 1, 1, 1, 1, 0, 1, 1, 2, 0, 2, 2, 2, 0, 0, 0, 1, 2, 2, 0, 2, 0, 0, 1, 1, 2, 0, 1, 1, 1, 0, 0, 0, 0, 1, 0, 1, 0, 2, 0, 0, 0, 1, 0, 0, 1, 0, 0, 1, 2, 2, 2, 0, 0, 2, 0, 0, 0, 1, 0, 0, 0, 2, 1, 2, 2, 0, 1, 0, 2, 0, 0, 1, 0, 1, 0, 2, 1, 1, 1, 0, 1, 0, 2, 1, 0, 0, 1, 1, 2, 0, 0, 0, 0, 2, 1, 0, 2, 0, 1, 1, 1, 1, 0, 1, 1, 1, 2, 2, 2, 1, 1, 0, 1, 1, 0, 1, 0, 2, 2, 2, 2, 2, 0, 0, 0, 0, 1, 1, 0, 0, 2, 0, 1, 1, 0, 1, 2, 0, 2, 1, 1, 0, 1, 2, 1, 0, 1, 0, 1, 0, 1, 0, 1, 0, 1, 1, 2, 1, 0, 1, 1, 1, 1, 2, 0, 2, 1, 1, 1, 1, 0, 0, 0, 0, 1, 0, 0, 0, 1, 1, 1, 1, 1, 0, 1, 2, 0, 1, 0, 1, 0, 0, 2, 0, 1, 2, 0, 0, 2, 1, 0, 1, 1, 0, 1, 2, 0, 1, 0, 1, 2, 1, 1, 1, 0, 1, 1, 0, 0, 1, 0, 1, 1, 0, 1, 0, 0, 1, 1, 2, 1, 0, 1, 2, 2, 2, 1, 0, 1, 2, 0, 2, 1, 2, 0, 2, 1, 2, 2, 1, 1, 0, 1, 1, 1, 1, 1, 2, 2, 1, 2, 2, 1, 0, 2, 0, 2, 1, 0, 0, 2, 2, 1, 1, 1, 1, 1, 1, 1, 0, 0, 0, 0, 1, 1, 0, 2, 1, 0, 2, 1, 0, 1, 1, 1, 1, 1, 2, 0, 0, 1, 0, 1, 1, 0, 1, 1, 0, 2, 1, 0, 1, 2, 1, 2, 1, 1, 1, 0, 1, 2, 0, 0, 0, 1, 2, 0, 1, 0, 0, 1, 0, 1, 1, 2, 2, 2, 1, 2, 2, 2, 2, 1, 1, 0, 1, 1, 0, 2, 1, 0, 1, 0, 1, 2, 2, 0, 1, 2, 1, 1, 1, 1, 0, 1, 1, 2, 0, 2, 1, 2, 0, 0, 1, 0, 2, 2, 2, 2, 2, 2, 1, 1, 1, 1, 1, 0, 0, 2, 1, 1, 1, 2, 2, 2, 0, 2, 0, 2, 0, 0, 2, 0, 1, 1, 0, 1, 2, 2, 1, 0, 0, 2, 1, 0, 2, 0, 0, 2, 2, 2, 2, 1, 2, 0, 0, 1, 0, 1, 2, 1, 0, 1, 1, 0, 2, 1, 2, 0, 2, 0, 1, 2, 0, 1, 0, 2, 1, 0, 2, 0, 1, 1, 2, 1, 2, 0, 1, 0, 0, 2, 2, 2, 0, 0, 0, 0, 2, 0, 2, 0, 1, 2, 0, 1, 2, 0, 0, 0, 1, 2, 1, 0, 0, 2, 2, 2, 2, 0, 1, 2, 0, 0, 0, 2, 2, 0, 0, 2, 1, 0, 1, 0, 1, 2, 0, 0, 0, 0, 1, 0, 0, 1, 1, 2, 1, 0, 2, 2, 0, 2, 0, 1, 1, 1, 2, 2, 2, 1, 1, 1, 0, 2, 0, 2, 1, 0, 1, 0, 0, 1, 0, 2, 1, 0, 1, 1, 1, 2, 0, 2, 1, 0, 2, 2, 0, 1, 1, 1, 0, 1, 1, 2, 1, 0, 0, 0, 0, 2, 2, 1, 1, 1, 1, 2, 1, 1, 1, 1, 1, 2, 1, 1, 0, 0, 0, 1, 1, 0, 1, 0, 2, 0, 1, 0, 1, 0, 1, 1, 1, 0, 2, 2, 1, 2, 2, 1, 0, 1, 1, 2, 1, 1, 1, 1, 2, 0, 2, 0, 0, 2, 1, 2, 0, 0, 1, 0, 0, 0, 0, 1, 2, 2, 0, 2, 1, 1, 2, 1, 2, 2, 1, 0, 0, 1, 2, 0, 2, 1, 1, 1, 1, 1, 2, 0, 2, 1, 1, 1, 1, 0, 0, 0, 0, 1, 1, 0, 1, 0, 1, 1, 1, 0, 1, 1, 2, 1, 2, 0, 0, 0, 1, 1, 1, 1, 1, 1, 1, 1, 0, 0, 0, 0, 0, 0, 1, 1, 0, 0, 2, 2, 1, 0, 0, 1, 0, 2, 1, 1, 0, 2, 2, 0, 1, 1, 1, 0, 1, 0, 1, 2, 2, 1, 0, 0, 1, 0, 1, 0, 0, 1, 2, 1, 2, 1, 0, 0, 0, 2, 1, 1, 0, 1, 2, 2, 2, 2, 1, 0, 0, 0, 2, 0, 2, 2, 0, 0, 1, 0, 1, 0, 1, 0, 2, 1, 0, 0, 0, 1, 2, 2, 1, 0, 1, 1, 0, 0, 1, 0, 1, 2, 0, 1, 1, 2, 1, 2, 0, 0, 1, 0, 1, 2, 0, 0, 2, 2, 0, 0, 2, 0, 1, 1, 0, 1, 2, 2, 1, 0, 0, 0, 1, 0, 1, 1, 2, 1, 0, 1, 2, 1, 2, 1, 2, 1, 2, 2, 2, 0, 2, 2, 2, 0, 1, 2, 2, 1, 2, 1, 1, 1, 0, 2, 2, 0, 0, 2, 2, 1, 0, 1, 1, 2, 2, 0, 1, 1, 1, 1, 1, 1, 2, 2, 2, 1, 1, 0, 1, 0, 1, 0, 0, 2, 1, 0, 1, 0, 0, 2, 0, 2, 2, 2, 2, 2, 0, 0, 1, 1, 0, 0, 1, 0, 2, 2, 1, 0, 0, 0, 1, 0, 0, 0, 0, 1, 0, 2, 1, 2, 0, 1, 0, 2, 1, 0, 2, 1, 0, 1, 2, 0, 0, 1, 1, 0, 0, 0, 1, 1, 0, 1, 0, 0, 2, 1, 0, 2, 1, 1, 2, 0, 1, 1, 0, 1, 0, 2, 0, 2, 2, 1, 1, 1, 2, 1, 2, 1, 1, 1, 2, 1, 1, 1, 1, 0, 2, 1, 0, 1, 0, 0, 0, 0, 0, 2, 1, 0, 1, 1, 0, 1, 1, 0, 1, 1, 1, 0, 0, 1, 0, 0, 2, 1, 0, 2, 2, 2, 1, 1, 2, 1, 2, 0, 1, 0, 1, 1, 0, 1, 1, 0, 0, 1, 2, 0, 1, 1, 1, 1, 1, 2, 1, 0, 2, 1, 0, 0, 1, 2, 0, 0, 2, 1, 2, 1, 1, 2, 1, 2, 0, 2, 2, 1, 0, 2, 1, 2, 1, 0, 0, 2, 0, 2, 0, 2, 0, 2, 2, 2, 0, 2, 0, 2, 2, 0, 0, 0, 0, 0, 2, 2, 0, 2, 1, 0, 1, 0, 1, 0, 1, 2, 1, 1, 1, 1, 1, 1, 2, 0, 0, 1, 1, 1, 0, 0, 2, 2, 1, 0, 1, 2, 2, 1, 1, 0, 0, 0, 1, 2, 2, 1, 1, 0, 0, 1, 1, 1, 1, 2, 2, 2, 1, 2, 0, 2, 1, 2, 1, 1, 1, 2, 2, 0, 0, 1, 0, 0, 2, 1, 1, 1, 0, 0, 0, 0, 2, 2, 2, 0, 0, 1, 2, 0, 2, 0, 0, 0, 1, 1, 0, 2, 1, 1, 1, 2, 1, 0, 2, 0, 2, 1, 1, 2, 2, 1, 1, 2, 0, 2, 2, 0, 2, 1, 0, 2, 2, 2, 0, 0, 1, 2, 2, 2, 1, 1, 1, 0, 0, 1, 0, 2, 1, 0, 0, 1, 2, 2, 1, 2, 0, 1, 0, 0, 0, 2, 0, 0, 2, 2, 1, 1, 0, 1, 2, 2, 0, 0, 0, 1, 2, 0, 0, 0, 2, 0, 0, 2, 2, 2, 2, 2, 0, 0, 1, 2, 2, 0, 2, 2, 0, 1, 0, 1, 2, 2, 2, 2, 0, 1, 2, 0, 0, 1, 0, 1, 2, 0, 2, 1, 0, 2, 1, 1, 1, 1, 1, 0, 2, 0, 1, 0, 1, 2, 2, 1, 2, 0, 0, 1, 0, 0, 0, 1, 0, 0, 0, 2, 1, 1, 0, 1, 1, 1, 2, 2, 1, 1, 0, 0, 0, 0, 0, 1, 0, 1, 0, 2, 1, 1, 1, 1, 0, 1, 1, 0, 1, 2, 0, 1, 1, 2, 0, 0, 0, 1, 1, 1, 2, 2, 0, 1, 0, 1, 0, 2, 2, 0, 1, 0, 0, 0, 0, 2, 2, 0, 0, 0, 1, 2, 1, 1, 1, 1, 0, 1, 0, 1, 0, 0, 0, 0, 0, 1, 0, 0, 0, 1, 1, 1, 2, 0, 1, 1, 0, 0, 0, 0, 2, 2, 0, 0, 0, 0, 1, 0, 0, 1, 1, 0, 2, 2, 1, 0, 0, 0, 0, 0, 1, 1, 2, 0, 2, 0, 0, 0, 1, 0, 0, 0, 1, 2, 1, 0, 2, 0, 2, 2, 0, 0, 0, 2, 1, 1, 2, 2, 2, 2, 0, 0, 2, 2, 1, 0, 1, 1, 2, 1, 2, 1, 0, 0, 1, 1, 1, 1, 0, 0, 0, 0, 1, 0, 0, 2, 0, 0, 0, 0, 1, 1, 1, 0, 2, 0, 1, 0, 1, 0, 0, 2, 0, 0, 2, 1, 0, 0, 1, 2, 1, 1, 0, 1, 1, 0, 2, 1, 2, 0, 1, 1, 1, 2, 1, 1, 0, 2, 2, 2, 0, 1, 0, 1, 0, 0, 1, 0, 0, 0, 1, 1, 1, 1, 1, 0, 1, 0, 1, 0, 1, 2, 1, 0, 0, 2, 1, 2, 1, 2, 0, 0, 2, 0, 2, 0, 1, 0, 2, 0, 1, 1, 1, 0, 0, 2, 0, 2, 0, 0, 1, 1, 0, 1, 1, 1, 1, 1, 0, 1, 1, 2, 2, 0, 0, 1, 1, 1, 0, 1, 0, 1, 0, 0, 0, 0, 2, 2, 0, 0, 0, 0, 0, 0, 0, 1, 0, 0, 2, 1, 1, 0, 1, 1, 1, 1, 1, 1, 0, 0, 0, 0, 0, 0, 1, 2, 1, 1, 0, 2, 2, 1, 1, 0, 1, 2, 2, 1, 1, 1, 0, 1, 1, 1, 0, 0, 2, 2, 2, 0, 0, 1, 0, 1, 2, 2, 1, 1, 0, 2, 1, 1, 0, 2, 2, 1, 0, 0, 0, 2, 0, 1, 1, 2, 0, 2, 1, 0, 0, 1, 1, 1, 1, 0, 1, 0, 1, 0, 0, 1, 1, 1, 0, 1, 0, 2, 1, 0, 0, 2, 0, 2, 1, 1, 0, 2, 0, 0, 0, 1, 2, 2, 0, 0, 1, 2, 2, 2, 0, 0, 1, 0, 0, 0, 0, 1, 0, 1, 1, 1, 2, 0, 1, 1, 1, 0, 0, 1, 1, 1, 1, 1, 0, 2, 0, 2, 2, 1, 2, 0, 1, 0, 2, 2, 0, 2, 0, 1, 1, 1, 0, 1, 2, 1, 0, 0, 2, 1, 0, 1, 1, 0, 1, 1, 0, 0, 0, 2, 0, 1, 0, 2, 0, 1, 0, 0, 1, 0, 1, 1, 2, 2, 0, 1, 0, 0, 1, 0, 1, 1, 2, 1, 0, 0, 0, 2, 2, 1, 2, 0, 2, 1, 2, 1, 2, 1, 1, 1, 0, 0, 1, 1, 0, 0, 1, 0, 0, 2, 1, 0, 0, 0, 0, 2, 2, 0, 0, 1, 1, 0, 0, 0, 1, 1, 1, 2, 1, 1, 0, 0, 1, 0, 0, 0, 1, 0, 2, 0, 1, 1, 1, 1, 0, 0, 2, 1, 2, 0, 0, 1, 1, 2, 0, 2, 0, 1, 0, 0, 1, 1, 0, 0, 2, 2, 2, 1, 0, 0, 0, 1, 0, 1, 0, 2, 0, 1, 1, 1, 0, 2, 0, 1, 2, 0, 0, 1, 1, 2, 2, 2, 2, 0, 1, 0, 2, 1, 0, 2, 0, 0, 0, 1, 1, 2, 2, 0, 1, 1, 2, 0, 2, 2, 1, 0, 1, 0, 2, 1, 1, 2, 0, 1, 2, 0, 0, 1, 2, 1, 2, 1, 2, 2, 1, 1, 0, 1, 0, 1, 0, 0, 0, 1, 0, 0, 0, 0, 0, 0, 2, 1, 0, 2, 2, 2, 1, 0, 1, 0, 0, 2, 0, 2, 2, 0, 1, 1, 0, 1, 1, 2, 0, 0, 1, 1, 2, 1, 0, 2, 2, 0, 1, 2, 0, 0, 1, 1, 2, 1, 2, 0, 0, 2, 2, 1, 0, 2, 0, 1, 0, 0, 0, 1, 0, 2, 0, 1, 1, 2, 0, 0, 1, 0, 1, 0, 2, 1, 0, 2, 1, 1, 1, 0, 0, 1, 1, 0, 2, 1, 1, 0, 0, 0, 2, 2, 0, 2, 0, 2, 1, 0, 0, 0, 2, 0, 0, 2, 2, 1, 0, 1, 0, 0, 1, 0, 0, 0, 1, 1, 0, 0, 2, 1, 2, 0, 2, 0, 2, 2, 2, 2, 1, 0, 1, 0, 1, 0, 1, 1, 0, 1, 1, 1, 0, 0, 0, 1, 1, 1, 0, 2, 1, 2, 1, 0, 0, 0, 0, 2, 2, 2, 0, 2, 2, 2, 1, 0, 1, 2, 0, 0, 1, 2, 0, 1, 2, 0, 2, 1, 0, 1, 0, 0, 1, 2, 0, 2, 1, 1, 1, 0, 2, 2, 0, 1, 1, 1, 0, 1, 1, 0, 0, 2, 1, 1, 1, 1, 2, 0, 2, 2, 1, 2, 0, 2, 0, 1, 2, 2, 1, 2, 1, 0, 0, 0, 1, 0, 1, 2, 0, 2, 1, 0, 2, 0, 1, 2, 0, 2, 0, 2, 0, 1, 2, 1, 0, 2, 1, 2, 2, 2, 2, 0, 1, 2, 0, 0, 0, 1, 1, 1, 1, 0, 0, 1, 1, 0, 2, 1, 1, 0, 1, 0, 0, 2, 0, 0, 0, 2, 1, 1, 1, 0, 2, 0, 2, 1, 1, 0, 2, 0, 2, 1, 2, 1, 0, 0, 0, 1, 2, 1, 0, 0, 0, 1, 2, 2, 1, 1, 2, 0, 0, 0, 1, 1, 0, 1, 1, 0, 2, 0, 1, 1, 0, 0, 1, 2, 1, 2, 1, 0, 0, 2, 1, 1, 2, 1, 1, 2, 0, 2, 1, 1, 0, 0, 1, 2, 0, 1, 0, 1, 0, 1, 2, 0, 2, 1, 0, 0, 1, 1, 1, 0, 2, 0, 0, 1, 1, 0, 2, 2, 0, 1, 2, 2, 1, 2, 0, 0, 1, 1, 1, 1, 0, 1, 0, 0, 2, 1, 2, 2, 0, 0, 1, 1, 1, 2, 1, 2, 0, 1, 0, 0, 1, 1, 0, 1, 0, 1, 0, 1, 1, 1, 1, 0, 1, 1, 1, 1, 1, 2, 0, 0, 1, 0, 1, 1, 1, 0, 2, 1, 0, 0, 1, 0, 0, 1, 0, 0, 1, 2, 2, 1, 2, 1, 1, 2, 1, 0, 2, 0, 2, 2, 0, 0, 1, 1, 0, 0, 1, 1, 1, 0, 1, 2, 0, 0, 0, 2, 0, 1, 0, 2, 1, 1, 1, 2, 2, 1, 1, 2, 0, 2, 0, 0, 2, 1, 1, 1, 0, 2, 1, 1, 0, 1, 1, 1, 0, 1, 1, 1, 2, 0, 1, 0, 2, 1, 1, 1, 2, 2, 0, 0, 2, 0, 1, 0, 1, 2, 2, 2, 0, 2, 1, 1, 1, 0, 1, 1, 0, 0, 0, 0, 0, 1, 0, 2, 0, 0, 2, 1, 0, 2, 0, 1, 0, 1, 0, 1, 0, 1, 0, 0, 2, 1, 0, 1, 1, 0, 1, 0, 0, 2, 0, 2, 2, 2, 1, 2, 0, 2, 2, 2, 2, 2, 0, 0, 0, 0, 2, 1, 0, 2, 1, 2, 0, 0, 1, 0, 2, 1, 0, 0, 1, 1, 1, 0, 0, 1, 2, 0, 1, 2, 1, 2, 0, 2, 0, 0, 2, 0, 0, 1, 2, 1, 0, 0, 1, 1, 0, 1, 0, 2, 1, 1, 1, 0, 2, 1, 0, 2, 1, 0, 2, 2, 0, 0, 0, 0, 0, 2, 1, 0, 1, 0, 0, 1, 0, 0, 2, 1, 2, 0, 1, 2, 0, 2, 2, 0, 0, 2, 0, 1, 1, 0, 1, 0, 0, 2, 1, 1, 2, 2, 0, 0, 1, 1, 2, 2, 1, 0, 2, 0, 2, 0, 0, 2, 2, 0, 0, 0, 2, 1, 0, 0, 2, 1, 1, 2, 2, 1, 2, 1, 0, 0, 0, 1, 1, 0, 2, 2, 0, 0, 0, 1, 2, 2, 2, 0, 2, 2, 0, 2, 2, 2, 2, 2, 1, 0, 1, 2, 1, 1, 2, 2, 1, 1, 0, 1, 0, 0, 2, 1, 1, 0, 1, 1, 1, 1, 2, 1, 0, 2, 1, 0, 1, 0, 1, 1, 1, 1, 0, 2, 1, 0, 0, 1, 2, 1, 1, 1, 2, 0, 2, 2, 2, 0, 0, 0, 1, 0, 1, 1, 1, 0, 2, 0, 1, 1, 0, 2, 2, 1, 1, 0, 2, 0, 1, 2, 2, 1, 1, 1, 1, 1, 1, 1, 1, 0, 0, 0, 1, 1, 1, 0, 1, 0, 1, 2, 0, 1, 0, 0, 1, 1, 0, 1, 1, 0, 1, 2, 1, 1, 0, 0, 2, 1, 2, 1, 2, 2, 0, 1, 1, 0, 2, 2, 1, 1, 0, 1, 2, 0, 0, 0, 0, 1, 2, 0, 2, 1, 1, 1, 1, 0, 2, 1, 2, 1, 0, 1, 0, 1, 2, 1, 1, 1, 1, 1, 0, 2, 2, 0, 2, 2, 0, 1, 1, 2, 0, 0, 1, 2, 0, 1, 0, 1, 0, 0, 1, 1, 0, 0, 0, 0, 1, 1, 0, 2, 1, 2, 1, 2, 0, 0, 1, 1, 2, 1, 1, 2, 0, 2, 2, 2, 2, 1, 2, 0, 0, 2, 0, 0, 1, 1, 0, 2, 1, 2, 2, 1, 1, 0, 2, 1, 1, 2, 2, 0, 1, 2, 1, 2, 2, 0, 2, 0, 2, 0, 2, 1, 2, 0, 0, 0, 1, 2, 0, 1, 1, 2, 0, 0, 2, 2, 1, 2, 1, 1, 0, 0, 1, 2, 2, 0, 1, 2, 0, 2, 1, 0, 0, 1, 0, 1, 1, 2, 0, 0, 2, 2, 2, 1, 1, 2, 0, 1, 1, 2, 1, 2, 0, 2, 1, 2, 1, 2, 0, 1, 2, 1, 1, 0, 2, 2, 1, 2, 2, 2, 1, 1, 1, 1, 2, 2, 2, 2, 1, 0, 1, 0, 0, 2, 2, 0, 1, 1, 2, 0, 2, 2, 0, 0, 1, 1, 2, 2, 2, 0, 0, 1, 2, 0, 1, 1, 0, 0, 1, 0, 1, 0, 1, 1, 0, 2, 0, 2, 0, 0, 0, 1, 2, 1, 1, 1, 1, 0, 0, 0, 1, 2, 1, 2, 0, 1, 0, 0, 0, 1, 2, 1, 0, 1, 0, 0, 2, 1, 0, 2, 1, 0, 2, 1, 2, 0, 1, 2, 2, 1, 0, 2, 0, 0, 0, 2, 0, 1, 0, 2, 1, 1, 0, 1, 2, 1, 0, 0, 0, 2, 2, 0, 0, 2, 1, 2, 0, 2, 2, 2, 2, 0, 1, 2, 1, 0, 1, 2, 1, 1, 1, 2, 1, 1, 1, 2, 1, 1, 1, 1, 1, 0, 1, 2, 0, 0, 1, 2, 0, 1, 0, 2, 1, 0, 1, 1, 2, 2, 0, 2, 2, 2, 0, 0, 0, 2, 2, 0, 2, 2, 0, 0, 1, 1, 2, 1, 2, 1, 2, 2, 1, 1, 0, 1, 1, 0, 0, 2, 2, 1, 1, 0, 0, 1, 1, 2, 2, 0, 1, 1, 0, 0, 1, 0, 2, 0, 0, 2, 1, 0, 0, 2, 0, 2, 2, 0, 2, 0, 0, 0, 1, 0, 2, 2, 2, 0, 0, 0, 0, 2, 1, 1, 2, 0, 0, 1, 0, 2, 2, 1, 0, 2, 1, 0, 1, 2, 0, 0, 2, 2, 1, 2, 2, 0, 0, 1, 1, 1, 1, 0, 2, 0, 2, 1, 0, 0, 1, 0, 2, 1, 0, 1, 2, 0, 2, 1, 0, 1, 0, 1, 2, 0, 1, 2, 2, 2, 1, 0, 1, 2, 2, 0, 2, 1, 0, 0, 0, 1, 1, 1, 2, 0, 2, 1, 0, 2, 0, 2, 1, 2, 0, 2, 0, 0, 0, 1, 1, 0, 2, 2, 2, 0, 0, 2, 0, 2, 0, 0, 1, 1, 1, 2, 2, 2, 0, 0, 2, 1, 1, 2, 1, 0, 0, 2, 1, 2, 2, 0, 2, 2, 1, 2, 0, 2, 2, 1, 1, 2, 2, 2, 2, 1, 0, 1, 1, 0, 1, 0, 0, 1, 0, 0, 1, 1, 1, 0, 1, 2, 0, 2, 1, 1, 0, 0, 2, 1, 2, 1, 0, 1, 1, 2, 1, 1, 2, 1, 2, 2, 1, 2, 2, 0, 1, 0, 0, 1, 1, 0, 2, 2, 1, 1, 1, 0, 1, 2, 2, 2, 1, 1, 1, 0, 0, 1, 2, 1, 0, 1, 2, 0, 1, 1, 0, 2, 0, 2, 2, 0, 1, 1, 1, 1, 2, 1, 2, 0, 0, 1, 2, 1, 0, 1, 0, 0, 0, 2, 2, 0, 2, 0, 2, 2, 0, 2, 0, 2, 2, 1, 1, 1, 0, 0, 1, 0, 1, 1, 1, 2, 0, 1, 1, 1, 2, 2, 2, 1, 2, 2, 1, 2, 2, 1, 0, 0, 2, 1, 2, 1, 1, 2, 1, 0, 1, 0, 0, 0, 2, 2, 0, 1, 1, 0, 0, 0, 2, 0, 0, 2, 0, 1, 0, 1, 2, 1, 1, 0, 0, 1, 0, 0, 0, 1, 2, 0, 0, 1, 1, 0, 0, 2, 0, 2, 1, 0, 2, 0, 1, 0, 0, 2, 1, 1, 0, 0, 0, 1, 1, 0, 0, 1, 1, 2, 2, 2, 2, 1, 2, 2, 0, 1, 1, 1, 1, 1, 1, 1, 1, 1, 0, 1, 2, 2, 0, 2, 2, 2, 0, 0, 2, 1, 1, 1, 0, 2, 2, 0, 1, 1, 2, 0, 2, 0, 1, 2, 2, 0, 1, 1, 0, 2, 0, 1, 1, 1, 1, 1, 1, 1, 1, 0, 2, 2, 2, 0, 0, 0, 1, 0, 0, 0, 2, 1, 0, 0, 2, 2, 1, 2, 1, 1, 0, 1, 1, 0, 1, 1, 1, 0, 0, 1, 1, 1, 0, 1, 1, 0, 2, 1, 1, 0, 0, 1, 0, 2, 2, 1, 0, 0, 1, 2, 0, 1, 1, 1, 2, 1, 2, 2, 0, 2, 2, 2, 1, 1, 1, 0, 0, 0, 2, 0, 0, 2, 2, 0, 1, 1, 0, 2, 2, 1, 1, 1, 1, 0, 1, 1, 2, 0, 1, 2, 0, 1, 0, 1, 2, 0, 2, 2, 0, 0, 2, 2, 1, 0, 0, 1, 1, 0, 2, 1, 0, 0, 2, 0, 0, 2, 0, 2, 1, 1, 0, 1, 0, 2, 0, 2, 2, 0, 0, 1, 2, 0, 2, 2, 0, 1, 0, 0, 1, 0, 1, 1, 0, 2, 1, 2, 1, 2, 2, 2, 0, 0, 1, 1, 1, 1, 0, 0, 1, 0, 2, 0, 0, 2, 0, 2, 0, 0, 2, 0, 1, 2, 1, 2, 1, 2, 2, 0, 1, 1, 1, 0, 1, 2, 0, 1, 0, 1, 2, 1, 1, 1, 0, 2, 2, 1, 0, 2, 1, 1, 1, 0, 1, 1, 1, 0, 1, 1, 1, 1, 2, 0, 0, 0, 0, 1, 0, 1, 1, 0, 0, 0, 1, 0, 2, 1, 1, 1, 2, 0, 1, 1, 1, 2, 0, 2, 0, 0, 1, 0, 1, 2, 0, 1, 2, 0, 0, 0, 1, 2, 2, 1, 1, 2, 0, 1, 1, 1, 1, 1, 1, 1, 0, 0, 2, 0, 0, 0, 0, 1, 2, 0, 0, 1, 0, 2, 1, 0, 0, 1, 1, 0, 1, 0, 0, 0, 0, 1, 1, 1, 0, 0, 1, 1, 1, 1, 2, 0, 0, 0, 1, 2, 0, 1, 0, 1, 2, 0, 0, 0, 2, 0, 2, 1, 1, 1, 1, 1, 2, 2, 0, 0, 1, 1, 0, 0, 0, 2, 1, 0, 0, 1, 1, 2, 1, 1, 2, 2, 1, 1, 2, 1, 0, 0, 0, 1, 1, 1, 0, 0, 0, 0, 1, 1, 0, 0, 2, 0, 0, 0, 1, 1, 0, 1, 1, 1, 2, 1, 0, 1, 0, 1, 2, 1, 0, 0, 1, 0, 0, 1, 1, 1, 0, 0, 0, 0, 2, 2, 1, 2, 1, 1, 2, 0, 1, 1, 0, 0, 0, 1, 0, 1, 2, 2, 1, 2, 2, 0, 0, 1, 1, 0, 1, 2, 0, 0, 1, 0, 0, 2, 1, 0, 2, 1, 2, 0, 1, 0, 0, 2, 2, 2, 0, 1, 0, 2, 2, 1, 2, 2, 2, 0, 0, 0, 1, 1, 2, 2, 2, 2, 2, 1, 0, 0, 2, 1, 2, 0, 0, 0, 0, 0, 0, 0, 0, 1, 1, 1, 1, 1, 0, 1, 0, 2, 0, 1, 2, 1, 1, 0, 0, 1, 2, 0, 2, 2, 2, 0, 0, 0, 1, 1, 1, 2, 1, 2, 0, 2, 1, 2, 0, 2, 1, 0, 1, 1, 2, 1, 2, 1, 0, 2, 0, 1, 2, 1, 1, 1, 1, 0, 0, 0, 0, 1, 2, 0, 1, 2, 1, 1, 1, 1, 0, 0, 1, 2, 1, 1, 1, 1, 0, 0, 2, 1, 2, 1, 0, 2, 1, 2, 1, 2, 2, 2, 1, 1, 1, 1, 2, 1, 1, 2, 0, 1, 1, 2, 2, 2, 1, 1, 1, 0, 1, 1, 1, 0, 0, 0, 2, 0, 0, 1, 0, 1, 0, 2, 0, 2, 2, 1, 1, 1, 1, 0, 2, 2, 0, 2, 1, 2, 2, 0, 2, 2, 1, 0, 1, 1, 1, 0, 0, 2, 2, 0, 0, 1, 0, 1, 0, 2, 0, 2, 1, 1, 1, 1, 0, 0, 0, 0, 2, 1, 1, 1, 0, 1, 0, 2, 1, 0, 0, 1, 0, 2, 0, 1, 2, 0, 0, 0, 0, 1, 1, 0, 1, 2, 0, 1, 1, 0, 0, 1, 1, 2, 0, 1, 0, 2, 1, 0, 0, 2, 0, 2, 2, 0, 1, 2, 2, 1, 0, 1, 1, 0, 2, 1, 2, 2, 0, 2, 2, 0, 1, 1, 2, 0, 1, 1, 0, 2, 2, 0, 1, 1, 1, 1, 0, 0, 0, 0, 1, 0, 2, 1, 1, 1, 1, 1, 1, 1, 1, 0, 2, 1, 0, 0, 1, 0, 0, 0, 0, 0, 1, 1, 0, 2, 0, 2, 0, 0, 1, 1, 1, 0, 1, 1, 1, 2, 2, 2, 0, 1, 0, 1, 1, 0, 2, 0, 1, 0, 2, 2, 0, 0, 0, 1, 0, 0, 0, 0, 2, 0, 0, 1, 1, 0, 0, 0, 1, 0, 0, 0, 1, 0, 2, 0, 2, 1, 1, 0, 0, 1, 0, 2, 2, 0, 0, 2, 0, 1, 1, 1, 0, 2, 1, 1, 0, 2, 0, 0, 1, 0, 1, 1, 1, 0, 0, 2, 0, 0, 1, 1, 1, 1, 0, 2, 1, 0, 1, 2, 0, 1, 1, 1, 0, 1, 1]\n",
            "[0, 1, 2, 2, 1, 0, 0, 1, 2, 0, 1, 2, 0, 1, 2, 0, 2, 1, 0, 1, 2, 1, 0, 2, 2, 1, 0, 0, 2, 1, 2, 1, 0, 1, 2, 0, 0, 1, 2, 0, 2, 1, 0, 1, 2, 1, 2, 0, 1, 0, 2, 2, 1, 0, 1, 2, 0, 1, 2, 0, 2, 1, 0, 2, 1, 0, 0, 1, 2, 2, 1, 0, 0, 2, 1, 0, 1, 0, 2, 1, 1, 0, 2, 1, 2, 0, 0, 2, 1, 2, 1, 0, 2, 1, 0, 2, 0, 1, 0, 2, 1, 1, 0, 2, 2, 1, 0, 2, 1, 0, 2, 0, 1, 0, 1, 2, 2, 0, 1, 0, 1, 2, 1, 2, 0, 0, 2, 1, 0, 1, 2, 2, 0, 1, 2, 1, 0, 0, 2, 1, 0, 2, 1, 0, 1, 2, 2, 1, 0, 0, 2, 1, 0, 2, 1, 1, 0, 2, 0, 2, 1, 2, 1, 0, 0, 2, 1, 2, 1, 0, 0, 1, 2, 1, 2, 0, 1, 2, 0, 1, 0, 2, 1, 0, 2, 2, 1, 0, 0, 2, 1, 0, 1, 2, 0, 2, 1, 0, 1, 2, 0, 2, 1, 2, 0, 1, 0, 2, 1, 0, 2, 1, 1, 2, 0, 0, 1, 2, 0, 1, 2, 0, 1, 2, 0, 1, 2, 1, 0, 0, 1, 2, 0, 2, 1, 0, 1, 2, 2, 1, 0, 0, 1, 2, 2, 1, 0, 0, 2, 1, 1, 2, 0, 2, 1, 0, 1, 2, 0, 0, 2, 1, 0, 2, 1, 2, 0, 1, 1, 0, 2, 2, 1, 0, 2, 0, 1, 2, 1, 0, 2, 0, 1, 0, 2, 1, 0, 1, 2, 0, 1, 2, 1, 2, 0, 2, 1, 0, 0, 2, 1, 1, 0, 2, 0, 2, 1, 0, 1, 2, 0, 2, 1, 1, 0, 2, 2, 0, 1, 2, 1, 0, 2, 1, 0, 2, 1, 0, 0, 1, 2, 1, 0, 2, 2, 1, 0, 1, 2, 0, 1, 2, 0, 1, 2, 0, 0, 2, 1, 2, 1, 0, 0, 2, 1, 0, 2, 1, 2, 1, 2, 0, 2, 1, 0, 2, 1, 0, 0, 1, 2, 1, 2, 0, 2, 1, 0, 1, 0, 2, 2, 0, 1, 2, 1, 0, 2, 1, 0, 0, 2, 1, 1, 2, 0, 2, 0, 1, 1, 2, 0, 1, 2, 0, 0, 1, 2, 0, 2, 1, 0, 1, 2, 2, 1, 0, 2, 0, 1, 2, 0, 1, 2, 0, 1, 0, 1, 2, 1, 2, 0, 2, 1, 0, 1, 2, 0, 1, 0, 2, 1, 0, 2, 0, 2, 1, 2, 1, 0, 1, 0, 2, 2, 0, 1, 2, 0, 1, 1, 0, 2, 2, 1, 0, 2, 1, 0, 0, 1, 1, 2, 0, 0, 1, 2, 1, 2, 0, 1, 0, 2, 2, 1, 0, 1, 2, 0, 2, 0, 1, 1, 2, 0, 0, 2, 1, 2, 0, 1, 2, 1, 0, 2, 0, 1, 2, 0, 1, 0, 2, 1, 2, 1, 0, 1, 2, 2, 0, 1, 1, 2, 0, 1, 2, 0, 1, 2, 0, 0, 1, 2, 0, 2, 1, 1, 0, 2, 2, 0, 1, 1, 2, 0, 1, 2, 0, 2, 0, 1, 0, 1, 2, 0, 2, 1, 0, 2, 1, 1, 2, 0, 2, 0, 1, 2, 0, 1, 1, 2, 0, 2, 0, 1, 1, 2, 0, 1, 0, 2, 0, 1, 2, 1, 0, 2, 1, 0, 2, 0, 1, 2, 2, 1, 0, 1, 0, 2, 2, 1, 0, 0, 2, 1, 1, 0, 2, 2, 1, 0, 1, 0, 2, 2, 1, 0, 1, 2, 0, 1, 2, 0, 0, 1, 2, 1, 2, 0, 0, 2, 1, 0, 1, 2, 2, 1, 0, 1, 2, 0, 2, 0, 1, 2, 1, 0, 1, 2, 0, 1, 0, 2, 2, 1, 0, 1, 0, 2, 1, 2, 0, 0, 2, 1, 1, 0, 2, 0, 1, 2, 2, 1, 0, 0, 2, 1, 1, 0, 2, 0, 1, 2, 0, 1, 2, 1, 2, 0, 1, 2, 0, 1, 0, 2, 1, 0, 2, 1, 0, 2, 2, 1, 0, 1, 0, 2, 1, 2, 0, 2, 1, 0, 2, 1, 0, 0, 2, 1, 2, 1, 0, 0, 2, 1, 2, 0, 1, 2, 1, 0, 1, 0, 2, 0, 1, 2, 0, 2, 1, 0, 1, 2, 0, 2, 0, 1, 2, 2, 1, 0, 0, 1, 2, 2, 1, 0, 1, 0, 2, 1, 0, 2, 2, 0, 1, 2, 0, 1, 0, 2, 1, 0, 2, 2, 0, 1, 0, 1, 2, 2, 1, 0, 2, 1, 0, 1, 2, 0, 0, 1, 2, 2, 0, 1, 0, 2, 1, 1, 2, 0, 2, 1, 0, 0, 1, 2, 2, 1, 0, 2, 1, 0, 2, 1, 0, 2, 0, 1, 1, 2, 0, 1, 2, 0, 0, 1, 2, 0, 1, 2, 1, 0, 2, 1, 2, 0, 2, 1, 0, 1, 2, 0, 1, 2, 0, 1, 0, 2, 2, 1, 0, 2, 0, 1, 1, 2, 0, 2, 0, 1, 0, 1, 2, 0, 2, 1, 0, 1, 2, 0, 1, 2, 2, 1, 0, 0, 2, 1, 0, 1, 2, 1, 2, 0, 1, 2, 2, 1, 0, 0, 1, 2, 1, 2, 0, 0, 2, 1, 0, 2, 1, 2, 0, 1, 0, 1, 2, 2, 1, 0, 2, 1, 0, 1, 0, 2, 1, 2, 0, 2, 1, 0, 1, 2, 0, 1, 2, 0, 2, 0, 1, 2, 2, 1, 0, 1, 2, 0, 1, 2, 0, 2, 1, 0, 2, 1, 1, 0, 2, 2, 0, 1, 1, 0, 2, 0, 1, 2, 1, 2, 0, 0, 2, 1, 0, 1, 2, 1, 0, 2, 2, 1, 0, 2, 0, 1, 1, 2, 0, 1, 0, 2, 2, 1, 0, 2, 1, 0, 1, 2, 0, 0, 1, 2, 1, 2, 0, 0, 2, 1, 1, 2, 0, 0, 1, 2, 0, 1, 2, 0, 1, 2, 2, 1, 0, 1, 0, 2, 0, 1, 2, 1, 2, 0, 1, 0, 2, 1, 0, 2, 0, 2, 1, 0, 1, 2, 1, 2, 0, 0, 2, 1, 0, 1, 2, 0, 1, 2, 0, 2, 1, 1, 0, 2, 1, 2, 0, 0, 2, 1, 0, 1, 2, 0, 2, 1, 0, 1, 2, 2, 0, 1, 1, 2, 0, 0, 1, 2, 1, 2, 0, 2, 0, 1, 0, 1, 2, 2, 0, 1, 2, 1, 0, 0, 1, 2, 1, 0, 2, 2, 1, 0, 1, 2, 2, 1, 0, 0, 1, 2, 2, 0, 1, 0, 1, 2, 1, 2, 0, 2, 1, 1, 2, 0, 0, 2, 1, 0, 1, 2, 0, 1, 2, 2, 1, 0, 0, 2, 1, 2, 0, 1, 2, 1, 0, 0, 2, 1, 2, 1, 0, 1, 2, 0, 2, 1, 2, 0, 1, 2, 1, 0, 2, 0, 1, 1, 0, 2, 1, 0, 2, 2, 1, 0, 1, 2, 0, 0, 1, 2, 0, 1, 2, 1, 0, 2, 2, 1, 0, 1, 0, 2, 2, 0, 1, 0, 1, 2, 1, 2, 0, 1, 2, 0, 1, 2, 0, 1, 2, 0, 2, 1, 0, 0, 2, 2, 0, 1, 2, 1, 0, 2, 0, 1, 0, 1, 2, 2, 1, 0, 1, 0, 2, 2, 0, 1, 0, 2, 1, 2, 0, 1, 0, 1, 2, 0, 2, 1, 0, 1, 2, 0, 2, 1, 0, 1, 2, 1, 0, 2, 2, 0, 1, 2, 1, 0, 1, 0, 2, 0, 2, 1, 1, 2, 0, 1, 0, 2, 0, 2, 1, 0, 1, 2, 0, 1, 2, 0, 1, 2, 1, 2, 0, 0, 2, 1, 0, 1, 2, 0, 1, 2, 1, 0, 2, 2, 1, 2, 1, 0, 0, 2, 1, 0, 2, 1, 0, 1, 2, 0, 1, 2, 0, 2, 1, 1, 2, 0, 2, 1, 0, 2, 0, 1, 0, 2, 1, 1, 0, 2, 1, 0, 2, 0, 2, 1, 2, 1, 0, 0, 2, 1, 1, 2, 0, 1, 0, 2, 0, 1, 2, 0, 2, 1, 0, 2, 1, 2, 1, 0, 0, 1, 2, 2, 1, 0, 1, 2, 0, 2, 1, 0, 2, 1, 0, 0, 2, 1, 2, 0, 1, 2, 1, 0, 1, 0, 2, 2, 1, 0, 2, 1, 2, 1, 0, 2, 1, 0, 1, 0, 2, 0, 1, 2, 0, 2, 1, 0, 2, 1, 0, 2, 1, 0, 2, 1, 1, 2, 0, 2, 1, 0, 2, 0, 1, 0, 2, 0, 2, 1, 0, 2, 1, 0, 1, 2, 0, 2, 1, 1, 2, 0, 1, 2, 0, 2, 1, 0, 0, 2, 1, 2, 1, 0, 0, 2, 1, 2, 0, 1, 2, 0, 1, 2, 1, 0, 1, 0, 2, 0, 2, 1, 1, 2, 0, 1, 0, 2, 1, 2, 0, 1, 2, 0, 0, 2, 1, 1, 2, 0, 0, 1, 2, 0, 2, 1, 1, 0, 2, 1, 0, 2, 0, 2, 1, 1, 2, 0, 0, 2, 1, 2, 1, 0, 1, 0, 2, 2, 1, 0, 2, 1, 0, 0, 1, 2, 0, 1, 2, 2, 0, 1, 1, 2, 0, 0, 2, 1, 1, 0, 2, 0, 2, 1, 0, 2, 1, 1, 2, 0, 2, 1, 0, 1, 0, 2, 1, 0, 2, 2, 0, 1, 2, 0, 1, 1, 2, 0, 1, 2, 0, 0, 2, 1, 0, 1, 2, 0, 2, 1, 2, 0, 1, 1, 2, 0, 2, 0, 1, 0, 1, 2, 1, 0, 2, 2, 1, 0, 0, 1, 2, 2, 0, 1, 1, 2, 0, 2, 1, 0, 0, 1, 2, 0, 2, 1, 2, 1, 0, 0, 2, 1, 0, 2, 1, 1, 2, 0, 1, 0, 2, 0, 2, 1, 0, 2, 1, 0, 2, 1, 2, 1, 0, 1, 2, 0, 2, 0, 1, 2, 0, 1, 1, 2, 0, 1, 2, 0, 1, 2, 2, 1, 0, 2, 1, 0, 1, 0, 2, 1, 0, 2, 2, 0, 1, 0, 1, 2, 2, 1, 0, 1, 2, 2, 1, 0, 0, 2, 0, 1, 2, 2, 0, 1, 1, 2, 0, 1, 2, 2, 0, 1, 0, 2, 1, 0, 1, 2, 0, 1, 2, 0, 1, 2, 2, 0, 1, 0, 1, 2, 0, 2, 1, 0, 2, 1, 0, 2, 1, 1, 0, 2, 0, 1, 2, 0, 2, 1, 1, 2, 0, 1, 0, 2, 0, 1, 2, 2, 0, 1, 2, 0, 1, 0, 2, 1, 2, 1, 0, 1, 0, 2, 0, 1, 0, 2, 0, 2, 1, 2, 0, 1, 0, 2, 1, 0, 2, 1, 0, 1, 2, 0, 1, 2, 0, 1, 2, 0, 1, 0, 1, 2, 2, 0, 1, 0, 2, 1, 2, 1, 0, 2, 1, 0, 0, 2, 1, 1, 2, 0, 1, 0, 2, 1, 0, 2, 0, 2, 1, 2, 1, 0, 1, 2, 0, 2, 0, 1, 0, 2, 1, 0, 1, 2, 0, 2, 1, 1, 0, 2, 0, 1, 2, 2, 1, 0, 0, 1, 2, 0, 2, 1, 0, 1, 2, 1, 0, 0, 2, 1, 0, 1, 2, 1, 0, 2, 2, 1, 0, 1, 0, 2, 0, 1, 2, 1, 0, 2, 0, 2, 1, 2, 1, 0, 2, 1, 0, 2, 1, 0, 2, 0, 1, 0, 2, 1, 0, 1, 2, 2, 1, 0, 1, 0, 2, 0, 1, 2, 1, 0, 2, 2, 0, 1, 0, 2, 1, 1, 2, 0, 0, 1, 2, 1, 0, 2, 0, 1, 2, 2, 0, 1, 2, 1, 0, 2, 1, 0, 0, 1, 2, 1, 2, 0, 2, 1, 0, 0, 1, 2, 0, 1, 2, 1, 0, 2, 1, 2, 0, 2, 0, 1, 2, 0, 1, 2, 0, 1, 0, 1, 2, 0, 1, 2, 2, 0, 1, 0, 2, 1, 0, 1, 2, 1, 2, 0, 0, 1, 2, 1, 2, 0, 2, 1, 0, 2, 0, 1, 1, 0, 2, 2, 1, 0, 1, 0, 2, 0, 2, 1, 0, 2, 1, 0, 2, 1, 2, 0, 1, 0, 1, 2, 2, 0, 1, 0, 1, 2, 2, 0, 1, 1, 2, 0, 2, 0, 0, 1, 2, 0, 2, 1, 0, 2, 1, 0, 1, 2, 0, 2, 1, 2, 0, 1, 0, 1, 2, 1, 2, 0, 1, 0, 2, 2, 0, 1, 0, 1, 2, 0, 1, 2, 2, 1, 0, 0, 2, 1, 0, 1, 2, 0, 1, 2, 1, 0, 2, 1, 2, 0, 2, 0, 1, 0, 1, 2, 2, 1, 0, 1, 2, 0, 1, 0, 2, 2, 1, 0, 0, 1, 2, 0, 1, 2, 0, 2, 1, 2, 0, 1, 2, 1, 0, 2, 0, 1, 2, 1, 0, 0, 1, 2, 0, 2, 1, 0, 2, 1, 2, 0, 1, 0, 1, 2, 1, 0, 2, 2, 1, 0, 1, 2, 0, 0, 1, 2, 1, 0, 2, 0, 2, 1, 0, 2, 1, 1, 2, 0, 0, 1, 2, 2, 0, 1, 0, 1, 0, 2, 1, 2, 1, 0, 1, 0, 2, 1, 0, 2, 1, 2, 0, 1, 0, 1, 2, 1, 2, 0, 1, 2, 0, 2, 1, 0, 1, 2, 0, 2, 1, 0, 1, 2, 0, 1, 2, 0, 0, 1, 2, 2, 1, 0, 1, 0, 2, 1, 0, 2, 1, 1, 2, 0, 2, 0, 1, 2, 0, 1, 0, 2, 1, 2, 1, 0, 0, 2, 1, 2, 1, 0, 0, 2, 1, 2, 1, 0, 2, 0, 1, 0, 2, 1, 1, 2, 0, 1, 0, 2, 2, 1, 0, 2, 0, 1, 0, 2, 2, 0, 1, 2, 1, 0, 0, 1, 2, 0, 2, 1, 1, 2, 0, 2, 0, 1, 2, 1, 0, 2, 0, 1, 0, 2, 1, 0, 1, 2, 1, 2, 0, 0, 2, 1, 2, 1, 0, 2, 1, 0, 0, 2, 1, 2, 1, 0, 2, 0, 1, 2, 0, 1, 2, 0, 1, 1, 2, 0, 0, 2, 1, 0, 1, 2, 1, 2, 0, 0, 1, 1, 0, 2, 0, 2, 0, 1, 2, 2, 0, 1, 1, 0, 2, 0, 2, 1, 2, 1, 0, 0, 1, 2, 0, 2, 1, 1, 0, 2, 2, 0, 1, 1, 0, 2, 1, 2, 0, 0, 1, 2, 1, 2, 0, 2, 0, 1, 2, 0, 1, 2, 1, 0, 2, 0, 1, 2, 0, 2, 0, 1, 0, 2, 1, 0, 1, 2, 2, 0, 1, 1, 2, 0, 0, 1, 2, 2, 0, 1, 2, 0, 1, 1, 0, 2, 0, 2, 1, 2, 1, 0, 0, 1, 2, 1, 2, 0, 0, 2, 1, 2, 0, 1, 2, 0, 1, 2, 1, 0, 2, 0, 1, 2, 1, 0, 1, 0, 2, 0, 2, 1, 0, 1, 2, 2, 0, 1, 0, 2, 1, 2, 0, 1, 2, 1, 0, 2, 0, 1, 0, 2, 1, 1, 2, 0, 0, 2, 1, 0, 1, 2, 1, 2, 0, 2, 1, 0, 2, 1, 0, 2, 1, 0, 0, 2, 1, 1, 2, 0, 0, 2, 1, 2, 1, 0, 1, 2, 0, 0, 2, 1, 2, 1, 0, 1, 0, 2, 0, 1, 2, 2, 1, 0, 0, 2, 1, 1, 2, 0, 2, 1, 0, 0, 2, 1, 2, 1, 0, 0, 1, 2, 0, 2, 1, 0, 1, 2, 2, 1, 0, 1, 2, 0, 0, 2, 1, 0, 1, 2, 0, 2, 1, 2, 1, 0, 0, 1, 2, 0, 2, 1, 2, 1, 0, 1, 2, 0, 2, 1, 0, 0, 2, 1, 2, 1, 0, 0, 2, 0, 1, 2, 0, 2, 1, 1, 2, 0, 2, 0, 1, 0, 2, 1, 2, 1, 0, 0, 2, 1, 0, 1, 2, 2, 0, 1, 0, 2, 1, 1, 2, 0, 1, 0, 2, 0, 1, 2, 1, 0, 2, 1, 2, 0, 2, 1, 0, 1, 2, 0, 2, 1, 2, 0, 1, 1, 0, 2, 1, 2, 0, 2, 0, 1, 1, 2, 0, 2, 1, 0, 0, 2, 2, 1, 0, 1, 0, 2, 1, 2, 0, 1, 0, 2, 0, 2, 1, 2, 1, 0, 2, 0, 1, 2, 1, 0, 1, 0, 2, 2, 0, 1, 1, 2, 0, 2, 0, 1, 1, 0, 2, 1, 0, 2, 2, 0, 1, 2, 0, 1, 0, 1, 2, 1, 2, 0, 2, 0, 1, 2, 1, 0, 1, 0, 2, 1, 2, 0, 0, 1, 2, 2, 1, 0, 1, 2, 0, 2, 0, 1, 1, 0, 2, 0, 2, 1, 1, 2, 0, 0, 1, 2, 0, 1, 2, 0, 1, 2, 2, 1, 0, 1, 0, 2, 2, 1, 0, 2, 1, 0, 0, 2, 1, 1, 2, 0, 1, 2, 2, 1, 0, 1, 2, 0, 2, 0, 1, 1, 2, 0, 1, 0, 2, 0, 2, 1, 1, 2, 0, 1, 2, 0, 1, 0, 2, 0, 2, 1, 1, 0, 2, 1, 2, 0, 0, 1, 2, 1, 0, 2, 1, 0, 2, 1, 0, 2, 1, 0, 0, 1, 2, 1, 0, 2, 0, 1, 2, 0, 2, 1, 0, 2, 0, 1, 2, 2, 0, 1, 1, 2, 0, 0, 1, 2, 1, 0, 2, 1, 2, 0, 2, 0, 1, 1, 2, 0, 2, 1, 0, 2, 1, 0, 2, 0, 1, 2, 1, 0, 2, 0, 1, 0, 2, 1, 1, 0, 2, 1, 2, 0, 1, 0, 2, 2, 1, 0, 1, 2, 0, 1, 0, 2, 0, 1, 2, 0, 2, 1, 2, 1, 0, 2, 1, 0, 0, 2, 1, 0, 1, 2, 1, 0, 2, 2, 1, 0, 1, 0, 2, 1, 0, 2, 1, 0, 1, 2, 0, 2, 1, 0, 2, 1, 0, 0, 1, 2, 1, 0, 2, 0, 2, 1, 1, 0, 2, 2, 1, 2, 1, 0, 0, 1, 2, 2, 1, 0, 2, 1, 0, 0, 2, 1, 0, 2, 1, 2, 0, 1, 2, 1, 0, 0, 1, 2, 0, 1, 2, 1, 2, 0, 2, 0, 1, 2, 1, 0, 0, 1, 2, 0, 2, 1, 2, 0, 1, 0, 2, 1, 0, 2, 1, 2, 1, 0, 2, 0, 1, 2, 0, 1, 1, 2, 0, 0, 2, 1, 0, 1, 2, 2, 1, 0, 0, 2, 1, 2, 0, 1, 2, 0, 1, 2, 1, 0, 2, 0, 1, 0, 2, 1, 0, 1, 2, 0, 1, 2, 2, 1, 0, 1, 2, 0, 0, 2, 1, 2, 0, 1, 1, 0, 2, 2, 0, 1, 0, 2, 1, 1, 0, 2, 1, 0, 2, 2, 0, 1, 1, 2, 0, 0, 2, 1, 0, 1, 2, 2, 1, 0, 1, 0, 2, 2, 0, 1, 2, 0, 1, 1, 2, 0, 2, 1, 0, 2, 0, 1, 1, 2, 0, 2, 1, 0, 2, 0, 1, 0, 1, 2, 0, 1, 2, 2, 0, 1, 1, 0, 2, 1, 0, 2, 0, 2, 1, 2, 1, 0, 2, 1, 0, 2, 1, 0, 0, 1, 2, 0, 2, 1, 1, 2, 0, 2, 0, 1, 2, 1, 0, 1, 0, 2, 0, 2, 1, 0, 2, 1, 1, 0, 2, 2, 0, 1, 2, 0, 1, 0, 2, 1, 1, 2, 0, 1, 0, 2, 0, 2, 1, 2, 0, 1, 0, 2, 0, 1, 2, 0, 1, 2, 1, 0, 2, 1, 0, 2, 1, 2, 0, 2, 0, 1, 2, 1, 0, 1, 2, 0, 1, 2, 0, 0, 2, 1, 2, 0, 1, 2, 1, 0, 2, 0, 1, 2, 1, 0, 0, 2, 1, 1, 0, 2, 1, 2, 0, 0, 1, 2, 0, 2, 1, 0, 1, 2, 1, 0, 2, 0, 1, 2, 2, 1, 0, 1, 2, 0, 0, 1, 2, 0, 1, 2, 2, 1, 0, 2, 1, 0, 2, 0, 0, 1, 2, 2, 0, 1, 2, 1, 0, 2, 0, 1, 0, 2, 1, 1, 2, 0, 1, 0, 2, 0, 1, 2, 1, 0, 2, 0, 2, 1, 0, 1, 2, 1, 2, 0, 1, 0, 2, 2, 0, 1, 1, 2, 0, 1, 0, 2, 1, 2, 0, 0, 1, 2, 0, 2, 1, 2, 1, 0, 0, 1, 2, 0, 1, 2, 2, 1, 0, 0, 2, 1, 0, 1, 2, 0, 2, 1, 2, 0, 1, 0, 2, 1, 2, 1, 0, 0, 2, 1, 1, 0, 2, 2, 0, 1, 0, 1, 2, 1, 2, 0, 1, 0, 2, 1, 0, 1, 2, 0, 2, 1, 0, 0, 1, 2, 2, 0, 1, 2, 0, 1, 2, 0, 1, 0, 1, 2, 1, 0, 2, 2, 0, 1, 2, 1, 0, 0, 1, 2, 0, 2, 1, 2, 0, 1, 2, 0, 1, 1, 0, 2, 1, 2, 0, 0, 1, 2, 0, 1, 2, 2, 0, 1, 0, 1, 2, 2, 1, 0, 2, 1, 0, 1, 2, 0, 2, 0, 1, 1, 2, 0, 2, 1, 0, 1, 2, 0, 0, 2, 1, 0, 1, 2, 0, 2, 1, 0, 1, 2, 0, 1, 2, 0, 2, 1, 0, 2, 1, 2, 0, 1, 0, 2, 1, 2, 1, 0, 1, 0, 2, 0, 1, 2, 2, 1, 0, 0, 1, 2, 1, 2, 0, 0, 1, 2, 0, 1, 2, 1, 2, 0, 2, 1, 0, 2, 0, 1, 2, 1, 0, 2, 0, 1, 0, 1, 2, 1, 2, 0, 2, 1, 0, 1, 2, 0, 0, 1, 2, 0, 2, 1, 1, 0, 2, 0, 2, 1, 0, 1, 2, 1, 2, 0, 2, 1, 0, 1, 2, 0, 1, 2, 0, 1, 2, 0, 0, 2, 1, 0, 1, 2, 1, 2, 0, 2, 1, 0, 1, 2, 0, 2, 0, 1, 2, 1, 0, 0, 1, 2, 1, 2, 0, 1, 2, 0, 0, 1, 2, 0, 2, 1, 2, 1, 0, 0, 2, 1, 2, 1, 0, 2, 1, 0, 0, 1, 2, 2, 1, 0, 2, 1, 0, 0, 2, 1, 1, 2, 0, 2, 1, 0, 2, 0, 1, 0, 2, 1, 0, 1, 2, 1, 0, 2, 0, 1, 2, 1, 0, 0, 2, 1, 2, 1, 0, 0, 2, 1, 1, 2, 0, 1, 0, 2, 0, 2, 1, 2, 1, 0, 2, 0, 1, 0, 2, 1, 0, 2, 1, 2, 0, 1, 0, 2, 1, 2, 0, 1, 1, 0, 2, 0, 2, 1, 1, 2, 0, 2, 1, 0, 2, 0, 1, 1, 2, 0, 2, 1, 0, 0, 2, 1, 0, 2, 1, 2, 0, 1, 2, 0, 1, 1, 0, 2, 0, 1, 2, 2, 1, 0, 0, 2, 1, 1, 2, 0, 1, 2, 0, 1, 0, 2, 0, 2, 1, 1, 2, 0, 2, 0, 1, 1, 0, 2, 0, 2, 1, 2, 1, 0, 2, 1, 0, 0, 1, 2, 0, 2, 1, 2, 0, 1, 0, 1, 2, 2, 1, 0, 0, 2, 1, 0, 1, 2, 0, 1, 2, 0, 1, 2, 1, 0, 2, 1, 2, 0, 2, 1, 0, 2, 0, 1, 0, 2, 1, 0, 1, 2, 0, 2, 1, 0, 2, 1, 1, 2, 0, 0, 1, 2, 2, 0, 1, 2, 0, 1, 1, 0, 2, 0, 2, 1, 0, 2, 1, 1, 2, 0, 1, 2, 0, 0, 1, 2, 2, 0, 1, 1, 0, 2, 2, 1, 0, 2, 0, 1, 1, 0, 2, 0, 1, 2, 0, 1, 2, 2, 0, 1, 2, 0, 1, 1, 2, 0, 2, 0, 1, 0, 1, 2, 2, 1, 0, 1, 0, 2, 2, 1, 0, 1, 0, 2, 1, 0, 2, 0, 2, 1, 0, 1, 0, 1, 2, 2, 1, 0, 1, 2, 0, 1, 2, 0, 2, 0, 1, 0, 1, 2, 1, 2, 0, 2, 0, 1, 2, 0, 1, 1, 0, 2, 2, 1, 0, 0, 2, 1, 2, 1, 0, 2, 0, 1, 1, 0, 2, 2, 1, 0, 0, 2, 1, 1, 2, 0, 2, 1, 0, 2, 1, 0, 0, 2, 1, 0, 2, 1, 1, 0, 2, 0, 1, 2, 0, 1, 2, 1, 2, 0, 1, 2, 0, 0, 1, 2, 1, 2, 0, 0, 2, 1, 2, 0, 1, 2, 0, 1, 0, 2, 1, 0, 2, 1, 0, 1, 2, 0, 2, 1, 0, 1, 2, 1, 0, 2, 0, 2, 1, 2, 1, 0, 2, 0, 1, 1, 0, 2, 2, 1, 0, 0, 1, 2, 2, 0, 1, 1, 0, 2, 2, 1, 0, 2, 0, 1, 1, 2, 0, 0, 1, 2, 0, 2, 1, 0, 1, 2, 1, 0, 2, 2, 0, 1, 0, 1, 2, 1, 2, 0, 2, 0, 1, 2, 1, 0, 1, 2, 0, 2, 1, 0, 1, 0, 2, 2, 0, 1, 2, 1, 0, 1, 2, 0, 0, 2, 1, 0, 2, 1, 2, 1, 0, 1, 0, 2, 2, 0, 1, 0, 1, 2, 0, 2, 1, 1, 0, 2, 2, 1, 0, 0, 2, 1, 0, 1, 2, 0, 1, 2, 0, 2, 1, 0, 2, 1, 2, 0, 0, 1, 2, 0, 1, 2, 0, 2, 1, 0, 2, 1, 2, 0, 1, 2, 1, 0, 0, 2, 1, 0, 1, 2, 2, 1, 0, 2, 1, 0, 2, 1, 0, 1, 2, 0, 2, 1, 0, 1, 2, 0, 2, 0, 1, 0, 1, 2, 0, 2, 1, 0, 2, 1, 1, 2, 0, 2, 0, 1, 2, 1, 0, 0, 1, 2, 0, 2, 1, 0, 1, 2, 2, 0, 1, 0, 2, 1, 2, 1, 0, 2, 1, 0, 0, 1, 2, 0, 1, 2, 2, 0, 1, 0, 1, 2, 1, 2, 0, 0, 2, 1, 0, 1, 2, 1, 0, 2, 0, 2, 1, 2, 1, 0, 0, 2, 1, 1, 0, 2, 2, 0, 1, 2, 0, 1, 0, 1, 2, 2, 0, 1, 2, 0, 1, 1, 2, 0, 1, 0, 2, 0, 2, 1, 1, 2, 0, 0, 1, 2, 2, 0, 1, 0, 2, 1, 0, 2, 1, 2, 0, 1, 1, 2, 0, 0, 1, 2, 1, 0, 2, 2, 0, 1, 1, 2, 0, 2, 0, 1, 2, 0, 1, 0, 1, 2, 0, 2, 1, 2, 1, 0, 0, 1, 2, 0, 1, 2, 2, 1, 1, 0, 2, 2, 0, 1, 2, 1, 0, 0, 1, 2, 2, 0, 1, 1, 0, 2, 0, 2, 1, 0, 2, 1, 0, 2, 1, 2, 1, 0, 2, 1, 0, 0, 2, 1, 1, 2, 0, 2, 1, 0, 1, 2, 0, 2, 1, 0, 1, 0, 2, 1, 2, 0, 0, 1, 2, 0, 2, 1, 1, 0, 2, 2, 0, 1, 1, 0, 2, 1, 0, 2, 2, 0, 1, 0, 2, 1, 1, 0, 2, 2, 0, 1, 2, 0, 1, 2, 1, 0, 0, 1, 2, 2, 0, 1, 0, 1, 2, 1, 0, 2, 1, 0, 2, 2, 1, 0, 0, 1, 2, 0, 1, 0, 2, 1, 2, 1, 0, 1, 2, 0, 2, 0, 1, 1, 0, 2, 2, 0, 1, 0, 1, 2, 0, 2, 1, 0, 2, 1, 1, 0, 2, 0, 2, 1, 2, 1, 0, 0, 1, 2, 0, 2, 1, 2, 1, 0, 1, 0, 2, 2, 0, 1, 1, 2, 0, 0, 2, 1, 2, 1, 0, 1, 2, 0, 0, 1, 2, 2, 0, 1, 0, 2, 1, 2, 0, 1, 1, 0, 2, 0, 1, 2, 0, 2, 1, 1, 2, 0, 0, 2, 1, 2, 0, 1, 0, 2, 1, 0, 1, 2, 0, 2, 1, 1, 0, 2, 1, 2, 0, 2, 1, 0, 1, 0, 2, 1, 0, 2, 0, 2, 1, 1, 0, 2, 0, 1, 2, 1, 2, 0, 1, 2, 0, 2, 0, 1, 2, 1, 0, 0, 2, 1, 2, 0, 1, 2, 0, 1, 2, 0, 1, 2, 0, 1, 0, 2, 1, 2, 0, 1, 0, 1, 2, 0, 1, 2, 1, 2, 0, 2, 0, 1, 0, 2, 1, 1, 0, 2, 1, 2, 0, 0, 1, 2, 1, 2, 0, 1, 2, 0, 1, 0, 2, 0, 2, 1, 0, 2, 1, 0, 1, 2, 1, 0, 2, 1, 0, 2, 1, 2, 0, 0, 1, 2, 0, 2, 1, 0, 2, 1, 1, 0, 2, 0, 1, 2, 0, 1, 2, 0, 2, 1, 1, 0, 2, 2, 1, 0, 2, 1, 0, 0, 2, 1, 2, 0, 1, 0, 2, 1, 0, 2, 1, 2, 1, 0, 1, 0, 2, 1, 0, 2, 2, 1, 0, 2, 1, 0, 2, 1, 0, 2, 1, 0, 0, 2, 1, 1, 0, 2, 2, 0, 1, 2, 2, 1, 0, 0, 1, 2, 1, 0, 2, 1, 2, 0, 0, 1, 2, 0, 1, 2, 2, 0, 1, 0, 2, 1, 2, 0, 1, 0, 2, 1, 1, 2, 0, 0, 2, 1, 1, 2, 0, 2, 0, 1, 0, 2, 1, 1, 0, 2, 0, 1, 2, 2, 1, 2, 1, 0, 1, 2, 0, 2, 0, 1, 0, 2, 0, 1, 2, 0, 1, 2, 2, 1, 0, 0, 1, 2, 1, 0, 2, 2, 1, 0, 1, 0, 2, 1, 2, 0, 0, 2, 1, 0, 2, 1, 0, 2, 1, 1, 0, 2, 0, 1, 0, 2, 1, 0, 1, 2, 2, 1, 0, 1, 2, 0, 2, 1, 0, 2, 0, 1]\n"
          ]
        }
      ]
    },
    {
      "cell_type": "markdown",
      "source": [
        "# **Evaluation Metrics**"
      ],
      "metadata": {
        "id": "hIXup--IZ309"
      }
    },
    {
      "cell_type": "code",
      "source": [
        "print(f'Test Accuracy: {test_accuracy}')\n",
        "print(f'Test Precision: {test_precision}')\n",
        "print(f'Test Recall: {test_recall}')\n",
        "print(f'Test F1 Score: {test_f1}')\n",
        "print(f'Test Jaccard Score: {test_jaccard_score}')\n",
        "print(f'Test Log Loss: {test_log_loss}')"
      ],
      "metadata": {
        "colab": {
          "base_uri": "https://localhost:8080/"
        },
        "id": "jVcXiSQZZ13m",
        "outputId": "4882c360-52c3-46ce-ca1f-e47595b082f1"
      },
      "execution_count": 53,
      "outputs": [
        {
          "output_type": "stream",
          "name": "stdout",
          "text": [
            "Test Accuracy: 0.5697650663942799\n",
            "Test Precision: 0.5687095850630655\n",
            "Test Recall: 0.5698621919519941\n",
            "Test F1 Score: 0.5654666806485756\n",
            "Test Jaccard Score: 0.396150013548982\n",
            "Test Log Loss: 1.518229997816259\n"
          ]
        }
      ]
    },
    {
      "cell_type": "markdown",
      "source": [
        "* For a multiclass problem, sensitivity and specificity are typically calculated using a one-vs-all (or one-vs-rest) approach. This means treating each class as the positive class once while aggregating the others as the negative class."
      ],
      "metadata": {
        "id": "Q0jb96A-XMov"
      }
    },
    {
      "cell_type": "code",
      "source": [
        "from sklearn.metrics import confusion_matrix\n",
        "\n",
        "def sensitivity_score_multiclass(y_true, y_pred, class_label):\n",
        "    cm = confusion_matrix(y_true, y_pred)\n",
        "    true_positives = cm[class_label, class_label]\n",
        "    actual_positives = sum(cm[class_label, :])\n",
        "    return true_positives / actual_positives if actual_positives != 0 else 0\n",
        "\n",
        "num_classes = 3  # We have 3 classes (adjust according to your dataset)\n",
        "\n",
        "sensitivity_scores = []\n",
        "for class_label in range(num_classes):\n",
        "    sensitivity = sensitivity_score_multiclass(test_labels, test_preds, class_label)\n",
        "    sensitivity_scores.append(sensitivity)\n",
        "\n",
        "print(\"Sensitivity (Recall) for each class:\", sensitivity_scores)"
      ],
      "metadata": {
        "colab": {
          "base_uri": "https://localhost:8080/"
        },
        "id": "4o8mMf0iW_lT",
        "outputId": "1e0387a5-8810-409e-9e80-e51e0237baa8"
      },
      "execution_count": 54,
      "outputs": [
        {
          "output_type": "stream",
          "name": "stdout",
          "text": [
            "Sensitivity (Recall) for each class: [0.6355828220858896, 0.6407112201103617, 0.43329253365973075]\n"
          ]
        }
      ]
    },
    {
      "cell_type": "code",
      "source": [
        "def specificity_score_multiclass(y_true, y_pred, class_label):\n",
        "    cm = confusion_matrix(y_true, y_pred)\n",
        "    true_negatives = sum(sum(cm)) - sum(cm[class_label, :]) - sum(cm[:, class_label]) + cm[class_label, class_label]\n",
        "    actual_negatives = sum(sum(cm)) - sum(cm[class_label, :])\n",
        "    return true_negatives / actual_negatives if actual_negatives != 0 else 0\n",
        "specificity_scores = []\n",
        "for class_label in range(num_classes):\n",
        "    specificity = specificity_score_multiclass(test_labels, test_preds, class_label)\n",
        "    specificity_scores.append(specificity)\n",
        "\n",
        "print(\"Specificity for each class:\", specificity_scores)\n"
      ],
      "metadata": {
        "colab": {
          "base_uri": "https://localhost:8080/"
        },
        "id": "Qw8I0V_OXXYk",
        "outputId": "3873775d-b42e-4d63-82bc-aef0a31cb52a"
      },
      "execution_count": 55,
      "outputs": [
        {
          "output_type": "stream",
          "name": "stdout",
          "text": [
            "Specificity for each class: [0.7650842266462481, 0.7607230392156863, 0.828886844526219]\n"
          ]
        }
      ]
    },
    {
      "cell_type": "code",
      "source": [
        "from sklearn.preprocessing import LabelBinarizer\n",
        "# Convert labels to one-hot encoded format\n",
        "label_binarizer = LabelBinarizer()\n",
        "test_labels_one_hot = label_binarizer.fit_transform(test_labels)\n",
        "\n",
        "# Reshape the one-hot encoded labels\n",
        "num_classes = len(label_binarizer.classes_)\n",
        "test_labels_one_hot = test_labels_one_hot.reshape(-1, num_classes)\n",
        "\n",
        "# Creating a 2D array for test_preds\n",
        "num_samples = len(test_preds)\n",
        "num_classes = len(label_binarizer.classes_)\n",
        "formatted_preds = [[0] * num_classes for _ in range(num_samples)]\n",
        "for i, pred in enumerate(test_preds):\n",
        "    formatted_preds[i][pred] = 1\n",
        "\n",
        "# Calculate ROC AUC score for multiclass classification\n",
        "test_roc_auc_score = roc_auc_score(test_labels_one_hot, formatted_preds, average='macro', multi_class='ovo')\n",
        "print(\"Test ROC AUC Score:\", test_roc_auc_score)"
      ],
      "metadata": {
        "colab": {
          "base_uri": "https://localhost:8080/"
        },
        "id": "sgaso22xeD5C",
        "outputId": "21194855-c90b-4c46-b77c-cc9fb3de7167"
      },
      "execution_count": 56,
      "outputs": [
        {
          "output_type": "stream",
          "name": "stdout",
          "text": [
            "Test ROC AUC Score: 0.6773801143740226\n"
          ]
        }
      ]
    },
    {
      "cell_type": "code",
      "source": [
        "# Mapping numeric labels to category names\n",
        "label_map = {0: 'Entailment', 1: 'Contradiction', 2: 'Neutral'}\n",
        "\n",
        "# Convert numeric predictions to label names\n",
        "predicted_labels = [label_map[pred] for pred in test_preds]\n",
        "true_labels = [label_map[label] for label in test_labels]\n",
        "\n",
        "# Generate and print the classification report\n",
        "report = classification_report(true_labels, predicted_labels)\n",
        "print(\"Classification Report:\")\n",
        "print(report)"
      ],
      "metadata": {
        "colab": {
          "base_uri": "https://localhost:8080/"
        },
        "id": "6NVQ0W5LZJM5",
        "outputId": "fb4fa694-1066-48ee-bcc2-69070bcec640"
      },
      "execution_count": 57,
      "outputs": [
        {
          "output_type": "stream",
          "name": "stdout",
          "text": [
            "Classification Report:\n",
            "               precision    recall  f1-score   support\n",
            "\n",
            "Contradiction       0.57      0.64      0.60      1631\n",
            "   Entailment       0.57      0.64      0.60      1630\n",
            "      Neutral       0.56      0.43      0.49      1634\n",
            "\n",
            "     accuracy                           0.57      4895\n",
            "    macro avg       0.57      0.57      0.57      4895\n",
            " weighted avg       0.57      0.57      0.57      4895\n",
            "\n"
          ]
        }
      ]
    },
    {
      "cell_type": "markdown",
      "source": [
        "# **Confusion Matrix for MultiNLI Dataset**"
      ],
      "metadata": {
        "id": "u9ulwJOfaMyD"
      }
    },
    {
      "cell_type": "code",
      "source": [
        "# Generate confusion matrix\n",
        "conf_matrix = confusion_matrix(true_labels, predicted_labels)\n",
        "\n",
        "# Plot confusion matrix\n",
        "plt.figure(figsize=(6, 4))\n",
        "# Define the custom palette\n",
        "custom_palette = sns.color_palette(\"blend:#7AB,#EDA\", as_cmap=True) # Modify the number based on number of classes in the dataset\n",
        "#sns.color_palette(\"Spectral\", as_cmap=True)\n",
        "\n",
        "# Define custom font dictionary for title and labels\n",
        "font = {'family': 'Serif', 'weight': 'bold', 'size': 12}\n",
        "\n",
        "# Create heatmap with annotations and colormap\n",
        "heatmap = sns.heatmap(conf_matrix, annot=True, fmt='d', cmap=custom_palette,\n",
        "                      xticklabels=['Contradiction', 'Entailment', 'Neutral'], yticklabels=['Contradiction', 'Entailment', 'Neutral'],annot_kws={\"family\": \"Serif\", 'size': 12, 'color':'black'})\n",
        "\n",
        "# Set x and y labels with the custom font dictionary\n",
        "heatmap.set_xlabel('Predicted Labels', fontdict=font)\n",
        "heatmap.set_ylabel('True Labels', fontdict=font)\n",
        "heatmap.set_title('Natural Language Inference on \\n XNLI Dataset', fontdict=font)\n",
        "\n",
        "# Set font properties for tick labels on both axes\n",
        "heatmap.set_xticklabels(heatmap.get_xticklabels(), fontname='Serif', fontsize=10)\n",
        "heatmap.set_yticklabels(heatmap.get_yticklabels(), fontname='Serif', fontsize=10)\n",
        "\n",
        "# Create a color bar to indicate the scale\n",
        "cbar = heatmap.collections[0].colorbar\n",
        "cbar.set_label('Count', fontdict=font)\n",
        "cbar.ax.tick_params(labelsize=10)\n",
        "\n",
        "plt.show()\n"
      ],
      "metadata": {
        "colab": {
          "base_uri": "https://localhost:8080/",
          "height": 432
        },
        "id": "T3RZGUFBZJQR",
        "outputId": "734e1c2b-29fd-4776-e23b-c49ffda932f2"
      },
      "execution_count": 58,
      "outputs": [
        {
          "output_type": "display_data",
          "data": {
            "text/plain": [
              "<Figure size 600x400 with 2 Axes>"
            ],
            "image/png": "[encoded data removed]"
          },
          "metadata": {}
        }
      ]
    },
    {
      "cell_type": "markdown",
      "source": [
        "# **Save results to a csv file**"
      ],
      "metadata": {
        "id": "dY4JWgMxaZiJ"
      }
    },
    {
      "cell_type": "code",
      "source": [
        "# Combine the lists into a DataFrame\n",
        "data = {'Sentence1': df_test['sentence1'],\n",
        "        'Sentence2': df_test['sentence2'],\n",
        "        'True_Labels': df_test['label'],\n",
        "        'Predicted_Labels': test_preds}\n",
        "df = pd.DataFrame(data)\n",
        "\n",
        "# Save the DataFrame to a CSV file\n",
        "df.to_csv('predicted_results.csv', index=False)\n"
      ],
      "metadata": {
        "id": "3enaoA8nZQhE"
      },
      "execution_count": 59,
      "outputs": []
    },
    {
      "cell_type": "markdown",
      "source": [
        "# **Save the model and its tokenizer**"
      ],
      "metadata": {
        "id": "3OewdOJGZFN-"
      }
    },
    {
      "cell_type": "code",
      "source": [
        "# Save the model\n",
        "model.save_pretrained('/content/drive/MyDrive/Natural_Language_Inference/NLI_Bangla-bert-base/NLI_Bangla-bert-base_Model.pt')\n",
        "\n",
        "# Save the tokenizer\n",
        "tokenizer.save_pretrained('/content/drive/MyDrive/Natural_Language_Inference/NLI_Bangla-bert-base/NLI_Bangla-bert-base_Tokenizer.json')"
      ],
      "metadata": {
        "id": "zca-M5R6ZQ6E",
        "colab": {
          "base_uri": "https://localhost:8080/"
        },
        "outputId": "8f23ec8d-919b-4cb4-891b-1266183db7c4"
      },
      "execution_count": 60,
      "outputs": [
        {
          "output_type": "execute_result",
          "data": {
            "text/plain": [
              "('/content/drive/MyDrive/Natural_Language_Inference/NLI_Bangla-bert-base/NLI_Bangla-bert-base_Tokenizer.json/tokenizer_config.json',\n",
              " '/content/drive/MyDrive/Natural_Language_Inference/NLI_Bangla-bert-base/NLI_Bangla-bert-base_Tokenizer.json/special_tokens_map.json',\n",
              " '/content/drive/MyDrive/Natural_Language_Inference/NLI_Bangla-bert-base/NLI_Bangla-bert-base_Tokenizer.json/vocab.txt',\n",
              " '/content/drive/MyDrive/Natural_Language_Inference/NLI_Bangla-bert-base/NLI_Bangla-bert-base_Tokenizer.json/added_tokens.json',\n",
              " '/content/drive/MyDrive/Natural_Language_Inference/NLI_Bangla-bert-base/NLI_Bangla-bert-base_Tokenizer.json/tokenizer.json')"
            ]
          },
          "metadata": {},
          "execution_count": 60
        }
      ]
    },
    {
      "cell_type": "markdown",
      "source": [
        "# **Load the model and its tokenizer**"
      ],
      "metadata": {
        "id": "Co55vDWHZKb6"
      }
    },
    {
      "cell_type": "code",
      "source": [
        "# load the model\n",
        "model.from_pretrained('/content/drive/MyDrive/Natural_Language_Inference/NLI_Bangla-bert-base/NLI_Bangla-bert-base_Model.pt')\n",
        "\n",
        "# load the tokenizer\n",
        "tokenizer.from_pretrained('/content/drive/MyDrive/Natural_Language_Inference/NLI_Bangla-bert-base/NLI_Bangla-bert-base_Tokenizer.json')\n"
      ],
      "metadata": {
        "colab": {
          "base_uri": "https://localhost:8080/"
        },
        "id": "UPIG5hI6ZSMN",
        "outputId": "5a5c5416-8a1b-4b23-c23f-e3359084a955"
      },
      "execution_count": 61,
      "outputs": [
        {
          "output_type": "execute_result",
          "data": {
            "text/plain": [
              "BertTokenizerFast(name_or_path='/content/drive/MyDrive/Natural_Language_Inference/NLI_Bangla-bert-base/NLI_Bangla-bert-base_Tokenizer.json', vocab_size=101975, model_max_length=1000000000000000019884624838656, is_fast=True, padding_side='right', truncation_side='right', special_tokens={'unk_token': '[UNK]', 'sep_token': '[SEP]', 'pad_token': '[PAD]', 'cls_token': '[CLS]', 'mask_token': '[MASK]'}, clean_up_tokenization_spaces=True),  added_tokens_decoder={\n",
              "\t0: AddedToken(\"[PAD]\", rstrip=False, lstrip=False, single_word=False, normalized=False, special=True),\n",
              "\t100: AddedToken(\"[UNK]\", rstrip=False, lstrip=False, single_word=False, normalized=False, special=True),\n",
              "\t101: AddedToken(\"[CLS]\", rstrip=False, lstrip=False, single_word=False, normalized=False, special=True),\n",
              "\t102: AddedToken(\"[SEP]\", rstrip=False, lstrip=False, single_word=False, normalized=False, special=True),\n",
              "\t103: AddedToken(\"[MASK]\", rstrip=False, lstrip=False, single_word=False, normalized=False, special=True),\n",
              "}"
            ]
          },
          "metadata": {},
          "execution_count": 61
        }
      ]
    }
  ]
}